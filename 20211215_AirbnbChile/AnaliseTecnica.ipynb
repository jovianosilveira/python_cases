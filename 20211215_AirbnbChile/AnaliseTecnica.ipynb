{
 "cells": [
  {
   "cell_type": "markdown",
   "metadata": {
    "id": "kLI0gJtzDGuQ"
   },
   "source": [
    "<img alt=\"Colaboratory logo\" width=\"100%\" src=\"img/capa.png\">\n",
    "\n",
    "*by [Joviano Silveira](https://joviano.com)*\n",
    "\n",
    "---\n",
    "\n",
    "# Análise dos Dados do Airbnb - *SANTIAGO [CHILE]*\n",
    "\n",
    "O [Airbnb](https://www.airbnb.com.br/) já é considerado como sendo a **maior empresa hoteleira da atualidade**. Ah, o detalhe é que ele **não possui nenhum hotel**!\n",
    "\n",
    "Conectando pessoas que querem viajar (e se hospedar) com anfitriões que querem alugar seus imóveis de maneira prática, o Airbnb fornece uma plataforma inovadora para tornar essa hospedagem alternativa.\n",
    "\n",
    "No final de 2018, a Startup fundada 10 anos atrás, já havia **hospedado mais de 300 milhões** de pessoas ao redor de todo o mundo, desafiando as redes hoteleiras tradicionais.\n",
    "\n",
    "Uma das iniciativas do Airbnb é disponibilizar dados do site, para algumas das principais cidades do mundo. Por meio do portal [Inside Airbnb](http://insideairbnb.com/get-the-data.html), é possível baixar uma grande quantidade de dados para desenvolver projetos e soluções de *Data Science*.\n",
    "\n",
    "<center><img alt=\"Analisando Airbnb\" width=\"10%\" src=\"https://www.area360.com.au/wp-content/uploads/2017/09/airbnb-logo.jpg\"></center>\n",
    "\n",
    "**Neste *notebook*, iremos analisar os dados referentes à cidade SANTIAGO (CHILE), e ver quais insights podem ser extraídos a partir de dados RESUMIDOS brutos.**"
   ]
  },
  {
   "cell_type": "markdown",
   "metadata": {
    "id": "0zxQHhIUDF_2"
   },
   "source": [
    "## 1. Obtenção dos Dados\n"
   ]
  },
  {
   "cell_type": "code",
   "execution_count": 1,
   "metadata": {
    "id": "Vhp2wMPgJ6zX"
   },
   "outputs": [],
   "source": [
    "# importar os pacotes necessarios\n",
    "import pandas as pd\n",
    "import numpy as np\n",
    "import decimal\n",
    "import pandas_datareader as pdr\n",
    "import seaborn as sns"
   ]
  },
  {
   "cell_type": "code",
   "execution_count": 2,
   "metadata": {
    "id": "tUmoAT8DLQ5T"
   },
   "outputs": [
    {
     "data": {
      "text/html": [
       "<div>\n",
       "<style scoped>\n",
       "    .dataframe tbody tr th:only-of-type {\n",
       "        vertical-align: middle;\n",
       "    }\n",
       "\n",
       "    .dataframe tbody tr th {\n",
       "        vertical-align: top;\n",
       "    }\n",
       "\n",
       "    .dataframe thead th {\n",
       "        text-align: right;\n",
       "    }\n",
       "</style>\n",
       "<table border=\"1\" class=\"dataframe\">\n",
       "  <thead>\n",
       "    <tr style=\"text-align: right;\">\n",
       "      <th></th>\n",
       "      <th>id</th>\n",
       "      <th>name</th>\n",
       "      <th>host_id</th>\n",
       "      <th>host_name</th>\n",
       "      <th>neighbourhood_group</th>\n",
       "      <th>neighbourhood</th>\n",
       "      <th>latitude</th>\n",
       "      <th>longitude</th>\n",
       "      <th>room_type</th>\n",
       "      <th>price</th>\n",
       "      <th>minimum_nights</th>\n",
       "      <th>number_of_reviews</th>\n",
       "      <th>last_review</th>\n",
       "      <th>reviews_per_month</th>\n",
       "      <th>calculated_host_listings_count</th>\n",
       "      <th>availability_365</th>\n",
       "      <th>number_of_reviews_ltm</th>\n",
       "      <th>license</th>\n",
       "    </tr>\n",
       "  </thead>\n",
       "  <tbody>\n",
       "    <tr>\n",
       "      <th>0</th>\n",
       "      <td>30950</td>\n",
       "      <td>Apartment Providencia, Santiago</td>\n",
       "      <td>132845</td>\n",
       "      <td>Pamela</td>\n",
       "      <td>NaN</td>\n",
       "      <td>Providencia</td>\n",
       "      <td>-33.43174</td>\n",
       "      <td>-70.61845</td>\n",
       "      <td>Entire home/apt</td>\n",
       "      <td>260000</td>\n",
       "      <td>180</td>\n",
       "      <td>12</td>\n",
       "      <td>2021-02-22</td>\n",
       "      <td>0.54</td>\n",
       "      <td>1</td>\n",
       "      <td>216</td>\n",
       "      <td>6</td>\n",
       "      <td>NaN</td>\n",
       "    </tr>\n",
       "    <tr>\n",
       "      <th>1</th>\n",
       "      <td>49392</td>\n",
       "      <td>Share my Flat in Providencia</td>\n",
       "      <td>224592</td>\n",
       "      <td>Maria</td>\n",
       "      <td>NaN</td>\n",
       "      <td>Providencia</td>\n",
       "      <td>-33.43266</td>\n",
       "      <td>-70.60072</td>\n",
       "      <td>Private room</td>\n",
       "      <td>43058</td>\n",
       "      <td>3</td>\n",
       "      <td>0</td>\n",
       "      <td>NaN</td>\n",
       "      <td>NaN</td>\n",
       "      <td>2</td>\n",
       "      <td>178</td>\n",
       "      <td>0</td>\n",
       "      <td>NaN</td>\n",
       "    </tr>\n",
       "    <tr>\n",
       "      <th>2</th>\n",
       "      <td>52811</td>\n",
       "      <td>Suite Providencia 1 Santiago Chile</td>\n",
       "      <td>244792</td>\n",
       "      <td>Cristián</td>\n",
       "      <td>NaN</td>\n",
       "      <td>Providencia</td>\n",
       "      <td>-33.42959</td>\n",
       "      <td>-70.61880</td>\n",
       "      <td>Entire home/apt</td>\n",
       "      <td>43870</td>\n",
       "      <td>1</td>\n",
       "      <td>45</td>\n",
       "      <td>2019-04-22</td>\n",
       "      <td>0.43</td>\n",
       "      <td>3</td>\n",
       "      <td>2</td>\n",
       "      <td>0</td>\n",
       "      <td>NaN</td>\n",
       "    </tr>\n",
       "    <tr>\n",
       "      <th>3</th>\n",
       "      <td>53494</td>\n",
       "      <td>depto centro ski el colorado chile</td>\n",
       "      <td>249097</td>\n",
       "      <td>Paulina</td>\n",
       "      <td>NaN</td>\n",
       "      <td>Lo Barnechea</td>\n",
       "      <td>-33.34344</td>\n",
       "      <td>-70.29432</td>\n",
       "      <td>Entire home/apt</td>\n",
       "      <td>149999</td>\n",
       "      <td>2</td>\n",
       "      <td>38</td>\n",
       "      <td>2017-06-10</td>\n",
       "      <td>0.59</td>\n",
       "      <td>1</td>\n",
       "      <td>365</td>\n",
       "      <td>1</td>\n",
       "      <td>NaN</td>\n",
       "    </tr>\n",
       "    <tr>\n",
       "      <th>4</th>\n",
       "      <td>55303</td>\n",
       "      <td>Plaza Lyon piso 3</td>\n",
       "      <td>261079</td>\n",
       "      <td>Hernan</td>\n",
       "      <td>NaN</td>\n",
       "      <td>Providencia</td>\n",
       "      <td>-33.42250</td>\n",
       "      <td>-70.60920</td>\n",
       "      <td>Entire home/apt</td>\n",
       "      <td>70000</td>\n",
       "      <td>2</td>\n",
       "      <td>2</td>\n",
       "      <td>2016-11-28</td>\n",
       "      <td>0.03</td>\n",
       "      <td>3</td>\n",
       "      <td>365</td>\n",
       "      <td>0</td>\n",
       "      <td>NaN</td>\n",
       "    </tr>\n",
       "  </tbody>\n",
       "</table>\n",
       "</div>"
      ],
      "text/plain": [
       "      id                                name  host_id host_name  \\\n",
       "0  30950     Apartment Providencia, Santiago   132845    Pamela   \n",
       "1  49392        Share my Flat in Providencia   224592     Maria   \n",
       "2  52811  Suite Providencia 1 Santiago Chile   244792  Cristián   \n",
       "3  53494  depto centro ski el colorado chile   249097   Paulina   \n",
       "4  55303                   Plaza Lyon piso 3   261079    Hernan   \n",
       "\n",
       "   neighbourhood_group neighbourhood  latitude  longitude        room_type  \\\n",
       "0                  NaN   Providencia -33.43174  -70.61845  Entire home/apt   \n",
       "1                  NaN   Providencia -33.43266  -70.60072     Private room   \n",
       "2                  NaN   Providencia -33.42959  -70.61880  Entire home/apt   \n",
       "3                  NaN  Lo Barnechea -33.34344  -70.29432  Entire home/apt   \n",
       "4                  NaN   Providencia -33.42250  -70.60920  Entire home/apt   \n",
       "\n",
       "    price  minimum_nights  number_of_reviews last_review  reviews_per_month  \\\n",
       "0  260000             180                 12  2021-02-22               0.54   \n",
       "1   43058               3                  0         NaN                NaN   \n",
       "2   43870               1                 45  2019-04-22               0.43   \n",
       "3  149999               2                 38  2017-06-10               0.59   \n",
       "4   70000               2                  2  2016-11-28               0.03   \n",
       "\n",
       "   calculated_host_listings_count  availability_365  number_of_reviews_ltm  \\\n",
       "0                               1               216                      6   \n",
       "1                               2               178                      0   \n",
       "2                               3                 2                      0   \n",
       "3                               1               365                      1   \n",
       "4                               3               365                      0   \n",
       "\n",
       "  license  \n",
       "0     NaN  \n",
       "1     NaN  \n",
       "2     NaN  \n",
       "3     NaN  \n",
       "4     NaN  "
      ]
     },
     "execution_count": 2,
     "metadata": {},
     "output_type": "execute_result"
    }
   ],
   "source": [
    "# importar o arquivo listings.csv para um DataFrame\n",
    "# Dados estão no GITHUB => https://github.com/jovianosilveira\n",
    "df = pd.read_csv('dados/10_listings.csv')\n",
    "\n",
    "# amostra dos dados\n",
    "df.head(5)"
   ]
  },
  {
   "cell_type": "markdown",
   "metadata": {
    "id": "qb5By2nIMS6m"
   },
   "source": [
    "## 1.1 Análise dos Dados\n"
   ]
  },
  {
   "cell_type": "markdown",
   "metadata": {
    "id": "RYgvuebKNg8-"
   },
   "source": [
    "**Dicionário das variáveis**\n",
    "\n",
    "- **id**: Número de identificação do imóvel;\n",
    "- **name**: Descrição do imóvel;\n",
    "- **host_id**: Número de identificação do Hospedeiro;\n",
    "- **host_name**: Nome do Hospedeiro;\n",
    "- **neighbourhood_group**: \n",
    "- **neighbourhood**: Nome do bairro;\n",
    "- **latitude**: Número decimal informando Latitude;\n",
    "- **longitude**:  Número decimal informando Longitude;\n",
    "- **room_type**: Tipo de imóvel;\n",
    "- **price**: Preço por noite;\n",
    "- **minimum_nights**: Número mínimo de noites;\n",
    "- **number_of_reviews**: Quantidade de avaliações;\n",
    "- **last_review**: Data da última avaliação;\n",
    "- **reviews_per_month**: Número de avaliações por mês;\n",
    "- **calculated_host_listings_count**: Quantidade de imóves que o Hospedeiro possui;\n",
    "- **availability_365**: Quantidade de dias disponíveis nos próximos 12 meses;\n",
    "- **number_of_reviews_ltm**: Número de avaliações no último ano;\n",
    "- **license**\n",
    "\n",
    "Mais detalhes, disponíveis na documentação completa, [clicando aqui](https://docs.google.com/spreadsheets/d/1iWCNJcSutYqpULSQHlNyGInUvHg2BoUGoNRIGa6Szc4/edit#gid=982310896)\n",
    "\n",
    "Antes de iniciar qualquer análise, vamos verificar a cara do nosso *dataset*, analisando as 5 primeiras entradas."
   ]
  },
  {
   "cell_type": "markdown",
   "metadata": {},
   "source": [
    "### 2. Perguntas a ser respondidas"
   ]
  },
  {
   "cell_type": "markdown",
   "metadata": {},
   "source": [
    "> A seguir vamos desenvolver o projeto sobre respostas de perguntas que estão vinculadas entre si (uma puxa a outra)"
   ]
  },
  {
   "cell_type": "markdown",
   "metadata": {
    "id": "6-B_qtEaYEd-"
   },
   "source": [
    "### **2.1. Quantos atributos (variáveis) e quantas entradas o nosso conjunto de dados possui? Quais os tipos das variáveis?**"
   ]
  },
  {
   "cell_type": "code",
   "execution_count": 3,
   "metadata": {
    "id": "TFRK0tniLV-G"
   },
   "outputs": [
    {
     "name": "stdout",
     "output_type": "stream",
     "text": [
      "\n",
      "Nosso conjunto de dados, apresentado anteriormente, possui 9231 linhas (entradas) e 18 colunas (variáveis / dimensões).\n",
      "\n"
     ]
    }
   ],
   "source": [
    "# identificando o volume de dados do DataFrame\n",
    "linhas = df.shape[0]\n",
    "colunas = df.shape[1]\n",
    "\n",
    "print(f'''\n",
    "Nosso conjunto de dados, apresentado anteriormente, possui {linhas} linhas (entradas) e {colunas} colunas (variáveis / dimensões).\n",
    "''')"
   ]
  },
  {
   "cell_type": "markdown",
   "metadata": {},
   "source": [
    "Necessitamos saber como são os tipos de dados de cada coluna (serie) da tabela (dataframe), e para isso vamos usar um `for` simples para organizar a impressão em tela."
   ]
  },
  {
   "cell_type": "code",
   "execution_count": 4,
   "metadata": {},
   "outputs": [
    {
     "name": "stdout",
     "output_type": "stream",
     "text": [
      "A variável [id]...................................... é do tipo int64\n",
      "A variável [name].................................... é do tipo object\n",
      "A variável [host_id]................................. é do tipo int64\n",
      "A variável [host_name]............................... é do tipo object\n",
      "A variável [neighbourhood_group]..................... é do tipo float64\n",
      "A variável [neighbourhood]........................... é do tipo object\n",
      "A variável [latitude]................................ é do tipo float64\n",
      "A variável [longitude]............................... é do tipo float64\n",
      "A variável [room_type]............................... é do tipo object\n",
      "A variável [price]................................... é do tipo int64\n",
      "A variável [minimum_nights].......................... é do tipo int64\n",
      "A variável [number_of_reviews]....................... é do tipo int64\n",
      "A variável [last_review]............................. é do tipo object\n",
      "A variável [reviews_per_month]....................... é do tipo float64\n",
      "A variável [calculated_host_listings_count].......... é do tipo int64\n",
      "A variável [availability_365]........................ é do tipo int64\n",
      "A variável [number_of_reviews_ltm]................... é do tipo int64\n",
      "A variável [license]................................. é do tipo object\n"
     ]
    }
   ],
   "source": [
    "# verificando o tipo de dados do DataSet\n",
    "for i in dict(df.dtypes).items():\n",
    "    variavel = i[0]\n",
    "    caracteres = '.'*(40-len(variavel))\n",
    "    tipo = i[1]\n",
    "    print(f'A variável [{variavel}]{caracteres} é do tipo {tipo}')"
   ]
  },
  {
   "cell_type": "markdown",
   "metadata": {
    "id": "yz1urSUGW9iE"
   },
   "source": [
    "### **2.2. Qual a porcentagem de valores ausentes no *dataset*?**"
   ]
  },
  {
   "cell_type": "markdown",
   "metadata": {},
   "source": [
    "> A identificação de valores ausentes (nulos) é de suma importância, pois ele evidencia aquelas variaveis (colunas) que podem ser *um lixo*, atrapalhando as analises, e gastando memória / processamento a toa."
   ]
  },
  {
   "cell_type": "code",
   "execution_count": 5,
   "metadata": {
    "id": "plk2FjbCXOqP"
   },
   "outputs": [
    {
     "data": {
      "text/html": [
       "<div>\n",
       "<style scoped>\n",
       "    .dataframe tbody tr th:only-of-type {\n",
       "        vertical-align: middle;\n",
       "    }\n",
       "\n",
       "    .dataframe tbody tr th {\n",
       "        vertical-align: top;\n",
       "    }\n",
       "\n",
       "    .dataframe thead th {\n",
       "        text-align: right;\n",
       "    }\n",
       "</style>\n",
       "<table border=\"1\" class=\"dataframe\">\n",
       "  <thead>\n",
       "    <tr style=\"text-align: right;\">\n",
       "      <th></th>\n",
       "      <th>percentual</th>\n",
       "    </tr>\n",
       "  </thead>\n",
       "  <tbody>\n",
       "    <tr>\n",
       "      <th>neighbourhood_group</th>\n",
       "      <td>100.0</td>\n",
       "    </tr>\n",
       "    <tr>\n",
       "      <th>license</th>\n",
       "      <td>98.8</td>\n",
       "    </tr>\n",
       "    <tr>\n",
       "      <th>reviews_per_month</th>\n",
       "      <td>36.8</td>\n",
       "    </tr>\n",
       "    <tr>\n",
       "      <th>last_review</th>\n",
       "      <td>36.8</td>\n",
       "    </tr>\n",
       "  </tbody>\n",
       "</table>\n",
       "</div>"
      ],
      "text/plain": [
       "                     percentual\n",
       "neighbourhood_group       100.0\n",
       "license                    98.8\n",
       "reviews_per_month          36.8\n",
       "last_review                36.8"
      ]
     },
     "execution_count": 5,
     "metadata": {},
     "output_type": "execute_result"
    }
   ],
   "source": [
    "# Contando de dados ausentes em cada coluna\n",
    "qtd_nulos_por_variavel = df.isnull().sum()\n",
    "\n",
    "# Verificando a relação deste valor calculado, com o numero total de linhas (calculado anteriormente)\n",
    "tabela_nulos = pd.DataFrame (qtd_nulos_por_variavel / linhas, columns=['percentual'])\n",
    "\n",
    "# Organizando do maior para o menor\n",
    "tabela_nulos = tabela_nulos.sort_values('percentual', ascending=False)\n",
    "\n",
    "# Transformando em base 100 para facilitar a leitura\n",
    "tabela_nulos['percentual'] = round(tabela_nulos['percentual']*100,1)\n",
    "\n",
    "# Filtrando somente as colunas que mostraram dados nulos\n",
    "tabela_nulos.query('percentual > 0')"
   ]
  },
  {
   "cell_type": "markdown",
   "metadata": {},
   "source": [
    "> Podemos observar que a variável `neighbourhood_group` não apresenta informações, e que a coluna `license` possui pouquissimas informações."
   ]
  },
  {
   "cell_type": "markdown",
   "metadata": {},
   "source": [
    "> Na documentação temos poucas informações sobre license, mas para garantir que ela pode ser descartada, vamos criar uma matriz de correlação dela.\n",
    ">\n",
    "> Para poder analisar, vamos criar uma variável dizendo se a coluna `license` foi preenchida, pois com isso conseguiremos fazer algum tipo de correlação, uma vez que esta variável em seu estado original, mencionado no inicio desse projeto, é um `tipo object`, ou seja, um texto corrido. "
   ]
  },
  {
   "cell_type": "code",
   "execution_count": 6,
   "metadata": {},
   "outputs": [
    {
     "data": {
      "text/plain": [
       "id                               NaN\n",
       "host_id                          NaN\n",
       "neighbourhood_group              NaN\n",
       "latitude                         NaN\n",
       "longitude                        NaN\n",
       "price                            NaN\n",
       "minimum_nights                   NaN\n",
       "number_of_reviews                NaN\n",
       "reviews_per_month                NaN\n",
       "calculated_host_listings_count   NaN\n",
       "availability_365                 NaN\n",
       "number_of_reviews_ltm            NaN\n",
       "license_SN                       NaN\n",
       "Name: license_SN, dtype: float64"
      ]
     },
     "execution_count": 6,
     "metadata": {},
     "output_type": "execute_result"
    }
   ],
   "source": [
    "# isolando a nova variável do conjunto original\n",
    "df_license = df.copy()\n",
    "\n",
    "# Criando uma coluna binária (0 ou 1) informando se a variável `license` está preenchida\n",
    "df_license['license_SN'] = df_license.apply(lambda x: 1 if x['license'] == np.nan  else 0 , axis = 1)\n",
    "\n",
    "# Fazendo a correlação da coluna criada com as demais variáveis\n",
    "df_license.corr()['license_SN']"
   ]
  },
  {
   "cell_type": "markdown",
   "metadata": {},
   "source": [
    "> Não identificamos relação entre `Haver Licença` com qualquer outra variável, mostrando que como ela tem muitos valores ausentes, também poderá ser descartada."
   ]
  },
  {
   "cell_type": "code",
   "execution_count": 7,
   "metadata": {},
   "outputs": [
    {
     "data": {
      "text/html": [
       "<div>\n",
       "<style scoped>\n",
       "    .dataframe tbody tr th:only-of-type {\n",
       "        vertical-align: middle;\n",
       "    }\n",
       "\n",
       "    .dataframe tbody tr th {\n",
       "        vertical-align: top;\n",
       "    }\n",
       "\n",
       "    .dataframe thead th {\n",
       "        text-align: right;\n",
       "    }\n",
       "</style>\n",
       "<table border=\"1\" class=\"dataframe\">\n",
       "  <thead>\n",
       "    <tr style=\"text-align: right;\">\n",
       "      <th></th>\n",
       "      <th>id</th>\n",
       "      <th>name</th>\n",
       "      <th>host_id</th>\n",
       "      <th>host_name</th>\n",
       "      <th>neighbourhood</th>\n",
       "      <th>latitude</th>\n",
       "      <th>longitude</th>\n",
       "      <th>room_type</th>\n",
       "      <th>price</th>\n",
       "      <th>minimum_nights</th>\n",
       "      <th>number_of_reviews</th>\n",
       "      <th>last_review</th>\n",
       "      <th>reviews_per_month</th>\n",
       "      <th>calculated_host_listings_count</th>\n",
       "      <th>availability_365</th>\n",
       "      <th>number_of_reviews_ltm</th>\n",
       "    </tr>\n",
       "  </thead>\n",
       "  <tbody>\n",
       "    <tr>\n",
       "      <th>0</th>\n",
       "      <td>30950</td>\n",
       "      <td>Apartment Providencia, Santiago</td>\n",
       "      <td>132845</td>\n",
       "      <td>Pamela</td>\n",
       "      <td>Providencia</td>\n",
       "      <td>-33.43174</td>\n",
       "      <td>-70.61845</td>\n",
       "      <td>Entire home/apt</td>\n",
       "      <td>260000</td>\n",
       "      <td>180</td>\n",
       "      <td>12</td>\n",
       "      <td>2021-02-22</td>\n",
       "      <td>0.54</td>\n",
       "      <td>1</td>\n",
       "      <td>216</td>\n",
       "      <td>6</td>\n",
       "    </tr>\n",
       "    <tr>\n",
       "      <th>1</th>\n",
       "      <td>49392</td>\n",
       "      <td>Share my Flat in Providencia</td>\n",
       "      <td>224592</td>\n",
       "      <td>Maria</td>\n",
       "      <td>Providencia</td>\n",
       "      <td>-33.43266</td>\n",
       "      <td>-70.60072</td>\n",
       "      <td>Private room</td>\n",
       "      <td>43058</td>\n",
       "      <td>3</td>\n",
       "      <td>0</td>\n",
       "      <td>NaN</td>\n",
       "      <td>NaN</td>\n",
       "      <td>2</td>\n",
       "      <td>178</td>\n",
       "      <td>0</td>\n",
       "    </tr>\n",
       "    <tr>\n",
       "      <th>2</th>\n",
       "      <td>52811</td>\n",
       "      <td>Suite Providencia 1 Santiago Chile</td>\n",
       "      <td>244792</td>\n",
       "      <td>Cristián</td>\n",
       "      <td>Providencia</td>\n",
       "      <td>-33.42959</td>\n",
       "      <td>-70.61880</td>\n",
       "      <td>Entire home/apt</td>\n",
       "      <td>43870</td>\n",
       "      <td>1</td>\n",
       "      <td>45</td>\n",
       "      <td>2019-04-22</td>\n",
       "      <td>0.43</td>\n",
       "      <td>3</td>\n",
       "      <td>2</td>\n",
       "      <td>0</td>\n",
       "    </tr>\n",
       "    <tr>\n",
       "      <th>3</th>\n",
       "      <td>53494</td>\n",
       "      <td>depto centro ski el colorado chile</td>\n",
       "      <td>249097</td>\n",
       "      <td>Paulina</td>\n",
       "      <td>Lo Barnechea</td>\n",
       "      <td>-33.34344</td>\n",
       "      <td>-70.29432</td>\n",
       "      <td>Entire home/apt</td>\n",
       "      <td>149999</td>\n",
       "      <td>2</td>\n",
       "      <td>38</td>\n",
       "      <td>2017-06-10</td>\n",
       "      <td>0.59</td>\n",
       "      <td>1</td>\n",
       "      <td>365</td>\n",
       "      <td>1</td>\n",
       "    </tr>\n",
       "    <tr>\n",
       "      <th>4</th>\n",
       "      <td>55303</td>\n",
       "      <td>Plaza Lyon piso 3</td>\n",
       "      <td>261079</td>\n",
       "      <td>Hernan</td>\n",
       "      <td>Providencia</td>\n",
       "      <td>-33.42250</td>\n",
       "      <td>-70.60920</td>\n",
       "      <td>Entire home/apt</td>\n",
       "      <td>70000</td>\n",
       "      <td>2</td>\n",
       "      <td>2</td>\n",
       "      <td>2016-11-28</td>\n",
       "      <td>0.03</td>\n",
       "      <td>3</td>\n",
       "      <td>365</td>\n",
       "      <td>0</td>\n",
       "    </tr>\n",
       "    <tr>\n",
       "      <th>...</th>\n",
       "      <td>...</td>\n",
       "      <td>...</td>\n",
       "      <td>...</td>\n",
       "      <td>...</td>\n",
       "      <td>...</td>\n",
       "      <td>...</td>\n",
       "      <td>...</td>\n",
       "      <td>...</td>\n",
       "      <td>...</td>\n",
       "      <td>...</td>\n",
       "      <td>...</td>\n",
       "      <td>...</td>\n",
       "      <td>...</td>\n",
       "      <td>...</td>\n",
       "      <td>...</td>\n",
       "      <td>...</td>\n",
       "    </tr>\n",
       "    <tr>\n",
       "      <th>9226</th>\n",
       "      <td>52947911</td>\n",
       "      <td>Depto privado en Providencia</td>\n",
       "      <td>335913933</td>\n",
       "      <td>Vania</td>\n",
       "      <td>Providencia</td>\n",
       "      <td>-33.43159</td>\n",
       "      <td>-70.59256</td>\n",
       "      <td>Entire home/apt</td>\n",
       "      <td>68000</td>\n",
       "      <td>1</td>\n",
       "      <td>0</td>\n",
       "      <td>NaN</td>\n",
       "      <td>NaN</td>\n",
       "      <td>1</td>\n",
       "      <td>360</td>\n",
       "      <td>0</td>\n",
       "    </tr>\n",
       "    <tr>\n",
       "      <th>9227</th>\n",
       "      <td>52954420</td>\n",
       "      <td>Habitaciones y espacios comunes. Gran ubicación</td>\n",
       "      <td>136103530</td>\n",
       "      <td>Pedro</td>\n",
       "      <td>Ñuñoa</td>\n",
       "      <td>-33.46040</td>\n",
       "      <td>-70.60204</td>\n",
       "      <td>Private room</td>\n",
       "      <td>19920</td>\n",
       "      <td>1</td>\n",
       "      <td>0</td>\n",
       "      <td>NaN</td>\n",
       "      <td>NaN</td>\n",
       "      <td>1</td>\n",
       "      <td>364</td>\n",
       "      <td>0</td>\n",
       "    </tr>\n",
       "    <tr>\n",
       "      <th>9228</th>\n",
       "      <td>52955343</td>\n",
       "      <td>Big New Studio/Plaza Egaña/Sky100/pet-friendly</td>\n",
       "      <td>393438455</td>\n",
       "      <td>Lucas</td>\n",
       "      <td>La Reina</td>\n",
       "      <td>-33.45164</td>\n",
       "      <td>-70.57084</td>\n",
       "      <td>Entire home/apt</td>\n",
       "      <td>74286</td>\n",
       "      <td>2</td>\n",
       "      <td>0</td>\n",
       "      <td>NaN</td>\n",
       "      <td>NaN</td>\n",
       "      <td>3</td>\n",
       "      <td>41</td>\n",
       "      <td>0</td>\n",
       "    </tr>\n",
       "    <tr>\n",
       "      <th>9229</th>\n",
       "      <td>52960114</td>\n",
       "      <td>Bright &amp; spacious apartment - great neighborhood</td>\n",
       "      <td>3223876</td>\n",
       "      <td>Charlotte</td>\n",
       "      <td>Providencia</td>\n",
       "      <td>-33.43830</td>\n",
       "      <td>-70.62793</td>\n",
       "      <td>Entire home/apt</td>\n",
       "      <td>31305</td>\n",
       "      <td>1</td>\n",
       "      <td>0</td>\n",
       "      <td>NaN</td>\n",
       "      <td>NaN</td>\n",
       "      <td>1</td>\n",
       "      <td>37</td>\n",
       "      <td>0</td>\n",
       "    </tr>\n",
       "    <tr>\n",
       "      <th>9230</th>\n",
       "      <td>52985039</td>\n",
       "      <td>Departamento Studio, cerca de Estación de Metro</td>\n",
       "      <td>197591354</td>\n",
       "      <td>Cristian</td>\n",
       "      <td>Estación Central</td>\n",
       "      <td>-33.45123</td>\n",
       "      <td>-70.69579</td>\n",
       "      <td>Entire home/apt</td>\n",
       "      <td>20000</td>\n",
       "      <td>1</td>\n",
       "      <td>0</td>\n",
       "      <td>NaN</td>\n",
       "      <td>NaN</td>\n",
       "      <td>2</td>\n",
       "      <td>357</td>\n",
       "      <td>0</td>\n",
       "    </tr>\n",
       "  </tbody>\n",
       "</table>\n",
       "<p>9231 rows × 16 columns</p>\n",
       "</div>"
      ],
      "text/plain": [
       "            id                                              name    host_id  \\\n",
       "0        30950                   Apartment Providencia, Santiago     132845   \n",
       "1        49392                      Share my Flat in Providencia     224592   \n",
       "2        52811                Suite Providencia 1 Santiago Chile     244792   \n",
       "3        53494                depto centro ski el colorado chile     249097   \n",
       "4        55303                                 Plaza Lyon piso 3     261079   \n",
       "...        ...                                               ...        ...   \n",
       "9226  52947911                      Depto privado en Providencia  335913933   \n",
       "9227  52954420   Habitaciones y espacios comunes. Gran ubicación  136103530   \n",
       "9228  52955343    Big New Studio/Plaza Egaña/Sky100/pet-friendly  393438455   \n",
       "9229  52960114  Bright & spacious apartment - great neighborhood    3223876   \n",
       "9230  52985039   Departamento Studio, cerca de Estación de Metro  197591354   \n",
       "\n",
       "      host_name     neighbourhood  latitude  longitude        room_type  \\\n",
       "0        Pamela       Providencia -33.43174  -70.61845  Entire home/apt   \n",
       "1         Maria       Providencia -33.43266  -70.60072     Private room   \n",
       "2      Cristián       Providencia -33.42959  -70.61880  Entire home/apt   \n",
       "3       Paulina      Lo Barnechea -33.34344  -70.29432  Entire home/apt   \n",
       "4        Hernan       Providencia -33.42250  -70.60920  Entire home/apt   \n",
       "...         ...               ...       ...        ...              ...   \n",
       "9226      Vania       Providencia -33.43159  -70.59256  Entire home/apt   \n",
       "9227      Pedro             Ñuñoa -33.46040  -70.60204     Private room   \n",
       "9228      Lucas          La Reina -33.45164  -70.57084  Entire home/apt   \n",
       "9229  Charlotte       Providencia -33.43830  -70.62793  Entire home/apt   \n",
       "9230   Cristian  Estación Central -33.45123  -70.69579  Entire home/apt   \n",
       "\n",
       "       price  minimum_nights  number_of_reviews last_review  \\\n",
       "0     260000             180                 12  2021-02-22   \n",
       "1      43058               3                  0         NaN   \n",
       "2      43870               1                 45  2019-04-22   \n",
       "3     149999               2                 38  2017-06-10   \n",
       "4      70000               2                  2  2016-11-28   \n",
       "...      ...             ...                ...         ...   \n",
       "9226   68000               1                  0         NaN   \n",
       "9227   19920               1                  0         NaN   \n",
       "9228   74286               2                  0         NaN   \n",
       "9229   31305               1                  0         NaN   \n",
       "9230   20000               1                  0         NaN   \n",
       "\n",
       "      reviews_per_month  calculated_host_listings_count  availability_365  \\\n",
       "0                  0.54                               1               216   \n",
       "1                   NaN                               2               178   \n",
       "2                  0.43                               3                 2   \n",
       "3                  0.59                               1               365   \n",
       "4                  0.03                               3               365   \n",
       "...                 ...                             ...               ...   \n",
       "9226                NaN                               1               360   \n",
       "9227                NaN                               1               364   \n",
       "9228                NaN                               3                41   \n",
       "9229                NaN                               1                37   \n",
       "9230                NaN                               2               357   \n",
       "\n",
       "      number_of_reviews_ltm  \n",
       "0                         6  \n",
       "1                         0  \n",
       "2                         0  \n",
       "3                         1  \n",
       "4                         0  \n",
       "...                     ...  \n",
       "9226                      0  \n",
       "9227                      0  \n",
       "9228                      0  \n",
       "9229                      0  \n",
       "9230                      0  \n",
       "\n",
       "[9231 rows x 16 columns]"
      ]
     },
     "execution_count": 7,
     "metadata": {},
     "output_type": "execute_result"
    }
   ],
   "source": [
    "df = df.drop(columns=['license', 'neighbourhood_group'], errors= 'ignore')\n",
    "df"
   ]
  },
  {
   "cell_type": "markdown",
   "metadata": {
    "id": "iHXvvHIxaoNc"
   },
   "source": [
    "### **2.3. Qual o tipo de distribuição das variáveis?** "
   ]
  },
  {
   "cell_type": "markdown",
   "metadata": {},
   "source": [
    "> Representação da distribuição de frequencia das variáveis contidas na tabela após o tratamento das etapas anteriores"
   ]
  },
  {
   "cell_type": "code",
   "execution_count": 8,
   "metadata": {
    "id": "q2wWSfeRbmBo"
   },
   "outputs": [
    {
     "data": {
      "text/html": [
       "<div>\n",
       "<style scoped>\n",
       "    .dataframe tbody tr th:only-of-type {\n",
       "        vertical-align: middle;\n",
       "    }\n",
       "\n",
       "    .dataframe tbody tr th {\n",
       "        vertical-align: top;\n",
       "    }\n",
       "\n",
       "    .dataframe thead th {\n",
       "        text-align: right;\n",
       "    }\n",
       "</style>\n",
       "<table border=\"1\" class=\"dataframe\">\n",
       "  <thead>\n",
       "    <tr style=\"text-align: right;\">\n",
       "      <th></th>\n",
       "      <th>price</th>\n",
       "      <th>minimum_nights</th>\n",
       "      <th>number_of_reviews</th>\n",
       "      <th>reviews_per_month</th>\n",
       "      <th>calculated_host_listings_count</th>\n",
       "      <th>availability_365</th>\n",
       "      <th>number_of_reviews_ltm</th>\n",
       "    </tr>\n",
       "  </thead>\n",
       "  <tbody>\n",
       "    <tr>\n",
       "      <th>count</th>\n",
       "      <td>9.231000e+03</td>\n",
       "      <td>9231.000000</td>\n",
       "      <td>9231.000000</td>\n",
       "      <td>5838.000000</td>\n",
       "      <td>9231.000000</td>\n",
       "      <td>9231.000000</td>\n",
       "      <td>9231.000000</td>\n",
       "    </tr>\n",
       "    <tr>\n",
       "      <th>mean</th>\n",
       "      <td>7.725320e+04</td>\n",
       "      <td>7.135738</td>\n",
       "      <td>16.869570</td>\n",
       "      <td>0.850651</td>\n",
       "      <td>2.932185</td>\n",
       "      <td>246.390857</td>\n",
       "      <td>3.770989</td>\n",
       "    </tr>\n",
       "    <tr>\n",
       "      <th>std</th>\n",
       "      <td>8.308567e+05</td>\n",
       "      <td>27.475345</td>\n",
       "      <td>38.475486</td>\n",
       "      <td>1.292532</td>\n",
       "      <td>4.256402</td>\n",
       "      <td>126.674352</td>\n",
       "      <td>12.321971</td>\n",
       "    </tr>\n",
       "    <tr>\n",
       "      <th>min</th>\n",
       "      <td>0.000000e+00</td>\n",
       "      <td>1.000000</td>\n",
       "      <td>0.000000</td>\n",
       "      <td>0.010000</td>\n",
       "      <td>1.000000</td>\n",
       "      <td>0.000000</td>\n",
       "      <td>0.000000</td>\n",
       "    </tr>\n",
       "    <tr>\n",
       "      <th>25%</th>\n",
       "      <td>2.000000e+04</td>\n",
       "      <td>1.000000</td>\n",
       "      <td>0.000000</td>\n",
       "      <td>0.100000</td>\n",
       "      <td>1.000000</td>\n",
       "      <td>137.000000</td>\n",
       "      <td>0.000000</td>\n",
       "    </tr>\n",
       "    <tr>\n",
       "      <th>50%</th>\n",
       "      <td>3.271400e+04</td>\n",
       "      <td>2.000000</td>\n",
       "      <td>2.000000</td>\n",
       "      <td>0.370000</td>\n",
       "      <td>1.000000</td>\n",
       "      <td>300.000000</td>\n",
       "      <td>0.000000</td>\n",
       "    </tr>\n",
       "    <tr>\n",
       "      <th>75%</th>\n",
       "      <td>5.000000e+04</td>\n",
       "      <td>3.000000</td>\n",
       "      <td>15.000000</td>\n",
       "      <td>1.087500</td>\n",
       "      <td>3.000000</td>\n",
       "      <td>364.000000</td>\n",
       "      <td>2.000000</td>\n",
       "    </tr>\n",
       "    <tr>\n",
       "      <th>max</th>\n",
       "      <td>5.280696e+07</td>\n",
       "      <td>600.000000</td>\n",
       "      <td>617.000000</td>\n",
       "      <td>23.620000</td>\n",
       "      <td>35.000000</td>\n",
       "      <td>365.000000</td>\n",
       "      <td>441.000000</td>\n",
       "    </tr>\n",
       "  </tbody>\n",
       "</table>\n",
       "</div>"
      ],
      "text/plain": [
       "              price  minimum_nights  number_of_reviews  reviews_per_month  \\\n",
       "count  9.231000e+03     9231.000000        9231.000000        5838.000000   \n",
       "mean   7.725320e+04        7.135738          16.869570           0.850651   \n",
       "std    8.308567e+05       27.475345          38.475486           1.292532   \n",
       "min    0.000000e+00        1.000000           0.000000           0.010000   \n",
       "25%    2.000000e+04        1.000000           0.000000           0.100000   \n",
       "50%    3.271400e+04        2.000000           2.000000           0.370000   \n",
       "75%    5.000000e+04        3.000000          15.000000           1.087500   \n",
       "max    5.280696e+07      600.000000         617.000000          23.620000   \n",
       "\n",
       "       calculated_host_listings_count  availability_365  number_of_reviews_ltm  \n",
       "count                     9231.000000       9231.000000            9231.000000  \n",
       "mean                         2.932185        246.390857               3.770989  \n",
       "std                          4.256402        126.674352              12.321971  \n",
       "min                          1.000000          0.000000               0.000000  \n",
       "25%                          1.000000        137.000000               0.000000  \n",
       "50%                          1.000000        300.000000               0.000000  \n",
       "75%                          3.000000        364.000000               2.000000  \n",
       "max                         35.000000        365.000000             441.000000  "
      ]
     },
     "execution_count": 8,
     "metadata": {},
     "output_type": "execute_result"
    }
   ],
   "source": [
    "variaveis = ['price', \n",
    "             'minimum_nights', \n",
    "             'number_of_reviews', \n",
    "             'reviews_per_month', \n",
    "             'calculated_host_listings_count', \n",
    "             'availability_365', \n",
    "             'number_of_reviews_ltm'\n",
    "            ]\n",
    "df2 = df[variaveis].describe()\n",
    "df2"
   ]
  },
  {
   "cell_type": "markdown",
   "metadata": {},
   "source": [
    "> Podemos perceber que a coluna preço foi carregada com valores em notação cientifica, e para tratar isso, e já aproveitar para converter para BRL (reais), vamos usar uma função personalizada."
   ]
  },
  {
   "cell_type": "markdown",
   "metadata": {},
   "source": [
    "> Além disso os valores estão em moeda local, e como estamos analisando os dados aqui no Brasil, para que algum turista possa escolher pela viagem, vamos converter para moeda local"
   ]
  },
  {
   "cell_type": "code",
   "execution_count": 9,
   "metadata": {},
   "outputs": [
    {
     "data": {
      "text/plain": [
       "0.006919127119210722"
      ]
     },
     "execution_count": 9,
     "metadata": {},
     "output_type": "execute_result"
    }
   ],
   "source": [
    "# informando a data dos dados, para poder parear as moedas\n",
    "data_dos_dados = '2020-08-30'\n",
    "\n",
    "# como não tem conversão direta entre CLP e BRL, usamos o DOLLAR como \"trampolim\"\n",
    "conversao_na_data = pdr.get_data_yahoo([\"CLPUSD=x\", \"USDBRL=x\"])['Close'].loc[data_dos_dados]\n",
    "fator_clp_brl = conversao_na_data[0] * conversao_na_data[1]\n",
    "\n",
    "fator_clp_brl"
   ]
  },
  {
   "cell_type": "code",
   "execution_count": 10,
   "metadata": {},
   "outputs": [],
   "source": [
    "def NotacaoParaDecimal_brl(numero_em_notacao):\n",
    "    \n",
    "    x = numero_em_notacao \n",
    "    \n",
    "    # o resultado de `decimal` é um object (str) e há necessidade de conversão\n",
    "    x = float(decimal.Decimal(x))\n",
    "    \n",
    "    # Convertendo para BRL e arredondando\n",
    "    x = round(x * fator_clp_brl ,2) \n",
    "    \n",
    "    return x"
   ]
  },
  {
   "cell_type": "markdown",
   "metadata": {},
   "source": [
    "> Agora é só aplicar essa função de 1 parâmetro (a própria coluna) ao dataset original e ai sim podemos prosseguir com nossas analises"
   ]
  },
  {
   "cell_type": "code",
   "execution_count": 11,
   "metadata": {
    "scrolled": true
   },
   "outputs": [
    {
     "data": {
      "text/html": [
       "<div>\n",
       "<style scoped>\n",
       "    .dataframe tbody tr th:only-of-type {\n",
       "        vertical-align: middle;\n",
       "    }\n",
       "\n",
       "    .dataframe tbody tr th {\n",
       "        vertical-align: top;\n",
       "    }\n",
       "\n",
       "    .dataframe thead th {\n",
       "        text-align: right;\n",
       "    }\n",
       "</style>\n",
       "<table border=\"1\" class=\"dataframe\">\n",
       "  <thead>\n",
       "    <tr style=\"text-align: right;\">\n",
       "      <th></th>\n",
       "      <th>id</th>\n",
       "      <th>name</th>\n",
       "      <th>host_id</th>\n",
       "      <th>host_name</th>\n",
       "      <th>neighbourhood</th>\n",
       "      <th>latitude</th>\n",
       "      <th>longitude</th>\n",
       "      <th>room_type</th>\n",
       "      <th>price</th>\n",
       "      <th>minimum_nights</th>\n",
       "      <th>number_of_reviews</th>\n",
       "      <th>last_review</th>\n",
       "      <th>reviews_per_month</th>\n",
       "      <th>calculated_host_listings_count</th>\n",
       "      <th>availability_365</th>\n",
       "      <th>number_of_reviews_ltm</th>\n",
       "    </tr>\n",
       "  </thead>\n",
       "  <tbody>\n",
       "    <tr>\n",
       "      <th>0</th>\n",
       "      <td>30950</td>\n",
       "      <td>Apartment Providencia, Santiago</td>\n",
       "      <td>132845</td>\n",
       "      <td>Pamela</td>\n",
       "      <td>Providencia</td>\n",
       "      <td>-33.43174</td>\n",
       "      <td>-70.61845</td>\n",
       "      <td>Entire home/apt</td>\n",
       "      <td>1798.97</td>\n",
       "      <td>180</td>\n",
       "      <td>12</td>\n",
       "      <td>2021-02-22</td>\n",
       "      <td>0.54</td>\n",
       "      <td>1</td>\n",
       "      <td>216</td>\n",
       "      <td>6</td>\n",
       "    </tr>\n",
       "    <tr>\n",
       "      <th>1</th>\n",
       "      <td>49392</td>\n",
       "      <td>Share my Flat in Providencia</td>\n",
       "      <td>224592</td>\n",
       "      <td>Maria</td>\n",
       "      <td>Providencia</td>\n",
       "      <td>-33.43266</td>\n",
       "      <td>-70.60072</td>\n",
       "      <td>Private room</td>\n",
       "      <td>297.92</td>\n",
       "      <td>3</td>\n",
       "      <td>0</td>\n",
       "      <td>NaN</td>\n",
       "      <td>NaN</td>\n",
       "      <td>2</td>\n",
       "      <td>178</td>\n",
       "      <td>0</td>\n",
       "    </tr>\n",
       "    <tr>\n",
       "      <th>2</th>\n",
       "      <td>52811</td>\n",
       "      <td>Suite Providencia 1 Santiago Chile</td>\n",
       "      <td>244792</td>\n",
       "      <td>Cristián</td>\n",
       "      <td>Providencia</td>\n",
       "      <td>-33.42959</td>\n",
       "      <td>-70.61880</td>\n",
       "      <td>Entire home/apt</td>\n",
       "      <td>303.54</td>\n",
       "      <td>1</td>\n",
       "      <td>45</td>\n",
       "      <td>2019-04-22</td>\n",
       "      <td>0.43</td>\n",
       "      <td>3</td>\n",
       "      <td>2</td>\n",
       "      <td>0</td>\n",
       "    </tr>\n",
       "    <tr>\n",
       "      <th>3</th>\n",
       "      <td>53494</td>\n",
       "      <td>depto centro ski el colorado chile</td>\n",
       "      <td>249097</td>\n",
       "      <td>Paulina</td>\n",
       "      <td>Lo Barnechea</td>\n",
       "      <td>-33.34344</td>\n",
       "      <td>-70.29432</td>\n",
       "      <td>Entire home/apt</td>\n",
       "      <td>1037.86</td>\n",
       "      <td>2</td>\n",
       "      <td>38</td>\n",
       "      <td>2017-06-10</td>\n",
       "      <td>0.59</td>\n",
       "      <td>1</td>\n",
       "      <td>365</td>\n",
       "      <td>1</td>\n",
       "    </tr>\n",
       "    <tr>\n",
       "      <th>4</th>\n",
       "      <td>55303</td>\n",
       "      <td>Plaza Lyon piso 3</td>\n",
       "      <td>261079</td>\n",
       "      <td>Hernan</td>\n",
       "      <td>Providencia</td>\n",
       "      <td>-33.42250</td>\n",
       "      <td>-70.60920</td>\n",
       "      <td>Entire home/apt</td>\n",
       "      <td>484.34</td>\n",
       "      <td>2</td>\n",
       "      <td>2</td>\n",
       "      <td>2016-11-28</td>\n",
       "      <td>0.03</td>\n",
       "      <td>3</td>\n",
       "      <td>365</td>\n",
       "      <td>0</td>\n",
       "    </tr>\n",
       "  </tbody>\n",
       "</table>\n",
       "</div>"
      ],
      "text/plain": [
       "      id                                name  host_id host_name neighbourhood  \\\n",
       "0  30950     Apartment Providencia, Santiago   132845    Pamela   Providencia   \n",
       "1  49392        Share my Flat in Providencia   224592     Maria   Providencia   \n",
       "2  52811  Suite Providencia 1 Santiago Chile   244792  Cristián   Providencia   \n",
       "3  53494  depto centro ski el colorado chile   249097   Paulina  Lo Barnechea   \n",
       "4  55303                   Plaza Lyon piso 3   261079    Hernan   Providencia   \n",
       "\n",
       "   latitude  longitude        room_type    price  minimum_nights  \\\n",
       "0 -33.43174  -70.61845  Entire home/apt  1798.97             180   \n",
       "1 -33.43266  -70.60072     Private room   297.92               3   \n",
       "2 -33.42959  -70.61880  Entire home/apt   303.54               1   \n",
       "3 -33.34344  -70.29432  Entire home/apt  1037.86               2   \n",
       "4 -33.42250  -70.60920  Entire home/apt   484.34               2   \n",
       "\n",
       "   number_of_reviews last_review  reviews_per_month  \\\n",
       "0                 12  2021-02-22               0.54   \n",
       "1                  0         NaN                NaN   \n",
       "2                 45  2019-04-22               0.43   \n",
       "3                 38  2017-06-10               0.59   \n",
       "4                  2  2016-11-28               0.03   \n",
       "\n",
       "   calculated_host_listings_count  availability_365  number_of_reviews_ltm  \n",
       "0                               1               216                      6  \n",
       "1                               2               178                      0  \n",
       "2                               3                 2                      0  \n",
       "3                               1               365                      1  \n",
       "4                               3               365                      0  "
      ]
     },
     "execution_count": 11,
     "metadata": {},
     "output_type": "execute_result"
    }
   ],
   "source": [
    "df['price'] = df['price'].apply(NotacaoParaDecimal_brl)\n",
    "df.head()"
   ]
  },
  {
   "cell_type": "markdown",
   "metadata": {},
   "source": [
    "> Agora que temos os valores em nossa moeda, vamos plotar o HISTOGRAMA para entender a distribuição, e saber se precisamos limpar os outliers (pontos fora da curva)"
   ]
  },
  {
   "cell_type": "code",
   "execution_count": 12,
   "metadata": {},
   "outputs": [
    {
     "data": {
      "text/html": [
       "<div>\n",
       "<style scoped>\n",
       "    .dataframe tbody tr th:only-of-type {\n",
       "        vertical-align: middle;\n",
       "    }\n",
       "\n",
       "    .dataframe tbody tr th {\n",
       "        vertical-align: top;\n",
       "    }\n",
       "\n",
       "    .dataframe thead th {\n",
       "        text-align: right;\n",
       "    }\n",
       "</style>\n",
       "<table border=\"1\" class=\"dataframe\">\n",
       "  <thead>\n",
       "    <tr style=\"text-align: right;\">\n",
       "      <th></th>\n",
       "      <th>price</th>\n",
       "      <th>minimum_nights</th>\n",
       "      <th>number_of_reviews</th>\n",
       "      <th>reviews_per_month</th>\n",
       "      <th>calculated_host_listings_count</th>\n",
       "      <th>availability_365</th>\n",
       "      <th>number_of_reviews_ltm</th>\n",
       "    </tr>\n",
       "  </thead>\n",
       "  <tbody>\n",
       "    <tr>\n",
       "      <th>count</th>\n",
       "      <td>9231.000000</td>\n",
       "      <td>9231.000000</td>\n",
       "      <td>9231.000000</td>\n",
       "      <td>5838.000000</td>\n",
       "      <td>9231.000000</td>\n",
       "      <td>9231.000000</td>\n",
       "      <td>9231.000000</td>\n",
       "    </tr>\n",
       "    <tr>\n",
       "      <th>mean</th>\n",
       "      <td>534.524877</td>\n",
       "      <td>7.135738</td>\n",
       "      <td>16.869570</td>\n",
       "      <td>0.850651</td>\n",
       "      <td>2.932185</td>\n",
       "      <td>246.390857</td>\n",
       "      <td>3.770989</td>\n",
       "    </tr>\n",
       "    <tr>\n",
       "      <th>std</th>\n",
       "      <td>5748.803366</td>\n",
       "      <td>27.475345</td>\n",
       "      <td>38.475486</td>\n",
       "      <td>1.292532</td>\n",
       "      <td>4.256402</td>\n",
       "      <td>126.674352</td>\n",
       "      <td>12.321971</td>\n",
       "    </tr>\n",
       "    <tr>\n",
       "      <th>min</th>\n",
       "      <td>0.000000</td>\n",
       "      <td>1.000000</td>\n",
       "      <td>0.000000</td>\n",
       "      <td>0.010000</td>\n",
       "      <td>1.000000</td>\n",
       "      <td>0.000000</td>\n",
       "      <td>0.000000</td>\n",
       "    </tr>\n",
       "    <tr>\n",
       "      <th>25%</th>\n",
       "      <td>138.380000</td>\n",
       "      <td>1.000000</td>\n",
       "      <td>0.000000</td>\n",
       "      <td>0.100000</td>\n",
       "      <td>1.000000</td>\n",
       "      <td>137.000000</td>\n",
       "      <td>0.000000</td>\n",
       "    </tr>\n",
       "    <tr>\n",
       "      <th>50%</th>\n",
       "      <td>226.350000</td>\n",
       "      <td>2.000000</td>\n",
       "      <td>2.000000</td>\n",
       "      <td>0.370000</td>\n",
       "      <td>1.000000</td>\n",
       "      <td>300.000000</td>\n",
       "      <td>0.000000</td>\n",
       "    </tr>\n",
       "    <tr>\n",
       "      <th>75%</th>\n",
       "      <td>345.960000</td>\n",
       "      <td>3.000000</td>\n",
       "      <td>15.000000</td>\n",
       "      <td>1.087500</td>\n",
       "      <td>3.000000</td>\n",
       "      <td>364.000000</td>\n",
       "      <td>2.000000</td>\n",
       "    </tr>\n",
       "    <tr>\n",
       "      <th>max</th>\n",
       "      <td>365378.080000</td>\n",
       "      <td>600.000000</td>\n",
       "      <td>617.000000</td>\n",
       "      <td>23.620000</td>\n",
       "      <td>35.000000</td>\n",
       "      <td>365.000000</td>\n",
       "      <td>441.000000</td>\n",
       "    </tr>\n",
       "  </tbody>\n",
       "</table>\n",
       "</div>"
      ],
      "text/plain": [
       "               price  minimum_nights  number_of_reviews  reviews_per_month  \\\n",
       "count    9231.000000     9231.000000        9231.000000        5838.000000   \n",
       "mean      534.524877        7.135738          16.869570           0.850651   \n",
       "std      5748.803366       27.475345          38.475486           1.292532   \n",
       "min         0.000000        1.000000           0.000000           0.010000   \n",
       "25%       138.380000        1.000000           0.000000           0.100000   \n",
       "50%       226.350000        2.000000           2.000000           0.370000   \n",
       "75%       345.960000        3.000000          15.000000           1.087500   \n",
       "max    365378.080000      600.000000         617.000000          23.620000   \n",
       "\n",
       "       calculated_host_listings_count  availability_365  number_of_reviews_ltm  \n",
       "count                     9231.000000       9231.000000            9231.000000  \n",
       "mean                         2.932185        246.390857               3.770989  \n",
       "std                          4.256402        126.674352              12.321971  \n",
       "min                          1.000000          0.000000               0.000000  \n",
       "25%                          1.000000        137.000000               0.000000  \n",
       "50%                          1.000000        300.000000               0.000000  \n",
       "75%                          3.000000        364.000000               2.000000  \n",
       "max                         35.000000        365.000000             441.000000  "
      ]
     },
     "execution_count": 12,
     "metadata": {},
     "output_type": "execute_result"
    }
   ],
   "source": [
    "def describe_colunas_numericas_selecionadas(tabela):\n",
    "    x = tabela[variaveis].describe()\n",
    "    return x\n",
    "    \n",
    "df2 = describe_colunas_numericas_selecionadas(df)\n",
    "df2"
   ]
  },
  {
   "cell_type": "markdown",
   "metadata": {},
   "source": [
    "> Vamos criar uma função para chamar o `histograma`, uma vez que usaremos em mais de um ponto de nosso estudo (este notebook)"
   ]
  },
  {
   "cell_type": "code",
   "execution_count": 13,
   "metadata": {},
   "outputs": [],
   "source": [
    "def histograma(tabela, tamanho):\n",
    "\n",
    "    tabela.hist(bins=10,          # \"expessura\" das barras\n",
    "                figsize=tamanho,   # tamanho das figuras\n",
    "                facecolor='r',    # cor das barras\n",
    "                alpha=0.50,       # nivel de solidez/transparência da cor\n",
    "                grid = False      # não mostrar aquelas linhas no meio dos gráficos\n",
    "               );"
   ]
  },
  {
   "cell_type": "code",
   "execution_count": 14,
   "metadata": {},
   "outputs": [
    {
     "data": {
      "image/png": "[encoded data removed]",
      "text/plain": [
       "<Figure size 1296x720 with 9 Axes>"
      ]
     },
     "metadata": {
      "needs_background": "light"
     },
     "output_type": "display_data"
    }
   ],
   "source": [
    "histograma(df2, (18,10))"
   ]
  },
  {
   "cell_type": "markdown",
   "metadata": {},
   "source": [
    "<font color='red'>**ATENÇÃO:** o histograma só plota variáveis numéricas</font>"
   ]
  },
  {
   "cell_type": "markdown",
   "metadata": {},
   "source": [
    "### **2.3.1. PONTOS FORA DA CURVA** "
   ]
  },
  {
   "cell_type": "markdown",
   "metadata": {},
   "source": [
    "> Analisando os gráficos anteriores podemos visualizar que existe \"um buraco\" em todos os quadros.\n",
    ">\n",
    "> Vamos olhar o `minimum_nights`, aonde se analizarmos \"o buraco\" é devido a distância entre o `terceiro quartil` e o valor máximo presente na coluna."
   ]
  },
  {
   "cell_type": "markdown",
   "metadata": {},
   "source": [
    "> Para evidenciar esse sentimento, vamos plotar um boxplot, e analisar a concentração nos quartis"
   ]
  },
  {
   "cell_type": "code",
   "execution_count": 15,
   "metadata": {},
   "outputs": [
    {
     "data": {
      "image/png": "[encoded data removed]",
      "text/plain": [
       "<Figure size 1296x288 with 1 Axes>"
      ]
     },
     "metadata": {
      "needs_background": "light"
     },
     "output_type": "display_data"
    }
   ],
   "source": [
    "df.boxplot(column=['minimum_nights'], \n",
    "           vert=False, \n",
    "           figsize=(18, 4)\n",
    "          );"
   ]
  },
  {
   "cell_type": "markdown",
   "metadata": {},
   "source": [
    "> O objetivo desse artigo é mostrar se vale a pena usar Airbnb para uma viagem ao Chile, e por isso, vamos considerar um limite para a variável `minimum_nights` de 21 dias (3 semanas)."
   ]
  },
  {
   "cell_type": "code",
   "execution_count": 16,
   "metadata": {},
   "outputs": [
    {
     "name": "stdout",
     "output_type": "stream",
     "text": [
      "\n",
      "Existem 591 com quantidade mínima de noites maior que nossa necessidade, representando 6.4% de nossos dados.\n",
      "Essas linhas serão deletadas a seguir, e um novo histograma será mostrado.\n",
      "\n"
     ]
    }
   ],
   "source": [
    "locais_minimo_noites_maior_21 = df.query('minimum_nights > 21').id.count()\n",
    "percentual_locais_minimo_noites_maior_21 = round(locais_minimo_noites_maior_21 / linhas * 100,2)\n",
    "print(f'''\n",
    "Existem {locais_minimo_noites_maior_21} com quantidade mínima de noites maior que nossa necessidade, representando {percentual_locais_minimo_noites_maior_21}% de nossos dados.\n",
    "Essas linhas serão deletadas a seguir, e um novo histograma será mostrado.\n",
    "''')"
   ]
  },
  {
   "cell_type": "code",
   "execution_count": 17,
   "metadata": {},
   "outputs": [
    {
     "data": {
      "image/png": "[encoded data removed]",
      "text/plain": [
       "<Figure size 1296x288 with 2 Axes>"
      ]
     },
     "metadata": {
      "needs_background": "light"
     },
     "output_type": "display_data"
    }
   ],
   "source": [
    "df3 = df.query('minimum_nights <= 21')\n",
    "histograma(df3[['price', 'minimum_nights']], (18,4))"
   ]
  },
  {
   "cell_type": "markdown",
   "metadata": {},
   "source": [
    "> Agora que temos a tabela limpa dos `outliers` na coluna `minimum_nights`, vamos aplicar a mesma técnica na coluna `price`"
   ]
  },
  {
   "cell_type": "code",
   "execution_count": 18,
   "metadata": {},
   "outputs": [
    {
     "data": {
      "image/png": "[encoded data removed]",
      "text/plain": [
       "<Figure size 1296x288 with 1 Axes>"
      ]
     },
     "metadata": {
      "needs_background": "light"
     },
     "output_type": "display_data"
    }
   ],
   "source": [
    "df3.boxplot(column=['price'], \n",
    "            vert=False, \n",
    "            figsize=(18, 4)\n",
    "           );"
   ]
  },
  {
   "cell_type": "code",
   "execution_count": 19,
   "metadata": {},
   "outputs": [
    {
     "data": {
      "text/html": [
       "<div>\n",
       "<style scoped>\n",
       "    .dataframe tbody tr th:only-of-type {\n",
       "        vertical-align: middle;\n",
       "    }\n",
       "\n",
       "    .dataframe tbody tr th {\n",
       "        vertical-align: top;\n",
       "    }\n",
       "\n",
       "    .dataframe thead th {\n",
       "        text-align: right;\n",
       "    }\n",
       "</style>\n",
       "<table border=\"1\" class=\"dataframe\">\n",
       "  <thead>\n",
       "    <tr style=\"text-align: right;\">\n",
       "      <th></th>\n",
       "      <th>price</th>\n",
       "      <th>minimum_nights</th>\n",
       "      <th>number_of_reviews</th>\n",
       "      <th>reviews_per_month</th>\n",
       "      <th>calculated_host_listings_count</th>\n",
       "      <th>availability_365</th>\n",
       "      <th>number_of_reviews_ltm</th>\n",
       "    </tr>\n",
       "  </thead>\n",
       "  <tbody>\n",
       "    <tr>\n",
       "      <th>count</th>\n",
       "      <td>8640.000000</td>\n",
       "      <td>8640.000000</td>\n",
       "      <td>8640.000000</td>\n",
       "      <td>5534.000000</td>\n",
       "      <td>8640.000000</td>\n",
       "      <td>8640.000000</td>\n",
       "      <td>8640.000000</td>\n",
       "    </tr>\n",
       "    <tr>\n",
       "      <th>mean</th>\n",
       "      <td>536.800344</td>\n",
       "      <td>2.747222</td>\n",
       "      <td>17.053588</td>\n",
       "      <td>0.865390</td>\n",
       "      <td>2.998843</td>\n",
       "      <td>246.376852</td>\n",
       "      <td>3.987616</td>\n",
       "    </tr>\n",
       "    <tr>\n",
       "      <th>std</th>\n",
       "      <td>5861.117633</td>\n",
       "      <td>2.895445</td>\n",
       "      <td>38.803109</td>\n",
       "      <td>1.314981</td>\n",
       "      <td>4.365732</td>\n",
       "      <td>126.775223</td>\n",
       "      <td>12.700225</td>\n",
       "    </tr>\n",
       "    <tr>\n",
       "      <th>min</th>\n",
       "      <td>0.000000</td>\n",
       "      <td>1.000000</td>\n",
       "      <td>0.000000</td>\n",
       "      <td>0.010000</td>\n",
       "      <td>1.000000</td>\n",
       "      <td>0.000000</td>\n",
       "      <td>0.000000</td>\n",
       "    </tr>\n",
       "    <tr>\n",
       "      <th>25%</th>\n",
       "      <td>140.350000</td>\n",
       "      <td>1.000000</td>\n",
       "      <td>0.000000</td>\n",
       "      <td>0.100000</td>\n",
       "      <td>1.000000</td>\n",
       "      <td>139.000000</td>\n",
       "      <td>0.000000</td>\n",
       "    </tr>\n",
       "    <tr>\n",
       "      <th>50%</th>\n",
       "      <td>232.280000</td>\n",
       "      <td>2.000000</td>\n",
       "      <td>2.000000</td>\n",
       "      <td>0.380000</td>\n",
       "      <td>1.000000</td>\n",
       "      <td>300.000000</td>\n",
       "      <td>0.000000</td>\n",
       "    </tr>\n",
       "    <tr>\n",
       "      <th>75%</th>\n",
       "      <td>345.960000</td>\n",
       "      <td>3.000000</td>\n",
       "      <td>15.000000</td>\n",
       "      <td>1.110000</td>\n",
       "      <td>3.000000</td>\n",
       "      <td>364.000000</td>\n",
       "      <td>2.000000</td>\n",
       "    </tr>\n",
       "    <tr>\n",
       "      <th>max</th>\n",
       "      <td>365378.080000</td>\n",
       "      <td>21.000000</td>\n",
       "      <td>617.000000</td>\n",
       "      <td>23.620000</td>\n",
       "      <td>35.000000</td>\n",
       "      <td>365.000000</td>\n",
       "      <td>441.000000</td>\n",
       "    </tr>\n",
       "  </tbody>\n",
       "</table>\n",
       "</div>"
      ],
      "text/plain": [
       "               price  minimum_nights  number_of_reviews  reviews_per_month  \\\n",
       "count    8640.000000     8640.000000        8640.000000        5534.000000   \n",
       "mean      536.800344        2.747222          17.053588           0.865390   \n",
       "std      5861.117633        2.895445          38.803109           1.314981   \n",
       "min         0.000000        1.000000           0.000000           0.010000   \n",
       "25%       140.350000        1.000000           0.000000           0.100000   \n",
       "50%       232.280000        2.000000           2.000000           0.380000   \n",
       "75%       345.960000        3.000000          15.000000           1.110000   \n",
       "max    365378.080000       21.000000         617.000000          23.620000   \n",
       "\n",
       "       calculated_host_listings_count  availability_365  number_of_reviews_ltm  \n",
       "count                     8640.000000       8640.000000            8640.000000  \n",
       "mean                         2.998843        246.376852               3.987616  \n",
       "std                          4.365732        126.775223              12.700225  \n",
       "min                          1.000000          0.000000               0.000000  \n",
       "25%                          1.000000        139.000000               0.000000  \n",
       "50%                          1.000000        300.000000               0.000000  \n",
       "75%                          3.000000        364.000000               2.000000  \n",
       "max                         35.000000        365.000000             441.000000  "
      ]
     },
     "execution_count": 19,
     "metadata": {},
     "output_type": "execute_result"
    }
   ],
   "source": [
    "describe_colunas_numericas_selecionadas(df3)"
   ]
  },
  {
   "cell_type": "code",
   "execution_count": 20,
   "metadata": {},
   "outputs": [
    {
     "name": "stdout",
     "output_type": "stream",
     "text": [
      "\n",
      "Existem 4 com quantidade mínima de noites maior que nossa necessidade, representando 0.04% de nossos dados.\n",
      "Essas linhas serão deletadas a seguir, e um novo histograma será mostrado.\n",
      "\n"
     ]
    }
   ],
   "source": [
    "locais_price_menor_um = df.query('price <= 1').id.count()\n",
    "percentual_locais_price_menor_um = round(locais_price_menor_um / linhas * 100,2)\n",
    "print(f'''\n",
    "Existem {locais_price_menor_um} com quantidade mínima de noites maior que nossa necessidade, representando {percentual_locais_price_menor_um}% de nossos dados.\n",
    "Essas linhas serão deletadas a seguir, e um novo histograma será mostrado.\n",
    "''')"
   ]
  },
  {
   "cell_type": "code",
   "execution_count": 21,
   "metadata": {},
   "outputs": [
    {
     "data": {
      "image/png": "[encoded data removed]",
      "text/plain": [
       "<Figure size 1296x288 with 2 Axes>"
      ]
     },
     "metadata": {
      "needs_background": "light"
     },
     "output_type": "display_data"
    }
   ],
   "source": [
    "df4 = df3.query('price > 1')\n",
    "histograma(df4[['price', 'minimum_nights']], (18,4))"
   ]
  },
  {
   "cell_type": "code",
   "execution_count": 22,
   "metadata": {},
   "outputs": [
    {
     "data": {
      "text/html": [
       "<div>\n",
       "<style scoped>\n",
       "    .dataframe tbody tr th:only-of-type {\n",
       "        vertical-align: middle;\n",
       "    }\n",
       "\n",
       "    .dataframe tbody tr th {\n",
       "        vertical-align: top;\n",
       "    }\n",
       "\n",
       "    .dataframe thead th {\n",
       "        text-align: right;\n",
       "    }\n",
       "</style>\n",
       "<table border=\"1\" class=\"dataframe\">\n",
       "  <thead>\n",
       "    <tr style=\"text-align: right;\">\n",
       "      <th></th>\n",
       "      <th>price</th>\n",
       "      <th>minimum_nights</th>\n",
       "      <th>number_of_reviews</th>\n",
       "      <th>reviews_per_month</th>\n",
       "      <th>calculated_host_listings_count</th>\n",
       "      <th>availability_365</th>\n",
       "      <th>number_of_reviews_ltm</th>\n",
       "    </tr>\n",
       "  </thead>\n",
       "  <tbody>\n",
       "    <tr>\n",
       "      <th>count</th>\n",
       "      <td>8636.000000</td>\n",
       "      <td>8636.000000</td>\n",
       "      <td>8636.000000</td>\n",
       "      <td>5532.000000</td>\n",
       "      <td>8636.000000</td>\n",
       "      <td>8636.000000</td>\n",
       "      <td>8636.000000</td>\n",
       "    </tr>\n",
       "    <tr>\n",
       "      <th>mean</th>\n",
       "      <td>537.048879</td>\n",
       "      <td>2.747800</td>\n",
       "      <td>17.060329</td>\n",
       "      <td>0.865665</td>\n",
       "      <td>2.999189</td>\n",
       "      <td>246.396480</td>\n",
       "      <td>3.989463</td>\n",
       "    </tr>\n",
       "    <tr>\n",
       "      <th>std</th>\n",
       "      <td>5862.463621</td>\n",
       "      <td>2.895931</td>\n",
       "      <td>38.810745</td>\n",
       "      <td>1.315139</td>\n",
       "      <td>4.366464</td>\n",
       "      <td>126.752255</td>\n",
       "      <td>12.702876</td>\n",
       "    </tr>\n",
       "    <tr>\n",
       "      <th>min</th>\n",
       "      <td>46.250000</td>\n",
       "      <td>1.000000</td>\n",
       "      <td>0.000000</td>\n",
       "      <td>0.010000</td>\n",
       "      <td>1.000000</td>\n",
       "      <td>0.000000</td>\n",
       "      <td>0.000000</td>\n",
       "    </tr>\n",
       "    <tr>\n",
       "      <th>25%</th>\n",
       "      <td>140.530000</td>\n",
       "      <td>1.000000</td>\n",
       "      <td>0.000000</td>\n",
       "      <td>0.100000</td>\n",
       "      <td>1.000000</td>\n",
       "      <td>139.000000</td>\n",
       "      <td>0.000000</td>\n",
       "    </tr>\n",
       "    <tr>\n",
       "      <th>50%</th>\n",
       "      <td>232.465000</td>\n",
       "      <td>2.000000</td>\n",
       "      <td>2.000000</td>\n",
       "      <td>0.380000</td>\n",
       "      <td>1.000000</td>\n",
       "      <td>300.000000</td>\n",
       "      <td>0.000000</td>\n",
       "    </tr>\n",
       "    <tr>\n",
       "      <th>75%</th>\n",
       "      <td>345.960000</td>\n",
       "      <td>3.000000</td>\n",
       "      <td>15.000000</td>\n",
       "      <td>1.110000</td>\n",
       "      <td>3.000000</td>\n",
       "      <td>364.000000</td>\n",
       "      <td>2.000000</td>\n",
       "    </tr>\n",
       "    <tr>\n",
       "      <th>max</th>\n",
       "      <td>365378.080000</td>\n",
       "      <td>21.000000</td>\n",
       "      <td>617.000000</td>\n",
       "      <td>23.620000</td>\n",
       "      <td>35.000000</td>\n",
       "      <td>365.000000</td>\n",
       "      <td>441.000000</td>\n",
       "    </tr>\n",
       "  </tbody>\n",
       "</table>\n",
       "</div>"
      ],
      "text/plain": [
       "               price  minimum_nights  number_of_reviews  reviews_per_month  \\\n",
       "count    8636.000000     8636.000000        8636.000000        5532.000000   \n",
       "mean      537.048879        2.747800          17.060329           0.865665   \n",
       "std      5862.463621        2.895931          38.810745           1.315139   \n",
       "min        46.250000        1.000000           0.000000           0.010000   \n",
       "25%       140.530000        1.000000           0.000000           0.100000   \n",
       "50%       232.465000        2.000000           2.000000           0.380000   \n",
       "75%       345.960000        3.000000          15.000000           1.110000   \n",
       "max    365378.080000       21.000000         617.000000          23.620000   \n",
       "\n",
       "       calculated_host_listings_count  availability_365  number_of_reviews_ltm  \n",
       "count                     8636.000000       8636.000000            8636.000000  \n",
       "mean                         2.999189        246.396480               3.989463  \n",
       "std                          4.366464        126.752255              12.702876  \n",
       "min                          1.000000          0.000000               0.000000  \n",
       "25%                          1.000000        139.000000               0.000000  \n",
       "50%                          1.000000        300.000000               0.000000  \n",
       "75%                          3.000000        364.000000               2.000000  \n",
       "max                         35.000000        365.000000             441.000000  "
      ]
     },
     "execution_count": 22,
     "metadata": {},
     "output_type": "execute_result"
    }
   ],
   "source": [
    "describe_colunas_numericas_selecionadas(df4)"
   ]
  },
  {
   "cell_type": "markdown",
   "metadata": {},
   "source": [
    "> Vimos nos gráficos anteriores que existem alguns valores altos, e vamos verificar a seguir qual a linha de corte ideal de nosso dataset.\n",
    "> \n",
    "> Vamos dividir em 50 percentis, e expurgar os imóveis com preço acima do maior percentil."
   ]
  },
  {
   "cell_type": "code",
   "execution_count": 23,
   "metadata": {},
   "outputs": [
    {
     "data": {
      "image/png": "[encoded data removed]",
      "text/plain": [
       "<Figure size 1296x288 with 2 Axes>"
      ]
     },
     "metadata": {
      "needs_background": "light"
     },
     "output_type": "display_data"
    }
   ],
   "source": [
    "# Identificando os percentis\n",
    "# Usamos 50 frações\n",
    "# Vamos expurgar 2% maiores valores medianos\n",
    "max_mediana_50 = np.percentile(list(df4.price), np.arange(0, 100, 2)).max()\n",
    "df5 = df4.query('price < @max_mediana_50')\n",
    "histograma(df4[['price', 'minimum_nights']], (18,4))"
   ]
  },
  {
   "cell_type": "code",
   "execution_count": 24,
   "metadata": {},
   "outputs": [
    {
     "data": {
      "text/html": [
       "<div>\n",
       "<style scoped>\n",
       "    .dataframe tbody tr th:only-of-type {\n",
       "        vertical-align: middle;\n",
       "    }\n",
       "\n",
       "    .dataframe tbody tr th {\n",
       "        vertical-align: top;\n",
       "    }\n",
       "\n",
       "    .dataframe thead th {\n",
       "        text-align: right;\n",
       "    }\n",
       "</style>\n",
       "<table border=\"1\" class=\"dataframe\">\n",
       "  <thead>\n",
       "    <tr style=\"text-align: right;\">\n",
       "      <th></th>\n",
       "      <th>price</th>\n",
       "      <th>minimum_nights</th>\n",
       "      <th>number_of_reviews</th>\n",
       "      <th>reviews_per_month</th>\n",
       "      <th>calculated_host_listings_count</th>\n",
       "      <th>availability_365</th>\n",
       "      <th>number_of_reviews_ltm</th>\n",
       "    </tr>\n",
       "  </thead>\n",
       "  <tbody>\n",
       "    <tr>\n",
       "      <th>count</th>\n",
       "      <td>8462.000000</td>\n",
       "      <td>8462.00000</td>\n",
       "      <td>8462.000000</td>\n",
       "      <td>5430.000000</td>\n",
       "      <td>8462.000000</td>\n",
       "      <td>8462.000000</td>\n",
       "      <td>8462.000000</td>\n",
       "    </tr>\n",
       "    <tr>\n",
       "      <th>mean</th>\n",
       "      <td>307.522797</td>\n",
       "      <td>2.73706</td>\n",
       "      <td>17.315765</td>\n",
       "      <td>0.877508</td>\n",
       "      <td>3.010281</td>\n",
       "      <td>246.120893</td>\n",
       "      <td>4.060978</td>\n",
       "    </tr>\n",
       "    <tr>\n",
       "      <th>std</th>\n",
       "      <td>305.199436</td>\n",
       "      <td>2.89896</td>\n",
       "      <td>39.149129</td>\n",
       "      <td>1.324069</td>\n",
       "      <td>4.371855</td>\n",
       "      <td>126.815785</td>\n",
       "      <td>12.821875</td>\n",
       "    </tr>\n",
       "    <tr>\n",
       "      <th>min</th>\n",
       "      <td>46.250000</td>\n",
       "      <td>1.00000</td>\n",
       "      <td>0.000000</td>\n",
       "      <td>0.010000</td>\n",
       "      <td>1.000000</td>\n",
       "      <td>0.000000</td>\n",
       "      <td>0.000000</td>\n",
       "    </tr>\n",
       "    <tr>\n",
       "      <th>25%</th>\n",
       "      <td>139.500000</td>\n",
       "      <td>1.00000</td>\n",
       "      <td>0.000000</td>\n",
       "      <td>0.100000</td>\n",
       "      <td>1.000000</td>\n",
       "      <td>137.250000</td>\n",
       "      <td>0.000000</td>\n",
       "    </tr>\n",
       "    <tr>\n",
       "      <th>50%</th>\n",
       "      <td>224.850000</td>\n",
       "      <td>2.00000</td>\n",
       "      <td>2.000000</td>\n",
       "      <td>0.400000</td>\n",
       "      <td>1.000000</td>\n",
       "      <td>300.000000</td>\n",
       "      <td>0.000000</td>\n",
       "    </tr>\n",
       "    <tr>\n",
       "      <th>75%</th>\n",
       "      <td>337.270000</td>\n",
       "      <td>3.00000</td>\n",
       "      <td>15.000000</td>\n",
       "      <td>1.140000</td>\n",
       "      <td>3.000000</td>\n",
       "      <td>364.000000</td>\n",
       "      <td>2.000000</td>\n",
       "    </tr>\n",
       "    <tr>\n",
       "      <th>max</th>\n",
       "      <td>2233.890000</td>\n",
       "      <td>21.00000</td>\n",
       "      <td>617.000000</td>\n",
       "      <td>23.620000</td>\n",
       "      <td>35.000000</td>\n",
       "      <td>365.000000</td>\n",
       "      <td>441.000000</td>\n",
       "    </tr>\n",
       "  </tbody>\n",
       "</table>\n",
       "</div>"
      ],
      "text/plain": [
       "             price  minimum_nights  number_of_reviews  reviews_per_month  \\\n",
       "count  8462.000000      8462.00000        8462.000000        5430.000000   \n",
       "mean    307.522797         2.73706          17.315765           0.877508   \n",
       "std     305.199436         2.89896          39.149129           1.324069   \n",
       "min      46.250000         1.00000           0.000000           0.010000   \n",
       "25%     139.500000         1.00000           0.000000           0.100000   \n",
       "50%     224.850000         2.00000           2.000000           0.400000   \n",
       "75%     337.270000         3.00000          15.000000           1.140000   \n",
       "max    2233.890000        21.00000         617.000000          23.620000   \n",
       "\n",
       "       calculated_host_listings_count  availability_365  number_of_reviews_ltm  \n",
       "count                     8462.000000       8462.000000            8462.000000  \n",
       "mean                         3.010281        246.120893               4.060978  \n",
       "std                          4.371855        126.815785              12.821875  \n",
       "min                          1.000000          0.000000               0.000000  \n",
       "25%                          1.000000        137.250000               0.000000  \n",
       "50%                          1.000000        300.000000               0.000000  \n",
       "75%                          3.000000        364.000000               2.000000  \n",
       "max                         35.000000        365.000000             441.000000  "
      ]
     },
     "execution_count": 24,
     "metadata": {},
     "output_type": "execute_result"
    }
   ],
   "source": [
    "describe_colunas_numericas_selecionadas(df5)"
   ]
  },
  {
   "cell_type": "code",
   "execution_count": 25,
   "metadata": {},
   "outputs": [
    {
     "data": {
      "image/png": "[encoded data removed]",
      "text/plain": [
       "<Figure size 1296x288 with 1 Axes>"
      ]
     },
     "metadata": {
      "needs_background": "light"
     },
     "output_type": "display_data"
    }
   ],
   "source": [
    "df5.boxplot(column=['price'], \n",
    "            vert=False, \n",
    "            figsize=(18, 4)\n",
    "           );"
   ]
  },
  {
   "cell_type": "code",
   "execution_count": 26,
   "metadata": {},
   "outputs": [
    {
     "data": {
      "image/png": "[encoded data removed]",
      "text/plain": [
       "<Figure size 1296x288 with 1 Axes>"
      ]
     },
     "metadata": {
      "needs_background": "light"
     },
     "output_type": "display_data"
    }
   ],
   "source": [
    "histograma(df5.price, (18,4))"
   ]
  },
  {
   "cell_type": "markdown",
   "metadata": {},
   "source": [
    "> Agora podemos ter maior clareza sobre nossos dados, entendendo a distribuição deles, podemos avançar em nossas analises."
   ]
  },
  {
   "cell_type": "markdown",
   "metadata": {
    "id": "7x4aw1j5wNmn"
   },
   "source": [
    "### 2.4. Qual a média dos preços de aluguel?"
   ]
  },
  {
   "cell_type": "markdown",
   "metadata": {},
   "source": [
    "> Já mostramos na tabela `describe` apresentada algumas células acima, a distribuição de valores, mas, de maneira objetiva e rápida, veja quais são os valores minimo, máximo, médio e mediano constantes na coluna preço."
   ]
  },
  {
   "cell_type": "code",
   "execution_count": 27,
   "metadata": {
    "id": "ff-8gUahLk-C"
   },
   "outputs": [
    {
     "name": "stdout",
     "output_type": "stream",
     "text": [
      "\n",
      "O menor valor é R$...... 46.25\n",
      "O maior valor é R$...... 2233.89\n",
      "O valor médio é R$...... 307.52\n",
      "O valor mediano é R$.... 224.85\n",
      "\n"
     ]
    }
   ],
   "source": [
    "media = df5.price.mean().round(2)\n",
    "mediana = df5.price.median().round(2)\n",
    "maior = df5.price.max().round(2)\n",
    "menor = df5.price.min().round(2)\n",
    "\n",
    "print(f'''\n",
    "O menor valor é R$...... {menor}\n",
    "O maior valor é R$...... {maior}\n",
    "O valor médio é R$...... {media}\n",
    "O valor mediano é R$.... {mediana}\n",
    "''')"
   ]
  },
  {
   "cell_type": "markdown",
   "metadata": {
    "id": "IXn2oIo5qx-w"
   },
   "source": [
    "### 2.5. Qual a correlação existente entre as variáveis?"
   ]
  },
  {
   "cell_type": "markdown",
   "metadata": {},
   "source": [
    "> Vamos agora analisar a correlação entre todas as variáveis.\n",
    ">\n",
    "> O objetivo aqui é verificar se o incremento em uma variavél impacta em outra, positiva ou negativamente."
   ]
  },
  {
   "cell_type": "code",
   "execution_count": 28,
   "metadata": {
    "id": "x2ayzBajqxyd"
   },
   "outputs": [
    {
     "data": {
      "text/html": [
       "<div>\n",
       "<style scoped>\n",
       "    .dataframe tbody tr th:only-of-type {\n",
       "        vertical-align: middle;\n",
       "    }\n",
       "\n",
       "    .dataframe tbody tr th {\n",
       "        vertical-align: top;\n",
       "    }\n",
       "\n",
       "    .dataframe thead th {\n",
       "        text-align: right;\n",
       "    }\n",
       "</style>\n",
       "<table border=\"1\" class=\"dataframe\">\n",
       "  <thead>\n",
       "    <tr style=\"text-align: right;\">\n",
       "      <th></th>\n",
       "      <th>price</th>\n",
       "      <th>minimum_nights</th>\n",
       "      <th>number_of_reviews</th>\n",
       "      <th>reviews_per_month</th>\n",
       "      <th>calculated_host_listings_count</th>\n",
       "      <th>availability_365</th>\n",
       "      <th>number_of_reviews_ltm</th>\n",
       "    </tr>\n",
       "  </thead>\n",
       "  <tbody>\n",
       "    <tr>\n",
       "      <th>price</th>\n",
       "      <td>1.000000</td>\n",
       "      <td>0.024463</td>\n",
       "      <td>-0.041880</td>\n",
       "      <td>-0.047646</td>\n",
       "      <td>0.085747</td>\n",
       "      <td>0.029359</td>\n",
       "      <td>-0.020628</td>\n",
       "    </tr>\n",
       "    <tr>\n",
       "      <th>minimum_nights</th>\n",
       "      <td>0.024463</td>\n",
       "      <td>1.000000</td>\n",
       "      <td>-0.016022</td>\n",
       "      <td>-0.113367</td>\n",
       "      <td>-0.077598</td>\n",
       "      <td>-0.099881</td>\n",
       "      <td>-0.077315</td>\n",
       "    </tr>\n",
       "    <tr>\n",
       "      <th>number_of_reviews</th>\n",
       "      <td>-0.041880</td>\n",
       "      <td>-0.016022</td>\n",
       "      <td>1.000000</td>\n",
       "      <td>0.664938</td>\n",
       "      <td>0.062858</td>\n",
       "      <td>-0.076084</td>\n",
       "      <td>0.646504</td>\n",
       "    </tr>\n",
       "    <tr>\n",
       "      <th>reviews_per_month</th>\n",
       "      <td>-0.047646</td>\n",
       "      <td>-0.113367</td>\n",
       "      <td>0.664938</td>\n",
       "      <td>1.000000</td>\n",
       "      <td>0.132380</td>\n",
       "      <td>-0.009956</td>\n",
       "      <td>0.754154</td>\n",
       "    </tr>\n",
       "    <tr>\n",
       "      <th>calculated_host_listings_count</th>\n",
       "      <td>0.085747</td>\n",
       "      <td>-0.077598</td>\n",
       "      <td>0.062858</td>\n",
       "      <td>0.132380</td>\n",
       "      <td>1.000000</td>\n",
       "      <td>0.056270</td>\n",
       "      <td>0.133588</td>\n",
       "    </tr>\n",
       "    <tr>\n",
       "      <th>availability_365</th>\n",
       "      <td>0.029359</td>\n",
       "      <td>-0.099881</td>\n",
       "      <td>-0.076084</td>\n",
       "      <td>-0.009956</td>\n",
       "      <td>0.056270</td>\n",
       "      <td>1.000000</td>\n",
       "      <td>-0.015901</td>\n",
       "    </tr>\n",
       "    <tr>\n",
       "      <th>number_of_reviews_ltm</th>\n",
       "      <td>-0.020628</td>\n",
       "      <td>-0.077315</td>\n",
       "      <td>0.646504</td>\n",
       "      <td>0.754154</td>\n",
       "      <td>0.133588</td>\n",
       "      <td>-0.015901</td>\n",
       "      <td>1.000000</td>\n",
       "    </tr>\n",
       "  </tbody>\n",
       "</table>\n",
       "</div>"
      ],
      "text/plain": [
       "                                   price  minimum_nights  number_of_reviews  \\\n",
       "price                           1.000000        0.024463          -0.041880   \n",
       "minimum_nights                  0.024463        1.000000          -0.016022   \n",
       "number_of_reviews              -0.041880       -0.016022           1.000000   \n",
       "reviews_per_month              -0.047646       -0.113367           0.664938   \n",
       "calculated_host_listings_count  0.085747       -0.077598           0.062858   \n",
       "availability_365                0.029359       -0.099881          -0.076084   \n",
       "number_of_reviews_ltm          -0.020628       -0.077315           0.646504   \n",
       "\n",
       "                                reviews_per_month  \\\n",
       "price                                   -0.047646   \n",
       "minimum_nights                          -0.113367   \n",
       "number_of_reviews                        0.664938   \n",
       "reviews_per_month                        1.000000   \n",
       "calculated_host_listings_count           0.132380   \n",
       "availability_365                        -0.009956   \n",
       "number_of_reviews_ltm                    0.754154   \n",
       "\n",
       "                                calculated_host_listings_count  \\\n",
       "price                                                 0.085747   \n",
       "minimum_nights                                       -0.077598   \n",
       "number_of_reviews                                     0.062858   \n",
       "reviews_per_month                                     0.132380   \n",
       "calculated_host_listings_count                        1.000000   \n",
       "availability_365                                      0.056270   \n",
       "number_of_reviews_ltm                                 0.133588   \n",
       "\n",
       "                                availability_365  number_of_reviews_ltm  \n",
       "price                                   0.029359              -0.020628  \n",
       "minimum_nights                         -0.099881              -0.077315  \n",
       "number_of_reviews                      -0.076084               0.646504  \n",
       "reviews_per_month                      -0.009956               0.754154  \n",
       "calculated_host_listings_count          0.056270               0.133588  \n",
       "availability_365                        1.000000              -0.015901  \n",
       "number_of_reviews_ltm                  -0.015901               1.000000  "
      ]
     },
     "execution_count": 28,
     "metadata": {},
     "output_type": "execute_result"
    }
   ],
   "source": [
    "correlacao = df5[variaveis].corr()\n",
    "correlacao"
   ]
  },
  {
   "cell_type": "code",
   "execution_count": 29,
   "metadata": {
    "id": "91UujDr6ueqE",
    "scrolled": true
   },
   "outputs": [
    {
     "data": {
      "image/png": "[encoded data removed]",
      "text/plain": [
       "<Figure size 432x288 with 2 Axes>"
      ]
     },
     "metadata": {
      "needs_background": "light"
     },
     "output_type": "display_data"
    }
   ],
   "source": [
    "sns.heatmap(correlacao,\n",
    "            cmap='Blues',\n",
    "            annot=True\n",
    "           );"
   ]
  },
  {
   "cell_type": "markdown",
   "metadata": {},
   "source": [
    "> Analisando os dados acima, podemos ver que existe **SOMENTE** correlação nas variáveis que demonstram se houve avaliação."
   ]
  },
  {
   "cell_type": "markdown",
   "metadata": {
    "id": "7b6RMWpuHKN-"
   },
   "source": [
    "### 2.6. Qual o Tipo de imóvel mais alugado no Airbnb?"
   ]
  },
  {
   "cell_type": "markdown",
   "metadata": {},
   "source": [
    "> Dependendo do tipo de imóvel, você pode acondicionar mais ou menos pessoas, e por sua vez, dividir as custas por \"cabeça\".\n",
    ">\n",
    "> Na tabela a seguir apresentamos por ordem decrescente a quantidade de quartos, e o percentual do total de quartos:"
   ]
  },
  {
   "cell_type": "code",
   "execution_count": 30,
   "metadata": {},
   "outputs": [
    {
     "data": {
      "text/html": [
       "<div>\n",
       "<style scoped>\n",
       "    .dataframe tbody tr th:only-of-type {\n",
       "        vertical-align: middle;\n",
       "    }\n",
       "\n",
       "    .dataframe tbody tr th {\n",
       "        vertical-align: top;\n",
       "    }\n",
       "\n",
       "    .dataframe thead th {\n",
       "        text-align: right;\n",
       "    }\n",
       "</style>\n",
       "<table border=\"1\" class=\"dataframe\">\n",
       "  <thead>\n",
       "    <tr style=\"text-align: right;\">\n",
       "      <th></th>\n",
       "      <th>qtd_quartos</th>\n",
       "      <th>perc</th>\n",
       "    </tr>\n",
       "  </thead>\n",
       "  <tbody>\n",
       "    <tr>\n",
       "      <th>Entire home/apt</th>\n",
       "      <td>4681</td>\n",
       "      <td>55.32</td>\n",
       "    </tr>\n",
       "    <tr>\n",
       "      <th>Private room</th>\n",
       "      <td>3499</td>\n",
       "      <td>41.35</td>\n",
       "    </tr>\n",
       "    <tr>\n",
       "      <th>Shared room</th>\n",
       "      <td>184</td>\n",
       "      <td>2.17</td>\n",
       "    </tr>\n",
       "    <tr>\n",
       "      <th>Hotel room</th>\n",
       "      <td>98</td>\n",
       "      <td>1.16</td>\n",
       "    </tr>\n",
       "  </tbody>\n",
       "</table>\n",
       "</div>"
      ],
      "text/plain": [
       "                 qtd_quartos   perc\n",
       "Entire home/apt         4681  55.32\n",
       "Private room            3499  41.35\n",
       "Shared room              184   2.17\n",
       "Hotel room                98   1.16"
      ]
     },
     "execution_count": 30,
     "metadata": {},
     "output_type": "execute_result"
    }
   ],
   "source": [
    "tipos = pd.DataFrame(df5.room_type.value_counts())\n",
    "tipos = tipos.rename(columns={'room_type':'qtd_quartos'})\n",
    "tipos['perc'] = round(   tipos['qtd_quartos'] / df5.shape[0] * 100   ,2)\n",
    "tipos"
   ]
  },
  {
   "cell_type": "markdown",
   "metadata": {},
   "source": [
    "> Mais da metade dos imóveis são apartamentos inteiros, mas não temos informação no número de quartos e/ou camas no dataset, dificultando a analise nesse ponto."
   ]
  },
  {
   "cell_type": "markdown",
   "metadata": {
    "id": "MFa5NbnLJMcd"
   },
   "source": [
    "### **2.7. Qual a localidade mais cara do dataset?**\n",
    "\n"
   ]
  },
  {
   "cell_type": "markdown",
   "metadata": {},
   "source": [
    "> Necessitamos saber aonde está o centro da distribuição de valores de preços cobrados por imóveis, mas, vamos agrupar por `neighbourhood` (bairro), para podermos ter uma ideia melhor sobre os preços."
   ]
  },
  {
   "cell_type": "code",
   "execution_count": 31,
   "metadata": {
    "id": "MD_xa143JZpi"
   },
   "outputs": [
    {
     "data": {
      "text/html": [
       "<div>\n",
       "<style scoped>\n",
       "    .dataframe tbody tr th:only-of-type {\n",
       "        vertical-align: middle;\n",
       "    }\n",
       "\n",
       "    .dataframe tbody tr th {\n",
       "        vertical-align: top;\n",
       "    }\n",
       "\n",
       "    .dataframe thead th {\n",
       "        text-align: right;\n",
       "    }\n",
       "</style>\n",
       "<table border=\"1\" class=\"dataframe\">\n",
       "  <thead>\n",
       "    <tr style=\"text-align: right;\">\n",
       "      <th></th>\n",
       "      <th>preco_mediano</th>\n",
       "      <th>qtd_imoveis</th>\n",
       "    </tr>\n",
       "    <tr>\n",
       "      <th>neighbourhood</th>\n",
       "      <th></th>\n",
       "      <th></th>\n",
       "    </tr>\n",
       "  </thead>\n",
       "  <tbody>\n",
       "    <tr>\n",
       "      <th>Lo Barnechea</th>\n",
       "      <td>1210.850</td>\n",
       "      <td>401.0</td>\n",
       "    </tr>\n",
       "    <tr>\n",
       "      <th>Lo Espejo</th>\n",
       "      <td>358.320</td>\n",
       "      <td>2.0</td>\n",
       "    </tr>\n",
       "    <tr>\n",
       "      <th>Las Condes</th>\n",
       "      <td>297.520</td>\n",
       "      <td>1340.0</td>\n",
       "    </tr>\n",
       "    <tr>\n",
       "      <th>Vitacura</th>\n",
       "      <td>281.060</td>\n",
       "      <td>207.0</td>\n",
       "    </tr>\n",
       "    <tr>\n",
       "      <th>Cerro Navia</th>\n",
       "      <td>276.770</td>\n",
       "      <td>7.0</td>\n",
       "    </tr>\n",
       "    <tr>\n",
       "      <th>Providencia</th>\n",
       "      <td>252.960</td>\n",
       "      <td>1618.0</td>\n",
       "    </tr>\n",
       "    <tr>\n",
       "      <th>Pudahuel</th>\n",
       "      <td>242.170</td>\n",
       "      <td>57.0</td>\n",
       "    </tr>\n",
       "    <tr>\n",
       "      <th>Huechuraba</th>\n",
       "      <td>209.155</td>\n",
       "      <td>42.0</td>\n",
       "    </tr>\n",
       "    <tr>\n",
       "      <th>Recoleta</th>\n",
       "      <td>207.570</td>\n",
       "      <td>215.0</td>\n",
       "    </tr>\n",
       "    <tr>\n",
       "      <th>Santiago</th>\n",
       "      <td>207.570</td>\n",
       "      <td>2906.0</td>\n",
       "    </tr>\n",
       "  </tbody>\n",
       "</table>\n",
       "</div>"
      ],
      "text/plain": [
       "               preco_mediano  qtd_imoveis\n",
       "neighbourhood                            \n",
       "Lo Barnechea        1210.850        401.0\n",
       "Lo Espejo            358.320          2.0\n",
       "Las Condes           297.520       1340.0\n",
       "Vitacura             281.060        207.0\n",
       "Cerro Navia          276.770          7.0\n",
       "Providencia          252.960       1618.0\n",
       "Pudahuel             242.170         57.0\n",
       "Huechuraba           209.155         42.0\n",
       "Recoleta             207.570        215.0\n",
       "Santiago             207.570       2906.0"
      ]
     },
     "execution_count": 31,
     "metadata": {},
     "output_type": "execute_result"
    }
   ],
   "source": [
    "# criando as duas colunas de nossa nova tabela\n",
    "bairros_mais_caros_mediana = df5.groupby(['neighbourhood']).price.median()\n",
    "bairros_mais_caros_qtd = df5.groupby(['neighbourhood']).id.count()\n",
    "\n",
    "# criando uma tabela, com duas colunas e indice em comum\n",
    "bairros_tabela = pd.DataFrame([bairros_mais_caros_mediana, bairros_mais_caros_qtd]).T\n",
    "\n",
    "# Ordenando preços do maior para o menor\n",
    "bairros_tabela = bairros_tabela.sort_values(by='price', ascending=False)\n",
    "\n",
    "# Renomeando colunas\n",
    "bairros_tabela = bairros_tabela.rename(columns={'price': 'preco_mediano', 'id':'qtd_imoveis'})\n",
    "\n",
    "# Selecionando as 10 primeiras linhas\n",
    "bairros_tabela.head(10)"
   ]
  },
  {
   "cell_type": "code",
   "execution_count": 32,
   "metadata": {},
   "outputs": [
    {
     "name": "stdout",
     "output_type": "stream",
     "text": [
      "-------------------------------------------------- \n",
      "O bairro mais caro de nosso dataset é Lo Barnechea,\n",
      "com o preço mediano de 1210.85,\n",
      "e com 401.0 imóveis disponíveis.\n",
      " --------------------------------------------------\n"
     ]
    }
   ],
   "source": [
    "bairro_caro    = bairros_tabela.iloc[[0]].index[0]\n",
    "bairro_caro_pm = bairros_tabela.iloc[[0]]['preco_mediano'][0]\n",
    "bairro_caro_qt = bairros_tabela.iloc[[0]]['qtd_imoveis'][0]\n",
    "\n",
    "print('-'*50,\n",
    "\n",
    "f'''\n",
    "O bairro mais caro de nosso dataset é {bairro_caro},\n",
    "com o preço mediano de {bairro_caro_pm},\n",
    "e com {bairro_caro_qt} imóveis disponíveis.\n",
    "''',\n",
    "\n",
    "'-'*50)"
   ]
  },
  {
   "cell_type": "markdown",
   "metadata": {},
   "source": [
    "### **2.8. Aonde estão os imóveis no MAPA?**\n",
    "\n"
   ]
  },
  {
   "cell_type": "markdown",
   "metadata": {},
   "source": [
    "> Para facilitar nossa localização no mapa, vamos visualizar os os imóveis, em escala de calor, ou seja, quando mais próximo ao vernmelho, maior a quantidade de imóveis disponíveis."
   ]
  },
  {
   "cell_type": "code",
   "execution_count": 44,
   "metadata": {},
   "outputs": [],
   "source": [
    "import folium\n",
    "from folium.plugins import HeatMap"
   ]
  },
  {
   "cell_type": "code",
   "execution_count": 55,
   "metadata": {
    "id": "UxVJqJ_3W59I"
   },
   "outputs": [
    {
     "data": {
      "text/html": [
       "<div style=\"width:100%;\"><div style=\"position:relative;width:100%;height:0;padding-bottom:60%;\"><span style=\"color:#565656\">Make this Notebook Trusted to load map: File -> Trust Notebook</span><iframe src=\"about:blank\" style=\"position:absolute;width:100%;height:100%;left:0;top:0;border:none !important;\" data-html=%3C%21DOCTYPE%20html%3E%0A%3Chead%3E%20%20%20%20%0A%20%20%20%20%3Cmeta%20http-equiv%3D%22content-type%22%20content%3D%22text/html%3B%20charset%3DUTF-8%22%20/%3E%0A%20%20%20%20%0A%20%20%20%20%20%20%20%20%3Cscript%3E%0A%20%20%20%20%20%20%20%20%20%20%20%20L_NO_TOUCH%20%3D%20false%3B%0A%20%20%20%20%20%20%20%20%20%20%20%20L_DISABLE_3D%20%3D%20false%3B%0A%20%20%20%20%20%20%20%20%3C/script%3E%0A%20%20%20%20%0A%20%20%20%20%3Cstyle%3Ehtml%2C%20body%20%7Bwidth%3A%20100%25%3Bheight%3A%20100%25%3Bmargin%3A%200%3Bpadding%3A%200%3B%7D%3C/style%3E%0A%20%20%20%20%3Cstyle%3E%23map%20%7Bposition%3Aabsolute%3Btop%3A0%3Bbottom%3A0%3Bright%3A0%3Bleft%3A0%3B%7D%3C/style%3E%0A%20%20%20%20%3Cscript%20src%3D%22https%3A//cdn.jsdelivr.net/npm/leaflet%401.6.0/dist/leaflet.js%22%3E%3C/script%3E%0A%20%20%20%20%3Cscript%20src%3D%22https%3A//code.jquery.com/jquery-1.12.4.min.js%22%3E%3C/script%3E%0A%20%20%20%20%3Cscript%20src%3D%22https%3A//maxcdn.bootstrapcdn.com/bootstrap/3.2.0/js/bootstrap.min.js%22%3E%3C/script%3E%0A%20%20%20%20%3Cscript%20src%3D%22https%3A//cdnjs.cloudflare.com/ajax/libs/Leaflet.awesome-markers/2.0.2/leaflet.awesome-markers.js%22%3E%3C/script%3E%0A%20%20%20%20%3Clink%20rel%3D%22stylesheet%22%20href%3D%22https%3A//cdn.jsdelivr.net/npm/leaflet%401.6.0/dist/leaflet.css%22/%3E%0A%20%20%20%20%3Clink%20rel%3D%22stylesheet%22%20href%3D%22https%3A//maxcdn.bootstrapcdn.com/bootstrap/3.2.0/css/bootstrap.min.css%22/%3E%0A%20%20%20%20%3Clink%20rel%3D%22stylesheet%22%20href%3D%22https%3A//maxcdn.bootstrapcdn.com/bootstrap/3.2.0/css/bootstrap-theme.min.css%22/%3E%0A%20%20%20%20%3Clink%20rel%3D%22stylesheet%22%20href%3D%22https%3A//maxcdn.bootstrapcdn.com/font-awesome/4.6.3/css/font-awesome.min.css%22/%3E%0A%20%20%20%20%3Clink%20rel%3D%22stylesheet%22%20href%3D%22https%3A//cdnjs.cloudflare.com/ajax/libs/Leaflet.awesome-markers/2.0.2/leaflet.awesome-markers.css%22/%3E%0A%20%20%20%20%3Clink%20rel%3D%22stylesheet%22%20href%3D%22https%3A//cdn.jsdelivr.net/gh/python-visualization/folium/folium/templates/leaflet.awesome.rotate.min.css%22/%3E%0A%20%20%20%20%0A%20%20%20%20%20%20%20%20%20%20%20%20%3Cmeta%20name%3D%22viewport%22%20content%3D%22width%3Ddevice-width%2C%0A%20%20%20%20%20%20%20%20%20%20%20%20%20%20%20%20initial-scale%3D1.0%2C%20maximum-scale%3D1.0%2C%20user-scalable%3Dno%22%20/%3E%0A%20%20%20%20%20%20%20%20%20%20%20%20%3Cstyle%3E%0A%20%20%20%20%20%20%20%20%20%20%20%20%20%20%20%20%23map_10e439fc6b71485f996630a7585ab192%20%7B%0A%20%20%20%20%20%20%20%20%20%20%20%20%20%20%20%20%20%20%20%20position%3A%20relative%3B%0A%20%20%20%20%20%20%20%20%20%20%20%20%20%20%20%20%20%20%20%20width%3A%20100.0%25%3B%0A%20%20%20%20%20%20%20%20%20%20%20%20%20%20%20%20%20%20%20%20height%3A%20100.0%25%3B%0A%20%20%20%20%20%20%20%20%20%20%20%20%20%20%20%20%20%20%20%20left%3A%200.0%25%3B%0A%20%20%20%20%20%20%20%20%20%20%20%20%20%20%20%20%20%20%20%20top%3A%200.0%25%3B%0A%20%20%20%20%20%20%20%20%20%20%20%20%20%20%20%20%7D%0A%20%20%20%20%20%20%20%20%20%20%20%20%3C/style%3E%0A%20%20%20%20%20%20%20%20%0A%20%20%20%20%3Cscript%20src%3D%22https%3A//cdn.jsdelivr.net/gh/python-visualization/folium%40master/folium/templates/leaflet_heat.min.js%22%3E%3C/script%3E%0A%3C/head%3E%0A%3Cbody%3E%20%20%20%20%0A%20%20%20%20%0A%20%20%20%20%20%20%20%20%20%20%20%20%3Cdiv%20class%3D%22folium-map%22%20id%3D%22map_10e439fc6b71485f996630a7585ab192%22%20%3E%3C/div%3E%0A%20%20%20%20%20%20%20%20%0A%3C/body%3E%0A%3Cscript%3E%20%20%20%20%0A%20%20%20%20%0A%20%20%20%20%20%20%20%20%20%20%20%20var%20map_10e439fc6b71485f996630a7585ab192%20%3D%20L.map%28%0A%20%20%20%20%20%20%20%20%20%20%20%20%20%20%20%20%22map_10e439fc6b71485f996630a7585ab192%22%2C%0A%20%20%20%20%20%20%20%20%20%20%20%20%20%20%20%20%7B%0A%20%20%20%20%20%20%20%20%20%20%20%20%20%20%20%20%20%20%20%20center%3A%20%5B-33.43266%2C%20-70.60072%5D%2C%0A%20%20%20%20%20%20%20%20%20%20%20%20%20%20%20%20%20%20%20%20crs%3A%20L.CRS.EPSG3857%2C%0A%20%20%20%20%20%20%20%20%20%20%20%20%20%20%20%20%20%20%20%20zoom%3A%2010%2C%0A%20%20%20%20%20%20%20%20%20%20%20%20%20%20%20%20%20%20%20%20zoomControl%3A%20true%2C%0A%20%20%20%20%20%20%20%20%20%20%20%20%20%20%20%20%20%20%20%20preferCanvas%3A%20false%2C%0A%20%20%20%20%20%20%20%20%20%20%20%20%20%20%20%20%7D%0A%20%20%20%20%20%20%20%20%20%20%20%20%29%3B%0A%0A%20%20%20%20%20%20%20%20%20%20%20%20%0A%0A%20%20%20%20%20%20%20%20%0A%20%20%20%20%0A%20%20%20%20%20%20%20%20%20%20%20%20var%20tile_layer_82b1699adaeb49029bcbc3909369b9bd%20%3D%20L.tileLayer%28%0A%20%20%20%20%20%20%20%20%20%20%20%20%20%20%20%20%22https%3A//cartodb-basemaps-%7Bs%7D.global.ssl.fastly.net/light_all/%7Bz%7D/%7Bx%7D/%7By%7D.png%22%2C%0A%20%20%20%20%20%20%20%20%20%20%20%20%20%20%20%20%7B%22attribution%22%3A%20%22%5Cu0026copy%3B%20%5Cu003ca%20href%3D%5C%22http%3A//www.openstreetmap.org/copyright%5C%22%5Cu003eOpenStreetMap%5Cu003c/a%5Cu003e%20contributors%20%5Cu0026copy%3B%20%5Cu003ca%20href%3D%5C%22http%3A//cartodb.com/attributions%5C%22%5Cu003eCartoDB%5Cu003c/a%5Cu003e%2C%20CartoDB%20%5Cu003ca%20href%20%3D%5C%22http%3A//cartodb.com/attributions%5C%22%5Cu003eattributions%5Cu003c/a%5Cu003e%22%2C%20%22detectRetina%22%3A%20false%2C%20%22maxNativeZoom%22%3A%2018%2C%20%22maxZoom%22%3A%2018%2C%20%22minZoom%22%3A%200%2C%20%22noWrap%22%3A%20false%2C%20%22opacity%22%3A%201%2C%20%22subdomains%22%3A%20%22abc%22%2C%20%22tms%22%3A%20false%7D%0A%20%20%20%20%20%20%20%20%20%20%20%20%29.addTo%28map_10e439fc6b71485f996630a7585ab192%29%3B%0A%20%20%20%20%20%20%20%20%0A%20%20%20%20%0A%20%20%20%20%20%20%20%20%20%20%20%20var%20heat_map_8a1f1a1e78074a07831ce5fd19d84549%20%3D%20L.heatLayer%28%0A%20%20%20%20%20%20%20%20%20%20%20%20%20%20%20%20%5B%5B-33.43266%2C%20-70.60072%5D%2C%20%5B-33.429590000000005%2C%20-70.6188%5D%2C%20%5B-33.34344%2C%20-70.29432%5D%2C%20%5B-33.4225%2C%20-70.6092%5D%2C%20%5B-33.43049%2C%20-70.64135%5D%2C%20%5B-33.44755%2C%20-70.65298%5D%2C%20%5B-33.43868%2C%20-70.64414000000001%5D%2C%20%5B-33.51918%2C%20-70.59149000000001%5D%2C%20%5B-33.43159%2C%20-70.59201999999999%5D%2C%20%5B-33.45417%2C%20-70.652%5D%2C%20%5B-33.4106%2C%20-70.57523%5D%2C%20%5B-33.4222%2C%20-70.60846%5D%2C%20%5B-33.46315%2C%20-70.62546%5D%2C%20%5B-33.437870000000004%2C%20-70.64081999999999%5D%2C%20%5B-33.4259%2C%20-70.61692%5D%2C%20%5B-33.42864%2C%20-70.62178%5D%2C%20%5B-33.39929%2C%20-70.54542%5D%2C%20%5B-33.43665%2C%20-70.67835%5D%2C%20%5B-33.42532%2C%20-70.58566%5D%2C%20%5B-33.448570000000004%2C%20-70.63874%5D%2C%20%5B-33.43199%2C%20-70.65789000000001%5D%2C%20%5B-33.42645%2C%20-70.56638000000001%5D%2C%20%5B-33.42522%2C%20-70.5656%5D%2C%20%5B-33.43931%2C%20-70.66761%5D%2C%20%5B-33.45086%2C%20-70.61936%5D%2C%20%5B-33.43974%2C%20-70.65493000000001%5D%2C%20%5B-33.43855%2C%20-70.64486%5D%2C%20%5B-33.43022%2C%20-70.60677%5D%2C%20%5B-33.44728%2C%20-70.66767%5D%2C%20%5B-33.43871%2C%20-70.60424%5D%2C%20%5B-33.42361%2C%20-70.63984%5D%2C%20%5B-33.44972%2C%20-70.64641%5D%2C%20%5B-33.41905%2C%20-70.61165%5D%2C%20%5B-33.42015%2C%20-70.55651999999999%5D%2C%20%5B-33.44356%2C%20-70.63505%5D%2C%20%5B-33.43385%2C%20-70.65641%5D%2C%20%5B-33.41121%2C%20-70.58845%5D%2C%20%5B-33.42974%2C%20-70.60432%5D%2C%20%5B-33.42884%2C%20-70.62196%5D%2C%20%5B-33.423429999999996%2C%20-70.60899%5D%2C%20%5B-33.41215%2C%20-70.58929%5D%2C%20%5B-33.44808%2C%20-70.65389%5D%2C%20%5B-33.44522%2C%20-70.54603%5D%2C%20%5B-33.4435%2C%20-70.64535%5D%2C%20%5B-33.36054%2C%20-70.51288000000001%5D%2C%20%5B-33.41433%2C%20-70.58213%5D%2C%20%5B-33.41641%2C%20-70.60231999999999%5D%2C%20%5B-33.46029%2C%20-70.59376999999999%5D%2C%20%5B-33.40294%2C%20-70.54234%5D%2C%20%5B-33.42261%2C%20-70.65958%5D%2C%20%5B-33.435559999999995%2C%20-70.65358%5D%2C%20%5B-33.42458%2C%20-70.63899%5D%2C%20%5B-33.424640000000004%2C%20-70.61539%5D%2C%20%5B-33.44788%2C%20-70.60036%5D%2C%20%5B-33.42217%2C%20-70.64131%5D%2C%20%5B-33.430679999999995%2C%20-70.58566%5D%2C%20%5B-33.44035%2C%20-70.65796999999999%5D%2C%20%5B-33.50096%2C%20-70.6497%5D%2C%20%5B-33.43743%2C%20-70.65687%5D%2C%20%5B-33.43183%2C%20-70.64657%5D%2C%20%5B-33.42552%2C%20-70.61641999999999%5D%2C%20%5B-33.43302%2C%20-70.63583%5D%2C%20%5B-33.42985%2C%20-70.61797%5D%2C%20%5B-33.44808%2C%20-70.63226999999999%5D%2C%20%5B-33.45166%2C%20-70.64546999999999%5D%2C%20%5B-33.45023%2C%20-70.63235999999999%5D%2C%20%5B-33.43356%2C%20-70.63659%5D%2C%20%5B-33.45203%2C%20-70.64978%5D%2C%20%5B-33.44162%2C%20-70.66283%5D%2C%20%5B-33.43978%2C%20-70.66129000000001%5D%2C%20%5B-33.45593%2C%20-70.60941%5D%2C%20%5B-33.42457%2C%20-70.61596999999999%5D%2C%20%5B-33.40065%2C%20-70.5877%5D%2C%20%5B-33.43241%2C%20-70.60866999999999%5D%2C%20%5B-33.42549%2C%20-70.61214%5D%2C%20%5B-33.46075%2C%20-70.62609%5D%2C%20%5B-33.43996%2C%20-70.64398%5D%2C%20%5B-33.4403%2C%20-70.64098%5D%2C%20%5B-33.44412%2C%20-70.64298000000001%5D%2C%20%5B-33.44239%2C%20-70.64469%5D%2C%20%5B-33.40886%2C%20-70.53601%5D%2C%20%5B-33.43215%2C%20-70.63433%5D%2C%20%5B-33.44839%2C%20-70.63717%5D%2C%20%5B-33.42607%2C%20-70.61319%5D%2C%20%5B-33.45264%2C%20-70.61341%5D%2C%20%5B-33.42884%2C%20-70.64283%5D%2C%20%5B-33.44055%2C%20-70.57591%5D%2C%20%5B-33.433659999999996%2C%20-70.63463%5D%2C%20%5B-33.446670000000005%2C%20-70.64298000000001%5D%2C%20%5B-33.43258%2C%20-70.61679000000001%5D%2C%20%5B-33.44314%2C%20-70.60253%5D%2C%20%5B-33.42855%2C%20-70.56594%5D%2C%20%5B-33.43828%2C%20-70.63505%5D%2C%20%5B-33.452659999999995%2C%20-70.66666%5D%2C%20%5B-33.42528%2C%20-70.61945%5D%2C%20%5B-33.43633%2C%20-70.64693%5D%2C%20%5B-33.44498%2C%20-70.64113%5D%2C%20%5B-33.489979999999996%2C%20-70.76472%5D%2C%20%5B-33.43632%2C%20-70.63190999999999%5D%2C%20%5B-33.39653%2C%20-70.5775%5D%2C%20%5B-33.43199%2C%20-70.61636%5D%2C%20%5B-33.44019%2C%20-70.64353%5D%2C%20%5B-33.39839%2C%20-70.58974%5D%2C%20%5B-33.444309999999994%2C%20-70.66853%5D%2C%20%5B-33.41567%2C%20-70.59416999999999%5D%2C%20%5B-33.42151%2C%20-70.64035%5D%2C%20%5B-33.41772%2C%20-70.55736999999999%5D%2C%20%5B-33.35668%2C%20-70.51047%5D%2C%20%5B-33.44324%2C%20-70.65651%5D%2C%20%5B-33.4508%2C%20-70.62406%5D%2C%20%5B-33.4504%2C%20-70.61702%5D%2C%20%5B-33.44989%2C%20-70.61759%5D%2C%20%5B-33.42918%2C%20-70.59036%5D%2C%20%5B-33.42845%2C%20-70.61774%5D%2C%20%5B-33.43615%2C%20-70.64867%5D%2C%20%5B-33.43983%2C%20-70.65949%5D%2C%20%5B-33.43724%2C%20-70.6561%5D%2C%20%5B-33.434509999999996%2C%20-70.62698%5D%2C%20%5B-33.42649%2C%20-70.61570999999999%5D%2C%20%5B-33.438109999999995%2C%20-70.64546999999999%5D%2C%20%5B-33.4262%2C%20-70.61853%5D%2C%20%5B-33.45592%2C%20-70.63256%5D%2C%20%5B-33.42492%2C%20-70.61605%5D%2C%20%5B-33.43799%2C%20-70.6481%5D%2C%20%5B-33.43453%2C%20-70.6354%5D%2C%20%5B-33.43721%2C%20-70.64889000000001%5D%2C%20%5B-33.43602%2C%20-70.64886%5D%2C%20%5B-33.418659999999996%2C%20-70.61126999999999%5D%2C%20%5B-33.41795%2C%20-70.58175%5D%2C%20%5B-33.41773%2C%20-70.61102%5D%2C%20%5B-33.45035%2C%20-70.62776%5D%2C%20%5B-33.45071%2C%20-70.65348%5D%2C%20%5B-33.435959999999994%2C%20-70.65386%5D%2C%20%5B-33.419709999999995%2C%20-70.60915%5D%2C%20%5B-33.44146%2C%20-70.6463%5D%2C%20%5B-33.44481%2C%20-70.6339%5D%2C%20%5B-33.422709999999995%2C%20-70.57536%5D%2C%20%5B-33.4407%2C%20-70.66163%5D%2C%20%5B-33.44583%2C%20-70.65321999999999%5D%2C%20%5B-33.4294%2C%20-70.62609%5D%2C%20%5B-33.43954%2C%20-70.6465%5D%2C%20%5B-33.44404%2C%20-70.64027%5D%2C%20%5B-33.44446%2C%20-70.63271%5D%2C%20%5B-33.4557%2C%20-70.59980999999999%5D%2C%20%5B-33.45534%2C%20-70.5602%5D%2C%20%5B-33.44128%2C%20-70.6563%5D%2C%20%5B-33.4377%2C%20-70.64733000000001%5D%2C%20%5B-33.431509999999996%2C%20-70.65042%5D%2C%20%5B-33.34941%2C%20-70.2936%5D%2C%20%5B-33.42642%2C%20-70.6174%5D%2C%20%5B-33.43998%2C%20-70.64208%5D%2C%20%5B-33.41642%2C%20-70.60251%5D%2C%20%5B-33.455420000000004%2C%20-70.57811%5D%2C%20%5B-33.44908%2C%20-70.63297%5D%2C%20%5B-33.42216%2C%20-70.60945%5D%2C%20%5B-33.43584%2C%20-70.64874%5D%2C%20%5B-33.44288%2C%20-70.64245%5D%2C%20%5B-33.40603%2C%20-70.55853%5D%2C%20%5B-33.43225%2C%20-70.64744%5D%2C%20%5B-33.42283%2C%20-70.5892%5D%2C%20%5B-33.44704%2C%20-70.63606%5D%2C%20%5B-33.439209999999996%2C%20-70.63982%5D%2C%20%5B-33.4325%2C%20-70.61180999999999%5D%2C%20%5B-33.44605%2C%20-70.64771%5D%2C%20%5B-33.44717%2C%20-70.6469%5D%2C%20%5B-33.43959%2C%20-70.6574%5D%2C%20%5B-33.451570000000004%2C%20-70.62674%5D%2C%20%5B-33.442240000000005%2C%20-70.65857%5D%2C%20%5B-33.44101%2C%20-70.66559000000001%5D%2C%20%5B-33.43626%2C%20-70.64759000000001%5D%2C%20%5B-33.441959999999995%2C%20-70.64792%5D%2C%20%5B-33.43545%2C%20-70.65677%5D%2C%20%5B-33.35013%2C%20-70.31404%5D%2C%20%5B-33.43761%2C%20-70.64683000000001%5D%2C%20%5B-33.449690000000004%2C%20-70.58099%5D%2C%20%5B-33.44404%2C%20-70.64584%5D%2C%20%5B-33.423390000000005%2C%20-70.59012%5D%2C%20%5B-33.44978%2C%20-70.58181%5D%2C%20%5B-33.453520000000005%2C%20-70.61994%5D%2C%20%5B-33.43045%2C%20-70.64164%5D%2C%20%5B-33.40801%2C%20-70.56452%5D%2C%20%5B-33.424240000000005%2C%20-70.61194%5D%2C%20%5B-33.42649%2C%20-70.60925%5D%2C%20%5B-33.40591%2C%20-70.55775%5D%2C%20%5B-33.44338%2C%20-70.65735%5D%2C%20%5B-33.42872%2C%20-70.61780999999999%5D%2C%20%5B-33.42862%2C%20-70.61779%5D%2C%20%5B-33.399370000000005%2C%20-70.57409%5D%2C%20%5B-33.48245%2C%20-70.61341%5D%2C%20%5B-33.43353%2C%20-70.63144%5D%2C%20%5B-33.34856%2C%20-70.29118000000001%5D%2C%20%5B-33.44109%2C%20-70.65623000000001%5D%2C%20%5B-33.4338%2C%20-70.66454%5D%2C%20%5B-33.42727%2C%20-70.62026999999999%5D%2C%20%5B-33.416959999999996%2C%20-70.56008%5D%2C%20%5B-33.44625%2C%20-70.64898000000001%5D%2C%20%5B-33.406909999999996%2C%20-70.59508000000001%5D%2C%20%5B-33.45185%2C%20-70.64236%5D%2C%20%5B-33.46535%2C%20-70.62442%5D%2C%20%5B-33.41108%2C%20-70.57534%5D%2C%20%5B-33.39058%2C%20-70.57304%5D%2C%20%5B-33.4669%2C%20-70.62375%5D%2C%20%5B-33.41553%2C%20-70.60976%5D%2C%20%5B-33.41553%2C%20-70.60976%5D%2C%20%5B-33.4457%2C%20-70.65216%5D%2C%20%5B-33.42106%2C%20-70.65189000000001%5D%2C%20%5B-33.41191%2C%20-70.56742%5D%2C%20%5B-33.42249%2C%20-70.57973%5D%2C%20%5B-33.4504%2C%20-70.61477%5D%2C%20%5B-33.424659999999996%2C%20-70.64047%5D%2C%20%5B-33.45175%2C%20-70.64049%5D%2C%20%5B-33.39648%2C%20-70.56314%5D%2C%20%5B-33.44958%2C%20-70.64010999999999%5D%2C%20%5B-33.403459999999995%2C%20-70.54718000000001%5D%2C%20%5B-33.42853%2C%20-70.59434%5D%2C%20%5B-33.4528%2C%20-70.65521%5D%2C%20%5B-33.41918%2C%20-70.56866%5D%2C%20%5B-33.43855%2C%20-70.64371%5D%2C%20%5B-33.455420000000004%2C%20-70.60443000000001%5D%2C%20%5B-33.398709999999994%2C%20-70.57523%5D%2C%20%5B-33.456579999999995%2C%20-70.59133%5D%2C%20%5B-33.4197%2C%20-70.55696%5D%2C%20%5B-33.42608%2C%20-70.64638000000001%5D%2C%20%5B-33.43461%2C%20-70.62498000000001%5D%2C%20%5B-33.4467%2C%20-70.64625%5D%2C%20%5B-33.43303%2C%20-70.6587%5D%2C%20%5B-33.4548%2C%20-70.62307%5D%2C%20%5B-33.44709%2C%20-70.63467%5D%2C%20%5B-33.41048%2C%20-70.59836999999999%5D%2C%20%5B-33.42771%2C%20-70.61381999999999%5D%2C%20%5B-33.43714%2C%20-70.64832%5D%2C%20%5B-33.430479999999996%2C%20-70.6088%5D%2C%20%5B-33.42923%2C%20-70.61976999999999%5D%2C%20%5B-33.43375%2C%20-70.63616%5D%2C%20%5B-33.43949%2C%20-70.63913000000001%5D%2C%20%5B-33.407070000000004%2C%20-70.58549000000001%5D%2C%20%5B-33.46983%2C%20-70.64086%5D%2C%20%5B-33.429629999999996%2C%20-70.59133%5D%2C%20%5B-33.44509%2C%20-70.61751%5D%2C%20%5B-33.42198%2C%20-70.60734000000001%5D%2C%20%5B-33.448479999999996%2C%20-70.62058%5D%2C%20%5B-33.41447%2C%20-70.59715%5D%2C%20%5B-33.448440000000005%2C%20-70.64814%5D%2C%20%5B-33.43234%2C%20-70.64653%5D%2C%20%5B-33.4254%2C%20-70.6166%5D%2C%20%5B-33.4401%2C%20-70.66356999999999%5D%2C%20%5B-33.44578%2C%20-70.64764%5D%2C%20%5B-33.41648%2C%20-70.55915%5D%2C%20%5B-33.41512%2C%20-70.55945%5D%2C%20%5B-33.455870000000004%2C%20-70.52759%5D%2C%20%5B-33.45514%2C%20-70.52759%5D%2C%20%5B-33.45545%2C%20-70.52825%5D%2C%20%5B-33.43442%2C%20-70.63681%5D%2C%20%5B-33.435759999999995%2C%20-70.62874000000001%5D%2C%20%5B-33.42882%2C%20-70.62526%5D%2C%20%5B-33.449040000000004%2C%20-70.56772%5D%2C%20%5B-33.40592%2C%20-70.57797%5D%2C%20%5B-33.443090000000005%2C%20-70.57287%5D%2C%20%5B-33.491659999999996%2C%20-70.65472%5D%2C%20%5B-33.45593%2C%20-70.7002%5D%2C%20%5B-33.42514%2C%20-70.64544000000001%5D%2C%20%5B-33.43967%2C%20-70.65694%5D%2C%20%5B-33.45398%2C%20-70.59668%5D%2C%20%5B-33.42014%2C%20-70.56089%5D%2C%20%5B-33.4504%2C%20-70.65559%5D%2C%20%5B-33.41857%2C%20-70.57373%5D%2C%20%5B-33.44451%2C%20-70.63509%5D%2C%20%5B-33.46373%2C%20-70.63953000000001%5D%2C%20%5B-33.41665%2C%20-70.56935%5D%2C%20%5B-33.43257%2C%20-70.63759%5D%2C%20%5B-33.422340000000005%2C%20-70.63908%5D%2C%20%5B-33.45514%2C%20-70.5598%5D%2C%20%5B-33.40382%2C%20-70.59113%5D%2C%20%5B-33.437%2C%20-70.64114000000001%5D%2C%20%5B-33.396809999999995%2C%20-70.56425%5D%2C%20%5B-33.41277%2C%20-70.58705%5D%2C%20%5B-33.436840000000004%2C%20-70.64347%5D%2C%20%5B-33.4416%2C%20-70.63909%5D%2C%20%5B-33.459109999999995%2C%20-70.65165%5D%2C%20%5B-33.42126%2C%20-70.5769%5D%2C%20%5B-33.3989%2C%20-70.59479%5D%2C%20%5B-33.43657%2C%20-70.64846999999999%5D%2C%20%5B-33.44912%2C%20-70.63503%5D%2C%20%5B-33.34531%2C%20-70.29464%5D%2C%20%5B-33.45408%2C%20-70.62989%5D%2C%20%5B-33.44078%2C%20-70.65774%5D%2C%20%5B-33.43204%2C%20-70.59483%5D%2C%20%5B-33.43266%2C%20-70.59125999999999%5D%2C%20%5B-33.42422%2C%20-70.60972%5D%2C%20%5B-33.42502%2C%20-70.61045%5D%2C%20%5B-33.41745%2C%20-70.60401999999999%5D%2C%20%5B-33.44608%2C%20-70.6303%5D%2C%20%5B-33.43565%2C%20-70.59297%5D%2C%20%5B-33.451809999999995%2C%20-70.66254%5D%2C%20%5B-33.34551%2C%20-70.29229000000001%5D%2C%20%5B-33.44276%2C%20-70.57273%5D%2C%20%5B-33.447790000000005%2C%20-70.63306%5D%2C%20%5B-33.42779%2C%20-70.61765%5D%2C%20%5B-33.44648%2C%20-70.646%5D%2C%20%5B-33.44042%2C%20-70.65768%5D%2C%20%5B-33.41834%2C%20-70.55933%5D%2C%20%5B-33.4493%2C%20-70.6384%5D%2C%20%5B-33.44603%2C%20-70.64463%5D%2C%20%5B-33.39855%2C%20-70.5713%5D%2C%20%5B-33.45774%2C%20-70.82026%5D%2C%20%5B-33.45718%2C%20-70.82117%5D%2C%20%5B-33.44596%2C%20-70.64638000000001%5D%2C%20%5B-33.44681%2C%20-70.64795%5D%2C%20%5B-33.4454%2C%20-70.6445%5D%2C%20%5B-33.42568%2C%20-70.61553%5D%2C%20%5B-33.4008%2C%20-70.57303%5D%2C%20%5B-33.440020000000004%2C%20-70.64289000000001%5D%2C%20%5B-33.434509999999996%2C%20-70.63776999999999%5D%2C%20%5B-33.43266%2C%20-70.63757%5D%2C%20%5B-33.40675%2C%20-70.55998000000001%5D%2C%20%5B-33.4545%2C%20-70.63204%5D%2C%20%5B-33.41148%2C%20-70.6014%5D%2C%20%5B-33.42895%2C%20-70.61804000000001%5D%2C%20%5B-33.35747%2C%20-70.24821%5D%2C%20%5B-33.418479999999995%2C%20-70.55643%5D%2C%20%5B-33.43381%2C%20-70.61338%5D%2C%20%5B-33.43695%2C%20-70.64401%5D%2C%20%5B-33.42593%2C%20-70.59955%5D%2C%20%5B-33.43611%2C%20-70.63432%5D%2C%20%5B-33.443909999999995%2C%20-70.64279%5D%2C%20%5B-33.43428%2C%20-70.65775%5D%2C%20%5B-33.45319%2C%20-70.6689%5D%2C%20%5B-33.43365%2C%20-70.64322%5D%2C%20%5B-33.40384%2C%20-70.56081999999999%5D%2C%20%5B-33.41715%2C%20-70.5969%5D%2C%20%5B-33.441140000000004%2C%20-70.64013%5D%2C%20%5B-33.433679999999995%2C%20-70.60826999999999%5D%2C%20%5B-33.45593%2C%20-70.7002%5D%2C%20%5B-33.44137%2C%20-70.61495%5D%2C%20%5B-33.43802%2C%20-70.64171%5D%2C%20%5B-33.432970000000005%2C%20-70.64949%5D%2C%20%5B-33.419129999999996%2C%20-70.59594%5D%2C%20%5B-33.41422%2C%20-70.59148%5D%2C%20%5B-33.43698%2C%20-70.64777%5D%2C%20%5B-33.44777%2C%20-70.65325%5D%2C%20%5B-33.41171%2C%20-70.56664%5D%2C%20%5B-33.442209999999996%2C%20-70.66703000000001%5D%2C%20%5B-33.50865%2C%20-70.55336%5D%2C%20%5B-33.44943%2C%20-70.65178%5D%2C%20%5B-33.42537%2C%20-70.60746%5D%2C%20%5B-33.43311%2C%20-70.64957%5D%2C%20%5B-33.439170000000004%2C%20-70.62934%5D%2C%20%5B-33.438179999999996%2C%20-70.64433000000001%5D%2C%20%5B-33.434059999999995%2C%20-70.64941%5D%2C%20%5B-33.43978%2C%20-70.64555%5D%2C%20%5B-33.44339%2C%20-70.64373%5D%2C%20%5B-33.542429999999996%2C%20-70.5921%5D%2C%20%5B-33.45857%2C%20-70.55412%5D%2C%20%5B-33.40347%2C%20-70.55471%5D%2C%20%5B-33.34685%2C%20-70.29388%5D%2C%20%5B-33.4129%2C%20-70.60085%5D%2C%20%5B-33.43851%2C%20-70.60951%5D%2C%20%5B-33.446979999999996%2C%20-70.6519%5D%2C%20%5B-33.434509999999996%2C%20-70.62053%5D%2C%20%5B-33.451859999999996%2C%20-70.6416%5D%2C%20%5B-33.43373%2C%20-70.65602%5D%2C%20%5B-33.407070000000004%2C%20-70.55793%5D%2C%20%5B-33.452%2C%20-70.63063000000001%5D%2C%20%5B-33.43266%2C%20-70.59125999999999%5D%2C%20%5B-33.43359%2C%20-70.63627%5D%2C%20%5B-33.4153%2C%20-70.60076%5D%2C%20%5B-33.43014%2C%20-70.61601999999999%5D%2C%20%5B-33.446329999999996%2C%20-70.64816%5D%2C%20%5B-33.401379999999996%2C%20-70.57746999999999%5D%2C%20%5B-33.40015%2C%20-70.5712%5D%2C%20%5B-33.41172%2C%20-70.55585%5D%2C%20%5B-33.4463%2C%20-70.65146%5D%2C%20%5B-33.42092%2C%20-70.60701999999999%5D%2C%20%5B-33.44636%2C%20-70.63184%5D%2C%20%5B-33.44451%2C%20-70.62768%5D%2C%20%5B-33.43813%2C%20-70.66183000000001%5D%2C%20%5B-33.44572%2C%20-70.6289%5D%2C%20%5B-33.43886%2C%20-70.66832%5D%2C%20%5B-33.4461%2C%20-70.62869%5D%2C%20%5B-33.43997%2C%20-70.61586%5D%2C%20%5B-33.42583%2C%20-70.58906999999999%5D%2C%20%5B-33.44413%2C%20-70.62791999999999%5D%2C%20%5B-33.48895%2C%20-70.76298%5D%2C%20%5B-33.44533%2C%20-70.58535%5D%2C%20%5B-33.44908%2C%20-70.65386%5D%2C%20%5B-33.447390000000006%2C%20-70.6514%5D%2C%20%5B-33.42935%2C%20-70.61981%5D%2C%20%5B-33.33627%2C%20-70.47119%5D%2C%20%5B-33.42184%2C%20-70.60956999999999%5D%2C%20%5B-33.42205%2C%20-70.61%5D%2C%20%5B-33.41516%2C%20-70.58556999999999%5D%2C%20%5B-33.413540000000005%2C%20-70.58592%5D%2C%20%5B-33.41344%2C%20-70.58629%5D%2C%20%5B-33.413109999999996%2C%20-70.58556999999999%5D%2C%20%5B-33.44601%2C%20-70.6445%5D%2C%20%5B-33.441520000000004%2C%20-70.64281%5D%2C%20%5B-33.4333%2C%20-70.65653%5D%2C%20%5B-33.416340000000005%2C%20-70.60236%5D%2C%20%5B-33.452729999999995%2C%20-70.65499%5D%2C%20%5B-33.45173%2C%20-70.5844%5D%2C%20%5B-33.43376%2C%20-70.65861%5D%2C%20%5B-33.43971%2C%20-70.6475%5D%2C%20%5B-33.44567%2C%20-70.6122%5D%2C%20%5B-33.44577%2C%20-70.65171%5D%2C%20%5B-33.4385%2C%20-70.66719%5D%2C%20%5B-33.43677%2C%20-70.65578000000001%5D%2C%20%5B-33.45786%2C%20-70.59539000000001%5D%2C%20%5B-33.41553%2C%20-70.60976%5D%2C%20%5B-33.41553%2C%20-70.60976%5D%2C%20%5B-33.445040000000006%2C%20-70.64187%5D%2C%20%5B-33.436659999999996%2C%20-70.65605%5D%2C%20%5B-33.465340000000005%2C%20-70.62589%5D%2C%20%5B-33.399370000000005%2C%20-70.57313%5D%2C%20%5B-33.45043%2C%20-70.64018%5D%2C%20%5B-33.438959999999994%2C%20-70.65573%5D%2C%20%5B-33.43685%2C%20-70.65443%5D%2C%20%5B-33.43949%2C%20-70.64546%5D%2C%20%5B-33.41553%2C%20-70.60976%5D%2C%20%5B-33.45258%2C%20-70.64661%5D%2C%20%5B-33.44145%2C%20-70.6012%5D%2C%20%5B-33.37936%2C%20-70.53687%5D%2C%20%5B-33.43475%2C%20-70.57913%5D%2C%20%5B-33.42429%2C%20-70.60965999999999%5D%2C%20%5B-33.45357%2C%20-70.67151%5D%2C%20%5B-33.44533%2C%20-70.64933%5D%2C%20%5B-33.43671%2C%20-70.6369%5D%2C%20%5B-33.42544%2C%20-70.61572%5D%2C%20%5B-33.437259999999995%2C%20-70.65339%5D%2C%20%5B-33.45765%2C%20-70.62937%5D%2C%20%5B-33.46457%2C%20-70.62493%5D%2C%20%5B-33.43267%2C%20-70.6528%5D%2C%20%5B-33.42468%2C%20-70.58775%5D%2C%20%5B-33.54209%2C%20-70.5738%5D%2C%20%5B-33.4342%2C%20-70.65471%5D%2C%20%5B-33.4699%2C%20-70.64158%5D%2C%20%5B-33.42869%2C%20-70.5928%5D%2C%20%5B-33.42561%2C%20-70.61856999999999%5D%2C%20%5B-33.415420000000005%2C%20-70.60849%5D%2C%20%5B-33.39414%2C%20-70.56513000000001%5D%2C%20%5B-33.42311%2C%20-70.61015%5D%2C%20%5B-33.45543%2C%20-70.58105%5D%2C%20%5B-33.452%2C%20-70.62221%5D%2C%20%5B-33.453109999999995%2C%20-70.66265%5D%2C%20%5B-33.45041%2C%20-70.57718%5D%2C%20%5B-33.448440000000005%2C%20-70.57808%5D%2C%20%5B-33.44059%2C%20-70.64054%5D%2C%20%5B-33.43974%2C%20-70.64138%5D%2C%20%5B-33.44918%2C%20-70.6492%5D%2C%20%5B-33.44449%2C%20-70.63328%5D%2C%20%5B-33.44792%2C%20-70.65459%5D%2C%20%5B-33.45084%2C%20-70.65059000000001%5D%2C%20%5B-33.416059999999995%2C%20-70.59936%5D%2C%20%5B-33.39846%2C%20-70.5728%5D%2C%20%5B-33.428940000000004%2C%20-70.6143%5D%2C%20%5B-33.418859999999995%2C%20-70.6087%5D%2C%20%5B-33.42672%2C%20-70.61476%5D%2C%20%5B-33.39513%2C%20-70.55291%5D%2C%20%5B-33.40065%2C%20-70.5827%5D%2C%20%5B-33.42864%2C%20-70.57473%5D%2C%20%5B-33.44978%2C%20-70.61972%5D%2C%20%5B-33.4299%2C%20-70.6204%5D%2C%20%5B-33.419959999999996%2C%20-70.59699%5D%2C%20%5B-33.45112%2C%20-70.66803%5D%2C%20%5B-33.44061%2C%20-70.64235%5D%2C%20%5B-33.4327%2C%20-70.65774%5D%2C%20%5B-33.41107%2C%20-70.60018000000001%5D%2C%20%5B-33.483059999999995%2C%20-70.5946%5D%2C%20%5B-33.44097%2C%20-70.64325%5D%2C%20%5B-33.42909%2C%20-70.6201%5D%2C%20%5B-33.433040000000005%2C%20-70.64275%5D%2C%20%5B-33.447520000000004%2C%20-70.64277%5D%2C%20%5B-33.4061%2C%20-70.59978000000001%5D%2C%20%5B-33.448440000000005%2C%20-70.63996999999999%5D%2C%20%5B-33.430859999999996%2C%20-70.61456%5D%2C%20%5B-33.44112%2C%20-70.62298%5D%2C%20%5B-33.42974%2C%20-70.6231%5D%2C%20%5B-33.43271%2C%20-70.59144%5D%2C%20%5B-33.445209999999996%2C%20-70.65369%5D%2C%20%5B-33.4429%2C%20-70.64690999999999%5D%2C%20%5B-33.4385%2C%20-70.6899%5D%2C%20%5B-33.413090000000004%2C%20-70.58623%5D%2C%20%5B-33.41182%2C%20-70.56921%5D%2C%20%5B-33.43955%2C%20-70.64205%5D%2C%20%5B-33.4369%2C%20-70.64376999999999%5D%2C%20%5B-33.4273%2C%20-70.61820999999999%5D%2C%20%5B-33.44283%2C%20-70.64294%5D%2C%20%5B-33.42903%2C%20-70.60835%5D%2C%20%5B-33.435359999999996%2C%20-70.61511%5D%2C%20%5B-33.43916%2C%20-70.65771%5D%2C%20%5B-33.44853%2C%20-70.65474%5D%2C%20%5B-33.42455%2C%20-70.61173000000001%5D%2C%20%5B-33.44792%2C%20-70.6325%5D%2C%20%5B-33.43994%2C%20-70.61258000000001%5D%2C%20%5B-33.45323%2C%20-70.59559%5D%2C%20%5B-33.24325%2C%20-70.52789%5D%2C%20%5B-33.44932%2C%20-70.64511999999999%5D%2C%20%5B-33.40718%2C%20-70.55818000000001%5D%2C%20%5B-33.44559%2C%20-70.52824%5D%2C%20%5B-33.43104%2C%20-70.60951%5D%2C%20%5B-33.42%2C%20-70.60803%5D%2C%20%5B-33.43483%2C%20-70.6459%5D%2C%20%5B-33.42957%2C%20-70.63764%5D%2C%20%5B-33.445159999999994%2C%20-70.62965%5D%2C%20%5B-33.45593%2C%20-70.7002%5D%2C%20%5B-33.4202%2C%20-70.55438000000001%5D%2C%20%5B-33.424859999999995%2C%20-70.57500999999999%5D%2C%20%5B-33.44735%2C%20-70.65371%5D%2C%20%5B-33.34908%2C%20-70.2963%5D%2C%20%5B-33.41522%2C%20-70.56541999999999%5D%2C%20%5B-33.44082%2C%20-70.64793%5D%2C%20%5B-33.45258%2C%20-70.66228000000001%5D%2C%20%5B-33.449220000000004%2C%20-70.64928%5D%2C%20%5B-33.39911%2C%20-70.54516%5D%2C%20%5B-33.36838%2C%20-70.40711%5D%2C%20%5B-33.41113%2C%20-70.56235%5D%2C%20%5B-33.43571%2C%20-70.62886999999999%5D%2C%20%5B-33.43537%2C%20-70.65751%5D%2C%20%5B-33.43802%2C%20-70.63117%5D%2C%20%5B-33.43845%2C%20-70.63376%5D%2C%20%5B-33.42634%2C%20-70.6179%5D%2C%20%5B-33.4365%2C%20-70.64629000000001%5D%2C%20%5B-33.479490000000006%2C%20-70.65004%5D%2C%20%5B-33.45983%2C%20-70.65261%5D%2C%20%5B-33.44623%2C%20-70.65129%5D%2C%20%5B-33.413940000000004%2C%20-70.58535%5D%2C%20%5B-33.46318%2C%20-70.62516%5D%2C%20%5B-33.46192%2C%20-70.63771%5D%2C%20%5B-33.438140000000004%2C%20-70.63995%5D%2C%20%5B-33.42787%2C%20-70.62253%5D%2C%20%5B-33.44598%2C%20-70.64971%5D%2C%20%5B-33.457440000000005%2C%20-70.61541%5D%2C%20%5B-33.51188%2C%20-70.65933000000001%5D%2C%20%5B-33.44758%2C%20-70.65272%5D%2C%20%5B-33.43825%2C%20-70.62934%5D%2C%20%5B-33.44145%2C%20-70.6383%5D%2C%20%5B-33.4359%2C%20-70.65026999999999%5D%2C%20%5B-33.42585%2C%20-70.59942%5D%2C%20%5B-33.42544%2C%20-70.65109%5D%2C%20%5B-33.42875%2C%20-70.61909%5D%2C%20%5B-33.43503%2C%20-70.62814%5D%2C%20%5B-33.41234%2C%20-70.59342%5D%2C%20%5B-33.43744%2C%20-70.62105%5D%2C%20%5B-33.446509999999996%2C%20-70.64336%5D%2C%20%5B-33.43673%2C%20-70.65649%5D%2C%20%5B-33.4275%2C%20-70.6022%5D%2C%20%5B-33.455529999999996%2C%20-70.69981%5D%2C%20%5B-33.415729999999996%2C%20-70.59747%5D%2C%20%5B-33.48038%2C%20-70.64965%5D%2C%20%5B-33.42459%2C%20-70.61836%5D%2C%20%5B-33.438359999999996%2C%20-70.63383%5D%2C%20%5B-33.44423%2C%20-70.65657%5D%2C%20%5B-33.42846%2C%20-70.62234000000001%5D%2C%20%5B-33.43582%2C%20-70.64653%5D%2C%20%5B-33.43027%2C%20-70.61009%5D%2C%20%5B-33.4426%2C%20-70.62286%5D%2C%20%5B-33.40485%2C%20-70.56976%5D%2C%20%5B-33.40625%2C%20-70.59635%5D%2C%20%5B-33.48226%2C%20-70.6786%5D%2C%20%5B-33.473079999999996%2C%20-70.59907%5D%2C%20%5B-33.471709999999995%2C%20-70.59821%5D%2C%20%5B-33.50707%2C%20-70.62084%5D%2C%20%5B-33.49942%2C%20-70.58083%5D%2C%20%5B-33.43717%2C%20-70.60239%5D%2C%20%5B-33.41835%2C%20-70.59852%5D%2C%20%5B-33.435990000000004%2C%20-70.64242%5D%2C%20%5B-33.43615%2C%20-70.64413%5D%2C%20%5B-33.44692%2C%20-70.65129%5D%2C%20%5B-33.43549%2C%20-70.65647%5D%2C%20%5B-33.42897%2C%20-70.61829%5D%2C%20%5B-33.43112%2C%20-70.67921%5D%2C%20%5B-33.36695%2C%20-70.49658000000001%5D%2C%20%5B-33.422509999999996%2C%20-70.5623%5D%2C%20%5B-33.41545%2C%20-70.60181999999999%5D%2C%20%5B-33.42198%2C%20-70.60734000000001%5D%2C%20%5B-33.4066%2C%20-70.55719%5D%2C%20%5B-33.5623%2C%20-70.67647%5D%2C%20%5B-33.44792%2C%20-70.64824%5D%2C%20%5B-33.44708%2C%20-70.64814%5D%2C%20%5B-33.448%2C%20-70.64793%5D%2C%20%5B-33.51676%2C%20-70.67501999999999%5D%2C%20%5B-33.447359999999996%2C%20-70.59251%5D%2C%20%5B-33.50428%2C%20-70.65881%5D%2C%20%5B-33.418659999999996%2C%20-70.59756999999999%5D%2C%20%5B-33.43442%2C%20-70.61003000000001%5D%2C%20%5B-33.50222%2C%20-70.61254%5D%2C%20%5B-33.42755%2C%20-70.59993%5D%2C%20%5B-33.42006%2C%20-70.61001999999999%5D%2C%20%5B-33.4494%2C%20-70.632%5D%2C%20%5B-33.53633%2C%20-70.66979%5D%2C%20%5B-33.44919%2C%20-70.63759%5D%2C%20%5B-33.44385%2C%20-70.65844%5D%2C%20%5B-33.43315%2C%20-70.63746%5D%2C%20%5B-33.43967%2C%20-70.65596%5D%2C%20%5B-33.445679999999996%2C%20-70.6502%5D%2C%20%5B-33.543440000000004%2C%20-70.59852%5D%2C%20%5B-33.411229999999996%2C%20-70.56864%5D%2C%20%5B-33.4339%2C%20-70.6272%5D%2C%20%5B-33.49521%2C%20-70.74821999999999%5D%2C%20%5B-33.46435%2C%20-70.6542%5D%2C%20%5B-33.44915%2C%20-70.64148%5D%2C%20%5B-33.435970000000005%2C%20-70.6476%5D%2C%20%5B-33.46761%2C%20-70.63731999999999%5D%2C%20%5B-33.44812%2C%20-70.64478000000001%5D%2C%20%5B-33.43716%2C%20-70.65432%5D%2C%20%5B-33.41023%2C%20-70.56503000000001%5D%2C%20%5B-33.455690000000004%2C%20-70.61176%5D%2C%20%5B-33.47889%2C%20-70.60084%5D%2C%20%5B-33.500009999999996%2C%20-70.65824%5D%2C%20%5B-33.41212%2C%20-70.54916999999999%5D%2C%20%5B-33.44525%2C%20-70.64394%5D%2C%20%5B-33.433840000000004%2C%20-70.68494%5D%2C%20%5B-33.52174%2C%20-70.7892%5D%2C%20%5B-33.455999999999996%2C%20-70.59692%5D%2C%20%5B-33.44246%2C%20-70.65943%5D%2C%20%5B-33.48764%2C%20-70.65795%5D%2C%20%5B-33.44311%2C%20-70.64052%5D%2C%20%5B-33.43312%2C%20-70.61128000000001%5D%2C%20%5B-33.41755%2C%20-70.56051%5D%2C%20%5B-33.370670000000004%2C%20-70.44649%5D%2C%20%5B-33.45487%2C%20-70.62346%5D%2C%20%5B-33.449059999999996%2C%20-70.641%5D%2C%20%5B-33.45345%2C%20-70.64629000000001%5D%2C%20%5B-33.4414%2C%20-70.62853%5D%2C%20%5B-33.44397%2C%20-70.63478%5D%2C%20%5B-33.50311%2C%20-70.59342%5D%2C%20%5B-33.44976%2C%20-70.65418000000001%5D%2C%20%5B-33.45112%2C%20-70.64941%5D%2C%20%5B-33.450070000000004%2C%20-70.63479%5D%2C%20%5B-33.50237%2C%20-70.60642%5D%2C%20%5B-33.43293%2C%20-70.60753000000001%5D%2C%20%5B-33.44001%2C%20-70.62076%5D%2C%20%5B-33.37058%2C%20-70.44635%5D%2C%20%5B-33.44174%2C%20-70.63441999999999%5D%2C%20%5B-33.44108%2C%20-70.61376%5D%2C%20%5B-33.36428%2C%20-70.72041999999999%5D%2C%20%5B-33.45057%2C%20-70.66372%5D%2C%20%5B-33.5142%2C%20-70.60512%5D%2C%20%5B-33.51562%2C%20-70.60591%5D%2C%20%5B-33.45465%2C%20-70.62416%5D%2C%20%5B-33.43662%2C%20-70.60233000000001%5D%2C%20%5B-33.36322%2C%20-70.72021%5D%2C%20%5B-33.44664%2C%20-70.65033000000001%5D%2C%20%5B-33.444%2C%20-70.66404%5D%2C%20%5B-33.51636%2C%20-70.60392%5D%2C%20%5B-33.462959999999995%2C%20-70.58234%5D%2C%20%5B-33.42543%2C%20-70.61503%5D%2C%20%5B-33.47053%2C%20-70.60139000000001%5D%2C%20%5B-33.42628%2C%20-70.6156%5D%2C%20%5B-33.387170000000005%2C%20-70.5706%5D%2C%20%5B-33.448%2C%20-70.65285%5D%2C%20%5B-33.43542%2C%20-70.65469%5D%2C%20%5B-33.42525%2C%20-70.6169%5D%2C%20%5B-33.42507%2C%20-70.61558000000001%5D%2C%20%5B-33.448609999999995%2C%20-70.84096%5D%2C%20%5B-33.448570000000004%2C%20-70.63535%5D%2C%20%5B-33.45701%2C%20-70.62975%5D%2C%20%5B-33.44591%2C%20-70.65211%5D%2C%20%5B-33.44823%2C%20-70.65044%5D%2C%20%5B-33.38268%2C%20-70.56863%5D%2C%20%5B-33.50387%2C%20-70.78185%5D%2C%20%5B-33.4397%2C%20-70.71176%5D%2C%20%5B-33.41207%2C%20-70.54706999999999%5D%2C%20%5B-33.50088%2C%20-70.60407%5D%2C%20%5B-33.51505%2C%20-70.65746%5D%2C%20%5B-33.52648%2C%20-70.6054%5D%2C%20%5B-33.42773%2C%20-70.60636%5D%2C%20%5B-33.43803%2C%20-70.64066%5D%2C%20%5B-33.5562%2C%20-70.56945999999999%5D%2C%20%5B-33.43927%2C%20-70.51971999999999%5D%2C%20%5B-33.42451%2C%20-70.63814%5D%2C%20%5B-33.444320000000005%2C%20-70.62564%5D%2C%20%5B-33.42354%2C%20-70.6404%5D%2C%20%5B-33.448479999999996%2C%20-70.63589%5D%2C%20%5B-33.43757%2C%20-70.64168000000001%5D%2C%20%5B-33.52336%2C%20-70.60246%5D%2C%20%5B-33.44533%2C%20-70.64845%5D%2C%20%5B-33.435190000000006%2C%20-70.65992%5D%2C%20%5B-33.44883%2C%20-70.63320999999999%5D%2C%20%5B-33.4392%2C%20-70.63558%5D%2C%20%5B-33.44466%2C%20-70.64413%5D%2C%20%5B-33.45153%2C%20-70.64587%5D%2C%20%5B-33.43497%2C%20-70.658%5D%2C%20%5B-33.43632%2C%20-70.6455%5D%2C%20%5B-33.52762%2C%20-70.65732%5D%2C%20%5B-33.505520000000004%2C%20-70.61144%5D%2C%20%5B-33.53286%2C%20-70.59291%5D%2C%20%5B-33.42935%2C%20-70.68419%5D%2C%20%5B-33.44659%2C%20-70.65302%5D%2C%20%5B-33.438190000000006%2C%20-70.63381%5D%2C%20%5B-33.44662%2C%20-70.62034%5D%2C%20%5B-33.44677%2C%20-70.65254%5D%2C%20%5B-33.469359999999995%2C%20-70.60167%5D%2C%20%5B-33.477140000000006%2C%20-70.60006%5D%2C%20%5B-33.445029999999996%2C%20-70.61455%5D%2C%20%5B-33.46188%2C%20-70.63756%5D%2C%20%5B-33.43179%2C%20-70.63625%5D%2C%20%5B-33.43492%2C%20-70.6577%5D%2C%20%5B-33.4355%2C%20-70.64256999999999%5D%2C%20%5B-33.4485%2C%20-70.64024%5D%2C%20%5B-33.459790000000005%2C%20-70.60106%5D%2C%20%5B-33.48946%2C%20-70.61535%5D%2C%20%5B-33.44809%2C%20-70.63444%5D%2C%20%5B-33.44981%2C%20-70.65234%5D%2C%20%5B-33.44299%2C%20-70.60049000000001%5D%2C%20%5B-33.4084%2C%20-70.5738%5D%2C%20%5B-33.42311%2C%20-70.6087%5D%2C%20%5B-33.44805%2C%20-70.6547%5D%2C%20%5B-33.39911%2C%20-70.57165%5D%2C%20%5B-33.43846%2C%20-70.64418%5D%2C%20%5B-33.44591%2C%20-70.64478000000001%5D%2C%20%5B-33.43827%2C%20-70.67433%5D%2C%20%5B-33.48127%2C%20-70.59156999999999%5D%2C%20%5B-33.4367%2C%20-70.65096%5D%2C%20%5B-33.433479999999996%2C%20-70.62661%5D%2C%20%5B-33.45169%2C%20-70.64795%5D%2C%20%5B-33.410709999999995%2C%20-70.5465%5D%2C%20%5B-33.449870000000004%2C%20-70.63736999999999%5D%2C%20%5B-33.33535%2C%20-70.29159%5D%2C%20%5B-33.45625%2C%20-70.6598%5D%2C%20%5B-33.407790000000006%2C%20-70.59889%5D%2C%20%5B-33.44041%2C%20-70.64133000000001%5D%2C%20%5B-33.41653%2C%20-70.568%5D%2C%20%5B-33.43305%2C%20-70.64948000000001%5D%2C%20%5B-33.41847%2C%20-70.59454000000001%5D%2C%20%5B-33.35966%2C%20-70.51191999999999%5D%2C%20%5B-33.430479999999996%2C%20-70.63771%5D%2C%20%5B-33.4668%2C%20-70.62068000000001%5D%2C%20%5B-33.41217%2C%20-70.56685999999999%5D%2C%20%5B-33.44443%2C%20-70.64543%5D%2C%20%5B-33.40374%2C%20-70.55747%5D%2C%20%5B-33.42285%2C%20-70.56675%5D%2C%20%5B-33.43891%2C%20-70.63644000000001%5D%2C%20%5B-33.43508%2C%20-70.63231%5D%2C%20%5B-33.43537%2C%20-70.61367%5D%2C%20%5B-33.40659%2C%20-70.56991%5D%2C%20%5B-33.439859999999996%2C%20-70.63995%5D%2C%20%5B-33.41254%2C%20-70.6015%5D%2C%20%5B-33.43443%2C%20-70.6299%5D%2C%20%5B-33.367459999999994%2C%20-70.52683%5D%2C%20%5B-33.444390000000006%2C%20-70.62825%5D%2C%20%5B-33.55899%2C%20-70.79271%5D%2C%20%5B-33.44768%2C%20-70.64352%5D%2C%20%5B-33.409279999999995%2C%20-70.5508%5D%2C%20%5B-33.413140000000006%2C%20-70.59841%5D%2C%20%5B-33.438359999999996%2C%20-70.6676%5D%2C%20%5B-33.447379999999995%2C%20-70.64766%5D%2C%20%5B-33.41916%2C%20-70.56877%5D%2C%20%5B-33.40596%2C%20-70.558418%5D%2C%20%5B-33.44818%2C%20-70.59297%5D%2C%20%5B-33.45115%2C%20-70.61748%5D%2C%20%5B-33.41487%2C%20-70.60769%5D%2C%20%5B-33.49413%2C%20-70.65475%5D%2C%20%5B-33.41467%2C%20-70.58622%5D%2C%20%5B-33.44004%2C%20-70.64148%5D%2C%20%5B-33.45346%2C%20-70.66174000000001%5D%2C%20%5B-33.44692%2C%20-70.65129%5D%2C%20%5B-33.42897%2C%20-70.60134000000001%5D%2C%20%5B-33.44583%2C%20-70.65736%5D%2C%20%5B-33.38608%2C%20-70.56073%5D%2C%20%5B-33.42543%2C%20-70.61576%5D%2C%20%5B-33.4415%2C%20-70.63577%5D%2C%20%5B-33.44765%2C%20-70.65401999999999%5D%2C%20%5B-33.43489%2C%20-70.64922%5D%2C%20%5B-33.35067%2C%20-70.30809%5D%2C%20%5B-33.48274%2C%20-70.65509%5D%2C%20%5B-33.43424%2C%20-70.63758%5D%2C%20%5B-33.41446%2C%20-70.5863%5D%2C%20%5B-33.44031%2C%20-70.67356%5D%2C%20%5B-33.4248%2C%20-70.61719000000001%5D%2C%20%5B-33.4289%2C%20-70.62023%5D%2C%20%5B-33.33716%2C%20-70.29058%5D%2C%20%5B-33.385020000000004%2C%20-70.57887%5D%2C%20%5B-33.33436%2C%20-70.29132%5D%2C%20%5B-33.45957%2C%20-70.62516%5D%2C%20%5B-33.44455%2C%20-70.62969%5D%2C%20%5B-33.45176%2C%20-70.58649%5D%2C%20%5B-33.448570000000004%2C%20-70.65503000000001%5D%2C%20%5B-33.40152%2C%20-70.5725%5D%2C%20%5B-33.434940000000005%2C%20-70.64689%5D%2C%20%5B-33.42179%2C%20-70.64294%5D%2C%20%5B-33.41935%2C%20-70.60536%5D%2C%20%5B-33.42307%2C%20-70.61216999999999%5D%2C%20%5B-33.44767%2C%20-70.65411%5D%2C%20%5B-33.44042%2C%20-70.66354%5D%2C%20%5B-33.33416%2C%20-70.2917%5D%2C%20%5B-33.41879%2C%20-70.60549%5D%2C%20%5B-33.44444%2C%20-70.64287%5D%2C%20%5B-33.417359999999995%2C%20-70.56182%5D%2C%20%5B-33.351209999999995%2C%20-70.31324000000001%5D%2C%20%5B-33.432759999999995%2C%20-70.63761%5D%2C%20%5B-33.439820000000005%2C%20-70.53868%5D%2C%20%5B-33.43427%2C%20-70.58906%5D%2C%20%5B-33.440290000000005%2C%20-70.64223%5D%2C%20%5B-33.45282%2C%20-70.62702%5D%2C%20%5B-33.43861%2C%20-70.64554%5D%2C%20%5B-33.40742%2C%20-70.55853%5D%2C%20%5B-33.40719%2C%20-70.59796%5D%2C%20%5B-33.45697%2C%20-70.58124000000001%5D%2C%20%5B-33.34656%2C%20-70.29341%5D%2C%20%5B-33.4351%2C%20-70.65795%5D%2C%20%5B-33.449909999999996%2C%20-70.70403%5D%2C%20%5B-33.42015%2C%20-70.56775%5D%2C%20%5B-33.44058%2C%20-70.60571999999999%5D%2C%20%5B-33.43335%2C%20-70.61622%5D%2C%20%5B-33.45418%2C%20-70.6593%5D%2C%20%5B-33.42423%2C%20-70.57798000000001%5D%2C%20%5B-33.41529%2C%20-70.60344%5D%2C%20%5B-33.4406%2C%20-70.62852%5D%2C%20%5B-33.41487%2C%20-70.60529%5D%2C%20%5B-33.434540000000005%2C%20-70.62739%5D%2C%20%5B-33.43489%2C%20-70.62772%5D%2C%20%5B-33.44099%2C%20-70.63486%5D%2C%20%5B-33.425309999999996%2C%20-70.61588%5D%2C%20%5B-33.45029%2C%20-70.61616%5D%2C%20%5B-33.4508%2C%20-70.61513000000001%5D%2C%20%5B-33.410790000000006%2C%20-70.57205%5D%2C%20%5B-33.450359999999996%2C%20-70.57949%5D%2C%20%5B-33.433690000000006%2C%20-70.64729%5D%2C%20%5B-33.443659999999994%2C%20-70.62785%5D%2C%20%5B-33.445009999999996%2C%20-70.62810999999999%5D%2C%20%5B-33.42429%2C%20-70.61726999999999%5D%2C%20%5B-33.33475%2C%20-70.29226%5D%2C%20%5B-33.44468%2C%20-70.62738%5D%2C%20%5B-33.45207%2C%20-70.66901999999999%5D%2C%20%5B-33.44441%2C%20-70.62705%5D%2C%20%5B-33.43255%2C%20-70.63639%5D%2C%20%5B-33.41538%2C%20-70.56102%5D%2C%20%5B-33.44565%2C%20-70.60531999999999%5D%2C%20%5B-33.416059999999995%2C%20-70.60279%5D%2C%20%5B-33.42422%2C%20-70.56794000000001%5D%2C%20%5B-33.44553%2C%20-70.60733%5D%2C%20%5B-33.449290000000005%2C%20-70.62661%5D%2C%20%5B-33.45355%2C%20-70.59812%5D%2C%20%5B-33.45603%2C%20-70.62899999999999%5D%2C%20%5B-33.42405%2C%20-70.61086%5D%2C%20%5B-33.41353%2C%20-70.60004%5D%2C%20%5B-33.45734%2C%20-70.82236%5D%2C%20%5B-33.45093%2C%20-70.63951999999999%5D%2C%20%5B-33.426759999999994%2C%20-70.61577%5D%2C%20%5B-33.42787%2C%20-70.64%5D%2C%20%5B-33.4375%2C%20-70.63628%5D%2C%20%5B-33.48924%2C%20-70.54198000000001%5D%2C%20%5B-33.42695%2C%20-70.61126%5D%2C%20%5B-33.45136%2C%20-70.64989%5D%2C%20%5B-33.44702%2C%20-70.63601%5D%2C%20%5B-33.42577%2C%20-70.61766999999999%5D%2C%20%5B-33.443259999999995%2C%20-70.57257%5D%2C%20%5B-33.40579%2C%20-70.57408000000001%5D%2C%20%5B-33.44084%2C%20-70.65035999999999%5D%2C%20%5B-33.35098%2C%20-70.31048%5D%2C%20%5B-33.47128%2C%20-70.61289000000001%5D%2C%20%5B-33.41473%2C%20-70.60023000000001%5D%2C%20%5B-33.42709%2C%20-70.61711%5D%2C%20%5B-33.44773%2C%20-70.64581%5D%2C%20%5B-33.43676%2C%20-70.6282%5D%2C%20%5B-33.43626%2C%20-70.60646%5D%2C%20%5B-33.42699%2C%20-70.61793%5D%2C%20%5B-33.44992%2C%20-70.63226%5D%2C%20%5B-33.44142%2C%20-70.67152%5D%2C%20%5B-33.424820000000004%2C%20-70.61135%5D%2C%20%5B-33.43875%2C%20-70.64591999999999%5D%2C%20%5B-33.45649%2C%20-70.57294%5D%2C%20%5B-33.45561%2C%20-70.66216%5D%2C%20%5B-33.447590000000005%2C%20-70.64424%5D%2C%20%5B-33.44598%2C%20-70.64882%5D%2C%20%5B-33.44232%2C%20-70.646%5D%2C%20%5B-33.450559999999996%2C%20-70.65249%5D%2C%20%5B-33.43484%2C%20-70.6282%5D%2C%20%5B-33.41498%2C%20-70.56846%5D%2C%20%5B-33.42283%2C%20-70.58045%5D%2C%20%5B-33.45941%2C%20-70.58583%5D%2C%20%5B-33.41883%2C%20-70.60714%5D%2C%20%5B-33.439809999999994%2C%20-70.64744%5D%2C%20%5B-33.420609999999996%2C%20-70.5764%5D%2C%20%5B-33.45316%2C%20-70.62949%5D%2C%20%5B-33.44972%2C%20-70.6482%5D%2C%20%5B-33.441990000000004%2C%20-70.64488%5D%2C%20%5B-33.42926%2C%20-70.624%5D%2C%20%5B-33.444390000000006%2C%20-70.64274%5D%2C%20%5B-33.42682%2C%20-70.62021999999999%5D%2C%20%5B-33.407790000000006%2C%20-70.56449%5D%2C%20%5B-33.44911%2C%20-70.64966%5D%2C%20%5B-33.44659%2C%20-70.63385%5D%2C%20%5B-33.438340000000004%2C%20-70.66441999999999%5D%2C%20%5B-33.4496%2C%20-70.62491%5D%2C%20%5B-33.44177%2C%20-70.64459000000001%5D%2C%20%5B-33.49559%2C%20-70.65696%5D%2C%20%5B-33.42355%2C%20-70.61199%5D%2C%20%5B-33.4489%2C%20-70.65007%5D%2C%20%5B-33.45385%2C%20-70.63286%5D%2C%20%5B-33.4471%2C%20-70.67276%5D%2C%20%5B-33.45537%2C%20-70.59893000000001%5D%2C%20%5B-33.45032%2C%20-70.64935%5D%2C%20%5B-33.44421%2C%20-70.57498000000001%5D%2C%20%5B-33.419909999999994%2C%20-70.57244%5D%2C%20%5B-33.46502%2C%20-70.62476%5D%2C%20%5B-33.44545%2C%20-70.64928%5D%2C%20%5B-33.441%2C%20-70.69072%5D%2C%20%5B-33.42261%2C%20-70.60914%5D%2C%20%5B-33.425059999999995%2C%20-70.61006%5D%2C%20%5B-33.45049%2C%20-70.63457%5D%2C%20%5B-33.44656%2C%20-70.64815%5D%2C%20%5B-33.40483%2C%20-70.55921%5D%2C%20%5B-33.41968%2C%20-70.57070999999999%5D%2C%20%5B-33.4486%2C%20-70.63976%5D%2C%20%5B-33.44668%2C%20-70.648%5D%2C%20%5B-33.44558%2C%20-70.64708%5D%2C%20%5B-33.44043%2C%20-70.65671%5D%2C%20%5B-33.439170000000004%2C%20-70.63266%5D%2C%20%5B-33.42358%2C%20-70.61531%5D%2C%20%5B-33.45369%2C%20-70.6572%5D%2C%20%5B-33.44464%2C%20-70.64724%5D%2C%20%5B-33.471059999999994%2C%20-70.59603%5D%2C%20%5B-33.44719%2C%20-70.63543%5D%2C%20%5B-33.44515%2C%20-70.64755%5D%2C%20%5B-33.4499%2C%20-70.64095%5D%2C%20%5B-33.435359999999996%2C%20-70.58009%5D%2C%20%5B-33.48146%2C%20-70.62498000000001%5D%2C%20%5B-33.43294%2C%20-70.61499%5D%2C%20%5B-33.42432%2C%20-70.59732%5D%2C%20%5B-33.43524%2C%20-70.64308%5D%2C%20%5B-33.44477%2C%20-70.63503%5D%2C%20%5B-33.4436%2C%20-70.63951%5D%2C%20%5B-33.44218%2C%20-70.64605%5D%2C%20%5B-33.4499%2C%20-70.64846999999999%5D%2C%20%5B-33.43258%2C%20-70.61078%5D%2C%20%5B-33.46432%2C%20-70.62021%5D%2C%20%5B-33.43455%2C%20-70.64605999999999%5D%2C%20%5B-33.42323%2C%20-70.58846%5D%2C%20%5B-33.441359999999996%2C%20-70.63086%5D%2C%20%5B-33.43704%2C%20-70.63075%5D%2C%20%5B-33.4489%2C%20-70.60171%5D%2C%20%5B-33.45023%2C%20-70.6397%5D%2C%20%5B-33.4484%2C%20-70.65271%5D%2C%20%5B-33.44891%2C%20-70.6554%5D%2C%20%5B-33.44202%2C%20-70.67548000000001%5D%2C%20%5B-33.43257%2C%20-70.62369%5D%2C%20%5B-33.41783%2C%20-70.60221999999999%5D%2C%20%5B-33.44802%2C%20-70.62026999999999%5D%2C%20%5B-33.398579999999995%2C%20-70.59855%5D%2C%20%5B-33.44119%2C%20-70.65916999999999%5D%2C%20%5B-33.43312%2C%20-70.64191%5D%2C%20%5B-33.42038%2C%20-70.59846999999999%5D%2C%20%5B-33.44948%2C%20-70.67026%5D%2C%20%5B-33.4443%2C%20-70.64407%5D%2C%20%5B-33.44014%2C%20-70.62532%5D%2C%20%5B-33.37662%2C%20-70.52539%5D%2C%20%5B-33.42747%2C%20-70.61596%5D%2C%20%5B-33.39397%2C%20-70.58873%5D%2C%20%5B-33.45167%2C%20-70.63309%5D%2C%20%5B-33.44964%2C%20-70.64093000000001%5D%2C%20%5B-33.44491%2C%20-70.63994%5D%2C%20%5B-33.44806%2C%20-70.63662%5D%2C%20%5B-33.42382%2C%20-70.60604000000001%5D%2C%20%5B-33.44455%2C%20-70.63619%5D%2C%20%5B-33.44982%2C%20-70.64796%5D%2C%20%5B-33.41349%2C%20-70.60244%5D%2C%20%5B-33.42967%2C%20-70.61974000000001%5D%2C%20%5B-33.398720000000004%2C%20-70.57777%5D%2C%20%5B-33.44435%2C%20-70.64531%5D%2C%20%5B-33.44482%2C%20-70.64846%5D%2C%20%5B-33.4387%2C%20-70.63798%5D%2C%20%5B-33.41795%2C%20-70.60406%5D%2C%20%5B-33.52297%2C%20-70.53461%5D%2C%20%5B-33.44827%2C%20-70.63457%5D%2C%20%5B-33.43393%2C%20-70.62095%5D%2C%20%5B-33.42734%2C%20-70.61853%5D%2C%20%5B-33.42693%2C%20-70.6205%5D%2C%20%5B-33.362390000000005%2C%20-70.6744%5D%2C%20%5B-33.43529%2C%20-70.6438%5D%2C%20%5B-33.447790000000005%2C%20-70.6412%5D%2C%20%5B-33.44997%2C%20-70.65026999999999%5D%2C%20%5B-33.442240000000005%2C%20-70.64413%5D%2C%20%5B-33.46151%2C%20-70.62805999999999%5D%2C%20%5B-33.45163%2C%20-70.6937%5D%2C%20%5B-33.43363%2C%20-70.65328000000001%5D%2C%20%5B-33.44145%2C%20-70.6595%5D%2C%20%5B-33.43584%2C%20-70.65928000000001%5D%2C%20%5B-33.43568%2C%20-70.65478%5D%2C%20%5B-33.44147%2C%20-70.59399%5D%2C%20%5B-33.45293%2C%20-70.6454%5D%2C%20%5B-33.39822%2C%20-70.58081999999999%5D%2C%20%5B-33.44553%2C%20-70.64676%5D%2C%20%5B-33.44652%2C%20-70.64672%5D%2C%20%5B-33.43996%2C%20-70.64149%5D%2C%20%5B-33.46463%2C%20-70.7004%5D%2C%20%5B-33.39845%2C%20-70.50889000000001%5D%2C%20%5B-33.41425%2C%20-70.60288%5D%2C%20%5B-33.42951%2C%20-70.61121999999999%5D%2C%20%5B-33.44945%2C%20-70.6538%5D%2C%20%5B-33.4463%2C%20-70.63479%5D%2C%20%5B-33.41567%2C%20-70.53322%5D%2C%20%5B-33.42545%2C%20-70.61541%5D%2C%20%5B-33.449059999999996%2C%20-70.61195%5D%2C%20%5B-33.42749%2C%20-70.60038%5D%2C%20%5B-33.43855%2C%20-70.65526%5D%2C%20%5B-33.44075%2C%20-70.66205%5D%2C%20%5B-33.44137%2C%20-70.64104%5D%2C%20%5B-33.41084%2C%20-70.56822%5D%2C%20%5B-33.44453%2C%20-70.62106999999999%5D%2C%20%5B-33.41669%2C%20-70.60007%5D%2C%20%5B-33.43395%2C%20-70.65406%5D%2C%20%5B-33.43635%2C%20-70.57198000000001%5D%2C%20%5B-33.447309999999995%2C%20-70.65392%5D%2C%20%5B-33.405390000000004%2C%20-70.57111%5D%2C%20%5B-33.44678%2C%20-70.63025999999999%5D%2C%20%5B-33.43114%2C%20-70.63036%5D%2C%20%5B-33.480579999999996%2C%20-70.76507%5D%2C%20%5B-33.445170000000005%2C%20-70.64494%5D%2C%20%5B-33.437%2C%20-70.63851%5D%2C%20%5B-33.401579999999996%2C%20-70.58166%5D%2C%20%5B-33.44355%2C%20-70.61209000000001%5D%2C%20%5B-33.44681%2C%20-70.63661%5D%2C%20%5B-33.42419%2C%20-70.587%5D%2C%20%5B-33.44757%2C%20-70.63645%5D%2C%20%5B-33.37958%2C%20-70.64459000000001%5D%2C%20%5B-33.39085%2C%20-70.54844%5D%2C%20%5B-33.4466%2C%20-70.64785%5D%2C%20%5B-33.40844%2C%20-70.54986%5D%2C%20%5B-33.45627%2C%20-70.58395%5D%2C%20%5B-33.462509999999995%2C%20-70.64318%5D%2C%20%5B-33.4459%2C%20-70.65051%5D%2C%20%5B-33.43757%2C%20-70.65451999999999%5D%2C%20%5B-33.42467%2C%20-70.61588%5D%2C%20%5B-33.43544%2C%20-70.60558%5D%2C%20%5B-33.43168%2C%20-70.60919%5D%2C%20%5B-33.50352%2C%20-70.6133%5D%2C%20%5B-33.44945%2C%20-70.64751%5D%2C%20%5B-33.44745%2C%20-70.62767%5D%2C%20%5B-33.419270000000004%2C%20-70.60401%5D%2C%20%5B-33.39011%2C%20-70.55768%5D%2C%20%5B-33.45332%2C%20-70.60095%5D%2C%20%5B-33.43459%2C%20-70.65759%5D%2C%20%5B-33.365990000000004%2C%20-70.50542%5D%2C%20%5B-33.4275%2C%20-70.61712%5D%2C%20%5B-33.34845%2C%20-70.31059%5D%2C%20%5B-33.441990000000004%2C%20-70.59447%5D%2C%20%5B-33.40043%2C%20-70.5714%5D%2C%20%5B-33.43845%2C%20-70.63897%5D%2C%20%5B-33.44593%2C%20-70.63507%5D%2C%20%5B-33.40572%2C%20-70.57765%5D%2C%20%5B-33.448159999999994%2C%20-70.63582%5D%2C%20%5B-33.42445%2C%20-70.57593%5D%2C%20%5B-33.419129999999996%2C%20-70.59742%5D%2C%20%5B-33.45035%2C%20-70.64805%5D%2C%20%5B-33.44722%2C%20-70.63559000000001%5D%2C%20%5B-33.43439%2C%20-70.6429%5D%2C%20%5B-33.45324%2C%20-70.65709%5D%2C%20%5B-33.4507%2C%20-70.66926%5D%2C%20%5B-33.442479999999996%2C%20-70.64375%5D%2C%20%5B-33.447340000000004%2C%20-70.6357%5D%2C%20%5B-33.43499%2C%20-70.64484%5D%2C%20%5B-33.38422%2C%20-70.57545%5D%2C%20%5B-33.447140000000005%2C%20-70.6584%5D%2C%20%5B-33.45667%2C%20-70.61523000000001%5D%2C%20%5B-33.44774%2C%20-70.65535%5D%2C%20%5B-33.42572%2C%20-70.61551999999999%5D%2C%20%5B-33.425090000000004%2C%20-70.61508%5D%2C%20%5B-33.43316%2C%20-70.64174%5D%2C%20%5B-33.46548%2C%20-70.62454%5D%2C%20%5B-33.443709999999996%2C%20-70.57621%5D%2C%20%5B-33.41527%2C%20-70.58484%5D%2C%20%5B-33.435340000000004%2C%20-70.59798%5D%2C%20%5B-33.37944%2C%20-70.54921999999999%5D%2C%20%5B-33.44645%2C%20-70.63271%5D%2C%20%5B-33.44305%2C%20-70.64643000000001%5D%2C%20%5B-33.443090000000005%2C%20-70.63367%5D%2C%20%5B-33.44628%2C%20-70.65303%5D%2C%20%5B-33.44385%2C%20-70.64488%5D%2C%20%5B-33.440290000000005%2C%20-70.65051%5D%2C%20%5B-33.45211%2C%20-70.61806%5D%2C%20%5B-33.43403%2C%20-70.63750999999999%5D%2C%20%5B-33.43336%2C%20-70.64166999999999%5D%2C%20%5B-33.4478%2C%20-70.62945%5D%2C%20%5B-33.45782%2C%20-70.62437%5D%2C%20%5B-33.401740000000004%2C%20-70.57396999999999%5D%2C%20%5B-33.42499%2C%20-70.58312%5D%2C%20%5B-33.452909999999996%2C%20-70.66393000000001%5D%2C%20%5B-33.40726%2C%20-70.55938%5D%2C%20%5B-33.4551%2C%20-70.63008%5D%2C%20%5B-33.44771%2C%20-70.66826%5D%2C%20%5B-33.46062%2C%20-70.64605%5D%2C%20%5B-33.451209999999996%2C%20-70.65055%5D%2C%20%5B-33.44358%2C%20-70.64461%5D%2C%20%5B-33.32805%2C%20-70.52113%5D%2C%20%5B-33.42196%2C%20-70.5794%5D%2C%20%5B-33.41649%2C%20-70.55619%5D%2C%20%5B-33.42196%2C%20-70.58001999999999%5D%2C%20%5B-33.44689%2C%20-70.59267%5D%2C%20%5B-33.3224%2C%20-70.25344%5D%2C%20%5B-33.44579%2C%20-70.64723000000001%5D%2C%20%5B-33.39376%2C%20-70.50832%5D%2C%20%5B-33.44341%2C%20-70.66103000000001%5D%2C%20%5B-33.45357%2C%20-70.69467%5D%2C%20%5B-33.401140000000005%2C%20-70.70375%5D%2C%20%5B-33.41556%2C%20-70.58295%5D%2C%20%5B-33.47014%2C%20-70.59769%5D%2C%20%5B-33.41564%2C%20-70.53886%5D%2C%20%5B-33.35625%2C%20-70.6783%5D%2C%20%5B-33.435990000000004%2C%20-70.66456%5D%2C%20%5B-33.44158%2C%20-70.66425%5D%2C%20%5B-33.43375%2C%20-70.64699999999999%5D%2C%20%5B-33.4351%2C%20-70.628%5D%2C%20%5B-33.442409999999995%2C%20-70.60499%5D%2C%20%5B-33.44726%2C%20-70.63511%5D%2C%20%5B-33.41639%2C%20-70.56912%5D%2C%20%5B-33.4321%2C%20-70.65925%5D%2C%20%5B-33.424690000000005%2C%20-70.58336%5D%2C%20%5B-33.42481%2C%20-70.64057%5D%2C%20%5B-33.40112%2C%20-70.56421999999999%5D%2C%20%5B-33.44743%2C%20-70.64662%5D%2C%20%5B-33.43574%2C%20-70.57171%5D%2C%20%5B-33.42074%2C%20-70.61371%5D%2C%20%5B-33.55798%2C%20-70.66892%5D%2C%20%5B-33.43895%2C%20-70.63744%5D%2C%20%5B-33.4214%2C%20-70.64157%5D%2C%20%5B-33.50535%2C%20-70.66006999999999%5D%2C%20%5B-33.38562%2C%20-70.53528%5D%2C%20%5B-33.46152%2C%20-70.65262%5D%2C%20%5B-33.42702%2C%20-70.59711999999999%5D%2C%20%5B-33.42606%2C%20-70.61174%5D%2C%20%5B-33.42872%2C%20-70.61859%5D%2C%20%5B-33.4642%2C%20-70.65503000000001%5D%2C%20%5B-33.43938%2C%20-70.6201%5D%2C%20%5B-33.51096%2C%20-70.55575999999999%5D%2C%20%5B-33.43237%2C%20-70.60979%5D%2C%20%5B-33.44613%2C%20-70.64573%5D%2C%20%5B-33.44635%2C%20-70.63828000000001%5D%2C%20%5B-33.44617%2C%20-70.64885%5D%2C%20%5B-33.45094%2C%20-70.67439%5D%2C%20%5B-33.434329999999996%2C%20-70.64262%5D%2C%20%5B-33.4343%2C%20-70.62803000000001%5D%2C%20%5B-33.44727%2C%20-70.54465%5D%2C%20%5B-33.455059999999996%2C%20-70.69957%5D%2C%20%5B-33.43428%2C%20-70.62873%5D%2C%20%5B-33.41729%2C%20-70.55604%5D%2C%20%5B-33.444179999999996%2C%20-70.64449%5D%2C%20%5B-33.41168%2C%20-70.57117%5D%2C%20%5B-33.42361%2C%20-70.65607%5D%2C%20%5B-33.44035%2C%20-70.65194%5D%2C%20%5B-33.43169%2C%20-70.60294%5D%2C%20%5B-33.42361%2C%20-70.61128000000001%5D%2C%20%5B-33.45286%2C%20-70.65159%5D%2C%20%5B-33.434%2C%20-70.64023%5D%2C%20%5B-33.452420000000004%2C%20-70.6519%5D%2C%20%5B-33.4486%2C%20-70.6194%5D%2C%20%5B-33.42284%2C%20-70.58952%5D%2C%20%5B-33.44359%2C%20-70.65736%5D%2C%20%5B-33.419540000000005%2C%20-70.61194%5D%2C%20%5B-33.448409999999996%2C%20-70.64442%5D%2C%20%5B-33.50417%2C%20-70.64921%5D%2C%20%5B-33.43295%2C%20-70.6522%5D%2C%20%5B-33.436370000000004%2C%20-70.64611%5D%2C%20%5B-33.48737%2C%20-70.61907%5D%2C%20%5B-33.486909999999995%2C%20-70.62080999999999%5D%2C%20%5B-33.487770000000005%2C%20-70.62035%5D%2C%20%5B-33.44247%2C%20-70.62383%5D%2C%20%5B-33.4267%2C%20-70.62083%5D%2C%20%5B-33.40784%2C%20-70.57179000000001%5D%2C%20%5B-33.453990000000005%2C%20-70.62844%5D%2C%20%5B-33.41907%2C%20-70.57267%5D%2C%20%5B-33.45015%2C%20-70.63296%5D%2C%20%5B-33.37741%2C%20-70.54446999999999%5D%2C%20%5B-33.37492%2C%20-70.54307%5D%2C%20%5B-33.436%2C%20-70.64485%5D%2C%20%5B-33.45412%2C%20-70.62640999999999%5D%2C%20%5B-33.407740000000004%2C%20-70.58624%5D%2C%20%5B-33.43902%2C%20-70.65119%5D%2C%20%5B-33.43915%2C%20-70.67369000000001%5D%2C%20%5B-33.53722%2C%20-70.67576%5D%2C%20%5B-33.440220000000004%2C%20-70.64135999999999%5D%2C%20%5B-33.43372%2C%20-70.65802%5D%2C%20%5B-33.43768%2C%20-70.59961%5D%2C%20%5B-33.44534%2C%20-70.6743%5D%2C%20%5B-33.42841%2C%20-70.61622%5D%2C%20%5B-33.42962%2C%20-70.616%5D%2C%20%5B-33.40637%2C%20-70.59714%5D%2C%20%5B-33.445477000000004%2C%20-70.64402%5D%2C%20%5B-33.43829%2C%20-70.59307%5D%2C%20%5B-33.45035%2C%20-70.60732%5D%2C%20%5B-33.41578%2C%20-70.60364%5D%2C%20%5B-33.41345%2C%20-70.54997%5D%2C%20%5B-33.44989%2C%20-70.64376%5D%2C%20%5B-33.43058%2C%20-70.64175%5D%2C%20%5B-33.4472%2C%20-70.63602%5D%2C%20%5B-33.44907%2C%20-70.63274%5D%2C%20%5B-33.43029%2C%20-70.61782%5D%2C%20%5B-33.44107%2C%20-70.61844%5D%2C%20%5B-33.439809999999994%2C%20-70.56860999999999%5D%2C%20%5B-33.44389%2C%20-70.64389%5D%2C%20%5B-33.45241%2C%20-70.63146%5D%2C%20%5B-33.4535%2C%20-70.66978%5D%2C%20%5B-33.456179999999996%2C%20-70.63315%5D%2C%20%5B-33.456959999999995%2C%20-70.59855999999999%5D%2C%20%5B-33.41612%2C%20-70.60177%5D%2C%20%5B-33.44169%2C%20-70.56274%5D%2C%20%5B-33.446329999999996%2C%20-70.63998000000001%5D%2C%20%5B-33.46512%2C%20-70.65538000000001%5D%2C%20%5B-33.440220000000004%2C%20-70.64438%5D%2C%20%5B-33.416709999999995%2C%20-70.59574%5D%2C%20%5B-33.444720000000004%2C%20-70.643%5D%2C%20%5B-33.44677%2C%20-70.67308%5D%2C%20%5B-33.456759999999996%2C%20-70.62907%5D%2C%20%5B-33.449059999999996%2C%20-70.64827%5D%2C%20%5B-33.44672%2C%20-70.64635%5D%2C%20%5B-33.455220000000004%2C%20-70.68966%5D%2C%20%5B-33.43797%2C%20-70.64263000000001%5D%2C%20%5B-33.417770000000004%2C%20-70.60167%5D%2C%20%5B-33.41147%2C%20-70.57602%5D%2C%20%5B-33.42066%2C%20-70.55508%5D%2C%20%5B-33.42978%2C%20-70.61235%5D%2C%20%5B-33.45118%2C%20-70.64838%5D%2C%20%5B-33.44655%2C%20-70.64883%5D%2C%20%5B-33.44182%2C%20-70.65845%5D%2C%20%5B-33.441359999999996%2C%20-70.65852%5D%2C%20%5B-33.44838%2C%20-70.64826%5D%2C%20%5B-33.44299%2C%20-70.64468000000001%5D%2C%20%5B-33.44296%2C%20-70.6585%5D%2C%20%5B-33.4346%2C%20-70.6116%5D%2C%20%5B-33.29695%2C%20-70.24734000000001%5D%2C%20%5B-33.43708%2C%20-70.63693%5D%2C%20%5B-33.44596%2C%20-70.64463%5D%2C%20%5B-33.42029%2C%20-70.59654%5D%2C%20%5B-33.43549%2C%20-70.65486%5D%2C%20%5B-33.441179999999996%2C%20-70.65356%5D%2C%20%5B-33.44442%2C%20-70.64457%5D%2C%20%5B-33.49993%2C%20-70.58707%5D%2C%20%5B-33.44823%2C%20-70.65517%5D%2C%20%5B-33.44075%2C%20-70.569%5D%2C%20%5B-33.43877%2C%20-70.64202%5D%2C%20%5B-33.45098%2C%20-70.59396%5D%2C%20%5B-33.45908%2C%20-70.5649%5D%2C%20%5B-33.43135%2C%20-70.6363%5D%2C%20%5B-33.41619%2C%20-70.60279%5D%2C%20%5B-33.44262%2C%20-70.64395999999999%5D%2C%20%5B-33.43835%2C%20-70.64395%5D%2C%20%5B-33.42995%2C%20-70.60970999999999%5D%2C%20%5B-33.46048%2C%20-70.59902%5D%2C%20%5B-33.40788%2C%20-70.5559%5D%2C%20%5B-33.43602%2C%20-70.64191%5D%2C%20%5B-33.419059999999995%2C%20-70.61109%5D%2C%20%5B-33.44612%2C%20-70.6348%5D%2C%20%5B-33.44%2C%20-70.63506%5D%2C%20%5B-33.4318%2C%20-70.6597%5D%2C%20%5B-33.48064%2C%20-70.64917%5D%2C%20%5B-33.437870000000004%2C%20-70.64369%5D%2C%20%5B-33.44123%2C%20-70.54573%5D%2C%20%5B-33.43734%2C%20-70.60613000000001%5D%2C%20%5B-33.400690000000004%2C%20-70.57368000000001%5D%2C%20%5B-33.44185%2C%20-70.63906999999999%5D%2C%20%5B-33.4487%2C%20-70.64035%5D%2C%20%5B-33.421890000000005%2C%20-70.64028%5D%2C%20%5B-33.44979%2C%20-70.65146%5D%2C%20%5B-33.4281%2C%20-70.61752%5D%2C%20%5B-33.42523%2C%20-70.58835%5D%2C%20%5B-33.43554%2C%20-70.60526%5D%2C%20%5B-33.41604%2C%20-70.56127%5D%2C%20%5B-33.4188%2C%20-70.55789%5D%2C%20%5B-33.42901%2C%20-70.62144%5D%2C%20%5B-33.41959%2C%20-70.61223000000001%5D%2C%20%5B-33.43776%2C%20-70.62807%5D%2C%20%5B-33.33572%2C%20-70.28898000000001%5D%2C%20%5B-33.41166%2C%20-70.56548000000001%5D%2C%20%5B-33.44056%2C%20-70.67399%5D%2C%20%5B-33.42922%2C%20-70.60996%5D%2C%20%5B-33.4435%2C%20-70.63127%5D%2C%20%5B-33.44976%2C%20-70.602104%5D%2C%20%5B-33.409240000000004%2C%20-70.56867%5D%2C%20%5B-33.4266%2C%20-70.6158%5D%2C%20%5B-33.44631%2C%20-70.65333000000001%5D%2C%20%5B-33.365809999999996%2C%20-70.56016%5D%2C%20%5B-33.43228%2C%20-70.62319000000001%5D%2C%20%5B-33.479009999999995%2C%20-70.67732%5D%2C%20%5B-33.443690000000004%2C%20-70.64253000000001%5D%2C%20%5B-33.43614%2C%20-70.62724%5D%2C%20%5B-33.511540000000004%2C%20-70.61059%5D%2C%20%5B-33.419290000000004%2C%20-70.57146999999999%5D%2C%20%5B-33.40401%2C%20-70.59753%5D%2C%20%5B-33.44829%2C%20-70.66555%5D%2C%20%5B-33.44285%2C%20-70.64628%5D%2C%20%5B-33.44193%2C%20-70.64520999999999%5D%2C%20%5B-33.44797%2C%20-70.59492%5D%2C%20%5B-33.4129%2C%20-70.57618000000001%5D%2C%20%5B-33.3909%2C%20-70.57352%5D%2C%20%5B-33.40182%2C%20-70.5629%5D%2C%20%5B-33.45755%2C%20-70.5757%5D%2C%20%5B-33.482%2C%20-70.65025%5D%2C%20%5B-33.44359%2C%20-70.65736%5D%2C%20%5B-33.437059999999995%2C%20-70.64787%5D%2C%20%5B-33.44826%2C%20-70.64031999999999%5D%2C%20%5B-33.41304%2C%20-70.56668%5D%2C%20%5B-33.418490000000006%2C%20-70.59431%5D%2C%20%5B-33.457840000000004%2C%20-70.62947%5D%2C%20%5B-33.33437%2C%20-70.28894%5D%2C%20%5B-33.44923%2C%20-70.60223%5D%2C%20%5B-33.45792%2C%20-70.7214%5D%2C%20%5B-33.45128%2C%20-70.6538%5D%2C%20%5B-33.410270000000004%2C%20-70.60306%5D%2C%20%5B-33.45429%2C%20-70.58312%5D%2C%20%5B-33.41727%2C%20-70.55825%5D%2C%20%5B-33.428709999999995%2C%20-70.61855%5D%2C%20%5B-33.42523%2C%20-70.61702%5D%2C%20%5B-33.41878%2C%20-70.59644%5D%2C%20%5B-33.41137%2C%20-70.56723000000001%5D%2C%20%5B-33.44441%2C%20-70.64917%5D%2C%20%5B-33.44778%2C%20-70.63435%5D%2C%20%5B-33.47152%2C%20-70.62515%5D%2C%20%5B-33.42937%2C%20-70.58757%5D%2C%20%5B-33.45005%2C%20-70.64976%5D%2C%20%5B-33.399770000000004%2C%20-70.57392%5D%2C%20%5B-33.434670000000004%2C%20-70.63544%5D%2C%20%5B-33.41867%2C%20-70.59666%5D%2C%20%5B-33.43692%2C%20-70.65783%5D%2C%20%5B-33.43845%2C%20-70.59095%5D%2C%20%5B-33.34598%2C%20-70.29191%5D%2C%20%5B-33.42797%2C%20-70.6187%5D%2C%20%5B-33.33522%2C%20-70.29144000000001%5D%2C%20%5B-33.42899%2C%20-70.62164%5D%2C%20%5B-33.38094%2C%20-70.57359%5D%2C%20%5B-33.4223%2C%20-70.60642%5D%2C%20%5B-33.446909999999995%2C%20-70.66016%5D%2C%20%5B-33.43885%2C%20-70.619%5D%2C%20%5B-33.4551%2C%20-70.57072%5D%2C%20%5B-33.41645%2C%20-70.59538%5D%2C%20%5B-33.44938%2C%20-70.63162%5D%2C%20%5B-33.43775%2C%20-70.63266999999999%5D%2C%20%5B-33.41773%2C%20-70.56201%5D%2C%20%5B-33.45105%2C%20-70.62208000000001%5D%2C%20%5B-33.42937%2C%20-70.61887%5D%2C%20%5B-33.44903%2C%20-70.64954%5D%2C%20%5B-33.35768%2C%20-70.39964%5D%2C%20%5B-33.34803%2C%20-70.2478%5D%2C%20%5B-33.44463%2C%20-70.64426%5D%2C%20%5B-33.3458%2C%20-70.29143%5D%2C%20%5B-33.45131%2C%20-70.64791%5D%2C%20%5B-33.41053%2C%20-70.56607%5D%2C%20%5B-33.43209%2C%20-70.63594%5D%2C%20%5B-33.43105%2C%20-70.62212%5D%2C%20%5B-33.45069%2C%20-70.62101%5D%2C%20%5B-33.448679999999996%2C%20-70.60128%5D%2C%20%5B-33.44525%2C%20-70.64689%5D%2C%20%5B-33.44912%2C%20-70.65114%5D%2C%20%5B-33.448370000000004%2C%20-70.61480999999999%5D%2C%20%5B-33.42455%2C%20-70.5925%5D%2C%20%5B-33.42633%2C%20-70.56153%5D%2C%20%5B-33.40619%2C%20-70.56237%5D%2C%20%5B-33.37089%2C%20-70.51238000000001%5D%2C%20%5B-33.54043%2C%20-70.56911%5D%2C%20%5B-33.42361%2C%20-70.61556%5D%2C%20%5B-33.44988%2C%20-70.64726999999999%5D%2C%20%5B-33.44334%2C%20-70.64346%5D%2C%20%5B-33.444720000000004%2C%20-70.63585%5D%2C%20%5B-33.334559999999996%2C%20-70.29001%5D%2C%20%5B-33.42645%2C%20-70.6163%5D%2C%20%5B-33.450540000000004%2C%20-70.64026%5D%2C%20%5B-33.409909999999996%2C%20-70.57661%5D%2C%20%5B-33.43845%2C%20-70.64524%5D%2C%20%5B-33.43712%2C%20-70.64307%5D%2C%20%5B-33.43813%2C%20-70.64335%5D%2C%20%5B-33.43838%2C%20-70.64317%5D%2C%20%5B-33.436659999999996%2C%20-70.64325%5D%2C%20%5B-33.43866%2C%20-70.64538%5D%2C%20%5B-33.42371%2C%20-70.5757%5D%2C%20%5B-33.49006%2C%20-70.52676%5D%2C%20%5B-33.43473%2C%20-70.65673000000001%5D%2C%20%5B-33.43776%2C%20-70.63006%5D%2C%20%5B-33.45223%2C%20-70.61558000000001%5D%2C%20%5B-33.443529999999996%2C%20-70.63599%5D%2C%20%5B-33.4097%2C%20-70.57992%5D%2C%20%5B-33.40063%2C%20-70.57378%5D%2C%20%5B-33.44291%2C%20-70.67659%5D%2C%20%5B-33.433820000000004%2C%20-70.60593%5D%2C%20%5B-33.40563%2C%20-70.59605%5D%2C%20%5B-33.35042%2C%20-70.29597%5D%2C%20%5B-33.44813%2C%20-70.64995%5D%2C%20%5B-33.446870000000004%2C%20-70.63448000000001%5D%2C%20%5B-33.41891%2C%20-70.55412%5D%2C%20%5B-33.38771%2C%20-70.57216%5D%2C%20%5B-33.4123%2C%20-70.5744%5D%2C%20%5B-33.41406%2C%20-70.59855%5D%2C%20%5B-33.4348%2C%20-70.62779%5D%2C%20%5B-33.41687%2C%20-70.60164%5D%2C%20%5B-33.34861%2C%20-70.29308%5D%2C%20%5B-33.43506%2C%20-70.60174%5D%2C%20%5B-33.42712%2C%20-70.59084%5D%2C%20%5B-33.44135%2C%20-70.60114%5D%2C%20%5B-33.43087%2C%20-70.632%5D%2C%20%5B-33.41747%2C%20-70.59737%5D%2C%20%5B-33.429520000000004%2C%20-70.65775%5D%2C%20%5B-33.41581%2C%20-70.58838%5D%2C%20%5B-33.49807%2C%20-70.65925%5D%2C%20%5B-33.447340000000004%2C%20-70.6357%5D%2C%20%5B-33.45024%2C%20-70.6484%5D%2C%20%5B-33.41559%2C%20-70.59765%5D%2C%20%5B-33.34673%2C%20-70.66874%5D%2C%20%5B-33.44039%2C%20-70.64235%5D%2C%20%5B-33.446870000000004%2C%20-70.67047%5D%2C%20%5B-33.44723%2C%20-70.63818%5D%2C%20%5B-33.40651%2C%20-70.578%5D%2C%20%5B-33.42345%2C%20-70.60856%5D%2C%20%5B-33.43967%2C%20-70.68944%5D%2C%20%5B-33.41851%2C%20-70.61249000000001%5D%2C%20%5B-33.434670000000004%2C%20-70.63280999999999%5D%2C%20%5B-33.417770000000004%2C%20-70.5987%5D%2C%20%5B-33.453379999999996%2C%20-70.61639%5D%2C%20%5B-33.42406%2C%20-70.58569%5D%2C%20%5B-33.44088%2C%20-70.66564%5D%2C%20%5B-33.42528%2C%20-70.61636999999999%5D%2C%20%5B-33.437059999999995%2C%20-70.64787%5D%2C%20%5B-33.431670000000004%2C%20-70.62137%5D%2C%20%5B-33.43792%2C%20-70.64563000000001%5D%2C%20%5B-33.405229999999996%2C%20-70.57079%5D%2C%20%5B-33.43418%2C%20-70.60842%5D%2C%20%5B-33.44859%2C%20-70.65%5D%2C%20%5B-33.444390000000006%2C%20-70.63773%5D%2C%20%5B-33.33551%2C%20-70.29101%5D%2C%20%5B-33.43643%2C%20-70.65816%5D%2C%20%5B-33.41444%2C%20-70.58582%5D%2C%20%5B-33.4289%2C%20-70.61881%5D%2C%20%5B-33.50669%2C%20-70.65946%5D%2C%20%5B-33.33493%2C%20-70.291%5D%2C%20%5B-33.34701%2C%20-70.29182%5D%2C%20%5B-33.42031%2C%20-70.61928%5D%2C%20%5B-33.438140000000004%2C%20-70.64819%5D%2C%20%5B-33.39887%2C%20-70.57199%5D%2C%20%5B-33.3509%2C%20-70.31087%5D%2C%20%5B-33.42301%2C%20-70.61182%5D%2C%20%5B-33.45013%2C%20-70.65467%5D%2C%20%5B-33.44546%2C%20-70.63303%5D%2C%20%5B-33.3887%2C%20-70.60736%5D%2C%20%5B-33.425670000000004%2C%20-70.60905%5D%2C%20%5B-33.44038%2C%20-70.54649%5D%2C%20%5B-33.42876%2C%20-70.5763%5D%2C%20%5B-33.42824%2C%20-70.60823%5D%2C%20%5B-33.41916%2C%20-70.60396%5D%2C%20%5B-33.44916%2C%20-70.62915%5D%2C%20%5B-33.411559999999994%2C%20-70.57984%5D%2C%20%5B-33.442190000000004%2C%20-70.65824%5D%2C%20%5B-33.34878%2C%20-70.29194%5D%2C%20%5B-33.4494%2C%20-70.6544%5D%2C%20%5B-33.443670000000004%2C%20-70.64307%5D%2C%20%5B-33.45319%2C%20-70.64537%5D%2C%20%5B-33.44102%2C%20-70.65613%5D%2C%20%5B-33.45613%2C%20-70.70026%5D%2C%20%5B-33.437%2C%20-70.65972%5D%2C%20%5B-33.45071%2C%20-70.65495%5D%2C%20%5B-33.52084%2C%20-70.55668%5D%2C%20%5B-33.41661%2C%20-70.6022%5D%2C%20%5B-33.42792%2C%20-70.67658%5D%2C%20%5B-33.41417%2C%20-70.56459%5D%2C%20%5B-33.44678%2C%20-70.64613%5D%2C%20%5B-33.41747%2C%20-70.53773000000001%5D%2C%20%5B-33.437459999999994%2C%20-70.63033%5D%2C%20%5B-33.43927%2C%20-70.64053%5D%2C%20%5B-33.546209999999995%2C%20-70.57149%5D%2C%20%5B-33.4644%2C%20-70.58234%5D%2C%20%5B-33.449529999999996%2C%20-70.64905%5D%2C%20%5B-33.43056%2C%20-70.60727%5D%2C%20%5B-33.43598%2C%20-70.64739%5D%2C%20%5B-33.45581%2C%20-70.69978%5D%2C%20%5B-33.44389%2C%20-70.64403%5D%2C%20%5B-33.427040000000005%2C%20-70.6065%5D%2C%20%5B-33.42256%2C%20-70.60659%5D%2C%20%5B-33.436370000000004%2C%20-70.64658%5D%2C%20%5B-33.43288%2C%20-70.63906%5D%2C%20%5B-33.42729%2C%20-70.67748%5D%2C%20%5B-33.42745%2C%20-70.67787%5D%2C%20%5B-33.44813%2C%20-70.65116%5D%2C%20%5B-33.44278%2C%20-70.60604000000001%5D%2C%20%5B-33.4367%2C%20-70.64919%5D%2C%20%5B-33.41505%2C%20-70.60428%5D%2C%20%5B-33.41328%2C%20-70.58598%5D%2C%20%5B-33.4447%2C%20-70.63600000000001%5D%2C%20%5B-33.488009999999996%2C%20-70.54312%5D%2C%20%5B-33.44234%2C%20-70.63784%5D%2C%20%5B-33.44846%2C%20-70.63948%5D%2C%20%5B-33.45516%2C%20-70.5835%5D%2C%20%5B-33.43744%2C%20-70.64816%5D%2C%20%5B-33.44977%2C%20-70.64887%5D%2C%20%5B-33.43725%2C%20-70.64543%5D%2C%20%5B-33.433040000000005%2C%20-70.58447%5D%2C%20%5B-33.415440000000004%2C%20-70.60145%5D%2C%20%5B-33.440059999999995%2C%20-70.6175%5D%2C%20%5B-33.444309999999994%2C%20-70.63568000000001%5D%2C%20%5B-33.437979999999996%2C%20-70.64497%5D%2C%20%5B-33.44402%2C%20-70.55166%5D%2C%20%5B-33.34632%2C%20-70.294%5D%2C%20%5B-33.430820000000004%2C%20-70.63558%5D%2C%20%5B-33.52156%2C%20-70.60764%5D%2C%20%5B-33.45214%2C%20-70.64026%5D%2C%20%5B-33.34599%2C%20-70.29143%5D%2C%20%5B-33.40272%2C%20-70.56834%5D%2C%20%5B-33.30075%2C%20-70.24671%5D%2C%20%5B-33.44875%2C%20-70.64909%5D%2C%20%5B-33.405809999999995%2C%20-70.56765%5D%2C%20%5B-33.33701%2C%20-70.2919%5D%2C%20%5B-33.33445%2C%20-70.28995%5D%2C%20%5B-33.44677%2C%20-70.64133000000001%5D%2C%20%5B-33.43662%2C%20-70.57965%5D%2C%20%5B-33.33393%2C%20-70.28856999999999%5D%2C%20%5B-33.411640000000006%2C%20-70.60053%5D%2C%20%5B-33.44095%2C%20-70.63215%5D%2C%20%5B-33.43995%2C%20-70.65772%5D%2C%20%5B-33.44831%2C%20-70.65306%5D%2C%20%5B-33.4502%2C%20-70.64876%5D%2C%20%5B-33.41149%2C%20-70.60084%5D%2C%20%5B-33.447559999999996%2C%20-70.63586%5D%2C%20%5B-33.40169%2C%20-70.57346%5D%2C%20%5B-33.434740000000005%2C%20-70.66578%5D%2C%20%5B-33.43225%2C%20-70.65833%5D%2C%20%5B-33.44719%2C%20-70.60284%5D%2C%20%5B-33.433409999999995%2C%20-70.65953%5D%2C%20%5B-33.43931%2C%20-70.65777%5D%2C%20%5B-33.44601%2C%20-70.63369%5D%2C%20%5B-33.29659%2C%20-70.2484%5D%2C%20%5B-33.42138%2C%20-70.58867%5D%2C%20%5B-33.43407%2C%20-70.65816%5D%2C%20%5B-33.332570000000004%2C%20-70.28855%5D%2C%20%5B-33.41965%2C%20-70.62085%5D%2C%20%5B-33.43538%2C%20-70.63013000000001%5D%2C%20%5B-33.453509999999994%2C%20-70.57596%5D%2C%20%5B-33.43908%2C%20-70.64581%5D%2C%20%5B-33.40815%2C%20-70.54760999999999%5D%2C%20%5B-33.438590000000005%2C%20-70.55184%5D%2C%20%5B-33.42845%2C%20-70.61802%5D%2C%20%5B-33.44135%2C%20-70.65789000000001%5D%2C%20%5B-33.41793%2C%20-70.568%5D%2C%20%5B-33.453520000000005%2C%20-70.59586999999999%5D%2C%20%5B-33.43888%2C%20-70.62966999999999%5D%2C%20%5B-33.42522%2C%20-70.615%5D%2C%20%5B-33.44469%2C%20-70.65026999999999%5D%2C%20%5B-33.43695%2C%20-70.63868000000001%5D%2C%20%5B-33.42819%2C%20-70.60445%5D%2C%20%5B-33.38507%2C%20-70.55722%5D%2C%20%5B-33.440459999999995%2C%20-70.55181%5D%2C%20%5B-33.43573%2C%20-70.63898%5D%2C%20%5B-33.42617%2C%20-70.56264%5D%2C%20%5B-33.438340000000004%2C%20-70.668%5D%2C%20%5B-33.4128%2C%20-70.5756%5D%2C%20%5B-33.41661%2C%20-70.59581%5D%2C%20%5B-33.43158%2C%20-70.62392%5D%2C%20%5B-33.39451%2C%20-70.5878%5D%2C%20%5B-33.4298%2C%20-70.61013%5D%2C%20%5B-33.448570000000004%2C%20-70.59881999999999%5D%2C%20%5B-33.44267%2C%20-70.60588%5D%2C%20%5B-33.4372%2C%20-70.65561%5D%2C%20%5B-33.44939%2C%20-70.63898%5D%2C%20%5B-33.433820000000004%2C%20-70.61618%5D%2C%20%5B-33.34993%2C%20-70.29590999999999%5D%2C%20%5B-33.46209%2C%20-70.58743%5D%2C%20%5B-33.44641%2C%20-70.63851%5D%2C%20%5B-33.44527%2C%20-70.63848%5D%2C%20%5B-33.43105%2C%20-70.65594%5D%2C%20%5B-33.445209999999996%2C%20-70.64957%5D%2C%20%5B-33.42572%2C%20-70.59337%5D%2C%20%5B-33.28208%2C%20-70.23451999999999%5D%2C%20%5B-33.44016%2C%20-70.64915%5D%2C%20%5B-33.43443%2C%20-70.64143%5D%2C%20%5B-33.44027%2C%20-70.65919%5D%2C%20%5B-33.487159999999996%2C%20-70.59703%5D%2C%20%5B-33.4336%2C%20-70.62434%5D%2C%20%5B-33.41333%2C%20-70.56626999999999%5D%2C%20%5B-33.4329%2C%20-70.60959%5D%2C%20%5B-33.41048%2C%20-70.57352%5D%2C%20%5B-33.44523%2C%20-70.64935%5D%2C%20%5B-33.42115%2C%20-70.64376999999999%5D%2C%20%5B-33.455090000000006%2C%20-70.68956999999999%5D%2C%20%5B-33.43693%2C%20-70.64571%5D%2C%20%5B-33.440259999999995%2C%20-70.67220999999999%5D%2C%20%5B-33.42094%2C%20-70.61219%5D%2C%20%5B-33.4241%2C%20-70.61652%5D%2C%20%5B-33.43094%2C%20-70.6097%5D%2C%20%5B-33.48822%2C%20-70.64791%5D%2C%20%5B-33.40625%2C%20-70.57468%5D%2C%20%5B-33.4528%2C%20-70.64896999999999%5D%2C%20%5B-33.45599%2C%20-70.64361%5D%2C%20%5B-33.438%2C%20-70.64748%5D%2C%20%5B-33.45559%2C%20-70.65818%5D%2C%20%5B-33.36577%2C%20-70.51888000000001%5D%2C%20%5B-33.346340000000005%2C%20-70.29108000000001%5D%2C%20%5B-33.447340000000004%2C%20-70.6357%5D%2C%20%5B-33.45635%2C%20-70.59409000000001%5D%2C%20%5B-33.4365%2C%20-70.62991%5D%2C%20%5B-33.4478%2C%20-70.63783000000001%5D%2C%20%5B-33.396190000000004%2C%20-70.5963%5D%2C%20%5B-33.4274%2C%20-70.61435%5D%2C%20%5B-33.4452%2C%20-70.65777%5D%2C%20%5B-33.44593%2C%20-70.62510999999999%5D%2C%20%5B-33.44327%2C%20-70.64452%5D%2C%20%5B-33.41251%2C%20-70.60087%5D%2C%20%5B-33.40651%2C%20-70.58188%5D%2C%20%5B-33.44421%2C%20-70.64537%5D%2C%20%5B-33.447990000000004%2C%20-70.64291%5D%2C%20%5B-33.4156%2C%20-70.60145%5D%2C%20%5B-33.433%2C%20-70.64090999999999%5D%2C%20%5B-33.43424%2C%20-70.60186%5D%2C%20%5B-33.39398%2C%20-70.54165%5D%2C%20%5B-33.42333%2C%20-70.61452%5D%2C%20%5B-33.429429999999996%2C%20-70.64144%5D%2C%20%5B-33.4151%2C%20-70.58816%5D%2C%20%5B-33.41124%2C%20-70.58796%5D%2C%20%5B-33.53754%2C%20-70.53979%5D%2C%20%5B-33.43824%2C%20-70.64949%5D%2C%20%5B-33.43782%2C%20-70.52589%5D%2C%20%5B-33.42383%2C%20-70.63942%5D%2C%20%5B-33.43264%2C%20-70.63926%5D%2C%20%5B-33.448409999999996%2C%20-70.65321999999999%5D%2C%20%5B-33.40842%2C%20-70.5428%5D%2C%20%5B-33.43197%2C%20-70.60668000000001%5D%2C%20%5B-33.38779%2C%20-70.51189000000001%5D%2C%20%5B-33.44015%2C%20-70.64188%5D%2C%20%5B-33.422059999999995%2C%20-70.60076%5D%2C%20%5B-33.44317%2C%20-70.64441%5D%2C%20%5B-33.41318%2C%20-70.60225%5D%2C%20%5B-33.43076%2C%20-70.58083%5D%2C%20%5B-33.35654%2C%20-70.50525999999999%5D%2C%20%5B-33.41308%2C%20-70.59022%5D%2C%20%5B-33.44191%2C%20-70.67596%5D%2C%20%5B-33.44552%2C%20-70.64475999999999%5D%2C%20%5B-33.44879%2C%20-70.60309000000001%5D%2C%20%5B-33.425329999999995%2C%20-70.58586%5D%2C%20%5B-33.43292%2C%20-70.65576%5D%2C%20%5B-33.438320000000004%2C%20-70.64341999999999%5D%2C%20%5B-33.40423%2C%20-70.58494%5D%2C%20%5B-33.40097%2C%20-70.57287%5D%2C%20%5B-33.44191%2C%20-70.67596%5D%2C%20%5B-33.44191%2C%20-70.67596%5D%2C%20%5B-33.3477%2C%20-70.29193000000001%5D%2C%20%5B-33.464940000000006%2C%20-70.64955%5D%2C%20%5B-33.44234%2C%20-70.58163%5D%2C%20%5B-33.42208%2C%20-70.57934%5D%2C%20%5B-33.44941%2C%20-70.63252%5D%2C%20%5B-33.567170000000004%2C%20-70.77506%5D%2C%20%5B-33.430209999999995%2C%20-70.6065%5D%2C%20%5B-33.431259999999995%2C%20-70.61243%5D%2C%20%5B-33.42139%2C%20-70.57112%5D%2C%20%5B-33.42713%2C%20-70.5617%5D%2C%20%5B-33.412%2C%20-70.59373000000001%5D%2C%20%5B-33.4376%2C%20-70.65533%5D%2C%20%5B-33.406079999999996%2C%20-70.59578%5D%2C%20%5B-33.445479999999996%2C%20-70.64701%5D%2C%20%5B-33.40348%2C%20-70.50394%5D%2C%20%5B-33.401559999999996%2C%20-70.50367%5D%2C%20%5B-33.44549%2C%20-70.63951999999999%5D%2C%20%5B-33.44148%2C%20-70.63498%5D%2C%20%5B-33.41775%2C%20-70.6135%5D%2C%20%5B-33.433%2C%20-70.63687%5D%2C%20%5B-33.41393%2C%20-70.60299%5D%2C%20%5B-33.41584%2C%20-70.60348%5D%2C%20%5B-33.42563%2C%20-70.61237%5D%2C%20%5B-33.449529999999996%2C%20-70.62111999999999%5D%2C%20%5B-33.43657%2C%20-70.64502%5D%2C%20%5B-33.452329999999996%2C%20-70.57888%5D%2C%20%5B-33.47795%2C%20-70.53886999999999%5D%2C%20%5B-33.436209999999996%2C%20-70.64945999999999%5D%2C%20%5B-33.44008%2C%20-70.60648%5D%2C%20%5B-33.41935%2C%20-70.57651%5D%2C%20%5B-33.380340000000004%2C%20-70.50088000000001%5D%2C%20%5B-33.42454%2C%20-70.54906%5D%2C%20%5B-33.51332%2C%20-70.66416%5D%2C%20%5B-33.43212%2C%20-70.67819%5D%2C%20%5B-33.41129%2C%20-70.58105%5D%2C%20%5B-33.44361%2C%20-70.64018%5D%2C%20%5B-33.44246%2C%20-70.70226%5D%2C%20%5B-33.438990000000004%2C%20-70.57103000000001%5D%2C%20%5B-33.420190000000005%2C%20-70.60438%5D%2C%20%5B-33.41507%2C%20-70.60122%5D%2C%20%5B-33.42453%2C%20-70.58516999999999%5D%2C%20%5B-33.428670000000004%2C%20-70.61289000000001%5D%2C%20%5B-33.418079999999996%2C%20-70.59696%5D%2C%20%5B-33.43464%2C%20-70.61025%5D%2C%20%5B-33.451159999999994%2C%20-70.65479%5D%2C%20%5B-33.4275%2C%20-70.60898%5D%2C%20%5B-33.43873%2C%20-70.65671999999999%5D%2C%20%5B-33.44713%2C%20-70.63918000000001%5D%2C%20%5B-33.42791%2C%20-70.58785%5D%2C%20%5B-33.418009999999995%2C%20-70.58337%5D%2C%20%5B-33.427620000000005%2C%20-70.61094%5D%2C%20%5B-33.45009%2C%20-70.63463%5D%2C%20%5B-33.39377%2C%20-70.5657%5D%2C%20%5B-33.43438%2C%20-70.64349%5D%2C%20%5B-33.43847%2C%20-70.57183%5D%2C%20%5B-33.443290000000005%2C%20-70.64216%5D%2C%20%5B-33.43795%2C%20-70.59534000000001%5D%2C%20%5B-33.399370000000005%2C%20-70.57313%5D%2C%20%5B-33.43785%2C%20-70.64399%5D%2C%20%5B-33.45021%2C%20-70.6543%5D%2C%20%5B-33.4116%2C%20-70.60114%5D%2C%20%5B-33.4169%2C%20-70.60481999999999%5D%2C%20%5B-33.447309999999995%2C%20-70.65109%5D%2C%20%5B-33.4062%2C%20-70.57052%5D%2C%20%5B-33.43195%2C%20-70.57146%5D%2C%20%5B-33.42606%2C%20-70.55658000000001%5D%2C%20%5B-33.45624%2C%20-70.57378%5D%2C%20%5B-33.45333%2C%20-70.5582%5D%2C%20%5B-33.44702%2C%20-70.64326%5D%2C%20%5B-33.44273%2C%20-70.64268%5D%2C%20%5B-33.431%2C%20-70.55702%5D%2C%20%5B-33.44057%2C%20-70.64568%5D%2C%20%5B-33.41025%2C%20-70.59936%5D%2C%20%5B-33.44122%2C%20-70.64718%5D%2C%20%5B-33.44104%2C%20-70.6325%5D%2C%20%5B-33.43667%2C%20-70.63752%5D%2C%20%5B-33.428509999999996%2C%20-70.58863000000001%5D%2C%20%5B-33.40542%2C%20-70.5495%5D%2C%20%5B-33.40425%2C%20-70.55009%5D%2C%20%5B-33.43642%2C%20-70.64556999999999%5D%2C%20%5B-33.44838%2C%20-70.63218%5D%2C%20%5B-33.447759999999995%2C%20-70.63261999999999%5D%2C%20%5B-33.44981%2C%20-70.64657%5D%2C%20%5B-33.45013%2C%20-70.64826%5D%2C%20%5B-33.43697%2C%20-70.64258000000001%5D%2C%20%5B-33.42993%2C%20-70.59765%5D%2C%20%5B-33.42185%2C%20-70.60744%5D%2C%20%5B-33.436440000000005%2C%20-70.64327%5D%2C%20%5B-33.40413%2C%20-70.54814%5D%2C%20%5B-33.41277%2C%20-70.59553000000001%5D%2C%20%5B-33.487109999999994%2C%20-70.58408%5D%2C%20%5B-33.449490000000004%2C%20-70.64265999999999%5D%2C%20%5B-33.4486%2C%20-70.64188%5D%2C%20%5B-33.4264%2C%20-70.60019%5D%2C%20%5B-33.45082%2C%20-70.64057%5D%2C%20%5B-33.404740000000004%2C%20-70.51796999999999%5D%2C%20%5B-33.43946%2C%20-70.60069%5D%2C%20%5B-33.44744%2C%20-70.63679%5D%2C%20%5B-33.43524%2C%20-70.64782%5D%2C%20%5B-33.442609999999995%2C%20-70.66064%5D%2C%20%5B-33.4346%2C%20-70.64347%5D%2C%20%5B-33.41918%2C%20-70.59683000000001%5D%2C%20%5B-33.39076%2C%20-70.57101%5D%2C%20%5B-33.413109999999996%2C%20-70.58436999999999%5D%2C%20%5B-33.41368%2C%20-70.58508%5D%2C%20%5B-33.447990000000004%2C%20-70.63991999999999%5D%2C%20%5B-33.43915%2C%20-70.64138%5D%2C%20%5B-33.44319%2C%20-70.67706%5D%2C%20%5B-33.408190000000005%2C%20-70.5465%5D%2C%20%5B-33.44449%2C%20-70.6491%5D%2C%20%5B-33.42755%2C%20-70.6374%5D%2C%20%5B-33.424609999999994%2C%20-70.59385999999999%5D%2C%20%5B-33.43953%2C%20-70.62425%5D%2C%20%5B-33.44958%2C%20-70.6306%5D%2C%20%5B-33.399370000000005%2C%20-70.57313%5D%2C%20%5B-33.411770000000004%2C%20-70.57540999999999%5D%2C%20%5B-33.45101%2C%20-70.64611%5D%2C%20%5B-33.41389%2C%20-70.54562%5D%2C%20%5B-33.41513%2C%20-70.5443%5D%2C%20%5B-33.44465%2C%20-70.6442%5D%2C%20%5B-33.47145%2C%20-70.6024%5D%2C%20%5B-33.436809999999994%2C%20-70.63384%5D%2C%20%5B-33.4448%2C%20-70.63888%5D%2C%20%5B-33.44364%2C%20-70.6443%5D%2C%20%5B-33.401720000000005%2C%20-70.57376%5D%2C%20%5B-33.43107%2C%20-70.61884%5D%2C%20%5B-33.4241%2C%20-70.60635%5D%2C%20%5B-33.44693%2C%20-70.5976%5D%2C%20%5B-33.43956%2C%20-70.62531%5D%2C%20%5B-33.42125%2C%20-70.61022%5D%2C%20%5B-33.45534%2C%20-70.61039%5D%2C%20%5B-33.43718%2C%20-70.6437%5D%2C%20%5B-33.34035%2C%20-70.47014%5D%2C%20%5B-33.42281%2C%20-70.57488000000001%5D%2C%20%5B-33.45525%2C%20-70.61076%5D%2C%20%5B-33.43084%2C%20-70.62486%5D%2C%20%5B-33.4249%2C%20-70.61486%5D%2C%20%5B-33.445609999999995%2C%20-70.63143000000001%5D%2C%20%5B-33.43537%2C%20-70.653%5D%2C%20%5B-33.4289%2C%20-70.61816%5D%2C%20%5B-33.44262%2C%20-70.66695%5D%2C%20%5B-33.45361%2C%20-70.59409000000001%5D%2C%20%5B-33.40671%2C%20-70.60064%5D%2C%20%5B-33.43545%2C%20-70.55606999999999%5D%2C%20%5B-33.497820000000004%2C%20-70.65471%5D%2C%20%5B-33.44347%2C%20-70.64502%5D%2C%20%5B-33.44921%2C%20-70.65354%5D%2C%20%5B-33.434459999999994%2C%20-70.62905%5D%2C%20%5B-33.44444%2C%20-70.63439%5D%2C%20%5B-33.41225%2C%20-70.58895%5D%2C%20%5B-33.4129%2C%20-70.5931%5D%2C%20%5B-33.33688%2C%20-70.54758000000001%5D%2C%20%5B-33.44493%2C%20-70.62977%5D%2C%20%5B-33.43358%2C%20-70.62602%5D%2C%20%5B-33.42317%2C%20-70.60587%5D%2C%20%5B-33.43861%2C%20-70.65479%5D%2C%20%5B-33.43175%2C%20-70.63573000000001%5D%2C%20%5B-33.44507%2C%20-70.59694%5D%2C%20%5B-33.4267%2C%20-70.59822%5D%2C%20%5B-33.41545%2C%20-70.58044%5D%2C%20%5B-33.404790000000006%2C%20-70.54776%5D%2C%20%5B-33.44862%2C%20-70.63346%5D%2C%20%5B-33.43394%2C%20-70.61426%5D%2C%20%5B-33.445679999999996%2C%20-70.64556999999999%5D%2C%20%5B-33.41618%2C%20-70.59728%5D%2C%20%5B-33.45088%2C%20-70.65513%5D%2C%20%5B-33.42863%2C%20-70.60656%5D%2C%20%5B-33.44852%2C%20-70.63502%5D%2C%20%5B-33.4238%2C%20-70.61036999999999%5D%2C%20%5B-33.433440000000004%2C%20-70.60409%5D%2C%20%5B-33.4004%2C%20-70.54278000000001%5D%2C%20%5B-33.39857%2C%20-70.59794000000001%5D%2C%20%5B-33.41948%2C%20-70.58256%5D%2C%20%5B-33.44923%2C%20-70.65756999999999%5D%2C%20%5B-33.43893%2C%20-70.60389%5D%2C%20%5B-33.45559%2C%20-70.63341%5D%2C%20%5B-33.26708%2C%20-70.23429%5D%2C%20%5B-33.405590000000004%2C%20-70.54876%5D%2C%20%5B-33.400220000000004%2C%20-70.57821%5D%2C%20%5B-33.43585%2C%20-70.64395%5D%2C%20%5B-33.51478%2C%20-70.5995%5D%2C%20%5B-33.45058%2C%20-70.64799000000001%5D%2C%20%5B-33.43483%2C%20-70.64745%5D%2C%20%5B-33.45097%2C%20-70.57866999999999%5D%2C%20%5B-33.41918%2C%20-70.58281%5D%2C%20%5B-33.412620000000004%2C%20-70.59905%5D%2C%20%5B-33.412859999999995%2C%20-70.58136%5D%2C%20%5B-33.4447%2C%20-70.65836%5D%2C%20%5B-33.412279999999996%2C%20-70.57061%5D%2C%20%5B-33.43469%2C%20-70.62376%5D%2C%20%5B-33.41259%2C%20-70.58495%5D%2C%20%5B-33.44492%2C%20-70.57453000000001%5D%2C%20%5B-33.43691%2C%20-70.64166999999999%5D%2C%20%5B-33.44511%2C%20-70.63974%5D%2C%20%5B-33.4344%2C%20-70.62883000000001%5D%2C%20%5B-33.360079999999996%2C%20-70.70906%5D%2C%20%5B-33.44474%2C%20-70.65637%5D%2C%20%5B-33.4475%2C%20-70.65599%5D%2C%20%5B-33.41465%2C%20-70.59539000000001%5D%2C%20%5B-33.42775%2C%20-70.57723%5D%2C%20%5B-33.41548%2C%20-70.60144%5D%2C%20%5B-33.458090000000006%2C%20-70.57651%5D%2C%20%5B-33.44701%2C%20-70.6392%5D%2C%20%5B-33.449459999999995%2C%20-70.63083%5D%2C%20%5B-33.43303%2C%20-70.67978000000001%5D%2C%20%5B-33.43795%2C%20-70.60159%5D%2C%20%5B-33.38407%2C%20-70.53426%5D%2C%20%5B-33.43757%2C%20-70.64731%5D%2C%20%5B-33.38435%2C%20-70.52932%5D%2C%20%5B-33.46763%2C%20-70.619%5D%2C%20%5B-33.42629%2C%20-70.58736999999999%5D%2C%20%5B-33.42988%2C%20-70.61379000000001%5D%2C%20%5B-33.45701%2C%20-70.62963%5D%2C%20%5B-33.42109%2C%20-70.61198%5D%2C%20%5B-33.45471%2C%20-70.58481%5D%2C%20%5B-33.3888%2C%20-70.58753%5D%2C%20%5B-33.49608%2C%20-70.59294%5D%2C%20%5B-33.41792%2C%20-70.56775%5D%2C%20%5B-33.42827%2C%20-70.60811%5D%2C%20%5B-33.49733%2C%20-70.59151%5D%2C%20%5B-33.423120000000004%2C%20-70.61073%5D%2C%20%5B-33.4526%2C%20-70.6175%5D%2C%20%5B-33.44688%2C%20-70.64001999999999%5D%2C%20%5B-33.49703%2C%20-70.64518000000001%5D%2C%20%5B-33.43201%2C%20-70.62512%5D%2C%20%5B-33.36411%2C%20-70.71903%5D%2C%20%5B-33.41036%2C%20-70.57564%5D%2C%20%5B-33.442040000000006%2C%20-70.67554%5D%2C%20%5B-33.43954%2C%20-70.67289%5D%2C%20%5B-33.41952%2C%20-70.59801%5D%2C%20%5B-33.447829999999996%2C%20-70.64323%5D%2C%20%5B-33.44722%2C%20-70.64773000000001%5D%2C%20%5B-33.44828%2C%20-70.64406%5D%2C%20%5B-33.44522%2C%20-70.64056%5D%2C%20%5B-33.499340000000004%2C%20-70.65194%5D%2C%20%5B-33.43701%2C%20-70.65785%5D%2C%20%5B-33.449940000000005%2C%20-70.6397%5D%2C%20%5B-33.348620000000004%2C%20-70.66665%5D%2C%20%5B-33.451190000000004%2C%20-70.64608%5D%2C%20%5B-33.44443%2C%20-70.61764000000001%5D%2C%20%5B-33.436840000000004%2C%20-70.63982%5D%2C%20%5B-33.44604%2C%20-70.64267%5D%2C%20%5B-33.424440000000004%2C%20-70.58888%5D%2C%20%5B-33.447359999999996%2C%20-70.63817%5D%2C%20%5B-33.40502%2C%20-70.59607%5D%2C%20%5B-33.41955%2C%20-70.65668000000001%5D%2C%20%5B-33.44038%2C%20-70.64596%5D%2C%20%5B-33.483270000000005%2C%20-70.65225%5D%2C%20%5B-33.51582%2C%20-70.59788%5D%2C%20%5B-33.436209999999996%2C%20-70.64459000000001%5D%2C%20%5B-33.561370000000004%2C%20-70.78118%5D%2C%20%5B-33.399809999999995%2C%20-70.57149%5D%2C%20%5B-33.43974%2C%20-70.62384%5D%2C%20%5B-33.43994%2C%20-70.63715%5D%2C%20%5B-33.527%2C%20-70.59125999999999%5D%2C%20%5B-33.43638%2C%20-70.64049%5D%2C%20%5B-33.45701%2C%20-70.574%5D%2C%20%5B-33.45281%2C%20-70.63243%5D%2C%20%5B-33.44596%2C%20-70.64145%5D%2C%20%5B-33.458%2C%20-70.60862%5D%2C%20%5B-33.29337%2C%20-70.25227%5D%2C%20%5B-33.447829999999996%2C%20-70.62892%5D%2C%20%5B-33.43825%2C%20-70.64816%5D%2C%20%5B-33.422709999999995%2C%20-70.64033%5D%2C%20%5B-33.42645%2C%20-70.61576%5D%2C%20%5B-33.4618%2C%20-70.72346%5D%2C%20%5B-33.49688%2C%20-70.55405999999999%5D%2C%20%5B-33.44815%2C%20-70.62966999999999%5D%2C%20%5B-33.43757%2C%20-70.62886999999999%5D%2C%20%5B-33.45428%2C%20-70.61718%5D%2C%20%5B-33.43659%2C%20-70.64618%5D%2C%20%5B-33.43294%2C%20-70.61986%5D%2C%20%5B-33.43632%2C%20-70.57706%5D%2C%20%5B-33.44616%2C%20-70.65945%5D%2C%20%5B-33.4407%2C%20-70.64047%5D%2C%20%5B-33.44485%2C%20-70.60079%5D%2C%20%5B-33.42799%2C%20-70.59564%5D%2C%20%5B-33.4556%2C%20-70.58157%5D%2C%20%5B-33.43967%2C%20-70.62709%5D%2C%20%5B-33.49984%2C%20-70.61519%5D%2C%20%5B-33.44885%2C%20-70.58383%5D%2C%20%5B-33.45092%2C%20-70.63293%5D%2C%20%5B-33.457190000000004%2C%20-70.65514%5D%2C%20%5B-33.44526%2C%20-70.63277%5D%2C%20%5B-33.407309999999995%2C%20-70.56506999999999%5D%2C%20%5B-33.44565%2C%20-70.58558000000001%5D%2C%20%5B-33.41131%2C%20-70.58072%5D%2C%20%5B-33.419059999999995%2C%20-70.57175%5D%2C%20%5B-33.44897%2C%20-70.63359%5D%2C%20%5B-33.43973%2C%20-70.63016999999999%5D%2C%20%5B-33.507740000000005%2C%20-70.54609%5D%2C%20%5B-33.44126%2C%20-70.61246%5D%2C%20%5B-33.45867%2C%20-70.61499%5D%2C%20%5B-33.45517%2C%20-70.66152%5D%2C%20%5B-33.42281%2C%20-70.60672%5D%2C%20%5B-33.43435%2C%20-70.62227%5D%2C%20%5B-33.41575%2C%20-70.60335%5D%2C%20%5B-33.45792%2C%20-70.59328000000001%5D%2C%20%5B-33.38968%2C%20-70.59401%5D%2C%20%5B-33.413940000000004%2C%20-70.65442%5D%2C%20%5B-33.40572%2C%20-70.59647%5D%2C%20%5B-33.43053%2C%20-70.61555%5D%2C%20%5B-33.512879999999996%2C%20-70.65896%5D%2C%20%5B-33.39949%2C%20-70.57244%5D%2C%20%5B-33.44954%2C%20-70.63561999999999%5D%2C%20%5B-33.40592%2C%20-70.56424%5D%2C%20%5B-33.541540000000005%2C%20-70.56975%5D%2C%20%5B-33.42893%2C%20-70.61955%5D%2C%20%5B-33.45477%2C%20-70.62845%5D%2C%20%5B-33.447140000000005%2C%20-70.64624%5D%2C%20%5B-33.45148%2C%20-70.76894%5D%2C%20%5B-33.41024%2C%20-70.57684%5D%2C%20%5B-33.44511%2C%20-70.64069%5D%2C%20%5B-33.43786%2C%20-70.65614000000001%5D%2C%20%5B-33.45323%2C%20-70.61653000000001%5D%2C%20%5B-33.468%2C%20-70.62352%5D%2C%20%5B-33.46312%2C%20-70.63109%5D%2C%20%5B-33.54119%2C%20-70.66751%5D%2C%20%5B-33.39877%2C%20-70.57840999999999%5D%2C%20%5B-33.3781%2C%20-70.54443%5D%2C%20%5B-33.39918%2C%20-70.5893%5D%2C%20%5B-33.4196%2C%20-70.60651999999999%5D%2C%20%5B-33.40317%2C%20-70.55753%5D%2C%20%5B-33.377109999999995%2C%20-70.5466%5D%2C%20%5B-33.37493%2C%20-70.5453%5D%2C%20%5B-33.4379%2C%20-70.68819%5D%2C%20%5B-33.42418%2C%20-70.6096%5D%2C%20%5B-33.438320000000004%2C%20-70.53012%5D%2C%20%5B-33.43606%2C%20-70.52592%5D%2C%20%5B-33.44696%2C%20-70.64796%5D%2C%20%5B-33.424929999999996%2C%20-70.60011%5D%2C%20%5B-33.39976%2C%20-70.57043%5D%2C%20%5B-33.41718%2C%20-70.63978%5D%2C%20%5B-33.40634%2C%20-70.5708%5D%2C%20%5B-33.457229999999996%2C%20-70.56421999999999%5D%2C%20%5B-33.44683%2C%20-70.65016%5D%2C%20%5B-33.43943%2C%20-70.64126999999999%5D%2C%20%5B-33.4392%2C%20-70.57363000000001%5D%2C%20%5B-33.43181%2C%20-70.62541999999999%5D%2C%20%5B-33.4502%2C%20-70.63163%5D%2C%20%5B-33.49357%2C%20-70.65214%5D%2C%20%5B-33.441959999999995%2C%20-70.63354%5D%2C%20%5B-33.44228%2C%20-70.69415%5D%2C%20%5B-33.40534%2C%20-70.55673%5D%2C%20%5B-33.42846%2C%20-70.60472%5D%2C%20%5B-33.45593%2C%20-70.82001%5D%2C%20%5B-33.389179999999996%2C%20-70.57045%5D%2C%20%5B-33.45012%2C%20-70.62941%5D%2C%20%5B-33.432159999999996%2C%20-70.60535%5D%2C%20%5B-33.43606%2C%20-70.65616999999999%5D%2C%20%5B-33.43738%2C%20-70.646%5D%2C%20%5B-33.43662%2C%20-70.63424%5D%2C%20%5B-33.40445%2C%20-70.56989%5D%2C%20%5B-33.46716%2C%20-70.72381999999999%5D%2C%20%5B-33.40143%2C%20-70.5626%5D%2C%20%5B-33.40033%2C%20-70.56241%5D%2C%20%5B-33.40252%2C%20-70.56045999999999%5D%2C%20%5B-33.43505%2C%20-70.62841%5D%2C%20%5B-33.43117%2C%20-70.57303%5D%2C%20%5B-33.449709999999996%2C%20-70.64631%5D%2C%20%5B-33.42714%2C%20-70.61561%5D%2C%20%5B-33.42558%2C%20-70.61704%5D%2C%20%5B-33.4617%2C%20-70.58691999999999%5D%2C%20%5B-33.44693%2C%20-70.64283%5D%2C%20%5B-33.48438%2C%20-70.655%5D%2C%20%5B-33.39775%2C%20-70.61546%5D%2C%20%5B-33.41022%2C%20-70.57665%5D%2C%20%5B-33.44142%2C%20-70.64298000000001%5D%2C%20%5B-33.40206%2C%20-70.58599%5D%2C%20%5B-33.43588%2C%20-70.6479%5D%2C%20%5B-33.41121%2C%20-70.57162%5D%2C%20%5B-33.435179999999995%2C%20-70.65664%5D%2C%20%5B-33.44916%2C%20-70.76645%5D%2C%20%5B-33.45179%2C%20-70.56451%5D%2C%20%5B-33.43933%2C%20-70.65429%5D%2C%20%5B-33.451240000000006%2C%20-70.62742%5D%2C%20%5B-33.43694%2C%20-70.64336%5D%2C%20%5B-33.4555%2C%20-70.70002%5D%2C%20%5B-33.43162%2C%20-70.60128%5D%2C%20%5B-33.44647%2C%20-70.65108000000001%5D%2C%20%5B-33.44818%2C%20-70.60561%5D%2C%20%5B-33.37836%2C%20-70.54205999999999%5D%2C%20%5B-33.4491%2C%20-70.57907%5D%2C%20%5B-33.44753%2C%20-70.64851999999999%5D%2C%20%5B-33.39929%2C%20-70.57306%5D%2C%20%5B-33.40016%2C%20-70.57268%5D%2C%20%5B-33.44058%2C%20-70.61979000000001%5D%2C%20%5B-33.44066%2C%20-70.67604%5D%2C%20%5B-33.43278%2C%20-70.65678%5D%2C%20%5B-33.44481%2C%20-70.66035%5D%2C%20%5B-33.446979999999996%2C%20-70.65218%5D%2C%20%5B-33.408%2C%20-70.65416%5D%2C%20%5B-33.46269%2C%20-70.61941%5D%2C%20%5B-33.42745%2C%20-70.60409%5D%2C%20%5B-33.43972%2C%20-70.64126999999999%5D%2C%20%5B-33.44767%2C%20-70.64405%5D%2C%20%5B-33.44538%2C%20-70.64397%5D%2C%20%5B-33.43585%2C%20-70.65536999999999%5D%2C%20%5B-33.346990000000005%2C%20-70.29052%5D%2C%20%5B-33.45458%2C%20-70.70166%5D%2C%20%5B-33.49146%2C%20-70.61505%5D%2C%20%5B-33.50611%2C%20-70.59037%5D%2C%20%5B-33.44095%2C%20-70.6472%5D%2C%20%5B-33.39891%2C%20-70.59999%5D%2C%20%5B-33.431740000000005%2C%20-70.59573%5D%2C%20%5B-33.556779999999996%2C%20-70.669%5D%2C%20%5B-33.39459%2C%20-70.58633%5D%2C%20%5B-33.405879999999996%2C%20-70.55806%5D%2C%20%5B-33.40571%2C%20-70.55653000000001%5D%2C%20%5B-33.42872%2C%20-70.60579%5D%2C%20%5B-33.44397%2C%20-70.64397%5D%2C%20%5B-33.43727%2C%20-70.65451%5D%2C%20%5B-33.44741%2C%20-70.64331999999999%5D%2C%20%5B-33.44869%2C%20-70.61261999999999%5D%2C%20%5B-33.35629%2C%20-70.51146%5D%2C%20%5B-33.433279999999996%2C%20-70.61882%5D%2C%20%5B-33.43353%2C%20-70.62253%5D%2C%20%5B-33.38195%2C%20-70.57687%5D%2C%20%5B-33.43452%2C%20-70.66072%5D%2C%20%5B-33.44997%2C%20-70.64774%5D%2C%20%5B-33.368970000000004%2C%20-70.57918000000001%5D%2C%20%5B-33.42576%2C%20-70.64036999999999%5D%2C%20%5B-33.506679999999996%2C%20-70.66088%5D%2C%20%5B-33.43786%2C%20-70.62978000000001%5D%2C%20%5B-33.45321%2C%20-70.66101%5D%2C%20%5B-33.357440000000004%2C%20-70.48487%5D%2C%20%5B-33.43242%2C%20-70.64639%5D%2C%20%5B-33.40102%2C%20-70.58266%5D%2C%20%5B-33.43711%2C%20-70.6552%5D%2C%20%5B-33.44835%2C%20-70.68741999999999%5D%2C%20%5B-33.38393%2C%20-70.55374%5D%2C%20%5B-33.40997%2C%20-70.56871%5D%2C%20%5B-33.43721%2C%20-70.6553%5D%2C%20%5B-33.44729%2C%20-70.63812%5D%2C%20%5B-33.43724%2C%20-70.58014%5D%2C%20%5B-33.41406%2C%20-70.56228%5D%2C%20%5B-33.4571%2C%20-70.65103%5D%2C%20%5B-33.44827%2C%20-70.64199%5D%2C%20%5B-33.41616%2C%20-70.58489%5D%2C%20%5B-33.41798%2C%20-70.59724%5D%2C%20%5B-33.44485%2C%20-70.56572%5D%2C%20%5B-33.416109999999996%2C%20-70.58202%5D%2C%20%5B-33.44089%2C%20-70.66105%5D%2C%20%5B-33.46131%2C%20-70.59951%5D%2C%20%5B-33.456309999999995%2C%20-70.6149%5D%2C%20%5B-33.45203%2C%20-70.61704%5D%2C%20%5B-33.41548%2C%20-70.61094%5D%2C%20%5B-33.4162%2C%20-70.61193%5D%2C%20%5B-33.41711%2C%20-70.61086999999999%5D%2C%20%5B-33.453309999999995%2C%20-70.62307%5D%2C%20%5B-33.45344%2C%20-70.63042%5D%2C%20%5B-33.44613%2C%20-70.64019%5D%2C%20%5B-33.42508%2C%20-70.60667%5D%2C%20%5B-33.41816%2C%20-70.61285%5D%2C%20%5B-33.43697%2C%20-70.59281999999999%5D%2C%20%5B-33.42409%2C%20-70.61577%5D%2C%20%5B-33.44932%2C%20-70.6451%5D%2C%20%5B-33.4552%2C%20-70.5862%5D%2C%20%5B-33.36635%2C%20-70.50641%5D%2C%20%5B-33.440459999999995%2C%20-70.64216%5D%2C%20%5B-33.43697%2C%20-70.65491999999999%5D%2C%20%5B-33.43355%2C%20-70.62694%5D%2C%20%5B-33.37254%2C%20-70.51449000000001%5D%2C%20%5B-33.41431%2C%20-70.54674%5D%2C%20%5B-33.4488%2C%20-70.62665%5D%2C%20%5B-33.40428%2C%20-70.569%5D%2C%20%5B-33.45791%2C%20-70.70069000000001%5D%2C%20%5B-33.44778%2C%20-70.61893%5D%2C%20%5B-33.44385%2C%20-70.64047%5D%2C%20%5B-33.42069%2C%20-70.61202%5D%2C%20%5B-33.437529999999995%2C%20-70.65523%5D%2C%20%5B-33.42524%2C%20-70.61486%5D%2C%20%5B-33.43459%2C%20-70.65442%5D%2C%20%5B-33.44556%2C%20-70.63923%5D%2C%20%5B-33.40256%2C%20-70.56857%5D%2C%20%5B-33.41989%2C%20-70.61063%5D%2C%20%5B-33.4464%2C%20-70.59594%5D%2C%20%5B-33.45508%2C%20-70.63450999999999%5D%2C%20%5B-33.41596%2C%20-70.60363000000001%5D%2C%20%5B-33.41703%2C%20-70.60316%5D%2C%20%5B-33.404959999999996%2C%20-70.59378000000001%5D%2C%20%5B-33.43826%2C%20-70.64525%5D%2C%20%5B-33.44567%2C%20-70.65299%5D%2C%20%5B-33.41115%2C%20-70.57676%5D%2C%20%5B-33.44815%2C%20-70.64237%5D%2C%20%5B-33.45094%2C%20-70.57629%5D%2C%20%5B-33.42881%2C%20-70.64116999999999%5D%2C%20%5B-33.4306%2C%20-70.60729%5D%2C%20%5B-33.42519%2C%20-70.61237%5D%2C%20%5B-33.39828%2C%20-70.57219%5D%2C%20%5B-33.454840000000004%2C%20-70.69668%5D%2C%20%5B-33.42982%2C%20-70.6199%5D%2C%20%5B-33.39956%2C%20-70.57378%5D%2C%20%5B-33.41296%2C%20-70.60042%5D%2C%20%5B-33.46804%2C%20-70.52535999999999%5D%2C%20%5B-33.42844%2C%20-70.63971%5D%2C%20%5B-33.348729999999996%2C%20-70.29612%5D%2C%20%5B-33.42289%2C%20-70.59659%5D%2C%20%5B-33.4524%2C%20-70.61679000000001%5D%2C%20%5B-33.43752%2C%20-70.63121%5D%2C%20%5B-33.40104%2C%20-70.5696%5D%2C%20%5B-33.336659999999995%2C%20-70.28983000000001%5D%2C%20%5B-33.40064%2C%20-70.56891999999999%5D%2C%20%5B-33.42389%2C%20-70.6166%5D%2C%20%5B-33.45982%2C%20-70.65011%5D%2C%20%5B-33.444140000000004%2C%20-70.64429%5D%2C%20%5B-33.34752%2C%20-70.29259%5D%2C%20%5B-33.451190000000004%2C%20-70.61983000000001%5D%2C%20%5B-33.44043%2C%20-70.67535%5D%2C%20%5B-33.452009999999994%2C%20-70.64097%5D%2C%20%5B-33.45821%2C%20-70.57565%5D%2C%20%5B-33.433690000000006%2C%20-70.64782%5D%2C%20%5B-33.450179999999996%2C%20-70.64184%5D%2C%20%5B-33.437129999999996%2C%20-70.64393000000001%5D%2C%20%5B-33.43911%2C%20-70.65575%5D%2C%20%5B-33.43956%2C%20-70.65564%5D%2C%20%5B-33.41134%2C%20-70.58208%5D%2C%20%5B-33.45568%2C%20-70.69999%5D%2C%20%5B-33.425%2C%20-70.61577%5D%2C%20%5B-33.450390000000006%2C%20-70.62539%5D%2C%20%5B-33.44811%2C%20-70.65026%5D%2C%20%5B-33.441159999999996%2C%20-70.64579%5D%2C%20%5B-33.450559999999996%2C%20-70.59276%5D%2C%20%5B-33.449659999999994%2C%20-70.62533%5D%2C%20%5B-33.34758%2C%20-70.2919%5D%2C%20%5B-33.42989%2C%20-70.61748%5D%2C%20%5B-33.43362%2C%20-70.65789000000001%5D%2C%20%5B-33.45684%2C%20-70.65333000000001%5D%2C%20%5B-33.438520000000004%2C%20-70.62826%5D%2C%20%5B-33.44893%2C%20-70.64959%5D%2C%20%5B-33.41153%2C%20-70.59825%5D%2C%20%5B-33.43114%2C%20-70.63671%5D%2C%20%5B-33.438179999999996%2C%20-70.57072%5D%2C%20%5B-33.44765%2C%20-70.65289%5D%2C%20%5B-33.42975%2C%20-70.66769000000001%5D%2C%20%5B-33.4258%2C%20-70.61415%5D%2C%20%5B-33.44263%2C%20-70.64379%5D%2C%20%5B-33.438520000000004%2C%20-70.57103000000001%5D%2C%20%5B-33.441140000000004%2C%20-70.66614%5D%2C%20%5B-33.47627%2C%20-70.63671%5D%2C%20%5B-33.33486%2C%20-70.29261%5D%2C%20%5B-33.51961%2C%20-70.53613%5D%2C%20%5B-33.47525%2C%20-70.63489%5D%2C%20%5B-33.42269%2C%20-70.63964%5D%2C%20%5B-33.411559999999994%2C%20-70.57908%5D%2C%20%5B-33.41251%2C%20-70.58981%5D%2C%20%5B-33.43837%2C%20-70.65633000000001%5D%2C%20%5B-33.43567%2C%20-70.65558%5D%2C%20%5B-33.44252%2C%20-70.65448%5D%2C%20%5B-33.43679%2C%20-70.63929%5D%2C%20%5B-33.44222%2C%20-70.62834000000001%5D%2C%20%5B-33.44865%2C%20-70.59453%5D%2C%20%5B-33.422540000000005%2C%20-70.61036999999999%5D%2C%20%5B-33.44522%2C%20-70.56659%5D%2C%20%5B-33.448890000000006%2C%20-70.64635%5D%2C%20%5B-33.41619%2C%20-70.5609%5D%2C%20%5B-33.42262%2C%20-70.53936999999999%5D%2C%20%5B-33.44113%2C%20-70.63989000000001%5D%2C%20%5B-33.43861%2C%20-70.65624%5D%2C%20%5B-33.44569%2C%20-70.67069000000001%5D%2C%20%5B-33.4534%2C%20-70.6485%5D%2C%20%5B-33.452009999999994%2C%20-70.64811999999999%5D%2C%20%5B-33.45061%2C%20-70.62964000000001%5D%2C%20%5B-33.4452%2C%20-70.63385%5D%2C%20%5B-33.400059999999996%2C%20-70.57196%5D%2C%20%5B-33.39653%2C%20-70.58796%5D%2C%20%5B-33.44812%2C%20-70.65498000000001%5D%2C%20%5B-33.44115%2C%20-70.65612%5D%2C%20%5B-33.40658%2C%20-70.57655%5D%2C%20%5B-33.478590000000004%2C%20-70.60665999999999%5D%2C%20%5B-33.438%2C%20-70.63146%5D%2C%20%5B-33.44804%2C%20-70.65385%5D%2C%20%5B-33.41093%2C%20-70.56796%5D%2C%20%5B-33.41102%2C%20-70.56803000000001%5D%2C%20%5B-33.41102%2C%20-70.56803000000001%5D%2C%20%5B-33.43074%2C%20-70.6301%5D%2C%20%5B-33.42941%2C%20-70.63174000000001%5D%2C%20%5B-33.41558%2C%20-70.60345%5D%2C%20%5B-33.423320000000004%2C%20-70.60840999999999%5D%2C%20%5B-33.44415%2C%20-70.64395%5D%2C%20%5B-33.41959%2C%20-70.5906%5D%2C%20%5B-33.44765%2C%20-70.63521%5D%2C%20%5B-33.417759999999994%2C%20-70.56116999999999%5D%2C%20%5B-33.416959999999996%2C%20-70.59926999999999%5D%2C%20%5B-33.440259999999995%2C%20-70.6337%5D%2C%20%5B-33.4478%2C%20-70.64459000000001%5D%2C%20%5B-33.42953%2C%20-70.61806%5D%2C%20%5B-33.41045%2C%20-70.56437%5D%2C%20%5B-33.405879999999996%2C%20-70.56474%5D%2C%20%5B-33.43752%2C%20-70.64419000000001%5D%2C%20%5B-33.44422%2C%20-70.64193%5D%2C%20%5B-33.42668%2C%20-70.58088000000001%5D%2C%20%5B-33.4047%2C%20-70.58136%5D%2C%20%5B-33.40755%2C%20-70.5648%5D%2C%20%5B-33.43515%2C%20-70.64591%5D%2C%20%5B-33.412890000000004%2C%20-70.58623%5D%2C%20%5B-33.43927%2C%20-70.63495999999999%5D%2C%20%5B-33.45173%2C%20-70.64169%5D%2C%20%5B-33.4394%2C%20-70.65598%5D%2C%20%5B-33.439029999999995%2C%20-70.65679%5D%2C%20%5B-33.423429999999996%2C%20-70.61086999999999%5D%2C%20%5B-33.34667%2C%20-70.29159%5D%2C%20%5B-33.53644%2C%20-70.54908%5D%2C%20%5B-33.42558%2C%20-70.60342%5D%2C%20%5B-33.48914%2C%20-70.59822%5D%2C%20%5B-33.45313%2C%20-70.62%5D%2C%20%5B-33.41301%2C%20-70.58091999999999%5D%2C%20%5B-33.42451%2C%20-70.58585%5D%2C%20%5B-33.45626%2C%20-70.62040999999999%5D%2C%20%5B-33.44359%2C%20-70.65736%5D%2C%20%5B-33.44236%2C%20-70.64542%5D%2C%20%5B-33.40766%2C%20-70.572%5D%2C%20%5B-33.466390000000004%2C%20-70.52583%5D%2C%20%5B-33.4335%2C%20-70.64191%5D%2C%20%5B-33.42691%2C%20-70.60112%5D%2C%20%5B-33.43038%2C%20-70.60628%5D%2C%20%5B-33.43423%2C%20-70.60763%5D%2C%20%5B-33.44462%2C%20-70.63869%5D%2C%20%5B-33.45556%2C%20-70.45909%5D%2C%20%5B-33.447309999999995%2C%20-70.65159%5D%2C%20%5B-33.46668%2C%20-70.62897%5D%2C%20%5B-33.449670000000005%2C%20-70.64992%5D%2C%20%5B-33.437470000000005%2C%20-70.6283%5D%2C%20%5B-33.4205%2C%20-70.61205%5D%2C%20%5B-33.40495%2C%20-70.54673000000001%5D%2C%20%5B-33.4336%2C%20-70.65656%5D%2C%20%5B-33.445190000000004%2C%20-70.63405999999999%5D%2C%20%5B-33.41617%2C%20-70.54845999999999%5D%2C%20%5B-33.44417%2C%20-70.64594%5D%2C%20%5B-33.42439%2C%20-70.58343%5D%2C%20%5B-33.41489%2C%20-70.60410999999999%5D%2C%20%5B-33.41633%2C%20-70.60351%5D%2C%20%5B-33.411809999999996%2C%20-70.6035%5D%2C%20%5B-33.42553%2C%20-70.60347%5D%2C%20%5B-33.43343%2C%20-70.63638%5D%2C%20%5B-33.45176%2C%20-70.64955%5D%2C%20%5B-33.345690000000005%2C%20-70.29349%5D%2C%20%5B-33.38088%2C%20-70.72688000000001%5D%2C%20%5B-33.44362%2C%20-70.65689%5D%2C%20%5B-33.44642%2C%20-70.59212%5D%2C%20%5B-33.34689%2C%20-70.2919%5D%2C%20%5B-33.42517%2C%20-70.58162%5D%2C%20%5B-33.44879%2C%20-70.60269%5D%2C%20%5B-33.43482%2C%20-70.62771%5D%2C%20%5B-33.44294%2C%20-70.64478000000001%5D%2C%20%5B-33.4493%2C%20-70.65554%5D%2C%20%5B-33.50351%2C%20-70.65741%5D%2C%20%5B-33.42309%2C%20-70.61613%5D%2C%20%5B-33.43168%2C%20-70.59354%5D%2C%20%5B-33.3346%2C%20-70.28607%5D%2C%20%5B-33.36942%2C%20-70.5373%5D%2C%20%5B-33.433679999999995%2C%20-70.65703%5D%2C%20%5B-33.43561%2C%20-70.64296999999999%5D%2C%20%5B-33.448640000000005%2C%20-70.63935%5D%2C%20%5B-33.42009%2C%20-70.60843%5D%2C%20%5B-33.413509999999995%2C%20-70.58116%5D%2C%20%5B-33.41765%2C%20-70.53132%5D%2C%20%5B-33.34715%2C%20-70.29088%5D%2C%20%5B-33.44919%2C%20-70.65576%5D%2C%20%5B-33.4387%2C%20-70.63020999999999%5D%2C%20%5B-33.464209999999994%2C%20-70.63688%5D%2C%20%5B-33.42544%2C%20-70.60271999999999%5D%2C%20%5B-33.45264%2C%20-70.64981999999999%5D%2C%20%5B-33.42535%2C%20-70.58851%5D%2C%20%5B-33.45234%2C%20-70.66164%5D%2C%20%5B-33.40687%2C%20-70.59716%5D%2C%20%5B-33.406009999999995%2C%20-70.51451%5D%2C%20%5B-33.43936%2C%20-70.65574000000001%5D%2C%20%5B-33.456759999999996%2C%20-70.57478%5D%2C%20%5B-33.44943%2C%20-70.65739%5D%2C%20%5B-33.44178%2C%20-70.6583%5D%2C%20%5B-33.42352%2C%20-70.61671%5D%2C%20%5B-33.432359999999996%2C%20-70.64285%5D%2C%20%5B-33.35334%2C%20-70.25001%5D%2C%20%5B-33.347640000000006%2C%20-70.29347%5D%2C%20%5B-33.49126%2C%20-70.616%5D%2C%20%5B-33.43547%2C%20-70.64359%5D%2C%20%5B-33.44747%2C%20-70.64671%5D%2C%20%5B-33.4542%2C%20-70.63252%5D%2C%20%5B-33.400090000000006%2C%20-70.56794000000001%5D%2C%20%5B-33.41966%2C%20-70.61019%5D%2C%20%5B-33.49154%2C%20-70.64725%5D%2C%20%5B-33.4496%2C%20-70.64073%5D%2C%20%5B-33.434329999999996%2C%20-70.63691%5D%2C%20%5B-33.429159999999996%2C%20-70.59409000000001%5D%2C%20%5B-33.414629999999995%2C%20-70.58523000000001%5D%2C%20%5B-33.420159999999996%2C%20-70.61142%5D%2C%20%5B-33.33409%2C%20-70.28846%5D%2C%20%5B-33.3342%2C%20-70.28986%5D%2C%20%5B-33.43526%2C%20-70.63826%5D%2C%20%5B-33.44729%2C%20-70.62621999999999%5D%2C%20%5B-33.42675%2C%20-70.60106999999999%5D%2C%20%5B-33.44%2C%20-70.64047%5D%2C%20%5B-33.429390000000005%2C%20-70.62281%5D%2C%20%5B-33.449059999999996%2C%20-70.66637%5D%2C%20%5B-33.334270000000004%2C%20-70.28988000000001%5D%2C%20%5B-33.40125%2C%20-70.58256%5D%2C%20%5B-33.401070000000004%2C%20-70.57045%5D%2C%20%5B-33.43558%2C%20-70.64331999999999%5D%2C%20%5B-33.42638%2C%20-70.5771%5D%2C%20%5B-33.42405%2C%20-70.60613000000001%5D%2C%20%5B-33.43533%2C%20-70.6283%5D%2C%20%5B-33.443020000000004%2C%20-70.65706999999999%5D%2C%20%5B-33.4364%2C%20-70.63606%5D%2C%20%5B-33.34998%2C%20-70.31291%5D%2C%20%5B-33.43712%2C%20-70.63591%5D%2C%20%5B-33.38712%2C%20-70.53806%5D%2C%20%5B-33.45163%2C%20-70.59719%5D%2C%20%5B-33.42732%2C%20-70.60595%5D%2C%20%5B-33.40121%2C%20-70.5833%5D%2C%20%5B-33.345079999999996%2C%20-70.29126%5D%2C%20%5B-33.4272%2C%20-70.60661%5D%2C%20%5B-33.41495%2C%20-70.63502%5D%2C%20%5B-33.413990000000005%2C%20-70.63385%5D%2C%20%5B-33.43737%2C%20-70.64808000000001%5D%2C%20%5B-33.44404%2C%20-70.64706%5D%2C%20%5B-33.40482%2C%20-70.56943000000001%5D%2C%20%5B-33.44285%2C%20-70.61485%5D%2C%20%5B-33.42311%2C%20-70.60863%5D%2C%20%5B-33.41517%2C%20-70.59788%5D%2C%20%5B-33.451609999999995%2C%20-70.66378%5D%2C%20%5B-33.42006%2C%20-70.60401999999999%5D%2C%20%5B-33.455859999999994%2C%20-70.55837%5D%2C%20%5B-33.413740000000004%2C%20-70.58629%5D%2C%20%5B-33.4351%2C%20-70.6323%5D%2C%20%5B-33.441320000000005%2C%20-70.58008000000001%5D%2C%20%5B-33.44218%2C%20-70.55396%5D%2C%20%5B-33.4446%2C%20-70.64253000000001%5D%2C%20%5B-33.33509%2C%20-70.28917%5D%2C%20%5B-33.435790000000004%2C%20-70.62915%5D%2C%20%5B-33.5214%2C%20-70.779%5D%2C%20%5B-33.4383%2C%20-70.64661%5D%2C%20%5B-33.34809%2C%20-70.29196%5D%2C%20%5B-33.40535%2C%20-70.55649%5D%2C%20%5B-33.43287%2C%20-70.6402%5D%2C%20%5B-33.45208%2C%20-70.64961%5D%2C%20%5B-33.39986%2C%20-70.55383%5D%2C%20%5B-33.46252%2C%20-70.65253%5D%2C%20%5B-33.415859999999995%2C%20-70.60452%5D%2C%20%5B-33.43821%2C%20-70.62094%5D%2C%20%5B-33.44511%2C%20-70.64291%5D%2C%20%5B-33.40197%2C%20-70.555%5D%2C%20%5B-33.407379999999996%2C%20-70.54478%5D%2C%20%5B-33.40005%2C%20-70.56456999999999%5D%2C%20%5B-33.36068%2C%20-70.29044%5D%2C%20%5B-33.43277%2C%20-70.60313000000001%5D%2C%20%5B-33.43699%2C%20-70.64411%5D%2C%20%5B-33.43717%2C%20-70.6455%5D%2C%20%5B-33.484140000000004%2C%20-70.59389%5D%2C%20%5B-33.44956%2C%20-70.60399%5D%2C%20%5B-33.39902%2C%20-70.55229%5D%2C%20%5B-33.42641%2C%20-70.67617%5D%2C%20%5B-33.425779999999996%2C%20-70.60375%5D%2C%20%5B-33.449490000000004%2C%20-70.60388%5D%2C%20%5B-33.43936%2C%20-70.64226%5D%2C%20%5B-33.43728%2C%20-70.63965%5D%2C%20%5B-33.446290000000005%2C%20-70.64650999999999%5D%2C%20%5B-33.47097%2C%20-70.5955%5D%2C%20%5B-33.42106%2C%20-70.60619%5D%2C%20%5B-33.41979%2C%20-70.5528%5D%2C%20%5B-33.4339%2C%20-70.62827%5D%2C%20%5B-33.44879%2C%20-70.6369%5D%2C%20%5B-33.41022%2C%20-70.5753%5D%2C%20%5B-33.433609999999994%2C%20-70.63625%5D%2C%20%5B-33.410709999999995%2C%20-70.57018000000001%5D%2C%20%5B-33.44995%2C%20-70.64199%5D%2C%20%5B-33.35223%2C%20-70.31296999999999%5D%2C%20%5B-33.44872%2C%20-70.63967%5D%2C%20%5B-33.43397%2C%20-70.6497%5D%2C%20%5B-33.38742%2C%20-70.6788%5D%2C%20%5B-33.33882%2C%20-70.66774000000001%5D%2C%20%5B-33.43288%2C%20-70.63088%5D%2C%20%5B-33.4491%2C%20-70.65543000000001%5D%2C%20%5B-33.3471%2C%20-70.29273%5D%2C%20%5B-33.436609999999995%2C%20-70.65942%5D%2C%20%5B-33.40892%2C%20-70.57292%5D%2C%20%5B-33.33628%2C%20-70.28876%5D%2C%20%5B-33.443529999999996%2C%20-70.54137%5D%2C%20%5B-33.44854%2C%20-70.63331%5D%2C%20%5B-33.41676%2C%20-70.60224000000001%5D%2C%20%5B-33.44563%2C%20-70.64349%5D%2C%20%5B-33.41411%2C%20-70.60388%5D%2C%20%5B-33.4436%2C%20-70.65679%5D%2C%20%5B-33.43718%2C%20-70.64543%5D%2C%20%5B-33.46005%2C%20-70.6456%5D%2C%20%5B-33.4375%2C%20-70.66115%5D%2C%20%5B-33.42675%2C%20-70.61401%5D%2C%20%5B-33.35197%2C%20-70.31379%5D%2C%20%5B-33.43742%2C%20-70.64153%5D%2C%20%5B-33.38765%2C%20-70.53003000000001%5D%2C%20%5B-33.40555%2C%20-70.56907%5D%2C%20%5B-33.43625%2C%20-70.64413%5D%2C%20%5B-33.42385%2C%20-70.59671999999999%5D%2C%20%5B-33.44566%2C%20-70.60545%5D%2C%20%5B-33.43168%2C%20-70.60296%5D%2C%20%5B-33.44979%2C%20-70.61281%5D%2C%20%5B-33.29745%2C%20-70.25026%5D%2C%20%5B-33.43636%2C%20-70.6308%5D%2C%20%5B-33.448170000000005%2C%20-70.67078000000001%5D%2C%20%5B-33.42303%2C%20-70.62214%5D%2C%20%5B-33.4294%2C%20-70.59849%5D%2C%20%5B-33.431%2C%20-70.59943%5D%2C%20%5B-33.471579999999996%2C%20-70.66109%5D%2C%20%5B-33.400729999999996%2C%20-70.57139000000001%5D%2C%20%5B-33.40534%2C%20-70.55866999999999%5D%2C%20%5B-33.42161%2C%20-70.56413%5D%2C%20%5B-33.4825%2C%20-70.59623%5D%2C%20%5B-33.41585%2C%20-70.60091%5D%2C%20%5B-33.44831%2C%20-70.64831%5D%2C%20%5B-33.43417%2C%20-70.6409%5D%2C%20%5B-33.424409999999995%2C%20-70.61662%5D%2C%20%5B-33.39819%2C%20-70.57238000000001%5D%2C%20%5B-33.412929999999996%2C%20-70.56895%5D%2C%20%5B-33.46363%2C%20-70.62425%5D%2C%20%5B-33.33433%2C%20-70.29253%5D%2C%20%5B-33.333870000000005%2C%20-70.28772%5D%2C%20%5B-33.44846%2C%20-70.6387%5D%2C%20%5B-33.4068%2C%20-70.55735%5D%2C%20%5B-33.432629999999996%2C%20-70.60216%5D%2C%20%5B-33.43114%2C%20-70.57376%5D%2C%20%5B-33.39826%2C%20-70.65073000000001%5D%2C%20%5B-33.42905%2C%20-70.61877%5D%2C%20%5B-33.42872%2C%20-70.61747%5D%2C%20%5B-33.43756%2C%20-70.64684%5D%2C%20%5B-33.45033%2C%20-70.64944%5D%2C%20%5B-33.4379%2C%20-70.64705%5D%2C%20%5B-33.43122%2C%20-70.60297%5D%2C%20%5B-33.40031%2C%20-70.57289%5D%2C%20%5B-33.42735%2C%20-70.60533000000001%5D%2C%20%5B-33.42978%2C%20-70.66764%5D%2C%20%5B-33.41421%2C%20-70.60493000000001%5D%2C%20%5B-33.370779999999996%2C%20-70.44601999999999%5D%2C%20%5B-33.45127%2C%20-70.62979%5D%2C%20%5B-33.36087%2C%20-70.24823%5D%2C%20%5B-33.4587%2C%20-70.57668000000001%5D%2C%20%5B-33.45029%2C%20-70.65482%5D%2C%20%5B-33.452090000000005%2C%20-70.60469%5D%2C%20%5B-33.42463%2C%20-70.60534%5D%2C%20%5B-33.41002%2C%20-70.56492%5D%2C%20%5B-33.42171%2C%20-70.61375%5D%2C%20%5B-33.44872%2C%20-70.65349%5D%2C%20%5B-33.4684%2C%20-70.64957%5D%2C%20%5B-33.449220000000004%2C%20-70.63849%5D%2C%20%5B-33.439029999999995%2C%20-70.63403000000001%5D%2C%20%5B-33.41089%2C%20-70.58959%5D%2C%20%5B-33.443909999999995%2C%20-70.6428%5D%2C%20%5B-33.43956%2C%20-70.64666%5D%2C%20%5B-33.43108%2C%20-70.61749%5D%2C%20%5B-33.43678%2C%20-70.64137%5D%2C%20%5B-33.4394%2C%20-70.61904%5D%2C%20%5B-33.412009999999995%2C%20-70.59744%5D%2C%20%5B-33.34708%2C%20-70.29131%5D%2C%20%5B-33.43285%2C%20-70.64314%5D%2C%20%5B-33.44786%2C%20-70.62964000000001%5D%2C%20%5B-33.35194%2C%20-70.31119%5D%2C%20%5B-33.45926%2C%20-70.62519%5D%2C%20%5B-33.4538%2C%20-70.61657%5D%2C%20%5B-33.44924%2C%20-70.64619%5D%2C%20%5B-33.39989%2C%20-70.55941%5D%2C%20%5B-33.42408%2C%20-70.61631%5D%2C%20%5B-33.41012%2C%20-70.57077%5D%2C%20%5B-33.44121%2C%20-70.67402%5D%2C%20%5B-33.43728%2C%20-70.65417%5D%2C%20%5B-33.40002%2C%20-70.58341%5D%2C%20%5B-33.33413%2C%20-70.29227%5D%2C%20%5B-33.419309999999996%2C%20-70.59794000000001%5D%2C%20%5B-33.44198%2C%20-70.64635%5D%2C%20%5B-33.45653%2C%20-70.58436999999999%5D%2C%20%5B-33.43895%2C%20-70.64520999999999%5D%2C%20%5B-33.43913%2C%20-70.64353%5D%2C%20%5B-33.41033%2C%20-70.59823%5D%2C%20%5B-33.44233%2C%20-70.65798000000001%5D%2C%20%5B-33.429829999999995%2C%20-70.61988000000001%5D%2C%20%5B-33.43893%2C%20-70.6294%5D%2C%20%5B-33.44709%2C%20-70.65128%5D%2C%20%5B-33.39739%2C%20-70.69803%5D%2C%20%5B-33.403659999999995%2C%20-70.56013%5D%2C%20%5B-33.44292%2C%20-70.65948%5D%2C%20%5B-33.427690000000005%2C%20-70.61006%5D%2C%20%5B-33.43943%2C%20-70.64126999999999%5D%2C%20%5B-33.44515%2C%20-70.63056%5D%2C%20%5B-33.43564%2C%20-70.62919000000001%5D%2C%20%5B-33.424690000000005%2C%20-70.54748000000001%5D%2C%20%5B-33.450590000000005%2C%20-70.64818000000001%5D%2C%20%5B-33.43788%2C%20-70.64814%5D%2C%20%5B-33.40563%2C%20-70.55843%5D%2C%20%5B-33.441990000000004%2C%20-70.62559%5D%2C%20%5B-33.43724%2C%20-70.6378%5D%2C%20%5B-33.40571%2C%20-70.55725%5D%2C%20%5B-33.420759999999994%2C%20-70.60708000000001%5D%2C%20%5B-33.43248%2C%20-70.63485%5D%2C%20%5B-33.44198%2C%20-70.65972%5D%2C%20%5B-33.4269%2C%20-70.6091%5D%2C%20%5B-33.41838%2C%20-70.60307%5D%2C%20%5B-33.40059%2C%20-70.5725%5D%2C%20%5B-33.41534%2C%20-70.59418000000001%5D%2C%20%5B-33.40981%2C%20-70.57258%5D%2C%20%5B-33.48895%2C%20-70.59517%5D%2C%20%5B-33.433209999999995%2C%20-70.60184%5D%2C%20%5B-33.42751%2C%20-70.67485%5D%2C%20%5B-33.438109999999995%2C%20-70.65884%5D%2C%20%5B-33.465109999999996%2C%20-70.63041%5D%2C%20%5B-33.4464%2C%20-70.65565%5D%2C%20%5B-33.33615%2C%20-70.29055%5D%2C%20%5B-33.42901%2C%20-70.61950999999999%5D%2C%20%5B-33.41146%2C%20-70.60255%5D%2C%20%5B-33.42803%2C%20-70.61505%5D%2C%20%5B-33.44749%2C%20-70.63513%5D%2C%20%5B-33.42034%2C%20-70.59806%5D%2C%20%5B-33.48214%2C%20-70.54098%5D%2C%20%5B-33.41185%2C%20-70.5794%5D%2C%20%5B-33.46683%2C%20-70.62408%5D%2C%20%5B-33.41145%2C%20-70.59336%5D%2C%20%5B-33.44972%2C%20-70.64237%5D%2C%20%5B-33.45135%2C%20-70.64161999999999%5D%2C%20%5B-33.46013%2C%20-70.59138%5D%2C%20%5B-33.4615%2C%20-70.56554%5D%2C%20%5B-33.423%2C%20-70.60563%5D%2C%20%5B-33.45008%2C%20-70.65256%5D%2C%20%5B-33.450540000000004%2C%20-70.64171%5D%2C%20%5B-33.41502%2C%20-70.60152%5D%2C%20%5B-33.42625%2C%20-70.60837%5D%2C%20%5B-33.429759999999995%2C%20-70.59899999999999%5D%2C%20%5B-33.446740000000005%2C%20-70.65335999999999%5D%2C%20%5B-33.41389%2C%20-70.58105%5D%2C%20%5B-33.424409999999995%2C%20-70.61684%5D%2C%20%5B-33.41189%2C%20-70.58858000000001%5D%2C%20%5B-33.43371%2C%20-70.6327%5D%2C%20%5B-33.48283%2C%20-70.53444%5D%2C%20%5B-33.4243%2C%20-70.61572%5D%2C%20%5B-33.409459999999996%2C%20-70.57401999999999%5D%2C%20%5B-33.442609999999995%2C%20-70.623%5D%2C%20%5B-33.43006%2C%20-70.56316%5D%2C%20%5B-33.42443%2C%20-70.61165%5D%2C%20%5B-33.43434%2C%20-70.64603000000001%5D%2C%20%5B-33.443709999999996%2C%20-70.65963%5D%2C%20%5B-33.44737%2C%20-70.65047%5D%2C%20%5B-33.43475%2C%20-70.62756999999999%5D%2C%20%5B-33.43183%2C%20-70.62%5D%2C%20%5B-33.50363%2C%20-70.65247%5D%2C%20%5B-33.405640000000005%2C%20-70.5591%5D%2C%20%5B-33.41485%2C%20-70.58613000000001%5D%2C%20%5B-33.44293%2C%20-70.66408%5D%2C%20%5B-33.42941%2C%20-70.64159000000001%5D%2C%20%5B-33.40954%2C%20-70.57051%5D%2C%20%5B-33.43931%2C%20-70.65172%5D%2C%20%5B-33.42588%2C%20-70.61486%5D%2C%20%5B-33.415729999999996%2C%20-70.59935%5D%2C%20%5B-33.42887%2C%20-70.62028000000001%5D%2C%20%5B-33.4432%2C%20-70.64554%5D%2C%20%5B-33.43789%2C%20-70.64875%5D%2C%20%5B-33.3887%2C%20-70.54158000000001%5D%2C%20%5B-33.46216%2C%20-70.65245%5D%2C%20%5B-33.41806%2C%20-70.60162%5D%2C%20%5B-33.44647%2C%20-70.5654%5D%2C%20%5B-33.43673%2C%20-70.63513%5D%2C%20%5B-33.43764%2C%20-70.63942%5D%2C%20%5B-33.36949%2C%20-70.42536%5D%2C%20%5B-33.43158%2C%20-70.63705999999999%5D%2C%20%5B-33.45045%2C%20-70.65589%5D%2C%20%5B-33.43743%2C%20-70.65831999999999%5D%2C%20%5B-33.44915%2C%20-70.63479%5D%2C%20%5B-33.449709999999996%2C%20-70.64876%5D%2C%20%5B-33.43997%2C%20-70.64168000000001%5D%2C%20%5B-33.43874%2C%20-70.5643%5D%2C%20%5B-33.399845%2C%20-70.571075%5D%2C%20%5B-33.41977%2C%20-70.59236999999999%5D%2C%20%5B-33.44815%2C%20-70.6442%5D%2C%20%5B-33.38244%2C%20-70.53533%5D%2C%20%5B-33.436840000000004%2C%20-70.65513%5D%2C%20%5B-33.44639%2C%20-70.64171%5D%2C%20%5B-33.44556%2C%20-70.56777%5D%2C%20%5B-33.42214%2C%20-70.60821999999999%5D%2C%20%5B-33.45028%2C%20-70.84017%5D%2C%20%5B-33.41304%2C%20-70.5881%5D%2C%20%5B-33.42853%2C%20-70.59411999999999%5D%2C%20%5B-33.445%2C%20-70.63409%5D%2C%20%5B-33.4862%2C%20-70.65526%5D%2C%20%5B-33.44814%2C%20-70.61641%5D%2C%20%5B-33.53202%2C%20-70.66964%5D%2C%20%5B-33.44021%2C%20-70.6586%5D%2C%20%5B-33.4293%2C%20-70.57746%5D%2C%20%5B-33.452020000000005%2C%20-70.66329%5D%2C%20%5B-33.43752%2C%20-70.62915%5D%2C%20%5B-33.432829999999996%2C%20-70.63694%5D%2C%20%5B-33.45177%2C%20-70.61183%5D%2C%20%5B-33.406909999999996%2C%20-70.5966%5D%2C%20%5B-33.43087%2C%20-70.6669%5D%2C%20%5B-33.39712%2C%20-70.58801%5D%2C%20%5B-33.44017%2C%20-70.63843%5D%2C%20%5B-33.44293%2C%20-70.60561%5D%2C%20%5B-33.45493%2C%20-70.70095%5D%2C%20%5B-33.42006%2C%20-70.60687%5D%2C%20%5B-33.43906%2C%20-70.64033%5D%2C%20%5B-33.43507%2C%20-70.64599%5D%2C%20%5B-33.46452%2C%20-70.59617%5D%2C%20%5B-33.41607%2C%20-70.60370999999999%5D%2C%20%5B-33.4408%2C%20-70.64799000000001%5D%2C%20%5B-33.42965%2C%20-70.61915%5D%2C%20%5B-33.42555%2C%20-70.59164%5D%2C%20%5B-33.45029%2C%20-70.64631999999999%5D%2C%20%5B-33.33093%2C%20-70.507%5D%2C%20%5B-33.442240000000005%2C%20-70.65856%5D%2C%20%5B-33.44299%2C%20-70.64379%5D%2C%20%5B-33.48489%2C%20-70.60004%5D%2C%20%5B-33.41381%2C%20-70.58652%5D%2C%20%5B-33.400859999999994%2C%20-70.58538%5D%2C%20%5B-33.450509999999994%2C%20-70.62865%5D%2C%20%5B-33.424490000000006%2C%20-70.58527%5D%2C%20%5B-33.42082%2C%20-70.60521999999999%5D%2C%20%5B-33.44814%2C%20-70.60902%5D%2C%20%5B-33.44412%2C%20-70.63515%5D%2C%20%5B-33.45413%2C%20-70.56662%5D%2C%20%5B-33.43715%2C%20-70.64213000000001%5D%2C%20%5B-33.43033%2C%20-70.64088000000001%5D%2C%20%5B-33.44814%2C%20-70.61633%5D%2C%20%5B-33.43023%2C%20-70.63931%5D%2C%20%5B-33.43157%2C%20-70.64005%5D%2C%20%5B-33.439%2C%20-70.62976%5D%2C%20%5B-33.452020000000005%2C%20-70.66329%5D%2C%20%5B-33.41693%2C%20-70.5676%5D%2C%20%5B-33.45815%2C%20-70.65373000000001%5D%2C%20%5B-33.434822%2C%20-70.62773100000001%5D%2C%20%5B-33.43005%2C%20-70.61928%5D%2C%20%5B-33.39904%2C%20-70.5723%5D%2C%20%5B-33.44663%2C%20-70.64144%5D%2C%20%5B-33.42779%2C%20-70.6189%5D%2C%20%5B-33.40266%2C%20-70.60024%5D%2C%20%5B-33.44128%2C%20-70.60772%5D%2C%20%5B-33.43522%2C%20-70.64771999999999%5D%2C%20%5B-33.43262%2C%20-70.65283000000001%5D%2C%20%5B-33.42941%2C%20-70.62026999999999%5D%2C%20%5B-33.406290000000006%2C%20-70.55821%5D%2C%20%5B-33.399770000000004%2C%20-70.57167%5D%2C%20%5B-33.4273%2C%20-70.61919%5D%2C%20%5B-33.414970000000004%2C%20-70.56493%5D%2C%20%5B-33.39891%2C%20-70.57263%5D%2C%20%5B-33.45621%2C%20-70.59044%5D%2C%20%5B-33.427409999999995%2C%20-70.67343000000001%5D%2C%20%5B-33.43587%2C%20-70.61574%5D%2C%20%5B-33.43748%2C%20-70.64945%5D%2C%20%5B-33.44664%2C%20-70.64265%5D%2C%20%5B-33.44566%2C%20-70.65041%5D%2C%20%5B-33.44509%2C%20-70.64338000000001%5D%2C%20%5B-33.43156%2C%20-70.61978%5D%2C%20%5B-33.43654%2C%20-70.64612%5D%2C%20%5B-33.36721%2C%20-70.50263000000001%5D%2C%20%5B-33.42751%2C%20-70.61816%5D%2C%20%5B-33.42562%2C%20-70.60342%5D%2C%20%5B-33.39269%2C%20-70.58323%5D%2C%20%5B-33.44443%2C%20-70.63129%5D%2C%20%5B-33.43226%2C%20-70.61762%5D%2C%20%5B-33.46067%2C%20-70.65348%5D%2C%20%5B-33.4159%2C%20-70.5707%5D%2C%20%5B-33.41247%2C%20-70.58662%5D%2C%20%5B-33.45112%2C%20-70.6192%5D%2C%20%5B-33.45791%2C%20-70.68961%5D%2C%20%5B-33.52511%2C%20-70.52568000000001%5D%2C%20%5B-33.46164%2C%20-70.58417%5D%2C%20%5B-33.45254%2C%20-70.5969%5D%2C%20%5B-33.447340000000004%2C%20-70.65358%5D%2C%20%5B-33.44444%2C%20-70.62581%5D%2C%20%5B-33.40475%2C%20-70.51801%5D%2C%20%5B-33.43338%2C%20-70.64721999999999%5D%2C%20%5B-33.41704%2C%20-70.60359%5D%2C%20%5B-33.40088%2C%20-70.57066%5D%2C%20%5B-33.450540000000004%2C%20-70.57207%5D%2C%20%5B-33.42483%2C%20-70.6851%5D%2C%20%5B-33.437329999999996%2C%20-70.64744%5D%2C%20%5B-33.41855%2C%20-70.55776999999999%5D%2C%20%5B-33.41798%2C%20-70.55659%5D%2C%20%5B-33.42049%2C%20-70.60755999999999%5D%2C%20%5B-33.45008%2C%20-70.65491%5D%2C%20%5B-33.42687%2C%20-70.61537%5D%2C%20%5B-33.449290000000005%2C%20-70.66314%5D%2C%20%5B-33.45449%2C%20-70.60313000000001%5D%2C%20%5B-33.45601%2C%20-70.68958%5D%2C%20%5B-33.43212%2C%20-70.6416%5D%2C%20%5B-33.40637%2C%20-70.57497%5D%2C%20%5B-33.41698%2C%20-70.59194000000001%5D%2C%20%5B-33.44558%2C%20-70.65198000000001%5D%2C%20%5B-33.40015%2C%20-70.57764%5D%2C%20%5B-33.44847%2C%20-70.6396%5D%2C%20%5B-33.43475%2C%20-70.64679%5D%2C%20%5B-33.42974%2C%20-70.61979000000001%5D%2C%20%5B-33.43805%2C%20-70.65462%5D%2C%20%5B-33.441109999999995%2C%20-70.65768%5D%2C%20%5B-33.43612%2C%20-70.68884%5D%2C%20%5B-33.455999999999996%2C%20-70.60363000000001%5D%2C%20%5B-33.3445%2C%20-70.66291%5D%2C%20%5B-33.41393%2C%20-70.58145%5D%2C%20%5B-33.40667%2C%20-70.57629%5D%2C%20%5B-33.44847%2C%20-70.64633%5D%2C%20%5B-33.43234%2C%20-70.60531%5D%2C%20%5B-33.45086%2C%20-70.66375%5D%2C%20%5B-33.39997%2C%20-70.5705%5D%2C%20%5B-33.435959999999994%2C%20-70.6338%5D%2C%20%5B-33.4286%2C%20-70.58894000000001%5D%2C%20%5B-33.41389%2C%20-70.5956%5D%2C%20%5B-33.43786%2C%20-70.65719%5D%2C%20%5B-33.447379999999995%2C%20-70.65311%5D%2C%20%5B-33.461%2C%20-70.68705%5D%2C%20%5B-33.46047%2C%20-70.63928%5D%2C%20%5B-33.49122%2C%20-70.61708%5D%2C%20%5B-33.43334%2C%20-70.65335%5D%2C%20%5B-33.43345%2C%20-70.6563%5D%2C%20%5B-33.52276%2C%20-70.5525%5D%2C%20%5B-33.4082%2C%20-70.56435%5D%2C%20%5B-33.50521%2C%20-70.65972%5D%2C%20%5B-33.462720000000004%2C%20-70.62498000000001%5D%2C%20%5B-33.43735%2C%20-70.61166999999999%5D%2C%20%5B-33.4251%2C%20-70.59886%5D%2C%20%5B-33.43626%2C%20-70.66983%5D%2C%20%5B-33.40988%2C%20-70.57908%5D%2C%20%5B-33.45818%2C%20-70.64045%5D%2C%20%5B-33.446509999999996%2C%20-70.65245999999999%5D%2C%20%5B-33.39395%2C%20-70.56031%5D%2C%20%5B-33.433840000000004%2C%20-70.64439%5D%2C%20%5B-33.39897%2C%20-70.57216%5D%2C%20%5B-33.41417%2C%20-70.60139000000001%5D%2C%20%5B-33.42887%2C%20-70.59061%5D%2C%20%5B-33.47971%2C%20-70.60096%5D%2C%20%5B-33.435159999999996%2C%20-70.65723%5D%2C%20%5B-33.4109%2C%20-70.56674%5D%2C%20%5B-33.441720000000004%2C%20-70.64729%5D%2C%20%5B-33.43732%2C%20-70.6562%5D%2C%20%5B-33.467040000000004%2C%20-70.5257%5D%2C%20%5B-33.459579999999995%2C%20-70.70058%5D%2C%20%5B-33.419259999999994%2C%20-70.54415%5D%2C%20%5B-33.443740000000005%2C%20-70.64921%5D%2C%20%5B-33.430412%2C%20-70.631302%5D%2C%20%5B-33.44575%2C%20-70.64029000000001%5D%2C%20%5B-33.428000000000004%2C%20-70.6211%5D%2C%20%5B-33.46817%2C%20-70.62235%5D%2C%20%5B-33.43647%2C%20-70.64220999999999%5D%2C%20%5B-33.45627%2C%20-70.59831%5D%2C%20%5B-33.4238%2C%20-70.60027%5D%2C%20%5B-33.4249%2C%20-70.5908%5D%2C%20%5B-33.365559999999995%2C%20-70.39147%5D%2C%20%5B-33.42893%2C%20-70.61948000000001%5D%2C%20%5B-33.452490000000004%2C%20-70.64705%5D%2C%20%5B-33.4231%2C%20-70.64112%5D%2C%20%5B-33.44814%2C%20-70.64979%5D%2C%20%5B-33.51681%2C%20-70.53397%5D%2C%20%5B-33.4331%2C%20-70.58669%5D%2C%20%5B-33.4245%2C%20-70.6162%5D%2C%20%5B-33.4874%2C%20-70.59727%5D%2C%20%5B-33.41389%2C%20-70.60023000000001%5D%2C%20%5B-33.40404%2C%20-70.569%5D%2C%20%5B-33.431909999999995%2C%20-70.62363%5D%2C%20%5B-33.46306%2C%20-70.59538%5D%2C%20%5B-33.409440000000004%2C%20-70.5667%5D%2C%20%5B-33.44267%2C%20-70.6592%5D%2C%20%5B-33.41022%2C%20-70.57105%5D%2C%20%5B-33.46286%2C%20-70.58475%5D%2C%20%5B-33.447340000000004%2C%20-70.64178000000001%5D%2C%20%5B-33.44605%2C%20-70.64389%5D%2C%20%5B-33.44963%2C%20-70.64166999999999%5D%2C%20%5B-33.406279999999995%2C%20-70.5794%5D%2C%20%5B-33.440090000000005%2C%20-70.55386999999999%5D%2C%20%5B-33.44918%2C%20-70.64674000000001%5D%2C%20%5B-33.41563%2C%20-70.58726999999999%5D%2C%20%5B-33.4381%2C%20-70.6294%5D%2C%20%5B-33.46555%2C%20-70.63107%5D%2C%20%5B-33.41487%2C%20-70.5883%5D%2C%20%5B-33.47102%2C%20-70.66205%5D%2C%20%5B-33.466770000000004%2C%20-70.62354%5D%2C%20%5B-33.4368%2C%20-70.64697%5D%2C%20%5B-33.357279999999996%2C%20-70.48416999999999%5D%2C%20%5B-33.44335%2C%20-70.6174%5D%2C%20%5B-33.42282%2C%20-70.57885999999999%5D%2C%20%5B-33.425470000000004%2C%20-70.61675%5D%2C%20%5B-33.39219%2C%20-70.54578000000001%5D%2C%20%5B-33.4417%2C%20-70.6596%5D%2C%20%5B-33.45667%2C%20-70.58140999999999%5D%2C%20%5B-33.4813%2C%20-70.73814%5D%2C%20%5B-33.45281%2C%20-70.63269%5D%2C%20%5B-33.43628%2C%20-70.6358%5D%2C%20%5B-33.44615%2C%20-70.64441%5D%2C%20%5B-33.50002%2C%20-70.56165%5D%2C%20%5B-33.42388%2C%20-70.64124%5D%2C%20%5B-33.41964%2C%20-70.60502%5D%2C%20%5B-33.42177%2C%20-70.60714%5D%2C%20%5B-33.42821%2C%20-70.61872%5D%2C%20%5B-33.40951%2C%20-70.5777%5D%2C%20%5B-33.47271%2C%20-70.66199%5D%2C%20%5B-33.428090000000005%2C%20-70.60843%5D%2C%20%5B-33.43895%2C%20-70.61973%5D%2C%20%5B-33.44755%2C%20-70.65379%5D%2C%20%5B-33.448640000000005%2C%20-70.64123000000001%5D%2C%20%5B-33.40658%2C%20-70.59781%5D%2C%20%5B-33.42775%2C%20-70.61871%5D%2C%20%5B-33.43913%2C%20-70.65594%5D%2C%20%5B-33.50271%2C%20-70.61161%5D%2C%20%5B-33.44297%2C%20-70.60693%5D%2C%20%5B-33.41163%2C%20-70.57213%5D%2C%20%5B-33.49419%2C%20-70.72345%5D%2C%20%5B-33.4509%2C%20-70.64483%5D%2C%20%5B-33.45428%2C%20-70.63857%5D%2C%20%5B-33.44184%2C%20-70.65146%5D%2C%20%5B-33.41411%2C%20-70.58078%5D%2C%20%5B-33.4509%2C%20-70.64365%5D%2C%20%5B-33.43793%2C%20-70.64527%5D%2C%20%5B-33.44673%2C%20-70.64039%5D%2C%20%5B-33.42007%2C%20-70.61208%5D%2C%20%5B-33.5033%2C%20-70.65289%5D%2C%20%5B-33.43566%2C%20-70.6536%5D%2C%20%5B-33.42521%2C%20-70.61533%5D%2C%20%5B-33.44407%2C%20-70.59718000000001%5D%2C%20%5B-33.49857%2C%20-70.66415%5D%2C%20%5B-33.45599%2C%20-70.66372%5D%2C%20%5B-33.455740000000006%2C%20-70.59755%5D%2C%20%5B-33.42803%2C%20-70.67636%5D%2C%20%5B-33.41491%2C%20-70.58269%5D%2C%20%5B-33.43741%2C%20-70.63874%5D%2C%20%5B-33.42105%2C%20-70.60351999999999%5D%2C%20%5B-33.44798%2C%20-70.6422%5D%2C%20%5B-33.4935%2C%20-70.65118000000001%5D%2C%20%5B-33.44805%2C%20-70.63944000000001%5D%2C%20%5B-33.46286%2C%20-70.59649%5D%2C%20%5B-33.40191%2C%20-70.55615999999999%5D%2C%20%5B-33.44697%2C%20-70.64664%5D%2C%20%5B-33.42799%2C%20-70.61693000000001%5D%2C%20%5B-33.441520000000004%2C%20-70.65987%5D%2C%20%5B-33.449290000000005%2C%20-70.65581999999999%5D%2C%20%5B-33.4374%2C%20-70.62988%5D%2C%20%5B-33.41798%2C%20-70.59767%5D%2C%20%5B-33.43823%2C%20-70.63620999999999%5D%2C%20%5B-33.44426%2C%20-70.66776%5D%2C%20%5B-33.44923%2C%20-70.56707%5D%2C%20%5B-33.43571%2C%20-70.58957%5D%2C%20%5B-33.40182%2C%20-70.58938%5D%2C%20%5B-33.56133%2C%20-70.77761%5D%2C%20%5B-33.44205%2C%20-70.64419000000001%5D%2C%20%5B-33.44249%2C%20-70.63476999999999%5D%2C%20%5B-33.42731%2C%20-70.59443%5D%2C%20%5B-33.45601%2C%20-70.58904%5D%2C%20%5B-33.437979999999996%2C%20-70.64153%5D%2C%20%5B-33.45303%2C%20-70.60309000000001%5D%2C%20%5B-33.44795%2C%20-70.64227%5D%2C%20%5B-33.42138%2C%20-70.60658000000001%5D%2C%20%5B-33.43622%2C%20-70.64180999999999%5D%2C%20%5B-33.45636%2C%20-70.57358%5D%2C%20%5B-33.38738%2C%20-70.54292%5D%2C%20%5B-33.44597%2C%20-70.65165999999999%5D%2C%20%5B-33.464890000000004%2C%20-70.59777%5D%2C%20%5B-33.54423%2C%20-70.58024%5D%2C%20%5B-33.44214%2C%20-70.67596%5D%2C%20%5B-33.4421%2C%20-70.67478%5D%2C%20%5B-33.44668%2C%20-70.64013%5D%2C%20%5B-33.43845%2C%20-70.63772%5D%2C%20%5B-33.40475%2C%20-70.56078000000001%5D%2C%20%5B-33.45097%2C%20-70.65568%5D%2C%20%5B-33.43721%2C%20-70.66642%5D%2C%20%5B-33.436479999999996%2C%20-70.68316%5D%2C%20%5B-33.43084%2C%20-70.64024%5D%2C%20%5B-33.44794%2C%20-70.63479%5D%2C%20%5B-33.44021%2C%20-70.60221999999999%5D%2C%20%5B-33.448029999999996%2C%20-70.55126%5D%2C%20%5B-33.34425%2C%20-70.52139%5D%2C%20%5B-33.41802%2C%20-70.65759%5D%2C%20%5B-33.43971%2C%20-70.62898%5D%2C%20%5B-33.446490000000004%2C%20-70.65576999999999%5D%2C%20%5B-33.45952%2C%20-70.6344%5D%2C%20%5B-33.44998%2C%20-70.65581%5D%2C%20%5B-33.451640000000005%2C%20-70.65474%5D%2C%20%5B-33.44764%2C%20-70.67188%5D%2C%20%5B-33.40609%2C%20-70.56559%5D%2C%20%5B-33.459920000000004%2C%20-70.70402%5D%2C%20%5B-33.41559%2C%20-70.59966%5D%2C%20%5B-33.4192%2C%20-70.6016%5D%2C%20%5B-33.4367%2C%20-70.68412%5D%2C%20%5B-33.45384%2C%20-70.65584%5D%2C%20%5B-33.43909%2C%20-70.62691%5D%2C%20%5B-33.43922%2C%20-70.62719%5D%2C%20%5B-33.43813%2C%20-70.62878%5D%2C%20%5B-33.4374%2C%20-70.68327%5D%2C%20%5B-33.4294%2C%20-70.67115%5D%2C%20%5B-33.3875%2C%20-70.53894%5D%2C%20%5B-33.49155%2C%20-70.61650999999999%5D%2C%20%5B-33.45752%2C%20-70.64338000000001%5D%2C%20%5B-33.45864%2C%20-70.82171%5D%2C%20%5B-33.40775%2C%20-70.59831%5D%2C%20%5B-33.48533%2C%20-70.58643000000001%5D%2C%20%5B-33.48744%2C%20-70.58606%5D%2C%20%5B-33.441390000000006%2C%20-70.68721%5D%2C%20%5B-33.54195%2C%20-70.56609%5D%2C%20%5B-33.50057%2C%20-70.59039%5D%2C%20%5B-33.44143%2C%20-70.6413%5D%2C%20%5B-33.3936%2C%20-70.61205%5D%2C%20%5B-33.4008%2C%20-70.57059%5D%2C%20%5B-33.44685%2C%20-70.64993%5D%2C%20%5B-33.42487%2C%20-70.61146%5D%2C%20%5B-33.4386%2C%20-70.64608%5D%2C%20%5B-33.45128%2C%20-70.62864%5D%2C%20%5B-33.445159999999994%2C%20-70.59416999999999%5D%2C%20%5B-33.48065%2C%20-70.7626%5D%2C%20%5B-33.44598%2C%20-70.63973%5D%2C%20%5B-33.45227%2C%20-70.66438000000001%5D%2C%20%5B-33.4053%2C%20-70.55939000000001%5D%2C%20%5B-33.43587%2C%20-70.67900999999999%5D%2C%20%5B-33.41462%2C%20-70.58997%5D%2C%20%5B-33.43992%2C%20-70.66922%5D%2C%20%5B-33.444590000000005%2C%20-70.6341%5D%2C%20%5B-33.41617%2C%20-70.58646999999999%5D%2C%20%5B-33.4405%2C%20-70.56715%5D%2C%20%5B-33.4466%2C%20-70.65262%5D%2C%20%5B-33.4363%2C%20-70.64729%5D%2C%20%5B-33.447590000000005%2C%20-70.65432%5D%2C%20%5B-33.45344%2C%20-70.66856999999999%5D%2C%20%5B-33.43184%2C%20-70.65763000000001%5D%2C%20%5B-33.44965%2C%20-70.65666999999999%5D%2C%20%5B-33.40661%2C%20-70.557%5D%2C%20%5B-33.426829999999995%2C%20-70.60755%5D%2C%20%5B-33.437509999999996%2C%20-70.64535%5D%2C%20%5B-33.44784%2C%20-70.60276%5D%2C%20%5B-33.446490000000004%2C%20-70.64758%5D%2C%20%5B-33.43187%2C%20-70.65724%5D%2C%20%5B-33.44482%2C%20-70.584%5D%2C%20%5B-33.447990000000004%2C%20-70.64187%5D%2C%20%5B-33.40562%2C%20-70.59814%5D%2C%20%5B-33.448679999999996%2C%20-70.65426%5D%2C%20%5B-33.47206%2C%20-70.66117%5D%2C%20%5B-33.45077%2C%20-70.59716999999999%5D%2C%20%5B-33.40982%2C%20-70.56605%5D%2C%20%5B-33.446259999999995%2C%20-70.64827%5D%2C%20%5B-33.44854%2C%20-70.63123%5D%2C%20%5B-33.456520000000005%2C%20-70.69883%5D%2C%20%5B-33.42665%2C%20-70.61765%5D%2C%20%5B-33.44023%2C%20-70.64018%5D%2C%20%5B-33.43322%2C%20-70.65791999999999%5D%2C%20%5B-33.489779999999996%2C%20-70.64699999999999%5D%2C%20%5B-33.41413%2C%20-70.58610999999999%5D%2C%20%5B-33.56047%2C%20-70.57562%5D%2C%20%5B-33.43116%2C%20-70.62607%5D%2C%20%5B-33.45304%2C%20-70.62477%5D%2C%20%5B-33.474270000000004%2C%20-70.61152%5D%2C%20%5B-33.43858%2C%20-70.65908%5D%2C%20%5B-33.43295%2C%20-70.67706%5D%2C%20%5B-33.44407%2C%20-70.64235%5D%2C%20%5B-33.39798%2C%20-70.58893%5D%2C%20%5B-33.45722%2C%20-70.69288%5D%2C%20%5B-33.48686%2C%20-70.62021%5D%2C%20%5B-33.44466%2C%20-70.62640999999999%5D%2C%20%5B-33.425309999999996%2C%20-70.61221%5D%2C%20%5B-33.486979999999996%2C%20-70.61905%5D%2C%20%5B-33.39738%2C%20-70.58725%5D%2C%20%5B-33.424659999999996%2C%20-70.63932%5D%2C%20%5B-33.43853%2C%20-70.58448%5D%2C%20%5B-33.448840000000004%2C%20-70.64652%5D%2C%20%5B-33.44753%2C%20-70.64386999999999%5D%2C%20%5B-33.44632%2C%20-70.64784%5D%2C%20%5B-33.42342%2C%20-70.60683%5D%2C%20%5B-33.44843%2C%20-70.61806999999999%5D%2C%20%5B-33.49131%2C%20-70.61596%5D%2C%20%5B-33.4387%2C%20-70.64116%5D%2C%20%5B-33.52019%2C%20-70.59859%5D%2C%20%5B-33.43615%2C%20-70.66537%5D%2C%20%5B-33.43358%2C%20-70.58645%5D%2C%20%5B-33.522040000000004%2C%20-70.59909%5D%2C%20%5B-33.43385%2C%20-70.62456999999999%5D%2C%20%5B-33.42484%2C%20-70.55846%5D%2C%20%5B-33.44251%2C%20-70.62809%5D%2C%20%5B-33.41122%2C%20-70.56300999999999%5D%2C%20%5B-33.44938%2C%20-70.6665%5D%2C%20%5B-33.43481%2C%20-70.65675%5D%2C%20%5B-33.5506%2C%20-70.56639%5D%2C%20%5B-33.44319%2C%20-70.6594%5D%2C%20%5B-33.51352%2C%20-70.60745%5D%2C%20%5B-33.43503%2C%20-70.65857%5D%2C%20%5B-33.43145%2C%20-70.62097%5D%2C%20%5B-33.4551%2C%20-70.59943%5D%2C%20%5B-33.4906%2C%20-70.61605%5D%2C%20%5B-33.46015%2C%20-70.70361%5D%2C%20%5B-33.45093%2C%20-70.67071999999999%5D%2C%20%5B-33.42958%2C%20-70.59388%5D%2C%20%5B-33.43823%2C%20-70.57914%5D%2C%20%5B-33.44373%2C%20-70.65872%5D%2C%20%5B-33.443329999999996%2C%20-70.65979%5D%2C%20%5B-33.4121%2C%20-70.57024%5D%2C%20%5B-33.50305%2C%20-70.65626%5D%2C%20%5B-33.44914%2C%20-70.64643000000001%5D%2C%20%5B-33.348009999999995%2C%20-70.54091%5D%2C%20%5B-33.44807%2C%20-70.64805%5D%2C%20%5B-33.45326%2C%20-70.55830999999999%5D%2C%20%5B-33.42837%2C%20-70.6006%5D%2C%20%5B-33.44962%2C%20-70.62719%5D%2C%20%5B-33.414970000000004%2C%20-70.58706%5D%2C%20%5B-33.45288%2C%20-70.65469%5D%2C%20%5B-33.4376%2C%20-70.64711%5D%2C%20%5B-33.44171%2C%20-70.65809%5D%2C%20%5B-33.46015%2C%20-70.59929%5D%2C%20%5B-33.43572%2C%20-70.66555%5D%2C%20%5B-33.41024%2C%20-70.56226%5D%2C%20%5B-33.44846%2C%20-70.64688000000001%5D%2C%20%5B-33.45933%2C%20-70.65434%5D%2C%20%5B-33.42325%2C%20-70.62185%5D%2C%20%5B-33.4545%2C%20-70.65371999999999%5D%2C%20%5B-33.35494%2C%20-70.24931%5D%2C%20%5B-33.41276%2C%20-70.58714%5D%2C%20%5B-33.42961%2C%20-70.61986%5D%2C%20%5B-33.40563%2C%20-70.55722%5D%2C%20%5B-33.40769%2C%20-70.54778%5D%2C%20%5B-33.43155%2C%20-70.62358%5D%2C%20%5B-33.41667%2C%20-70.58582%5D%2C%20%5B-33.38714%2C%20-70.53876%5D%2C%20%5B-33.45263%2C%20-70.65720999999999%5D%2C%20%5B-33.45008%2C%20-70.60176%5D%2C%20%5B-33.45568%2C%20-70.55291%5D%2C%20%5B-33.431779999999996%2C%20-70.64564%5D%2C%20%5B-33.45596%2C%20-70.6916%5D%2C%20%5B-33.42463%2C%20-70.61071%5D%2C%20%5B-33.44685%2C%20-70.66326%5D%2C%20%5B-33.36058%2C%20-70.25848%5D%2C%20%5B-33.42033%2C%20-70.60439000000001%5D%2C%20%5B-33.44628%2C%20-70.64363%5D%2C%20%5B-33.44925%2C%20-70.64838%5D%2C%20%5B-33.41612%2C%20-70.58798%5D%2C%20%5B-33.45326%2C%20-70.59357%5D%2C%20%5B-33.43778%2C%20-70.65633000000001%5D%2C%20%5B-33.41682%2C%20-70.59239000000001%5D%2C%20%5B-33.450509999999994%2C%20-70.65661999999999%5D%2C%20%5B-33.41936%2C%20-70.6617%5D%2C%20%5B-33.4353%2C%20-70.64737%5D%2C%20%5B-33.44597%2C%20-70.63600000000001%5D%2C%20%5B-33.41301%2C%20-70.58506%5D%2C%20%5B-33.43443%2C%20-70.66539%5D%2C%20%5B-33.43789%2C%20-70.69029%5D%2C%20%5B-33.40623%2C%20-70.56691%5D%2C%20%5B-33.49058%2C%20-70.78296999999999%5D%2C%20%5B-33.44185%2C%20-70.63361%5D%2C%20%5B-33.42889%2C%20-70.6216%5D%2C%20%5B-33.44342%2C%20-70.61646999999999%5D%2C%20%5B-33.43743%2C%20-70.64701%5D%2C%20%5B-33.41786%2C%20-70.70706%5D%2C%20%5B-33.448240000000006%2C%20-70.64582%5D%2C%20%5B-33.43755%2C%20-70.67429%5D%2C%20%5B-33.45254%2C%20-70.60988%5D%2C%20%5B-33.44959%2C%20-70.63847%5D%2C%20%5B-33.44355%2C%20-70.65682%5D%2C%20%5B-33.43845%2C%20-70.66181999999999%5D%2C%20%5B-33.45792%2C%20-70.59337%5D%2C%20%5B-33.43569%2C%20-70.60501%5D%2C%20%5B-33.42838%2C%20-70.6204%5D%2C%20%5B-33.50464%2C%20-70.59161%5D%2C%20%5B-33.45277%2C%20-70.66467%5D%2C%20%5B-33.44392%2C%20-70.635%5D%2C%20%5B-33.43888%2C%20-70.66741%5D%2C%20%5B-33.40384%2C%20-70.56565%5D%2C%20%5B-33.33417%2C%20-70.29043%5D%2C%20%5B-33.44851%2C%20-70.62115%5D%2C%20%5B-33.42771%2C%20-70.62535%5D%2C%20%5B-33.44832%2C%20-70.64294%5D%2C%20%5B-33.36112%2C%20-70.51619000000001%5D%2C%20%5B-33.43521%2C%20-70.65973000000001%5D%2C%20%5B-33.45411%2C%20-70.59521%5D%2C%20%5B-33.43895%2C%20-70.67648%5D%2C%20%5B-33.42742%2C%20-70.61359%5D%2C%20%5B-33.44833%2C%20-70.65254%5D%2C%20%5B-33.46763%2C%20-70.62284%5D%2C%20%5B-33.45994%2C%20-70.6265%5D%2C%20%5B-33.45702%2C%20-70.59501999999999%5D%2C%20%5B-33.42754%2C%20-70.60007%5D%2C%20%5B-33.4358%2C%20-70.65705%5D%2C%20%5B-33.41652%2C%20-70.60275%5D%2C%20%5B-33.49413%2C%20-70.66141%5D%2C%20%5B-33.437%2C%20-70.63915%5D%2C%20%5B-33.43243%2C%20-70.64325%5D%2C%20%5B-33.40533%2C%20-70.5586%5D%2C%20%5B-33.447070000000004%2C%20-70.67019%5D%2C%20%5B-33.43945%2C%20-70.62895%5D%2C%20%5B-33.43802%2C%20-70.62725%5D%2C%20%5B-33.4534%2C%20-70.67126999999999%5D%2C%20%5B-33.44133%2C%20-70.62931%5D%2C%20%5B-33.41916%2C%20-70.56426%5D%2C%20%5B-33.44497%2C%20-70.63466%5D%2C%20%5B-33.35329%2C%20-70.24799%5D%2C%20%5B-33.431459999999994%2C%20-70.63105%5D%2C%20%5B-33.44121%2C%20-70.53289000000001%5D%2C%20%5B-33.44469%2C%20-70.64504000000001%5D%2C%20%5B-33.430040000000005%2C%20-70.66754%5D%2C%20%5B-33.43524%2C%20-70.64787%5D%2C%20%5B-33.41052%2C%20-70.57369%5D%2C%20%5B-33.44036%2C%20-70.67309%5D%2C%20%5B-33.42252%2C%20-70.6126%5D%2C%20%5B-33.434090000000005%2C%20-70.64938000000001%5D%2C%20%5B-33.42393%2C%20-70.61179%5D%2C%20%5B-33.433640000000004%2C%20-70.65637%5D%2C%20%5B-33.4433%2C%20-70.63365999999999%5D%2C%20%5B-33.46472%2C%20-70.62536999999999%5D%2C%20%5B-33.428129999999996%2C%20-70.64028%5D%2C%20%5B-33.45358%2C%20-70.55060999999999%5D%2C%20%5B-33.448170000000005%2C%20-70.56736%5D%2C%20%5B-33.446659999999994%2C%20-70.64778000000001%5D%2C%20%5B-33.39504%2C%20-70.56432%5D%2C%20%5B-33.450520000000004%2C%20-70.61219%5D%2C%20%5B-33.40302%2C%20-70.59446%5D%2C%20%5B-33.45163%2C%20-70.58561999999999%5D%2C%20%5B-33.44623%2C%20-70.63355%5D%2C%20%5B-33.41682%2C%20-70.58626%5D%2C%20%5B-33.44664%2C%20-70.57895%5D%2C%20%5B-33.43182%2C%20-70.64309%5D%2C%20%5B-33.41899%2C%20-70.64385%5D%2C%20%5B-33.41835%2C%20-70.65981%5D%2C%20%5B-33.44894%2C%20-70.63976%5D%2C%20%5B-33.4159%2C%20-70.58795%5D%2C%20%5B-33.41449%2C%20-70.58683%5D%2C%20%5B-33.459109999999995%2C%20-70.55249%5D%2C%20%5B-33.415409999999994%2C%20-70.58644%5D%2C%20%5B-33.41476%2C%20-70.58846%5D%2C%20%5B-33.44019%2C%20-70.64278%5D%2C%20%5B-33.40729%2C%20-70.56390999999999%5D%2C%20%5B-33.4163%2C%20-70.59783%5D%2C%20%5B-33.44108%2C%20-70.63289%5D%2C%20%5B-33.439859999999996%2C%20-70.66851%5D%2C%20%5B-33.44493%2C%20-70.64518000000001%5D%2C%20%5B-33.35807%2C%20-70.25538%5D%2C%20%5B-33.47664%2C%20-70.62456999999999%5D%2C%20%5B-33.44062%2C%20-70.6347%5D%2C%20%5B-33.44915%2C%20-70.64227%5D%2C%20%5B-33.48668%2C%20-70.61959%5D%2C%20%5B-33.45077%2C%20-70.64256%5D%2C%20%5B-33.459140000000005%2C%20-70.62633000000001%5D%2C%20%5B-33.45508%2C%20-70.60031%5D%2C%20%5B-33.418690000000005%2C%20-70.56736%5D%2C%20%5B-33.32502%2C%20-70.51536%5D%2C%20%5B-33.48638%2C%20-70.64708%5D%2C%20%5B-33.44995%2C%20-70.67031%5D%2C%20%5B-33.55491%2C%20-70.60959%5D%2C%20%5B-33.44766%2C%20-70.66356%5D%2C%20%5B-33.43237%2C%20-70.61151%5D%2C%20%5B-33.42975%2C%20-70.63464%5D%2C%20%5B-33.39965%2C%20-70.57289%5D%2C%20%5B-33.47664%2C%20-70.62456999999999%5D%2C%20%5B-33.49075%2C%20-70.59829%5D%2C%20%5B-33.438340000000004%2C%20-70.65155%5D%2C%20%5B-33.44014%2C%20-70.66671%5D%2C%20%5B-33.4177%2C%20-70.55624%5D%2C%20%5B-33.41146%2C%20-70.59806%5D%2C%20%5B-33.39056%2C%20-70.59121999999999%5D%2C%20%5B-33.45324%2C%20-70.65788%5D%2C%20%5B-33.34774%2C%20-70.29155%5D%2C%20%5B-33.4087%2C%20-70.57206%5D%2C%20%5B-33.40615%2C%20-70.56934%5D%2C%20%5B-33.43826%2C%20-70.61157%5D%2C%20%5B-33.48689%2C%20-70.75402%5D%2C%20%5B-33.398309999999995%2C%20-70.55343%5D%2C%20%5B-33.43716%2C%20-70.65541999999999%5D%2C%20%5B-33.44381%2C%20-70.66014%5D%2C%20%5B-33.40108%2C%20-70.57215%5D%2C%20%5B-33.45154%2C%20-70.65574000000001%5D%2C%20%5B-33.44791%2C%20-70.65486999999999%5D%2C%20%5B-33.433%2C%20-70.60179000000001%5D%2C%20%5B-33.48457%2C%20-70.58849000000001%5D%2C%20%5B-33.42836%2C%20-70.62007%5D%2C%20%5B-33.427690000000005%2C%20-70.61666%5D%2C%20%5B-33.459340000000005%2C%20-70.59893000000001%5D%2C%20%5B-33.45371%2C%20-70.57651%5D%2C%20%5B-33.46092%2C%20-70.63563%5D%2C%20%5B-33.443979999999996%2C%20-70.66122%5D%2C%20%5B-33.44798%2C%20-70.59668%5D%2C%20%5B-33.450109999999995%2C%20-70.60566%5D%2C%20%5B-33.45101%2C%20-70.6418%5D%2C%20%5B-33.43054%2C%20-70.68554%5D%2C%20%5B-33.42395%2C%20-70.66530999999999%5D%2C%20%5B-33.43923%2C%20-70.65630999999999%5D%2C%20%5B-33.447070000000004%2C%20-70.64352%5D%2C%20%5B-33.4501%2C%20-70.64796%5D%2C%20%5B-33.432140000000004%2C%20-70.63888%5D%2C%20%5B-33.354079999999996%2C%20-70.24748000000001%5D%2C%20%5B-33.39883%2C%20-70.55266999999999%5D%2C%20%5B-33.444959999999995%2C%20-70.64917%5D%2C%20%5B-33.43522%2C%20-70.60557%5D%2C%20%5B-33.43153%2C%20-70.62305%5D%2C%20%5B-33.43145%2C%20-70.67827%5D%2C%20%5B-33.41532%2C%20-70.69972%5D%2C%20%5B-33.50022%2C%20-70.78358%5D%2C%20%5B-33.4168%2C%20-70.57305%5D%2C%20%5B-33.47235%2C%20-70.66184%5D%2C%20%5B-33.45298%2C%20-70.65643%5D%2C%20%5B-33.4769%2C%20-70.54771%5D%2C%20%5B-33.44493%2C%20-70.63797%5D%2C%20%5B-33.40599%2C%20-70.56597%5D%2C%20%5B-33.44188%2C%20-70.6479%5D%2C%20%5B-33.43658%2C%20-70.64187%5D%2C%20%5B-33.45349%2C%20-70.61699%5D%2C%20%5B-33.45367%2C%20-70.66086999999999%5D%2C%20%5B-33.41509%2C%20-70.60041%5D%2C%20%5B-33.410509999999995%2C%20-70.58895%5D%2C%20%5B-33.4476%2C%20-70.6437%5D%2C%20%5B-33.40077%2C%20-70.57172%5D%2C%20%5B-33.430009999999996%2C%20-70.61976999999999%5D%2C%20%5B-33.430009999999996%2C%20-70.61976999999999%5D%2C%20%5B-33.42362%2C%20-70.61364%5D%2C%20%5B-33.43338%2C%20-70.62174%5D%2C%20%5B-33.43338%2C%20-70.62174%5D%2C%20%5B-33.441309999999994%2C%20-70.67713%5D%2C%20%5B-33.44215%2C%20-70.64608%5D%2C%20%5B-33.411809999999996%2C%20-70.58883%5D%2C%20%5B-33.41056%2C%20-70.5876%5D%2C%20%5B-33.43027%2C%20-70.67862%5D%2C%20%5B-33.436409999999995%2C%20-70.64905%5D%2C%20%5B-33.425959999999996%2C%20-70.5934%5D%2C%20%5B-33.445%2C%20-70.61754%5D%2C%20%5B-33.42896%2C%20-70.64174%5D%2C%20%5B-33.49008%2C%20-70.57245999999999%5D%2C%20%5B-33.43076%2C%20-70.61922%5D%2C%20%5B-33.44207%2C%20-70.57885%5D%2C%20%5B-33.4222%2C%20-70.53914%5D%2C%20%5B-33.430620000000005%2C%20-70.62532%5D%2C%20%5B-33.41444%2C%20-70.60302%5D%2C%20%5B-33.44061%2C%20-70.63025%5D%2C%20%5B-33.44855%2C%20-70.60502%5D%2C%20%5B-33.44645%2C%20-70.61146%5D%2C%20%5B-33.45132%2C%20-70.66136999999999%5D%2C%20%5B-33.443220000000004%2C%20-70.64135999999999%5D%2C%20%5B-33.50452%2C%20-70.65159%5D%2C%20%5B-33.43358%2C%20-70.60008%5D%2C%20%5B-33.4177%2C%20-70.60185%5D%2C%20%5B-33.44257%2C%20-70.63462%5D%2C%20%5B-33.44748%2C%20-70.63842%5D%2C%20%5B-33.443670000000004%2C%20-70.63554%5D%2C%20%5B-33.43255%2C%20-70.65781%5D%2C%20%5B-33.434%2C%20-70.64372%5D%2C%20%5B-33.423790000000004%2C%20-70.60969%5D%2C%20%5B-33.400259999999996%2C%20-70.59636%5D%2C%20%5B-33.447359999999996%2C%20-70.65259%5D%2C%20%5B-33.44683%2C%20-70.65301%5D%2C%20%5B-33.44631%2C%20-70.65437%5D%2C%20%5B-33.4477%2C%20-70.63837%5D%2C%20%5B-33.45668%2C%20-70.59461%5D%2C%20%5B-33.44229%2C%20-70.64842%5D%2C%20%5B-33.46432%2C%20-70.59577%5D%2C%20%5B-33.42975%2C%20-70.62106999999999%5D%2C%20%5B-33.43736%2C%20-70.65813%5D%2C%20%5B-33.437490000000004%2C%20-70.66166%5D%2C%20%5B-33.423%2C%20-70.58001%5D%2C%20%5B-33.43688%2C%20-70.6555%5D%2C%20%5B-33.47627%2C%20-70.64764%5D%2C%20%5B-33.44928%2C%20-70.65575%5D%2C%20%5B-33.45466%2C%20-70.65671999999999%5D%2C%20%5B-33.44427%2C%20-70.64466%5D%2C%20%5B-33.45965%2C%20-70.6259%5D%2C%20%5B-33.56561%2C%20-70.59031999999999%5D%2C%20%5B-33.439479999999996%2C%20-70.59816%5D%2C%20%5B-33.433859999999996%2C%20-70.65809%5D%2C%20%5B-33.44514%2C%20-70.6445%5D%2C%20%5B-33.4504%2C%20-70.60404%5D%2C%20%5B-33.450590000000005%2C%20-70.65547%5D%2C%20%5B-33.438359999999996%2C%20-70.64664%5D%2C%20%5B-33.400909999999996%2C%20-70.59945%5D%2C%20%5B-33.41559%2C%20-70.59317%5D%2C%20%5B-33.43972%2C%20-70.64126999999999%5D%2C%20%5B-33.448240000000006%2C%20-70.64961%5D%2C%20%5B-33.36567%2C%20-70.67056%5D%2C%20%5B-33.41328%2C%20-70.58914%5D%2C%20%5B-33.34708%2C%20-70.29131%5D%2C%20%5B-33.44348%2C%20-70.60526%5D%2C%20%5B-33.4198%2C%20-70.582%5D%2C%20%5B-33.451209999999996%2C%20-70.64069%5D%2C%20%5B-33.44005%2C%20-70.6472%5D%2C%20%5B-33.45257%2C%20-70.60744%5D%2C%20%5B-33.430409999999995%2C%20-70.63212%5D%2C%20%5B-33.34538%2C%20-70.2926%5D%2C%20%5B-33.34479%2C%20-70.29177%5D%2C%20%5B-33.447790000000005%2C%20-70.57449%5D%2C%20%5B-33.44859%2C%20-70.64271%5D%2C%20%5B-33.41487%2C%20-70.58823000000001%5D%2C%20%5B-33.41782%2C%20-70.55796%5D%2C%20%5B-33.4276%2C%20-70.65473%5D%2C%20%5B-33.44119%2C%20-70.60637%5D%2C%20%5B-33.41512%2C%20-70.58955999999999%5D%2C%20%5B-33.44316%2C%20-70.61615%5D%2C%20%5B-33.42924%2C%20-70.62328000000001%5D%2C%20%5B-33.40234%2C%20-70.57451999999999%5D%2C%20%5B-33.46991%2C%20-70.64851999999999%5D%2C%20%5B-33.4367%2C%20-70.6529%5D%2C%20%5B-33.42194%2C%20-70.60839%5D%2C%20%5B-33.368840000000006%2C%20-70.50555%5D%2C%20%5B-33.44064%2C%20-70.63014%5D%2C%20%5B-33.48615%2C%20-70.64756%5D%2C%20%5B-33.43978%2C%20-70.62711%5D%2C%20%5B-33.41576%2C%20-70.58684000000001%5D%2C%20%5B-33.37191%2C%20-70.51011%5D%2C%20%5B-33.41775%2C%20-70.59992%5D%2C%20%5B-33.44267%2C%20-70.6592%5D%2C%20%5B-33.434940000000005%2C%20-70.57519%5D%2C%20%5B-33.462590000000006%2C%20-70.56730999999999%5D%2C%20%5B-33.4248%2C%20-70.64028%5D%2C%20%5B-33.43323%2C%20-70.6607%5D%2C%20%5B-33.435520000000004%2C%20-70.65484000000001%5D%2C%20%5B-33.4432%2C%20-70.65777%5D%2C%20%5B-33.45664%2C%20-70.63035%5D%2C%20%5B-33.449290000000005%2C%20-70.6362%5D%2C%20%5B-33.41155%2C%20-70.57167%5D%2C%20%5B-33.292609999999996%2C%20-70.28288%5D%2C%20%5B-33.440690000000004%2C%20-70.65588000000001%5D%2C%20%5B-33.34903%2C%20-70.29403%5D%2C%20%5B-33.438629999999996%2C%20-70.60715%5D%2C%20%5B-33.45368%2C%20-70.63274%5D%2C%20%5B-33.45281%2C%20-70.59828%5D%2C%20%5B-33.418929999999996%2C%20-70.61684%5D%2C%20%5B-33.414640000000006%2C%20-70.58351%5D%2C%20%5B-33.443659999999994%2C%20-70.64357%5D%2C%20%5B-33.434329999999996%2C%20-70.65553%5D%2C%20%5B-33.44938%2C%20-70.64602%5D%2C%20%5B-33.450390000000006%2C%20-70.61071%5D%2C%20%5B-33.44805%2C%20-70.63996%5D%2C%20%5B-33.44682%2C%20-70.62796999999999%5D%2C%20%5B-33.406209999999994%2C%20-70.5582%5D%2C%20%5B-33.438159999999996%2C%20-70.62861%5D%2C%20%5B-33.43144%2C%20-70.65878000000001%5D%2C%20%5B-33.45733%2C%20-70.66454%5D%2C%20%5B-33.436890000000005%2C%20-70.61164000000001%5D%2C%20%5B-33.39971%2C%20-70.57300000000001%5D%2C%20%5B-33.42634%2C%20-70.64721%5D%2C%20%5B-33.42607%2C%20-70.61633%5D%2C%20%5B-33.43391%2C%20-70.6383%5D%2C%20%5B-33.43355%2C%20-70.63918000000001%5D%2C%20%5B-33.51294%2C%20-70.59684%5D%2C%20%5B-33.44717%2C%20-70.63815%5D%2C%20%5B-33.43221%2C%20-70.64123000000001%5D%2C%20%5B-33.40487%2C%20-70.59483%5D%2C%20%5B-33.44388%2C%20-70.63579%5D%2C%20%5B-33.347359999999995%2C%20-70.29141%5D%2C%20%5B-33.44775%2C%20-70.64771%5D%2C%20%5B-33.41444%2C%20-70.57773%5D%2C%20%5B-33.43789%2C%20-70.61006%5D%2C%20%5B-33.45032%2C%20-70.62924%5D%2C%20%5B-33.44143%2C%20-70.6689%5D%2C%20%5B-33.438990000000004%2C%20-70.62787%5D%2C%20%5B-33.43672%2C%20-70.64485%5D%2C%20%5B-33.41757%2C%20-70.59288000000001%5D%2C%20%5B-33.56508%2C%20-70.5895%5D%2C%20%5B-33.40817%2C%20-70.54718000000001%5D%2C%20%5B-33.41799%2C%20-70.60319%5D%2C%20%5B-33.43501%2C%20-70.64206999999999%5D%2C%20%5B-33.440529999999995%2C%20-70.61343000000001%5D%2C%20%5B-33.43548%2C%20-70.58341%5D%2C%20%5B-33.4305%2C%20-70.59217%5D%2C%20%5B-33.43128%2C%20-70.59249%5D%2C%20%5B-33.44692%2C%20-70.62006%5D%2C%20%5B-33.508109999999995%2C%20-70.59161%5D%2C%20%5B-33.4412%2C%20-70.64665%5D%2C%20%5B-33.35241%2C%20-70.24729%5D%2C%20%5B-33.44611%2C%20-70.63301%5D%2C%20%5B-33.38507%2C%20-70.54533%5D%2C%20%5B-33.43756%2C%20-70.63721%5D%2C%20%5B-33.44947%2C%20-70.64501%5D%2C%20%5B-33.460029999999996%2C%20-70.59823%5D%2C%20%5B-33.523340000000005%2C%20-70.6533%5D%2C%20%5B-33.45262%2C%20-70.76153000000001%5D%2C%20%5B-33.3565%2C%20-70.67699999999999%5D%2C%20%5B-33.44766%2C%20-70.65215%5D%2C%20%5B-33.447759999999995%2C%20-70.64175%5D%2C%20%5B-33.44182%2C%20-70.6598%5D%2C%20%5B-33.41963%2C%20-70.58389%5D%2C%20%5B-33.43855%2C%20-70.65727%5D%2C%20%5B-33.442440000000005%2C%20-70.64047%5D%2C%20%5B-33.3722%2C%20-70.44393000000001%5D%2C%20%5B-33.446259999999995%2C%20-70.63549%5D%2C%20%5B-33.46151%2C%20-70.60099%5D%2C%20%5B-33.470729999999996%2C%20-70.64845%5D%2C%20%5B-33.429840000000006%2C%20-70.618%5D%2C%20%5B-33.44845%2C%20-70.64177%5D%2C%20%5B-33.45219%2C%20-70.64352%5D%2C%20%5B-33.43698%2C%20-70.62125999999999%5D%2C%20%5B-33.452709999999996%2C%20-70.64201%5D%2C%20%5B-33.446709999999996%2C%20-70.64683000000001%5D%2C%20%5B-33.41863%2C%20-70.55629%5D%2C%20%5B-33.41899%2C%20-70.66966%5D%2C%20%5B-33.40077%2C%20-70.57401999999999%5D%2C%20%5B-33.42648%2C%20-70.60389%5D%2C%20%5B-33.35994%2C%20-70.29131%5D%2C%20%5B-33.44865%2C%20-70.6433%5D%2C%20%5B-33.4005%2C%20-70.57276%5D%2C%20%5B-33.40506%2C%20-70.56992%5D%2C%20%5B-33.43671%2C%20-70.64373%5D%2C%20%5B-33.43695%2C%20-70.63072%5D%2C%20%5B-33.42613%2C%20-70.60576999999999%5D%2C%20%5B-33.42875%2C%20-70.60435%5D%2C%20%5B-33.43177%2C%20-70.66051999999999%5D%2C%20%5B-33.40775%2C%20-70.56867%5D%2C%20%5B-33.41152%2C%20-70.53468000000001%5D%2C%20%5B-33.399303%2C%20-70.572929%5D%2C%20%5B-33.41173%2C%20-70.56992%5D%2C%20%5B-33.41986%2C%20-70.61048000000001%5D%2C%20%5B-33.347970000000004%2C%20-70.29091%5D%2C%20%5B-33.419779999999996%2C%20-70.58174%5D%2C%20%5B-33.52528%2C%20-70.65396%5D%2C%20%5B-33.4424%2C%20-70.64569%5D%2C%20%5B-33.42171%2C%20-70.6099%5D%2C%20%5B-33.44766%2C%20-70.63882%5D%2C%20%5B-33.35011%2C%20-70.24795999999999%5D%2C%20%5B-33.45691%2C%20-70.67058%5D%2C%20%5B-33.424459999999996%2C%20-70.60868%5D%2C%20%5B-33.43782%2C%20-70.6458%5D%2C%20%5B-33.425979999999996%2C%20-70.60943%5D%2C%20%5B-33.40036%2C%20-70.57118%5D%2C%20%5B-33.4542%2C%20-70.57793000000001%5D%2C%20%5B-33.426790000000004%2C%20-70.6089%5D%2C%20%5B-33.43875%2C%20-70.66187%5D%2C%20%5B-33.41299%2C%20-70.60351%5D%2C%20%5B-33.416740000000004%2C%20-70.59586%5D%2C%20%5B-33.41646%2C%20-70.58667%5D%2C%20%5B-33.457409999999996%2C%20-70.63797%5D%2C%20%5B-33.49705%2C%20-70.6237%5D%2C%20%5B-33.40274%2C%20-70.64655%5D%2C%20%5B-33.43762%2C%20-70.64788%5D%2C%20%5B-33.42364%2C%20-70.61021%5D%2C%20%5B-33.4164%2C%20-70.59583%5D%2C%20%5B-33.43902%2C%20-70.64403%5D%2C%20%5B-33.445809999999994%2C%20-70.64353%5D%2C%20%5B-33.43611%2C%20-70.64884%5D%2C%20%5B-33.443490000000004%2C%20-70.64803%5D%2C%20%5B-33.447309999999995%2C%20-70.63454%5D%2C%20%5B-33.39926%2C%20-70.57338%5D%2C%20%5B-33.428020000000004%2C%20-70.61331%5D%2C%20%5B-33.4986%2C%20-70.66181999999999%5D%2C%20%5B-33.42286%2C%20-70.58121%5D%2C%20%5B-33.433040000000005%2C%20-70.64161999999999%5D%2C%20%5B-33.43407%2C%20-70.58464000000001%5D%2C%20%5B-33.45593%2C%20-70.67618%5D%2C%20%5B-33.43274%2C%20-70.64626%5D%2C%20%5B-33.43455%2C%20-70.58618%5D%2C%20%5B-33.45557%2C%20-70.56105%5D%2C%20%5B-33.44193%2C%20-70.67596%5D%2C%20%5B-33.44016%2C%20-70.61909%5D%2C%20%5B-33.40139%2C%20-70.57155%5D%2C%20%5B-33.42888%2C%20-70.62066999999999%5D%2C%20%5B-33.44608%2C%20-70.65335%5D%2C%20%5B-33.43996%2C%20-70.61887%5D%2C%20%5B-33.408190000000005%2C%20-70.602%5D%2C%20%5B-33.33573%2C%20-70.29231999999999%5D%2C%20%5B-33.486779999999996%2C%20-70.64705%5D%2C%20%5B-33.45445%2C%20-70.62274000000001%5D%2C%20%5B-33.424479999999996%2C%20-70.61055999999999%5D%2C%20%5B-33.44827%2C%20-70.6366%5D%2C%20%5B-33.44955%2C%20-70.64678%5D%2C%20%5B-33.45823%2C%20-70.63946%5D%2C%20%5B-33.41903%2C%20-70.59531%5D%2C%20%5B-33.41422%2C%20-70.58874%5D%2C%20%5B-33.429120000000005%2C%20-70.6147%5D%2C%20%5B-33.459920000000004%2C%20-70.70413%5D%2C%20%5B-33.44659%2C%20-70.63369%5D%2C%20%5B-33.438359999999996%2C%20-70.62938%5D%2C%20%5B-33.39861%2C%20-70.57361999999999%5D%2C%20%5B-33.42375%2C%20-70.62004%5D%2C%20%5B-33.44915%2C%20-70.64976%5D%2C%20%5B-33.45381%2C%20-70.66179%5D%2C%20%5B-33.43862%2C%20-70.64451%5D%2C%20%5B-33.41594%2C%20-70.58813%5D%2C%20%5B-33.447720000000004%2C%20-70.60284%5D%2C%20%5B-33.46625%2C%20-70.6969%5D%2C%20%5B-33.44293%2C%20-70.64908%5D%2C%20%5B-33.4386%2C%20-70.57862%5D%2C%20%5B-33.436690000000006%2C%20-70.6486%5D%2C%20%5B-33.44147%2C%20-70.62219%5D%2C%20%5B-33.45552%2C%20-70.63279%5D%2C%20%5B-33.39371%2C%20-70.58126999999999%5D%2C%20%5B-33.42403%2C%20-70.61708%5D%2C%20%5B-33.423840000000006%2C%20-70.61129%5D%2C%20%5B-33.40014%2C%20-70.57307%5D%2C%20%5B-33.42487%2C%20-70.61146%5D%2C%20%5B-33.42487%2C%20-70.61146%5D%2C%20%5B-33.42487%2C%20-70.61146%5D%2C%20%5B-33.43535%2C%20-70.57382%5D%2C%20%5B-33.39996%2C%20-70.57245999999999%5D%2C%20%5B-33.43379%2C%20-70.6115%5D%2C%20%5B-33.46743%2C%20-70.57741%5D%2C%20%5B-33.4585%2C%20-70.63967%5D%2C%20%5B-33.34564%2C%20-70.29207%5D%2C%20%5B-33.41486%2C%20-70.58527%5D%2C%20%5B-33.33869%2C%20-70.66755%5D%2C%20%5B-33.43613%2C%20-70.67295%5D%2C%20%5B-33.45029%2C%20-70.59564%5D%2C%20%5B-33.43192%2C%20-70.63019%5D%2C%20%5B-33.45483%2C%20-70.66320999999999%5D%2C%20%5B-33.4793%2C%20-70.53962%5D%2C%20%5B-33.4371%2C%20-70.64791%5D%2C%20%5B-33.447070000000004%2C%20-70.65299%5D%2C%20%5B-33.470490000000005%2C%20-70.66125%5D%2C%20%5B-33.450559999999996%2C%20-70.62018%5D%2C%20%5B-33.45115%2C%20-70.62159%5D%2C%20%5B-33.45347%2C%20-70.64846999999999%5D%2C%20%5B-33.45615%2C%20-70.57974%5D%2C%20%5B-33.524570000000004%2C%20-70.66853%5D%2C%20%5B-33.453540000000004%2C%20-70.64714000000001%5D%2C%20%5B-33.43854%2C%20-70.63678%5D%2C%20%5B-33.43725%2C%20-70.65805%5D%2C%20%5B-33.43697%2C%20-70.61021%5D%2C%20%5B-33.513659999999994%2C%20-70.77884%5D%2C%20%5B-33.43701%2C%20-70.6576%5D%2C%20%5B-33.434090000000005%2C%20-70.61294000000001%5D%2C%20%5B-33.45182%2C%20-70.64839%5D%2C%20%5B-33.42673%2C%20-70.60485%5D%2C%20%5B-33.40576%2C%20-70.55734%5D%2C%20%5B-33.41207%2C%20-70.56743%5D%2C%20%5B-33.524640000000005%2C%20-70.67051%5D%2C%20%5B-33.45483%2C%20-70.63408000000001%5D%2C%20%5B-33.44089%2C%20-70.63832%5D%2C%20%5B-33.4247%2C%20-70.61135%5D%2C%20%5B-33.44478%2C%20-70.64732%5D%2C%20%5B-33.43003%2C%20-70.63457%5D%2C%20%5B-33.43081%2C%20-70.63320999999999%5D%2C%20%5B-33.41915%2C%20-70.60265%5D%2C%20%5B-33.44096%2C%20-70.65602%5D%2C%20%5B-33.44925%2C%20-70.63183000000001%5D%2C%20%5B-33.299609999999994%2C%20-70.2491%5D%2C%20%5B-33.45452%2C%20-70.60099%5D%2C%20%5B-33.4278%2C%20-70.62085%5D%2C%20%5B-33.415240000000004%2C%20-70.60401%5D%2C%20%5B-33.4411%2C%20-70.67166999999999%5D%2C%20%5B-33.4094%2C%20-70.58676%5D%2C%20%5B-33.43403%2C%20-70.63583%5D%2C%20%5B-33.354659999999996%2C%20-70.24933%5D%2C%20%5B-33.53949%2C%20-70.59477%5D%2C%20%5B-33.35338%2C%20-70.24889%5D%2C%20%5B-33.44291%2C%20-70.695%5D%2C%20%5B-33.448679999999996%2C%20-70.56532%5D%2C%20%5B-33.50425%2C%20-70.52545%5D%2C%20%5B-33.41435%2C%20-70.58051999999999%5D%2C%20%5B-33.44513%2C%20-70.63025%5D%2C%20%5B-33.43555%2C%20-70.64362%5D%2C%20%5B-33.44834%2C%20-70.65523%5D%2C%20%5B-33.349070000000005%2C%20-70.29379%5D%2C%20%5B-33.38759%2C%20-70.53898000000001%5D%2C%20%5B-33.35157%2C%20-70.31521%5D%2C%20%5B-33.44428%2C%20-70.63865%5D%2C%20%5B-33.47477%2C%20-70.60369%5D%2C%20%5B-33.41234%2C%20-70.5667%5D%2C%20%5B-33.3534%2C%20-70.31496%5D%2C%20%5B-33.466440000000006%2C%20-70.64902%5D%2C%20%5B-33.45606%2C%20-70.5838%5D%2C%20%5B-33.459990000000005%2C%20-70.62169%5D%2C%20%5B-33.49559%2C%20-70.64735999999999%5D%2C%20%5B-33.41619%2C%20-70.602%5D%2C%20%5B-33.41234%2C%20-70.5667%5D%2C%20%5B-33.35033%2C%20-70.3081%5D%2C%20%5B-33.45019%2C%20-70.63945%5D%2C%20%5B-33.437259999999995%2C%20-70.6314%5D%2C%20%5B-33.41769%2C%20-70.60183%5D%2C%20%5B-33.39719%2C%20-70.56494%5D%2C%20%5B-33.41961%2C%20-70.60209%5D%2C%20%5B-33.39853%2C%20-70.57415%5D%2C%20%5B-33.33791%2C%20-70.28894%5D%2C%20%5B-33.44343%2C%20-70.64534%5D%2C%20%5B-33.47175%2C%20-70.64865999999999%5D%2C%20%5B-33.4281%2C%20-70.62217%5D%2C%20%5B-33.41318%2C%20-70.58067%5D%2C%20%5B-33.43866%2C%20-70.62921999999999%5D%2C%20%5B-33.4181%2C%20-70.56751%5D%2C%20%5B-33.4281%2C%20-70.58258000000001%5D%2C%20%5B-33.43858%2C%20-70.64045%5D%2C%20%5B-33.43207%2C%20-70.67631999999999%5D%2C%20%5B-33.41227%2C%20-70.56594%5D%2C%20%5B-33.445190000000004%2C%20-70.63927%5D%2C%20%5B-33.41643%2C%20-70.59151%5D%2C%20%5B-33.43777%2C%20-70.63486%5D%2C%20%5B-33.404990000000005%2C%20-70.57005%5D%2C%20%5B-33.43801%2C%20-70.64381999999999%5D%2C%20%5B-33.4425%2C%20-70.65624%5D%2C%20%5B-33.43745%2C%20-70.64439%5D%2C%20%5B-33.437470000000005%2C%20-70.65724%5D%2C%20%5B-33.43786%2C%20-70.64863000000001%5D%2C%20%5B-33.4568%2C%20-70.66716%5D%2C%20%5B-33.41113%2C%20-70.56695%5D%2C%20%5B-33.41171%2C%20-70.59232%5D%2C%20%5B-33.446329999999996%2C%20-70.65337%5D%2C%20%5B-33.41234%2C%20-70.5667%5D%2C%20%5B-33.50732%2C%20-70.72578%5D%2C%20%5B-33.43675%2C%20-70.64725%5D%2C%20%5B-33.447540000000004%2C%20-70.6511%5D%2C%20%5B-33.49625%2C%20-70.75702%5D%2C%20%5B-33.42857%2C%20-70.62055%5D%2C%20%5B-33.43965%2C%20-70.64372%5D%2C%20%5B-33.43766%2C%20-70.64411%5D%2C%20%5B-33.56327%2C%20-70.57996%5D%2C%20%5B-33.44749%2C%20-70.65096%5D%2C%20%5B-33.43523%2C%20-70.6473%5D%2C%20%5B-33.46631%2C%20-70.66509%5D%2C%20%5B-33.51125%2C%20-70.66845%5D%2C%20%5B-33.4464%2C%20-70.65001%5D%2C%20%5B-33.437670000000004%2C%20-70.64887%5D%2C%20%5B-33.42391%2C%20-70.61053000000001%5D%2C%20%5B-33.47141%2C%20-70.6624%5D%2C%20%5B-33.45535%2C%20-70.6691%5D%2C%20%5B-33.41711%2C%20-70.53917%5D%2C%20%5B-33.51512%2C%20-70.58837%5D%2C%20%5B-33.448209999999996%2C%20-70.64039%5D%2C%20%5B-33.35472%2C%20-70.24906999999999%5D%2C%20%5B-33.428020000000004%2C%20-70.56848000000001%5D%2C%20%5B-33.43104%2C%20-70.60538000000001%5D%2C%20%5B-33.454570000000004%2C%20-70.5988%5D%2C%20%5B-33.39485%2C%20-70.51302%5D%2C%20%5B-33.45213%2C%20-70.61916%5D%2C%20%5B-33.45695%2C%20-70.68966999999999%5D%2C%20%5B-33.48512%2C%20-70.65273%5D%2C%20%5B-33.4229%2C%20-70.60636%5D%2C%20%5B-33.51913%2C%20-70.60883000000001%5D%2C%20%5B-33.418459999999996%2C%20-70.5665%5D%2C%20%5B-33.45127%2C%20-70.65160999999999%5D%2C%20%5B-33.437059999999995%2C%20-70.64787%5D%2C%20%5B-33.428490000000004%2C%20-70.5913%5D%2C%20%5B-33.41451%2C%20-70.60327%5D%2C%20%5B-33.3344%2C%20-70.28741%5D%2C%20%5B-33.33291%2C%20-70.28589000000001%5D%2C%20%5B-33.45089%2C%20-70.66931%5D%2C%20%5B-33.42154%2C%20-70.60891%5D%2C%20%5B-33.437059999999995%2C%20-70.64787%5D%2C%20%5B-33.38955%2C%20-70.53981%5D%2C%20%5B-33.416940000000004%2C%20-70.58635%5D%2C%20%5B-33.40914%2C%20-70.57542%5D%2C%20%5B-33.50247%2C%20-70.66444%5D%2C%20%5B-33.45293%2C%20-70.59204%5D%2C%20%5B-33.40035%2C%20-70.56343000000001%5D%2C%20%5B-33.42899%2C%20-70.61965%5D%2C%20%5B-33.4486%2C%20-70.63884%5D%2C%20%5B-33.34475%2C%20-70.29154%5D%2C%20%5B-33.47097%2C%20-70.66079%5D%2C%20%5B-33.41965%2C%20-70.60982%5D%2C%20%5B-33.38746%2C%20-70.55471999999999%5D%2C%20%5B-33.43979%2C%20-70.63427%5D%2C%20%5B-33.42947%2C%20-70.6143%5D%2C%20%5B-33.45722%2C%20-70.6653%5D%2C%20%5B-33.44675%2C%20-70.63923%5D%2C%20%5B-33.33478%2C%20-70.29166%5D%2C%20%5B-33.43972%2C%20-70.65768%5D%2C%20%5B-33.44409%2C%20-70.61848%5D%2C%20%5B-33.42977%2C%20-70.65619000000001%5D%2C%20%5B-33.42843%2C%20-70.62069%5D%2C%20%5B-33.41052%2C%20-70.57670999999999%5D%2C%20%5B-33.44101%2C%20-70.65776%5D%2C%20%5B-33.429590000000005%2C%20-70.61327%5D%2C%20%5B-33.41287%2C%20-70.58507%5D%2C%20%5B-33.35366%2C%20-70.51234000000001%5D%2C%20%5B-33.44549%2C%20-70.6184%5D%2C%20%5B-33.40752%2C%20-70.56491%5D%2C%20%5B-33.45267%2C%20-70.61402%5D%2C%20%5B-33.425670000000004%2C%20-70.61724%5D%2C%20%5B-33.42579%2C%20-70.61856999999999%5D%2C%20%5B-33.42714%2C%20-70.61865%5D%2C%20%5B-33.42975%2C%20-70.61877%5D%2C%20%5B-33.33487%2C%20-70.28975%5D%2C%20%5B-33.437059999999995%2C%20-70.64787%5D%2C%20%5B-33.33466%2C%20-70.29175%5D%2C%20%5B-33.43077%2C%20-70.63133%5D%2C%20%5B-33.45485%2C%20-70.61663%5D%2C%20%5B-33.483540000000005%2C%20-70.74401%5D%2C%20%5B-33.43953%2C%20-70.60791%5D%2C%20%5B-33.45317%2C%20-70.60197%5D%2C%20%5B-33.428470000000004%2C%20-70.61834%5D%2C%20%5B-33.42935%2C%20-70.61828%5D%2C%20%5B-33.42926%2C%20-70.61953000000001%5D%2C%20%5B-33.42908%2C%20-70.61973%5D%2C%20%5B-33.431779999999996%2C%20-70.64726999999999%5D%2C%20%5B-33.46433%2C%20-70.59782%5D%2C%20%5B-33.35587%2C%20-70.24866%5D%2C%20%5B-33.41645%2C%20-70.66456%5D%2C%20%5B-33.42405%2C%20-70.61086%5D%2C%20%5B-33.42365%2C%20-70.61006%5D%2C%20%5B-33.437709999999996%2C%20-70.63118%5D%2C%20%5B-33.34955%2C%20-70.2918%5D%2C%20%5B-33.43505%2C%20-70.64716%5D%2C%20%5B-33.448440000000005%2C%20-70.64862%5D%2C%20%5B-33.44442%2C%20-70.64543%5D%2C%20%5B-33.3512%2C%20-70.29529000000001%5D%2C%20%5B-33.4472%2C%20-70.63868000000001%5D%2C%20%5B-33.35315%2C%20-70.24863%5D%2C%20%5B-33.35038%2C%20-70.31473000000001%5D%2C%20%5B-33.34855%2C%20-70.29241%5D%2C%20%5B-33.45176%2C%20-70.64197%5D%2C%20%5B-33.40464%2C%20-70.58455%5D%2C%20%5B-33.4378%2C%20-70.64709%5D%2C%20%5B-33.4427%2C%20-70.65946%5D%2C%20%5B-33.41478%2C%20-70.56753%5D%2C%20%5B-33.41563%2C%20-70.61327%5D%2C%20%5B-33.44003%2C%20-70.63705%5D%2C%20%5B-33.35285%2C%20-70.24866%5D%2C%20%5B-33.46492%2C%20-70.59603%5D%2C%20%5B-33.441720000000004%2C%20-70.63459%5D%2C%20%5B-33.4291%2C%20-70.61885%5D%2C%20%5B-33.4981%2C%20-70.66155%5D%2C%20%5B-33.35082%2C%20-70.29414%5D%2C%20%5B-33.39938%2C%20-70.5424%5D%2C%20%5B-33.4436%2C%20-70.64456%5D%2C%20%5B-33.410920000000004%2C%20-70.57426%5D%2C%20%5B-33.33347%2C%20-70.29016%5D%2C%20%5B-33.43685%2C%20-70.64431%5D%2C%20%5B-33.44813%2C%20-70.63157%5D%2C%20%5B-33.43439%2C%20-70.65794%5D%2C%20%5B-33.43538%2C%20-70.65759%5D%2C%20%5B-33.44827%2C%20-70.61453%5D%2C%20%5B-33.41458%2C%20-70.58475%5D%2C%20%5B-33.43721%2C%20-70.63998000000001%5D%2C%20%5B-33.50952%2C%20-70.66537%5D%2C%20%5B-33.44823%2C%20-70.61463%5D%2C%20%5B-33.44643%2C%20-70.65098%5D%2C%20%5B-33.43308%2C%20-70.65448%5D%2C%20%5B-33.33582%2C%20-70.28995%5D%2C%20%5B-33.4251%2C%20-70.58706%5D%2C%20%5B-33.4361%2C%20-70.64389%5D%2C%20%5B-33.43452%2C%20-70.65908%5D%2C%20%5B-33.349509999999995%2C%20-70.31341%5D%2C%20%5B-33.419509999999995%2C%20-70.5992%5D%2C%20%5B-33.356359999999995%2C%20-70.6739%5D%2C%20%5B-33.43773%2C%20-70.64432%5D%2C%20%5B-33.3388%2C%20-70.28941%5D%2C%20%5B-33.44834%2C%20-70.63407%5D%2C%20%5B-33.389959999999995%2C%20-70.59349%5D%2C%20%5B-33.38995%2C%20-70.59473%5D%2C%20%5B-33.42044%2C%20-70.61118%5D%2C%20%5B-33.38827%2C%20-70.59357%5D%2C%20%5B-33.428309999999996%2C%20-70.55306%5D%2C%20%5B-33.33623%2C%20-70.29163%5D%2C%20%5B-33.42604%2C%20-70.61211%5D%2C%20%5B-33.33937%2C%20-70.67282%5D%2C%20%5B-33.438%2C%20-70.63044000000001%5D%2C%20%5B-33.41851%2C%20-70.64371%5D%2C%20%5B-33.426120000000004%2C%20-70.61539%5D%2C%20%5B-33.44684%2C%20-70.65276%5D%2C%20%5B-33.41727%2C%20-70.60246%5D%2C%20%5B-33.443290000000005%2C%20-70.5757%5D%2C%20%5B-33.443690000000004%2C%20-70.57561%5D%2C%20%5B-33.424620000000004%2C%20-70.65696%5D%2C%20%5B-33.42481%2C%20-70.68674%5D%2C%20%5B-33.39433%2C%20-70.55776%5D%2C%20%5B-33.45458%2C%20-70.58452%5D%2C%20%5B-33.42668%2C%20-70.66784%5D%2C%20%5B-33.45172%2C%20-70.64352%5D%2C%20%5B-33.38994%2C%20-70.59436%5D%2C%20%5B-33.35415%2C%20-70.24946%5D%2C%20%5B-33.458059999999996%2C%20-70.64307%5D%2C%20%5B-33.445640000000004%2C%20-70.65025%5D%2C%20%5B-33.444340000000004%2C%20-70.64989%5D%2C%20%5B-33.34641%2C%20-70.29146999999999%5D%2C%20%5B-33.42015%2C%20-70.60999%5D%2C%20%5B-33.42003%2C%20-70.61043000000001%5D%2C%20%5B-33.421440000000004%2C%20-70.60847%5D%2C%20%5B-33.4197%2C%20-70.60988%5D%2C%20%5B-33.42139%2C%20-70.60876999999999%5D%2C%20%5B-33.511990000000004%2C%20-70.60948%5D%2C%20%5B-33.467209999999994%2C%20-70.62486%5D%2C%20%5B-33.33732%2C%20-70.28835%5D%2C%20%5B-33.43117%2C%20-70.65914000000001%5D%2C%20%5B-33.48257%2C%20-70.58355%5D%2C%20%5B-33.39863%2C%20-70.59831%5D%2C%20%5B-33.43865%2C%20-70.6452%5D%2C%20%5B-33.43145%2C%20-70.58577%5D%2C%20%5B-33.46743%2C%20-70.75180999999999%5D%2C%20%5B-33.45511%2C%20-70.66458%5D%2C%20%5B-33.42729%2C%20-70.61751%5D%2C%20%5B-33.42729%2C%20-70.61751%5D%2C%20%5B-33.42265%2C%20-70.60936%5D%2C%20%5B-33.42791%2C%20-70.61974000000001%5D%2C%20%5B-33.44109%2C%20-70.63401999999999%5D%2C%20%5B-33.44164%2C%20-70.63453%5D%2C%20%5B-33.44061%2C%20-70.63328%5D%2C%20%5B-33.44055%2C%20-70.63289%5D%2C%20%5B-33.44149%2C%20-70.63464%5D%2C%20%5B-33.44142%2C%20-70.63263%5D%2C%20%5B-33.4402%2C%20-70.63407%5D%2C%20%5B-33.44063%2C%20-70.63450999999999%5D%2C%20%5B-33.44185%2C%20-70.63494%5D%2C%20%5B-33.44162%2C%20-70.63295%5D%2C%20%5B-33.44186%2C%20-70.63349000000001%5D%2C%20%5B-33.436690000000006%2C%20-70.62106%5D%2C%20%5B-33.43687%2C%20-70.65012%5D%2C%20%5B-33.40352%2C%20-70.66313000000001%5D%2C%20%5B-33.4338%2C%20-70.64577%5D%2C%20%5B-33.43854%2C%20-70.64777%5D%2C%20%5B-33.3521%2C%20-70.51262%5D%2C%20%5B-33.424859999999995%2C%20-70.65054%5D%2C%20%5B-33.42459%2C%20-70.65194%5D%2C%20%5B-33.445029999999996%2C%20-70.57451999999999%5D%2C%20%5B-33.35024%2C%20-70.31164%5D%2C%20%5B-33.449059999999996%2C%20-70.64234%5D%2C%20%5B-33.40374%2C%20-70.5563%5D%2C%20%5B-33.42476%2C%20-70.6502%5D%2C%20%5B-33.421620000000004%2C%20-70.59789%5D%2C%20%5B-33.44705%2C%20-70.60641%5D%2C%20%5B-33.388529999999996%2C%20-70.59461999999999%5D%2C%20%5B-33.451159999999994%2C%20-70.64088000000001%5D%2C%20%5B-33.49967%2C%20-70.58738000000001%5D%2C%20%5B-33.41814%2C%20-70.55814000000001%5D%2C%20%5B-33.42858%2C%20-70.62846%5D%2C%20%5B-33.45942%2C%20-70.63679%5D%2C%20%5B-33.434309999999996%2C%20-70.65508%5D%2C%20%5B-33.41731%2C%20-70.67128000000001%5D%2C%20%5B-33.456579999999995%2C%20-70.66595%5D%2C%20%5B-33.42536%2C%20-70.59713%5D%2C%20%5B-33.34733%2C%20-70.24809%5D%2C%20%5B-33.44766%2C%20-70.63365%5D%2C%20%5B-33.46398%2C%20-70.64728000000001%5D%2C%20%5B-33.42792%2C%20-70.61895%5D%2C%20%5B-33.45668%2C%20-70.6486%5D%2C%20%5B-33.35856%2C%20-70.30735%5D%2C%20%5B-33.44685%2C%20-70.57153000000001%5D%2C%20%5B-33.42812%2C%20-70.54605%5D%2C%20%5B-33.47759%2C%20-70.60133%5D%2C%20%5B-33.33439%2C%20-70.29056%5D%2C%20%5B-33.44089%2C%20-70.6463%5D%2C%20%5B-33.4462%2C%20-70.64622%5D%2C%20%5B-33.43657%2C%20-70.66287%5D%2C%20%5B-33.483000000000004%2C%20-70.54581999999999%5D%2C%20%5B-33.42348%2C%20-70.59725999999999%5D%2C%20%5B-33.44193%2C%20-70.64792%5D%2C%20%5B-33.422%2C%20-70.58153%5D%2C%20%5B-33.41211%2C%20-70.60280999999999%5D%2C%20%5B-33.42171%2C%20-70.58224%5D%2C%20%5B-33.422979999999995%2C%20-70.59713%5D%2C%20%5B-33.426809999999996%2C%20-70.59908%5D%2C%20%5B-33.436859999999996%2C%20-70.64972%5D%2C%20%5B-33.418279999999996%2C%20-70.59303%5D%2C%20%5B-33.35838%2C%20-70.30852%5D%2C%20%5B-33.43934%2C%20-70.64023%5D%2C%20%5B-33.45095%2C%20-70.65419%5D%2C%20%5B-33.43577%2C%20-70.63176999999999%5D%2C%20%5B-33.42558%2C%20-70.61871%5D%2C%20%5B-33.4288%2C%20-70.6235%5D%2C%20%5B-33.42122%2C%20-70.59793%5D%2C%20%5B-33.41577%2C%20-70.60368000000001%5D%2C%20%5B-33.39986%2C%20-70.55515%5D%2C%20%5B-33.41676%2C%20-70.60274%5D%2C%20%5B-33.41785%2C%20-70.61385%5D%2C%20%5B-33.47678%2C%20-70.64931999999999%5D%2C%20%5B-33.41785%2C%20-70.61385%5D%2C%20%5B-33.43607%2C%20-70.6349%5D%2C%20%5B-33.41785%2C%20-70.61385%5D%2C%20%5B-33.47432%2C%20-70.65122%5D%2C%20%5B-33.47457%2C%20-70.65091%5D%2C%20%5B-33.43359%2C%20-70.6577%5D%2C%20%5B-33.41737%2C%20-70.59926999999999%5D%2C%20%5B-33.4656%2C%20-70.58609%5D%2C%20%5B-33.44793%2C%20-70.64350999999999%5D%2C%20%5B-33.38375%2C%20-70.52883%5D%2C%20%5B-33.42682%2C%20-70.66649%5D%2C%20%5B-33.49389%2C%20-70.64664%5D%2C%20%5B-33.41785%2C%20-70.61385%5D%2C%20%5B-33.439659999999996%2C%20-70.64095999999999%5D%2C%20%5B-33.449659999999994%2C%20-70.59764%5D%2C%20%5B-33.44502%2C%20-70.64328%5D%2C%20%5B-33.42606%2C%20-70.61598000000001%5D%2C%20%5B-33.42492%2C%20-70.61596999999999%5D%2C%20%5B-33.40405%2C%20-70.55761%5D%2C%20%5B-33.48856%2C%20-70.59845%5D%2C%20%5B-33.45106%2C%20-70.60354%5D%2C%20%5B-33.41813%2C%20-70.61086%5D%2C%20%5B-33.434020000000004%2C%20-70.66407%5D%2C%20%5B-33.437059999999995%2C%20-70.64787%5D%2C%20%5B-33.434779999999996%2C%20-70.61263000000001%5D%2C%20%5B-33.43907%2C%20-70.58669%5D%2C%20%5B-33.43434%2C%20-70.65361%5D%2C%20%5B-33.439029999999995%2C%20-70.67147%5D%2C%20%5B-33.4082%2C%20-70.56395%5D%2C%20%5B-33.430009999999996%2C%20-70.61976999999999%5D%2C%20%5B-33.430009999999996%2C%20-70.61976999999999%5D%2C%20%5B-33.44582%2C%20-70.64988000000001%5D%2C%20%5B-33.4368%2C%20-70.6472%5D%2C%20%5B-33.442009999999996%2C%20-70.58115%5D%2C%20%5B-33.45178%2C%20-70.6703%5D%2C%20%5B-33.43969%2C%20-70.64742%5D%2C%20%5B-33.41431%2C%20-70.60386%5D%2C%20%5B-33.33529%2C%20-70.29139%5D%2C%20%5B-33.391059999999996%2C%20-70.6119%5D%2C%20%5B-33.42011%2C%20-70.58086%5D%2C%20%5B-33.423559999999995%2C%20-70.60994000000001%5D%2C%20%5B-33.43738%2C%20-70.63025%5D%2C%20%5B-33.413000000000004%2C%20-70.58378%5D%2C%20%5B-33.412279999999996%2C%20-70.58355999999999%5D%2C%20%5B-33.435829999999996%2C%20-70.6597%5D%2C%20%5B-33.44222%2C%20-70.62011%5D%2C%20%5B-33.34398%2C%20-70.24736999999999%5D%2C%20%5B-33.435759999999995%2C%20-70.63750999999999%5D%2C%20%5B-33.43866%2C%20-70.64574%5D%2C%20%5B-33.44424%2C%20-70.58118%5D%2C%20%5B-33.43251%2C%20-70.64046%5D%2C%20%5B-33.45369%2C%20-70.61944%5D%2C%20%5B-33.35498%2C%20-70.24857%5D%2C%20%5B-33.521840000000005%2C%20-70.59773%5D%2C%20%5B-33.43679%2C%20-70.66192%5D%2C%20%5B-33.47464%2C%20-70.65116%5D%2C%20%5B-33.41785%2C%20-70.61385%5D%2C%20%5B-33.448190000000004%2C%20-70.64104%5D%2C%20%5B-33.391040000000004%2C%20-70.56264%5D%2C%20%5B-33.34325%2C%20-70.46574%5D%2C%20%5B-33.42422%2C%20-70.61244%5D%2C%20%5B-33.437020000000004%2C%20-70.64338000000001%5D%2C%20%5B-33.45163%2C%20-70.65366%5D%2C%20%5B-33.40513%2C%20-70.55573000000001%5D%2C%20%5B-33.49698%2C%20-70.81563%5D%2C%20%5B-33.35419%2C%20-70.24945%5D%2C%20%5B-33.43602%2C%20-70.64371%5D%2C%20%5B-33.39588%2C%20-70.58253%5D%2C%20%5B-33.43823%2C%20-70.62833%5D%2C%20%5B-33.43031%2C%20-70.58997%5D%2C%20%5B-33.44122%2C%20-70.61909%5D%2C%20%5B-33.41567%2C%20-70.60236%5D%2C%20%5B-33.45653%2C%20-70.60096%5D%2C%20%5B-33.43778%2C%20-70.67409%5D%2C%20%5B-33.429829999999995%2C%20-70.61442%5D%2C%20%5B-33.41185%2C%20-70.57547%5D%2C%20%5B-33.49955%2C%20-70.58863000000001%5D%2C%20%5B-33.456920000000004%2C%20-70.69163%5D%2C%20%5B-33.439170000000004%2C%20-70.75307%5D%2C%20%5B-33.4355%2C%20-70.6186%5D%2C%20%5B-33.42487%2C%20-70.61146%5D%2C%20%5B-33.41918%2C%20-70.60037%5D%2C%20%5B-33.44505%2C%20-70.63305%5D%2C%20%5B-33.44773%2C%20-70.63404%5D%2C%20%5B-33.43888%2C%20-70.64378%5D%2C%20%5B-33.43638%2C%20-70.64652%5D%2C%20%5B-33.43674%2C%20-70.65079%5D%2C%20%5B-33.4393%2C%20-70.67586999999999%5D%2C%20%5B-33.42427%2C%20-70.64036%5D%2C%20%5B-33.437470000000005%2C%20-70.64463%5D%2C%20%5B-33.52993%2C%20-70.67143%5D%2C%20%5B-33.34833%2C%20-70.29404%5D%2C%20%5B-33.42801%2C%20-70.61876%5D%2C%20%5B-33.44613%2C%20-70.64974000000001%5D%2C%20%5B-33.423140000000004%2C%20-70.61029%5D%2C%20%5B-33.44793%2C%20-70.64165%5D%2C%20%5B-33.52446%2C%20-70.67034%5D%2C%20%5B-33.48703%2C%20-70.53333%5D%2C%20%5B-33.50523%2C%20-70.65296%5D%2C%20%5B-33.44615%2C%20-70.6436%5D%2C%20%5B-33.43295%2C%20-70.65774%5D%2C%20%5B-33.44612%2C%20-70.64313%5D%2C%20%5B-33.34708%2C%20-70.29131%5D%2C%20%5B-33.425059999999995%2C%20-70.64237%5D%2C%20%5B-33.41628%2C%20-70.56215%5D%2C%20%5B-33.436859999999996%2C%20-70.64524%5D%2C%20%5B-33.39121%2C%20-70.57259%5D%2C%20%5B-33.35358%2C%20-70.24798%5D%2C%20%5B-33.355779999999996%2C%20-70.51731%5D%2C%20%5B-33.41455%2C%20-70.58652%5D%2C%20%5B-33.41222%2C%20-70.57955%5D%2C%20%5B-33.41238%2C%20-70.58495%5D%2C%20%5B-33.43841%2C%20-70.64569%5D%2C%20%5B-33.43679%2C%20-70.64392%5D%2C%20%5B-33.38211%2C%20-70.54222%5D%2C%20%5B-33.45075%2C%20-70.62086%5D%2C%20%5B-33.4115%2C%20-70.56855999999999%5D%2C%20%5B-33.46349%2C%20-70.60098%5D%2C%20%5B-33.35645%2C%20-70.51063%5D%2C%20%5B-33.4366%2C%20-70.63779%5D%2C%20%5B-33.41785%2C%20-70.61385%5D%2C%20%5B-33.4387%2C%20-70.63757%5D%2C%20%5B-33.43845%2C%20-70.63769%5D%2C%20%5B-33.41785%2C%20-70.61385%5D%2C%20%5B-33.4309%2C%20-70.61935%5D%2C%20%5B-33.45049%2C%20-70.56482%5D%2C%20%5B-33.44952%2C%20-70.57411%5D%2C%20%5B-33.35223%2C%20-70.24748000000001%5D%2C%20%5B-33.500609999999995%2C%20-70.74857%5D%2C%20%5B-33.49671%2C%20-70.66863000000001%5D%2C%20%5B-33.401559999999996%2C%20-70.59038000000001%5D%2C%20%5B-33.45455%2C%20-70.6589%5D%2C%20%5B-33.42566%2C%20-70.71148000000001%5D%2C%20%5B-33.438140000000004%2C%20-70.64465%5D%2C%20%5B-33.4365%2C%20-70.64534%5D%2C%20%5B-33.43642%2C%20-70.64395%5D%2C%20%5B-33.43748%2C%20-70.64605999999999%5D%2C%20%5B-33.436209999999996%2C%20-70.64585%5D%2C%20%5B-33.43593%2C%20-70.6592%5D%2C%20%5B-33.4637%2C%20-70.65068000000001%5D%2C%20%5B-33.43897%2C%20-70.64483%5D%2C%20%5B-33.44792%2C%20-70.61809000000001%5D%2C%20%5B-33.43183%2C%20-70.64649%5D%2C%20%5B-33.41215%2C%20-70.56909%5D%2C%20%5B-33.49289%2C%20-70.54972%5D%2C%20%5B-33.46522%2C%20-70.62635999999999%5D%2C%20%5B-33.43007%2C%20-70.61999%5D%2C%20%5B-33.44401%2C%20-70.63656%5D%2C%20%5B-33.454370000000004%2C%20-70.61873%5D%2C%20%5B-33.48187%2C%20-70.54675%5D%2C%20%5B-33.45212%2C%20-70.57476%5D%2C%20%5B-33.438359999999996%2C%20-70.64535%5D%2C%20%5B-33.45335%2C%20-70.6594%5D%2C%20%5B-33.40025%2C%20-70.57399000000001%5D%2C%20%5B-33.43925%2C%20-70.64716%5D%2C%20%5B-33.43145%2C%20-70.52353000000001%5D%2C%20%5B-33.438159999999996%2C%20-70.64425%5D%2C%20%5B-33.45493%2C%20-70.65097%5D%2C%20%5B-33.5117%2C%20-70.66597%5D%2C%20%5B-33.52918%2C%20-70.66426%5D%2C%20%5B-33.43782%2C%20-70.57162%5D%2C%20%5B-33.53267%2C%20-70.57835%5D%2C%20%5B-33.41382%2C%20-70.58462%5D%2C%20%5B-33.454609999999995%2C%20-70.65321999999999%5D%2C%20%5B-33.43262%2C%20-70.71104%5D%2C%20%5B-33.44742%2C%20-70.65512%5D%2C%20%5B-33.45068%2C%20-70.63226%5D%2C%20%5B-33.42388%2C%20-70.61050999999999%5D%2C%20%5B-33.43213%2C%20-70.65432%5D%2C%20%5B-33.40831%2C%20-70.55874%5D%2C%20%5B-33.43636%2C%20-70.65784000000001%5D%2C%20%5B-33.43806%2C%20-70.65685%5D%2C%20%5B-33.43833%2C%20-70.64506%5D%2C%20%5B-33.44636%2C%20-70.63447%5D%2C%20%5B-33.45104%2C%20-70.6508%5D%2C%20%5B-33.438559999999995%2C%20-70.60168%5D%2C%20%5B-33.41625%2C%20-70.59784%5D%2C%20%5B-33.43893%2C%20-70.64729%5D%2C%20%5B-33.4293%2C%20-70.61747%5D%2C%20%5B-33.43939%2C%20-70.64441%5D%2C%20%5B-33.34424%2C%20-70.67045999999999%5D%2C%20%5B-33.541909999999994%2C%20-70.60221999999999%5D%2C%20%5B-33.43327%2C%20-70.65378%5D%2C%20%5B-33.43887%2C%20-70.673%5D%2C%20%5B-33.41257%2C%20-70.58659%5D%2C%20%5B-33.43545%2C%20-70.62873%5D%2C%20%5B-33.43717%2C%20-70.64392%5D%2C%20%5B-33.453%2C%20-70.66401%5D%2C%20%5B-33.44453%2C%20-70.67143%5D%2C%20%5B-33.44836%2C%20-70.64805%5D%2C%20%5B-33.4371%2C%20-70.6433%5D%2C%20%5B-33.49119%2C%20-70.65338%5D%2C%20%5B-33.44563%2C%20-70.64303000000001%5D%2C%20%5B-33.44222%2C%20-70.65881999999999%5D%2C%20%5B-33.401309999999995%2C%20-70.70943%5D%2C%20%5B-33.484%2C%20-70.53493%5D%2C%20%5B-33.42597%2C%20-70.60679%5D%2C%20%5B-33.43391%2C%20-70.64386%5D%2C%20%5B-33.51507%2C%20-70.61288%5D%2C%20%5B-33.41083%2C%20-70.5526%5D%2C%20%5B-33.43922%2C%20-70.64604%5D%2C%20%5B-33.4582%2C%20-70.66769000000001%5D%2C%20%5B-33.3396%2C%20-70.49741%5D%2C%20%5B-33.45623%2C%20-70.59567%5D%2C%20%5B-33.419000000000004%2C%20-70.64336%5D%2C%20%5B-33.44812%2C%20-70.63885%5D%2C%20%5B-33.44298%2C%20-70.65818%5D%2C%20%5B-33.44988%2C%20-70.61206%5D%2C%20%5B-33.43309%2C%20-70.65958%5D%2C%20%5B-33.42953%2C%20-70.6184%5D%2C%20%5B-33.42857%2C%20-70.61865999999999%5D%2C%20%5B-33.48251%2C%20-70.74419%5D%2C%20%5B-33.527229999999996%2C%20-70.56855%5D%2C%20%5B-33.45057%2C%20-70.60238000000001%5D%2C%20%5B-33.43995%2C%20-70.64135%5D%2C%20%5B-33.42818%2C%20-70.699%5D%2C%20%5B-33.44469%2C%20-70.66703000000001%5D%2C%20%5B-33.42268%2C%20-70.65518%5D%2C%20%5B-33.46135%2C%20-70.56238%5D%2C%20%5B-33.41547%2C%20-70.58851%5D%2C%20%5B-33.40911%2C%20-70.57303%5D%2C%20%5B-33.437529999999995%2C%20-70.64227%5D%2C%20%5B-33.43227%2C%20-70.61823000000001%5D%2C%20%5B-33.435390000000005%2C%20-70.62728%5D%2C%20%5B-33.36442%2C%20-70.50805%5D%2C%20%5B-33.40142%2C%20-70.57347%5D%2C%20%5B-33.4128%2C%20-70.58321%5D%2C%20%5B-33.45027%2C%20-70.63983%5D%2C%20%5B-33.44927%2C%20-70.63498%5D%2C%20%5B-33.43489%2C%20-70.62769%5D%2C%20%5B-33.42414%2C%20-70.58511%5D%2C%20%5B-33.41585%2C%20-70.56049%5D%2C%20%5B-33.3999%2C%20-70.57401%5D%2C%20%5B-33.4598%2C%20-70.593%5D%2C%20%5B-33.45006%2C%20-70.63913000000001%5D%2C%20%5B-33.425%2C%20-70.64654%5D%2C%20%5B-33.45219%2C%20-70.69434%5D%2C%20%5B-33.44746%2C%20-70.63292%5D%2C%20%5B-33.45193%2C%20-70.62103%5D%2C%20%5B-33.40141%2C%20-70.57274%5D%2C%20%5B-33.4486%2C%20-70.64188%5D%2C%20%5B-33.44466%2C%20-70.65669%5D%2C%20%5B-33.43837%2C%20-70.6446%5D%2C%20%5B-33.43411%2C%20-70.65646%5D%2C%20%5B-33.43988%2C%20-70.59705%5D%2C%20%5B-33.56312%2C%20-70.59701%5D%2C%20%5B-33.47862%2C%20-70.62402%5D%2C%20%5B-33.41988%2C%20-70.59748%5D%2C%20%5B-33.42001%2C%20-70.59586999999999%5D%2C%20%5B-33.44493%2C%20-70.60495%5D%2C%20%5B-33.4533%2C%20-70.69561%5D%2C%20%5B-33.440059999999995%2C%20-70.6444%5D%2C%20%5B-33.52677%2C%20-70.5281%5D%2C%20%5B-33.353770000000004%2C%20-70.6815%5D%2C%20%5B-33.42706%2C%20-70.60883000000001%5D%2C%20%5B-33.420120000000004%2C%20-70.60414%5D%2C%20%5B-33.482690000000005%2C%20-70.74398000000001%5D%2C%20%5B-33.43704%2C%20-70.64957%5D%2C%20%5B-33.53917%2C%20-70.66029%5D%2C%20%5B-33.44755%2C%20-70.65274000000001%5D%2C%20%5B-33.42014%2C%20-70.54467%5D%2C%20%5B-33.35542%2C%20-70.67969000000001%5D%2C%20%5B-33.43902%2C%20-70.63516%5D%2C%20%5B-33.41048%2C%20-70.57195%5D%2C%20%5B-33.43813%2C%20-70.63847%5D%2C%20%5B-33.40583%2C%20-70.55832%5D%2C%20%5B-33.41772%2C%20-70.59711999999999%5D%2C%20%5B-33.429320000000004%2C%20-70.54675999999999%5D%2C%20%5B-33.402359999999994%2C%20-70.55434%5D%2C%20%5B-33.44572%2C%20-70.61881%5D%2C%20%5B-33.42805%2C%20-70.61828%5D%2C%20%5B-33.40784%2C%20-70.57547%5D%2C%20%5B-33.43793%2C%20-70.64226%5D%2C%20%5B-33.45453%2C%20-70.59343%5D%2C%20%5B-33.440670000000004%2C%20-70.67643000000001%5D%2C%20%5B-33.44105%2C%20-70.67329000000001%5D%2C%20%5B-33.394259999999996%2C%20-70.58227%5D%2C%20%5B-33.438590000000005%2C%20-70.69086%5D%2C%20%5B-33.43195%2C%20-70.63011%5D%2C%20%5B-33.46597%2C%20-70.62576999999999%5D%2C%20%5B-33.436409999999995%2C%20-70.6568%5D%2C%20%5B-33.451159999999994%2C%20-70.62210999999999%5D%2C%20%5B-33.42098%2C%20-70.59881%5D%2C%20%5B-33.42045%2C%20-70.61223000000001%5D%2C%20%5B-33.43543%2C%20-70.58077%5D%2C%20%5B-33.44956%2C%20-70.65455%5D%2C%20%5B-33.43565%2C%20-70.58071%5D%2C%20%5B-33.43696%2C%20-70.65666999999999%5D%2C%20%5B-33.42949%2C%20-70.61435%5D%2C%20%5B-33.47664%2C%20-70.62456999999999%5D%2C%20%5B-33.44919%2C%20-70.65302%5D%2C%20%5B-33.43201%2C%20-70.64305%5D%2C%20%5B-33.5053%2C%20-70.65117%5D%2C%20%5B-33.42902%2C%20-70.61797%5D%2C%20%5B-33.407%2C%20-70.55821%5D%2C%20%5B-33.40013%2C%20-70.57061999999999%5D%2C%20%5B-33.446690000000004%2C%20-70.65315%5D%2C%20%5B-33.43696%2C%20-70.64388000000001%5D%2C%20%5B-33.42635%2C%20-70.67837%5D%2C%20%5B-33.43143%2C%20-70.62049%5D%2C%20%5B-33.42419%2C%20-70.60025%5D%2C%20%5B-33.38892%2C%20-70.53996%5D%2C%20%5B-33.44182%2C%20-70.64619%5D%2C%20%5B-33.446220000000004%2C%20-70.64945%5D%2C%20%5B-33.45117%2C%20-70.68469%5D%2C%20%5B-33.42438%2C%20-70.54486999999999%5D%2C%20%5B-33.44699%2C%20-70.64944%5D%2C%20%5B-33.41653%2C%20-70.58502%5D%2C%20%5B-33.44823%2C%20-70.65567%5D%2C%20%5B-33.446979999999996%2C%20-70.65218%5D%2C%20%5B-33.442040000000006%2C%20-70.65986%5D%2C%20%5B-33.39942%2C%20-70.57663000000001%5D%2C%20%5B-33.433820000000004%2C%20-70.61955999999999%5D%2C%20%5B-33.44836%2C%20-70.63546%5D%2C%20%5B-33.44982%2C%20-70.58041%5D%2C%20%5B-33.430412%2C%20-70.631302%5D%2C%20%5B-33.42475%2C%20-70.58798%5D%2C%20%5B-33.42458%2C%20-70.6168%5D%2C%20%5B-33.42454%2C%20-70.61663%5D%2C%20%5B-33.44271%2C%20-70.66601%5D%2C%20%5B-33.44254%2C%20-70.64689%5D%2C%20%5B-33.44891%2C%20-70.65499%5D%2C%20%5B-33.45932%2C%20-70.71191%5D%2C%20%5B-33.46482%2C%20-70.54273%5D%2C%20%5B-33.39181%2C%20-70.55619%5D%2C%20%5B-33.425940000000004%2C%20-70.61286%5D%2C%20%5B-33.43598%2C%20-70.58933%5D%2C%20%5B-33.415859999999995%2C%20-70.58609%5D%2C%20%5B-33.469429999999996%2C%20-70.64795%5D%2C%20%5B-33.49184%2C%20-70.65817%5D%2C%20%5B-33.37249%2C%20-70.51252%5D%2C%20%5B-33.43635%2C%20-70.64463%5D%2C%20%5B-33.44059%2C%20-70.65548000000001%5D%2C%20%5B-33.44903%2C%20-70.65196999999999%5D%2C%20%5B-33.43517%2C%20-70.64627%5D%2C%20%5B-33.43991%2C%20-70.66825%5D%2C%20%5B-33.4378%2C%20-70.66774000000001%5D%2C%20%5B-33.40972%2C%20-70.56555%5D%2C%20%5B-33.43736%2C%20-70.60181%5D%2C%20%5B-33.45241%2C%20-70.61584%5D%2C%20%5B-33.40215%2C%20-70.57759%5D%2C%20%5B-33.45361%2C%20-70.57415%5D%2C%20%5B-33.43756%2C%20-70.6338%5D%2C%20%5B-33.43692%2C%20-70.65763000000001%5D%2C%20%5B-33.43812%2C%20-70.6679%5D%2C%20%5B-33.4146%2C%20-70.59666999999999%5D%2C%20%5B-33.3918%2C%20-70.63646999999999%5D%2C%20%5B-33.43893%2C%20-70.67573%5D%2C%20%5B-33.45295%2C%20-70.68451%5D%2C%20%5B-33.410090000000004%2C%20-70.52779%5D%2C%20%5B-33.462590000000006%2C%20-70.6493%5D%2C%20%5B-33.45292%2C%20-70.60929%5D%2C%20%5B-33.41001%2C%20-70.63686%5D%2C%20%5B-33.443259999999995%2C%20-70.64401%5D%2C%20%5B-33.53286%2C%20-70.55059%5D%2C%20%5B-33.43855%2C%20-70.66623%5D%2C%20%5B-33.43788%2C%20-70.64355%5D%2C%20%5B-33.43734%2C%20-70.645454%5D%2C%20%5B-33.492509999999996%2C%20-70.53336999999999%5D%2C%20%5B-33.43549%2C%20-70.58057%5D%2C%20%5B-33.41855%2C%20-70.58061%5D%2C%20%5B-33.447179999999996%2C%20-70.64198%5D%2C%20%5B-33.43699%2C%20-70.65760999999999%5D%2C%20%5B-33.45019%2C%20-70.64921%5D%2C%20%5B-33.3866%2C%20-70.60155%5D%2C%20%5B-33.43639%2C%20-70.65955%5D%2C%20%5B-33.43482%2C%20-70.64662%5D%2C%20%5B-33.438156%2C%20-70.657028%5D%2C%20%5B-33.44066%2C%20-70.60461%5D%2C%20%5B-33.446259999999995%2C%20-70.65307%5D%2C%20%5B-33.4299%2C%20-70.67063%5D%2C%20%5B-33.43938%2C%20-70.65746%5D%2C%20%5B-33.435959999999994%2C%20-70.61804000000001%5D%2C%20%5B-33.43683%2C%20-70.61885%5D%2C%20%5B-33.43626%2C%20-70.61805%5D%2C%20%5B-33.420159999999996%2C%20-70.64043000000001%5D%2C%20%5B-33.44066%2C%20-70.6554%5D%2C%20%5B-33.399879999999996%2C%20-70.57240999999999%5D%2C%20%5B-33.38151%2C%20-70.54334%5D%2C%20%5B-33.449459999999995%2C%20-70.58237%5D%2C%20%5B-33.46642%2C%20-70.58648000000001%5D%2C%20%5B-33.42566%2C%20-70.59454000000001%5D%2C%20%5B-33.444590000000005%2C%20-70.6421%5D%2C%20%5B-33.412459999999996%2C%20-70.58433000000001%5D%2C%20%5B-33.446979999999996%2C%20-70.65218%5D%2C%20%5B-33.437529999999995%2C%20-70.61981%5D%2C%20%5B-33.43571%2C%20-70.61820999999999%5D%2C%20%5B-33.53779%2C%20-70.59501999999999%5D%2C%20%5B-33.4435%2C%20-70.65726%5D%2C%20%5B-33.44216%2C%20-70.64809%5D%2C%20%5B-33.398709999999994%2C%20-70.50734%5D%2C%20%5B-33.4328%2C%20-70.65934%5D%2C%20%5B-33.42924%2C%20-70.6276%5D%2C%20%5B-33.4501%2C%20-70.65538000000001%5D%2C%20%5B-33.4348%2C%20-70.60623000000001%5D%2C%20%5B-33.443870000000004%2C%20-70.63644000000001%5D%2C%20%5B-33.42414%2C%20-70.61777%5D%2C%20%5B-33.45695%2C%20-70.65309%5D%2C%20%5B-33.4393%2C%20-70.62866%5D%2C%20%5B-33.50307%2C%20-70.60748000000001%5D%2C%20%5B-33.45989%2C%20-70.72227%5D%2C%20%5B-33.4651%2C%20-70.62416999999999%5D%2C%20%5B-33.424%2C%20-70.57458000000001%5D%2C%20%5B-33.44892%2C%20-70.64933%5D%2C%20%5B-33.4509%2C%20-70.67067%5D%2C%20%5B-33.39891%2C%20-70.57263%5D%2C%20%5B-33.490429999999996%2C%20-70.66034%5D%2C%20%5B-33.44539%2C%20-70.64477%5D%2C%20%5B-33.43772%2C%20-70.63214%5D%2C%20%5B-33.47495%2C%20-70.60149%5D%2C%20%5B-33.412459999999996%2C%20-70.58842%5D%2C%20%5B-33.44003%2C%20-70.64431%5D%2C%20%5B-33.440459999999995%2C%20-70.64059%5D%2C%20%5B-33.51198%2C%20-70.55984000000001%5D%2C%20%5B-33.440259999999995%2C%20-70.64399999999999%5D%2C%20%5B-33.419979999999995%2C%20-70.58304%5D%2C%20%5B-33.43727%2C%20-70.65684%5D%2C%20%5B-33.44784%2C%20-70.65565%5D%2C%20%5B-33.451879999999996%2C%20-70.64981999999999%5D%2C%20%5B-33.40068%2C%20-70.57157%5D%2C%20%5B-33.39891%2C%20-70.57263%5D%2C%20%5B-33.415209999999995%2C%20-70.60128%5D%2C%20%5B-33.39891%2C%20-70.57263%5D%2C%20%5B-33.433040000000005%2C%20-70.64013%5D%2C%20%5B-33.446740000000005%2C%20-70.63641%5D%2C%20%5B-33.412459999999996%2C%20-70.56701%5D%2C%20%5B-33.41236%2C%20-70.58456%5D%2C%20%5B-33.41243%2C%20-70.58641%5D%2C%20%5B-33.4367%2C%20-70.64301%5D%2C%20%5B-33.42617%2C%20-70.60479000000001%5D%2C%20%5B-33.48834%2C%20-70.64376999999999%5D%2C%20%5B-33.371159999999996%2C%20-70.51641%5D%2C%20%5B-33.4439%2C%20-70.65809%5D%2C%20%5B-33.39378%2C%20-70.55619%5D%2C%20%5B-33.42443%2C%20-70.61555%5D%2C%20%5B-33.50181%2C%20-70.62227%5D%2C%20%5B-33.48645%2C%20-70.64545%5D%2C%20%5B-33.43312%2C%20-70.62151%5D%2C%20%5B-33.44624%2C%20-70.57681%5D%2C%20%5B-33.410540000000005%2C%20-70.53971%5D%2C%20%5B-33.432790000000004%2C%20-70.61332%5D%2C%20%5B-33.41659%2C%20-70.57231%5D%2C%20%5B-33.41789%2C%20-70.55449%5D%2C%20%5B-33.493120000000005%2C%20-70.52129000000001%5D%2C%20%5B-33.44612%2C%20-70.5389%5D%2C%20%5B-33.45251%2C%20-70.65701999999999%5D%2C%20%5B-33.43692%2C%20-70.63743000000001%5D%2C%20%5B-33.440979999999996%2C%20-70.577%5D%2C%20%5B-33.39267%2C%20-70.55931%5D%2C%20%5B-33.446529999999996%2C%20-70.65356%5D%2C%20%5B-33.43985%2C%20-70.64103%5D%2C%20%5B-33.408359999999995%2C%20-70.56639%5D%2C%20%5B-33.36347%2C%20-70.51606%5D%2C%20%5B-33.45%2C%20-70.65382%5D%2C%20%5B-33.44313%2C%20-70.64345%5D%2C%20%5B-33.438790000000004%2C%20-70.63772%5D%2C%20%5B-33.43829%2C%20-70.63801%5D%2C%20%5B-33.45731%2C%20-70.65586%5D%2C%20%5B-33.43886%2C%20-70.64631%5D%2C%20%5B-33.4558%2C%20-70.61057%5D%2C%20%5B-33.50101%2C%20-70.56351%5D%2C%20%5B-33.38519%2C%20-70.57578000000001%5D%2C%20%5B-33.45357%2C%20-70.65606%5D%2C%20%5B-33.436809999999994%2C%20-70.64296999999999%5D%2C%20%5B-33.43616%2C%20-70.64359%5D%2C%20%5B-33.4368%2C%20-70.64355%5D%2C%20%5B-33.43432%2C%20-70.58757%5D%2C%20%5B-33.43622%2C%20-70.6442%5D%2C%20%5B-33.43752%2C%20-70.63859000000001%5D%2C%20%5B-33.43489%2C%20-70.62769%5D%2C%20%5B-33.450179999999996%2C%20-70.61646999999999%5D%2C%20%5B-33.4489%2C%20-70.58774%5D%2C%20%5B-33.34878%2C%20-70.29163%5D%2C%20%5B-33.44229%2C%20-70.64596999999999%5D%2C%20%5B-33.42426%2C%20-70.54281999999999%5D%2C%20%5B-33.40231%2C%20-70.56905%5D%2C%20%5B-33.44235%2C%20-70.60203%5D%2C%20%5B-33.39387%2C%20-70.5644%5D%2C%20%5B-33.44511%2C%20-70.63564000000001%5D%2C%20%5B-33.45763%2C%20-70.75913%5D%2C%20%5B-33.39326%2C%20-70.54890999999999%5D%2C%20%5B-33.44267%2C%20-70.6592%5D%2C%20%5B-33.452220000000004%2C%20-70.70628%5D%2C%20%5B-33.43092%2C%20-70.6321%5D%2C%20%5B-33.422779999999996%2C%20-70.62328000000001%5D%2C%20%5B-33.35386%2C%20-70.51905%5D%2C%20%5B-33.50444%2C%20-70.60757%5D%2C%20%5B-33.43009%2C%20-70.61865%5D%2C%20%5B-33.39883%2C%20-70.74285%5D%2C%20%5B-33.43047%2C%20-70.63107%5D%2C%20%5B-33.426790000000004%2C%20-70.55429000000001%5D%2C%20%5B-33.45663%2C%20-70.59179%5D%2C%20%5B-33.43654%2C%20-70.61938%5D%2C%20%5B-33.434870000000004%2C%20-70.62011%5D%2C%20%5B-33.50242%2C%20-70.61093000000001%5D%2C%20%5B-33.43957%2C%20-70.64548%5D%2C%20%5B-33.430890000000005%2C%20-70.60316%5D%2C%20%5B-33.437909999999995%2C%20-70.64571%5D%2C%20%5B-33.4557%2C%20-70.61115%5D%2C%20%5B-33.398740000000004%2C%20-70.58089%5D%2C%20%5B-33.40491%2C%20-70.54638%5D%2C%20%5B-33.42112%2C%20-70.59904%5D%2C%20%5B-33.43651%2C%20-70.67871%5D%2C%20%5B-33.44079%2C%20-70.67619%5D%2C%20%5B-33.460809999999995%2C%20-70.56141%5D%2C%20%5B-33.44171%2C%20-70.73217%5D%2C%20%5B-33.43853%2C%20-70.60727%5D%2C%20%5B-33.4517%2C%20-70.59337%5D%2C%20%5B-33.43955%2C%20-70.64578%5D%2C%20%5B-33.447340000000004%2C%20-70.58827%5D%2C%20%5B-33.44388%2C%20-70.64386999999999%5D%2C%20%5B-33.446259999999995%2C%20-70.60603%5D%2C%20%5B-33.44923%2C%20-70.60223%5D%2C%20%5B-33.45633%2C%20-70.58945%5D%2C%20%5B-33.34482%2C%20-70.66875999999999%5D%2C%20%5B-33.44657%2C%20-70.65301%5D%2C%20%5B-33.404740000000004%2C%20-70.57177%5D%2C%20%5B-33.407920000000004%2C%20-70.72693000000001%5D%2C%20%5B-33.43615%2C%20-70.6505%5D%2C%20%5B-33.45445%2C%20-70.63848%5D%2C%20%5B-33.45567%2C%20-70.59735%5D%2C%20%5B-33.42028%2C%20-70.61219%5D%2C%20%5B-33.41973%2C%20-70.61198%5D%2C%20%5B-33.45565%2C%20-70.57985%5D%2C%20%5B-33.44117%2C%20-70.67518000000001%5D%2C%20%5B-33.45044%2C%20-70.63345%5D%2C%20%5B-33.443090000000005%2C%20-70.63383%5D%2C%20%5B-33.429359999999996%2C%20-70.62031999999999%5D%2C%20%5B-33.45451%2C%20-70.66718%5D%2C%20%5B-33.41925%2C%20-70.60435%5D%2C%20%5B-33.44878%2C%20-70.6404%5D%2C%20%5B-33.44389%2C%20-70.60466%5D%2C%20%5B-33.45454%2C%20-70.70886%5D%2C%20%5B-33.455420000000004%2C%20-70.70952%5D%2C%20%5B-33.414320000000004%2C%20-70.57746999999999%5D%2C%20%5B-33.448240000000006%2C%20-70.60934%5D%2C%20%5B-33.444790000000005%2C%20-70.64346%5D%2C%20%5B-33.444720000000004%2C%20-70.65745%5D%2C%20%5B-33.37923%2C%20-70.56912%5D%2C%20%5B-33.433009999999996%2C%20-70.5751%5D%2C%20%5B-33.37923%2C%20-70.56912%5D%2C%20%5B-33.42249%2C%20-70.60212%5D%2C%20%5B-33.423590000000004%2C%20-70.60287%5D%2C%20%5B-33.42409%2C%20-70.60145%5D%2C%20%5B-33.42178%2C%20-70.60112%5D%2C%20%5B-33.455940000000005%2C%20-70.66273000000001%5D%2C%20%5B-33.35487%2C%20-70.7341%5D%2C%20%5B-33.45525%2C%20-70.66206%5D%2C%20%5B-33.411390000000004%2C%20-70.60446999999999%5D%2C%20%5B-33.45868%2C%20-70.60733%5D%2C%20%5B-33.43741%2C%20-70.64672%5D%2C%20%5B-33.425270000000005%2C%20-70.61622%5D%2C%20%5B-33.4437%2C%20-70.65983%5D%2C%20%5B-33.45771%2C%20-70.70464%5D%2C%20%5B-33.39999%2C%20-70.57347%5D%2C%20%5B-33.44762%2C%20-70.84595%5D%2C%20%5B-33.44484%2C%20-70.6441%5D%2C%20%5B-33.40682%2C%20-70.58594000000001%5D%2C%20%5B-33.44612%2C%20-70.64397%5D%2C%20%5B-33.43525%2C%20-70.60364%5D%2C%20%5B-33.45133%2C%20-70.61678%5D%2C%20%5B-33.45122%2C%20-70.64055%5D%2C%20%5B-33.366859999999996%2C%20-70.72492%5D%2C%20%5B-33.42352%2C%20-70.6018%5D%2C%20%5B-33.443000000000005%2C%20-70.62832%5D%2C%20%5B-33.46074%2C%20-70.61792%5D%2C%20%5B-33.46065%2C%20-70.61827%5D%2C%20%5B-33.44357%2C%20-70.56432%5D%2C%20%5B-33.431909999999995%2C%20-70.62536999999999%5D%2C%20%5B-33.43931%2C%20-70.63892%5D%2C%20%5B-33.39993%2C%20-70.68137%5D%2C%20%5B-33.4435%2C%20-70.6422%5D%2C%20%5B-33.4385%2C%20-70.63306999999999%5D%2C%20%5B-33.43435%2C%20-70.64845%5D%2C%20%5B-33.39949%2C%20-70.5725%5D%2C%20%5B-33.438340000000004%2C%20-70.64575%5D%2C%20%5B-33.4477%2C%20-70.58252%5D%2C%20%5B-33.43303%2C%20-70.66059%5D%2C%20%5B-33.35348%2C%20-70.67875%5D%2C%20%5B-33.470420000000004%2C%20-70.67135999999999%5D%2C%20%5B-33.3943%2C%20-70.54918%5D%2C%20%5B-33.416509999999995%2C%20-70.55944000000001%5D%2C%20%5B-33.44274%2C%20-70.66544%5D%2C%20%5B-33.44146%2C%20-70.66591%5D%2C%20%5B-33.44318%2C%20-70.66699%5D%2C%20%5B-33.441109999999995%2C%20-70.66712%5D%2C%20%5B-33.44246%2C%20-70.66566%5D%2C%20%5B-33.440979999999996%2C%20-70.66559000000001%5D%2C%20%5B-33.44141%2C%20-70.66535%5D%2C%20%5B-33.42664%2C%20-70.67456%5D%2C%20%5B-33.39074%2C%20-70.59337%5D%2C%20%5B-33.443909999999995%2C%20-70.59971%5D%2C%20%5B-33.4388%2C%20-70.63965%5D%2C%20%5B-33.53557%2C%20-70.60837%5D%2C%20%5B-33.43943%2C%20-70.64411%5D%2C%20%5B-33.470459999999996%2C%20-70.67092%5D%2C%20%5B-33.422540000000005%2C%20-70.60749%5D%2C%20%5B-33.469640000000005%2C%20-70.67027%5D%2C%20%5B-33.43862%2C%20-70.61010999999999%5D%2C%20%5B-33.56038%2C%20-70.77924%5D%2C%20%5B-33.429790000000004%2C%20-70.63081%5D%2C%20%5B-33.50423%2C%20-70.65238000000001%5D%2C%20%5B-33.44975%2C%20-70.63954%5D%2C%20%5B-33.455220000000004%2C%20-70.68966%5D%2C%20%5B-33.430170000000004%2C%20-70.58572%5D%2C%20%5B-33.431979999999996%2C%20-70.65819%5D%2C%20%5B-33.41962%2C%20-70.61219%5D%2C%20%5B-33.4381%2C%20-70.66411%5D%2C%20%5B-33.56024%2C%20-70.77787%5D%2C%20%5B-33.392109999999995%2C%20-70.55904%5D%2C%20%5B-33.46086%2C%20-70.70908%5D%2C%20%5B-33.462340000000005%2C%20-70.70534%5D%2C%20%5B-33.44763%2C%20-70.84206%5D%2C%20%5B-33.4337%2C%20-70.6474%5D%2C%20%5B-33.43741%2C%20-70.64416999999999%5D%2C%20%5B-33.44021%2C%20-70.65657%5D%2C%20%5B-33.44851%2C%20-70.62416999999999%5D%2C%20%5B-33.424279999999996%2C%20-70.62051%5D%2C%20%5B-33.42661%2C%20-70.65013%5D%2C%20%5B-33.333870000000005%2C%20-70.28713%5D%2C%20%5B-33.43032%2C%20-70.64128000000001%5D%2C%20%5B-33.45283%2C%20-70.64676%5D%2C%20%5B-33.519890000000004%2C%20-70.59773%5D%2C%20%5B-33.43224%2C%20-70.52269%5D%2C%20%5B-33.43243%2C%20-70.52376%5D%2C%20%5B-33.45087%2C%20-70.63409%5D%2C%20%5B-33.41966%2C%20-70.60968000000001%5D%2C%20%5B-33.42024%2C%20-70.61063%5D%2C%20%5B-33.42025%2C%20-70.60927%5D%2C%20%5B-33.42152%2C%20-70.60931%5D%2C%20%5B-33.42001%2C%20-70.6091%5D%2C%20%5B-33.44885%2C%20-70.63861999999999%5D%2C%20%5B-33.41624%2C%20-70.60203%5D%2C%20%5B-33.435590000000005%2C%20-70.63642%5D%2C%20%5B-33.44%2C%20-70.63561%5D%2C%20%5B-33.4246%2C%20-70.61054%5D%2C%20%5B-33.437540000000006%2C%20-70.58054%5D%2C%20%5B-33.42348%2C%20-70.61421%5D%2C%20%5B-33.44854%2C%20-70.6483%5D%2C%20%5B-33.43861%2C%20-70.63793000000001%5D%2C%20%5B-33.455859999999994%2C%20-70.58339000000001%5D%2C%20%5B-33.41404%2C%20-70.57193000000001%5D%2C%20%5B-33.47332%2C%20-70.64435%5D%2C%20%5B-33.44749%2C%20-70.61881%5D%2C%20%5B-33.47965%2C%20-70.59962%5D%2C%20%5B-33.47115%2C%20-70.55076%5D%2C%20%5B-33.44299%2C%20-70.64496%5D%2C%20%5B-33.45109%2C%20-70.64171%5D%2C%20%5B-33.44665%2C%20-70.64945%5D%2C%20%5B-33.42707%2C%20-70.608%5D%2C%20%5B-33.43916%2C%20-70.65756%5D%2C%20%5B-33.39549%2C%20-70.6186%5D%2C%20%5B-33.43821%2C%20-70.64743%5D%2C%20%5B-33.403929999999995%2C%20-70.55579%5D%2C%20%5B-33.43591%2C%20-70.64732%5D%2C%20%5B-33.410540000000005%2C%20-70.56568%5D%2C%20%5B-33.429590000000005%2C%20-70.66818%5D%2C%20%5B-33.43829%2C%20-70.67766%5D%2C%20%5B-33.43703%2C%20-70.65365%5D%2C%20%5B-33.43802%2C%20-70.64685%5D%2C%20%5B-33.43399%2C%20-70.64119000000001%5D%2C%20%5B-33.44582%2C%20-70.6432%5D%2C%20%5B-33.43577%2C%20-70.65876999999999%5D%2C%20%5B-33.43807%2C%20-70.64431%5D%2C%20%5B-33.441359999999996%2C%20-70.65971%5D%2C%20%5B-33.42718%2C%20-70.60263%5D%2C%20%5B-33.44445%2C%20-70.65616%5D%2C%20%5B-33.4077%2C%20-70.65961999999999%5D%2C%20%5B-33.4285%2C%20-70.56255999999999%5D%2C%20%5B-33.42595%2C%20-70.61477%5D%2C%20%5B-33.44202%2C%20-70.63173%5D%2C%20%5B-33.46314%2C%20-70.64325%5D%2C%20%5B-33.4414%2C%20-70.64631999999999%5D%2C%20%5B-33.513009999999994%2C%20-70.65965%5D%2C%20%5B-33.441720000000004%2C%20-70.64537%5D%2C%20%5B-33.384370000000004%2C%20-70.60942%5D%2C%20%5B-33.41705%2C%20-70.58856999999999%5D%2C%20%5B-33.38955%2C%20-70.59186%5D%2C%20%5B-33.45074%2C%20-70.65378%5D%2C%20%5B-33.46962%2C%20-70.67645999999999%5D%2C%20%5B-33.38921%2C%20-70.56036%5D%2C%20%5B-33.418079999999996%2C%20-70.55474%5D%2C%20%5B-33.505990000000004%2C%20-70.6344%5D%2C%20%5B-33.50186%2C%20-70.73893000000001%5D%2C%20%5B-33.43829%2C%20-70.67766%5D%2C%20%5B-33.43829%2C%20-70.67766%5D%2C%20%5B-33.43829%2C%20-70.67766%5D%2C%20%5B-33.54485%2C%20-70.65604%5D%2C%20%5B-33.429429999999996%2C%20-70.61896999999999%5D%2C%20%5B-33.45207%2C%20-70.63046999999999%5D%2C%20%5B-33.43053%2C%20-70.62001%5D%2C%20%5B-33.44001%2C%20-70.58905%5D%2C%20%5B-33.45511%2C%20-70.57516%5D%2C%20%5B-33.40498%2C%20-70.59125999999999%5D%2C%20%5B-33.43869%2C%20-70.57698%5D%2C%20%5B-33.44948%2C%20-70.65483%5D%2C%20%5B-33.42749%2C%20-70.6196%5D%2C%20%5B-33.44712%2C%20-70.54123%5D%2C%20%5B-33.44805%2C%20-70.64863000000001%5D%2C%20%5B-33.43785%2C%20-70.58173000000001%5D%2C%20%5B-33.42517%2C%20-70.5957%5D%2C%20%5B-33.44294%2C%20-70.64865999999999%5D%2C%20%5B-33.44057%2C%20-70.64296999999999%5D%2C%20%5B-33.453920000000004%2C%20-70.62983%5D%2C%20%5B-33.452259999999995%2C%20-70.62005%5D%2C%20%5B-33.44036%2C%20-70.59084%5D%2C%20%5B-33.45983%2C%20-70.73333000000001%5D%2C%20%5B-33.41398%2C%20-70.59841999999999%5D%2C%20%5B-33.45961%2C%20-70.7341%5D%2C%20%5B-33.56374%2C%20-70.67752%5D%2C%20%5B-33.49958%2C%20-70.65564%5D%2C%20%5B-33.4563%2C%20-70.7031%5D%2C%20%5B-33.448609999999995%2C%20-70.63975%5D%2C%20%5B-33.44798%2C%20-70.65303%5D%2C%20%5B-33.42585%2C%20-70.61665%5D%2C%20%5B-33.45713%2C%20-70.61867%5D%2C%20%5B-33.4416%2C%20-70.65382%5D%2C%20%5B-33.41404%2C%20-70.60275%5D%2C%20%5B-33.42815%2C%20-70.60678%5D%2C%20%5B-33.4199%2C%20-70.60821%5D%2C%20%5B-33.44641%2C%20-70.64617%5D%2C%20%5B-33.387209999999996%2C%20-70.54066999999999%5D%2C%20%5B-33.42815%2C%20-70.67349%5D%2C%20%5B-33.41186%2C%20-70.54441%5D%2C%20%5B-33.418479999999995%2C%20-70.55553%5D%2C%20%5B-33.40025%2C%20-70.57778%5D%2C%20%5B-33.43391%2C%20-70.65263%5D%2C%20%5B-33.44226%2C%20-70.64281%5D%2C%20%5B-33.50975%2C%20-70.70730999999999%5D%2C%20%5B-33.42185%2C%20-70.61033%5D%2C%20%5B-33.42879%2C%20-70.61871%5D%2C%20%5B-33.42856%2C%20-70.6189%5D%2C%20%5B-33.42799%2C%20-70.61919%5D%2C%20%5B-33.42869%2C%20-70.6198%5D%2C%20%5B-33.4545%2C%20-70.60744%5D%2C%20%5B-33.47546%2C%20-70.55054%5D%2C%20%5B-33.44024%2C%20-70.63852%5D%2C%20%5B-33.434129999999996%2C%20-70.62814%5D%2C%20%5B-33.43564%2C%20-70.64286%5D%2C%20%5B-33.383520000000004%2C%20-70.53075%5D%2C%20%5B-33.4821%2C%20-70.54256%5D%2C%20%5B-33.42261%2C%20-70.60914%5D%2C%20%5B-33.437529999999995%2C%20-70.61761%5D%2C%20%5B-33.41702%2C%20-70.5714%5D%2C%20%5B-33.49068%2C%20-70.74363000000001%5D%2C%20%5B-33.42558%2C%20-70.60491999999999%5D%2C%20%5B-33.43622%2C%20-70.61799%5D%2C%20%5B-33.50101%2C%20-70.61583%5D%2C%20%5B-33.4584%2C%20-70.69102%5D%2C%20%5B-33.43758%2C%20-70.64702%5D%2C%20%5B-33.43983%2C%20-70.6459%5D%2C%20%5B-33.422509999999996%2C%20-70.49051%5D%2C%20%5B-33.43665%2C%20-70.64833%5D%2C%20%5B-33.46606%2C%20-70.52049%5D%2C%20%5B-33.44998%2C%20-70.64254%5D%2C%20%5B-33.44981%2C%20-70.62677%5D%2C%20%5B-33.41659%2C%20-70.60271999999999%5D%2C%20%5B-33.43642%2C%20-70.67649%5D%2C%20%5B-33.42732%2C%20-70.54814%5D%2C%20%5B-33.43918%2C%20-70.63807%5D%2C%20%5B-33.5071%2C%20-70.65901%5D%2C%20%5B-33.42447%2C%20-70.60797%5D%2C%20%5B-33.499109999999995%2C%20-70.62101%5D%2C%20%5B-33.44766%2C%20-70.63614%5D%2C%20%5B-33.423559999999995%2C%20-70.60951%5D%2C%20%5B-33.48755%2C%20-70.58527%5D%2C%20%5B-33.4272%2C%20-70.61901999999999%5D%2C%20%5B-33.50412%2C%20-70.65602%5D%2C%20%5B-33.41603%2C%20-70.58837%5D%2C%20%5B-33.43949%2C%20-70.64237%5D%2C%20%5B-33.44277%2C%20-70.59969%5D%2C%20%5B-33.44249%2C%20-70.59819%5D%2C%20%5B-33.42478%2C%20-70.64286%5D%2C%20%5B-33.419129999999996%2C%20-70.55014%5D%2C%20%5B-33.43803%2C%20-70.64575%5D%2C%20%5B-33.44127%2C%20-70.63776%5D%2C%20%5B-33.41341%2C%20-70.58234%5D%2C%20%5B-33.442840000000004%2C%20-70.66476%5D%2C%20%5B-33.445859999999996%2C%20-70.62805999999999%5D%2C%20%5B-33.45431%2C%20-70.63105%5D%2C%20%5B-33.4454%2C%20-70.62745%5D%2C%20%5B-33.441%2C%20-70.61367%5D%2C%20%5B-33.401959999999995%2C%20-70.57224000000001%5D%2C%20%5B-33.43499%2C%20-70.64761%5D%2C%20%5B-33.4455%2C%20-70.64763%5D%2C%20%5B-33.428979999999996%2C%20-70.61816%5D%2C%20%5B-33.43763%2C%20-70.65521%5D%2C%20%5B-33.43762%2C%20-70.65598%5D%2C%20%5B-33.50225%2C%20-70.60223%5D%2C%20%5B-33.4063%2C%20-70.58445999999999%5D%2C%20%5B-33.4711%2C%20-70.60628%5D%2C%20%5B-33.43642%2C%20-70.64238%5D%2C%20%5B-33.4344%2C%20-70.62716%5D%2C%20%5B-33.45084%2C%20-70.63292%5D%2C%20%5B-33.44863%2C%20-70.63821999999999%5D%2C%20%5B-33.436370000000004%2C%20-70.64133000000001%5D%2C%20%5B-33.44621%2C%20-70.67138%5D%2C%20%5B-33.44441%2C%20-70.65616999999999%5D%2C%20%5B-33.481609999999996%2C%20-70.593%5D%2C%20%5B-33.45057%2C%20-70.60696%5D%2C%20%5B-33.43619%2C%20-70.64709%5D%2C%20%5B-33.45443%2C%20-70.58284%5D%2C%20%5B-33.4454%2C%20-70.62741%5D%2C%20%5B-33.43567%2C%20-70.60515%5D%2C%20%5B-33.42564%2C%20-70.61093000000001%5D%2C%20%5B-33.441159999999996%2C%20-70.66615999999999%5D%2C%20%5B-33.45149%2C%20-70.61097%5D%2C%20%5B-33.50843%2C%20-70.55838%5D%2C%20%5B-33.49798%2C%20-70.55513%5D%2C%20%5B-33.444559999999996%2C%20-70.64135999999999%5D%2C%20%5B-33.45706%2C%20-70.67143%5D%2C%20%5B-33.4464%2C%20-70.63301%5D%2C%20%5B-33.50908%2C%20-70.72547%5D%2C%20%5B-33.42042%2C%20-70.64308%5D%2C%20%5B-33.37175%2C%20-70.63833000000001%5D%2C%20%5B-33.449870000000004%2C%20-70.63105999999999%5D%2C%20%5B-33.42519%2C%20-70.64708%5D%2C%20%5B-33.42541%2C%20-70.61426999999999%5D%2C%20%5B-33.399640000000005%2C%20-70.57279%5D%2C%20%5B-33.45769%2C%20-70.63045%5D%2C%20%5B-33.45769%2C%20-70.69107%5D%2C%20%5B-33.52066%2C%20-70.76675%5D%2C%20%5B-33.48968%2C%20-70.66017%5D%2C%20%5B-33.36118%2C%20-70.2588%5D%2C%20%5B-33.42184%2C%20-70.61209000000001%5D%2C%20%5B-33.441790000000005%2C%20-70.6602%5D%2C%20%5B-33.42403%2C%20-70.59676999999999%5D%2C%20%5B-33.423840000000006%2C%20-70.59796%5D%2C%20%5B-33.409040000000005%2C%20-70.54799%5D%2C%20%5B-33.469640000000005%2C%20-70.67027%5D%2C%20%5B-33.43401%2C%20-70.65957%5D%2C%20%5B-33.432970000000005%2C%20-70.65429%5D%2C%20%5B-33.399640000000005%2C%20-70.57164%5D%2C%20%5B-33.43137%2C%20-70.62215%5D%2C%20%5B-33.44684%2C%20-70.64694%5D%2C%20%5B-33.37636%2C%20-70.5495%5D%2C%20%5B-33.44743%2C%20-70.6396%5D%2C%20%5B-33.43657%2C%20-70.64721%5D%2C%20%5B-33.44802%2C%20-70.57885999999999%5D%2C%20%5B-33.43763%2C%20-70.6487%5D%2C%20%5B-33.45203%2C%20-70.69345%5D%2C%20%5B-33.438179999999996%2C%20-70.61959%5D%2C%20%5B-33.441140000000004%2C%20-70.56404%5D%2C%20%5B-33.44663%2C%20-70.64275%5D%2C%20%5B-33.4168%2C%20-70.58807%5D%2C%20%5B-33.455490000000005%2C%20-70.63224%5D%2C%20%5B-33.40775%2C%20-70.5782%5D%2C%20%5B-33.47149%2C%20-70.70636%5D%2C%20%5B-33.44636%2C%20-70.64323%5D%2C%20%5B-33.42613%2C%20-70.64616%5D%2C%20%5B-33.432320000000004%2C%20-70.59873%5D%2C%20%5B-33.44956%2C%20-70.65511%5D%2C%20%5B-33.43776%2C%20-70.63986%5D%2C%20%5B-33.433609999999994%2C%20-70.64757%5D%2C%20%5B-33.43008%2C%20-70.64298000000001%5D%2C%20%5B-33.44917%2C%20-70.58954%5D%2C%20%5B-33.41255%2C%20-70.58843%5D%2C%20%5B-33.43888%2C%20-70.64164%5D%2C%20%5B-33.43652%2C%20-70.64845%5D%2C%20%5B-33.43939%2C%20-70.64161999999999%5D%2C%20%5B-33.438790000000004%2C%20-70.64048000000001%5D%2C%20%5B-33.47664%2C%20-70.62456999999999%5D%2C%20%5B-33.43953%2C%20-70.64135999999999%5D%2C%20%5B-33.438990000000004%2C%20-70.64073%5D%2C%20%5B-33.439479999999996%2C%20-70.64159000000001%5D%2C%20%5B-33.485890000000005%2C%20-70.61906%5D%2C%20%5B-33.42699%2C%20-70.59814%5D%2C%20%5B-33.445409999999995%2C%20-70.63231999999999%5D%2C%20%5B-33.46188%2C%20-70.62754%5D%2C%20%5B-33.562470000000005%2C%20-70.61015%5D%2C%20%5B-33.44785%2C%20-70.56022%5D%2C%20%5B-33.429320000000004%2C%20-70.57417%5D%2C%20%5B-33.492909999999995%2C%20-70.6538%5D%2C%20%5B-33.441720000000004%2C%20-70.65739%5D%2C%20%5B-33.47664%2C%20-70.62456999999999%5D%2C%20%5B-33.44701%2C%20-70.60101999999999%5D%2C%20%5B-33.42827%2C%20-70.62923%5D%2C%20%5B-33.48064%2C%20-70.73783%5D%2C%20%5B-33.45975%2C%20-70.59272%5D%2C%20%5B-33.434290000000004%2C%20-70.64242%5D%2C%20%5B-33.439%2C%20-70.64390999999999%5D%2C%20%5B-33.437059999999995%2C%20-70.64787%5D%2C%20%5B-33.41639%2C%20-70.55575999999999%5D%2C%20%5B-33.4476%2C%20-70.65271%5D%2C%20%5B-33.35028%2C%20-70.30724000000001%5D%2C%20%5B-33.45879%2C%20-70.61676999999999%5D%2C%20%5B-33.45874%2C%20-70.62429%5D%2C%20%5B-33.45655%2C%20-70.64412%5D%2C%20%5B-33.44771%2C%20-70.63766%5D%2C%20%5B-33.456309999999995%2C%20-70.58457%5D%2C%20%5B-33.431340000000006%2C%20-70.66642%5D%2C%20%5B-33.44088%2C%20-70.63067%5D%2C%20%5B-33.41023%2C%20-70.57629%5D%2C%20%5B-33.52463%2C%20-70.63327%5D%2C%20%5B-33.40978%2C%20-70.57282%5D%2C%20%5B-33.475629999999995%2C%20-70.75291999999999%5D%2C%20%5B-33.48596%2C%20-70.6506%5D%2C%20%5B-33.43869%2C%20-70.67652%5D%2C%20%5B-33.367459999999994%2C%20-70.50128000000001%5D%2C%20%5B-33.40489%2C%20-70.5962%5D%2C%20%5B-33.422270000000005%2C%20-70.61061%5D%2C%20%5B-33.40935%2C%20-70.54884%5D%2C%20%5B-33.42841%2C%20-70.64116999999999%5D%2C%20%5B-33.39597%2C%20-70.54278000000001%5D%2C%20%5B-33.44075%2C%20-70.58539%5D%2C%20%5B-33.44299%2C%20-70.57285999999999%5D%2C%20%5B-33.4547%2C%20-70.82186999999999%5D%2C%20%5B-33.452940000000005%2C%20-70.65839%5D%2C%20%5B-33.4562%2C%20-70.58738000000001%5D%2C%20%5B-33.45491%2C%20-70.65934%5D%2C%20%5B-33.49621%2C%20-70.72274%5D%2C%20%5B-33.428470000000004%2C%20-70.61622%5D%2C%20%5B-33.39428%2C%20-70.55051999999999%5D%2C%20%5B-33.43696%2C%20-70.63683%5D%2C%20%5B-33.43741%2C%20-70.65794%5D%2C%20%5B-33.42868%2C%20-70.61256999999999%5D%2C%20%5B-33.42537%2C%20-70.60605%5D%2C%20%5B-33.454240000000006%2C%20-70.58712%5D%2C%20%5B-33.45426%2C%20-70.58761%5D%2C%20%5B-33.45409%2C%20-70.58769000000001%5D%2C%20%5B-33.3342%2C%20-70.5082%5D%2C%20%5B-33.50073%2C%20-70.79609%5D%2C%20%5B-33.35087%2C%20-70.7409%5D%2C%20%5B-33.44311%2C%20-70.6457%5D%2C%20%5B-33.46218%2C%20-70.58869%5D%2C%20%5B-33.46025%2C%20-70.58861999999999%5D%2C%20%5B-33.41522%2C%20-70.58481%5D%2C%20%5B-33.41405%2C%20-70.58634%5D%2C%20%5B-33.4337%2C%20-70.65803000000001%5D%2C%20%5B-33.444320000000005%2C%20-70.64291%5D%2C%20%5B-33.43885%2C%20-70.61395%5D%2C%20%5B-33.41664%2C%20-70.60278000000001%5D%2C%20%5B-33.44381%2C%20-70.66244%5D%2C%20%5B-33.44948%2C%20-70.62826%5D%2C%20%5B-33.45026%2C%20-70.64560999999999%5D%2C%20%5B-33.499790000000004%2C%20-70.73716999999999%5D%2C%20%5B-33.45408%2C%20-70.65831999999999%5D%2C%20%5B-33.44239%2C%20-70.62028000000001%5D%2C%20%5B-33.50056%2C%20-70.58758%5D%2C%20%5B-33.44959%2C%20-70.64927%5D%2C%20%5B-33.43424%2C%20-70.60338%5D%2C%20%5B-33.42685%2C%20-70.59600999999999%5D%2C%20%5B-33.43564%2C%20-70.65324%5D%2C%20%5B-33.44065%2C%20-70.64839%5D%2C%20%5B-33.4405%2C%20-70.63433%5D%2C%20%5B-33.439840000000004%2C%20-70.63578000000001%5D%2C%20%5B-33.45339%2C%20-70.70424%5D%2C%20%5B-33.44934%2C%20-70.65374%5D%2C%20%5B-33.442820000000005%2C%20-70.58352%5D%2C%20%5B-33.41337%2C%20-70.60750999999999%5D%2C%20%5B-33.43123%2C%20-70.61957%5D%2C%20%5B-33.43918%2C%20-70.75165%5D%2C%20%5B-33.38543%2C%20-70.54781%5D%2C%20%5B-33.42945%2C%20-70.61268000000001%5D%2C%20%5B-33.44724%2C%20-70.65579%5D%2C%20%5B-33.41783%2C%20-70.58286%5D%2C%20%5B-33.4542%2C%20-70.70517%5D%2C%20%5B-33.41433%2C%20-70.60518%5D%2C%20%5B-33.45438%2C%20-70.70584000000001%5D%2C%20%5B-33.468309999999995%2C%20-70.65635999999999%5D%2C%20%5B-33.40811%2C%20-70.66334%5D%2C%20%5B-33.42613%2C%20-70.53936999999999%5D%2C%20%5B-33.43635%2C%20-70.65858%5D%2C%20%5B-33.42159%2C%20-70.61171%5D%2C%20%5B-33.441720000000004%2C%20-70.67631%5D%2C%20%5B-33.49292%2C%20-70.65162%5D%2C%20%5B-33.44982%2C%20-70.6549%5D%2C%20%5B-33.45684%2C%20-70.63879%5D%2C%20%5B-33.44676%2C%20-70.65499%5D%2C%20%5B-33.421640000000004%2C%20-70.6121%5D%2C%20%5B-33.35458%2C%20-70.5124%5D%2C%20%5B-33.3932%2C%20-70.5605%5D%2C%20%5B-33.459509999999995%2C%20-70.67616%5D%2C%20%5B-33.439640000000004%2C%20-70.65763000000001%5D%2C%20%5B-33.45564%2C%20-70.66232%5D%2C%20%5B-33.43906%2C%20-70.64223%5D%2C%20%5B-33.470240000000004%2C%20-70.64755%5D%2C%20%5B-33.43221%2C%20-70.6347%5D%2C%20%5B-33.44688%2C%20-70.6459%5D%2C%20%5B-33.405559999999994%2C%20-70.55686%5D%2C%20%5B-33.33959%2C%20-70.67338000000001%5D%2C%20%5B-33.39398%2C%20-70.56225%5D%2C%20%5B-33.47189%2C%20-70.62758000000001%5D%2C%20%5B-33.431129999999996%2C%20-70.64155%5D%2C%20%5B-33.48265%2C%20-70.59839000000001%5D%2C%20%5B-33.35003%2C%20-70.3128%5D%2C%20%5B-33.499359999999996%2C%20-70.65194%5D%2C%20%5B-33.44613%2C%20-70.5803%5D%2C%20%5B-33.443459999999995%2C%20-70.65812%5D%2C%20%5B-33.44447%2C%20-70.64288%5D%2C%20%5B-33.42696%2C%20-70.59161999999999%5D%2C%20%5B-33.43635%2C%20-70.65858%5D%2C%20%5B-33.425909999999995%2C%20-70.61664%5D%2C%20%5B-33.44509%2C%20-70.6336%5D%2C%20%5B-33.35545%2C%20-70.24834%5D%2C%20%5B-33.52233%2C%20-70.5981%5D%2C%20%5B-33.43656%2C%20-70.57817%5D%2C%20%5B-33.44043%2C%20-70.6464%5D%2C%20%5B-33.442009999999996%2C%20-70.58466%5D%2C%20%5B-33.452059999999996%2C%20-70.64021%5D%2C%20%5B-33.44944%2C%20-70.60011999999999%5D%2C%20%5B-33.45145%2C%20-70.64979%5D%2C%20%5B-33.4268%2C%20-70.54755%5D%2C%20%5B-33.450829999999996%2C%20-70.62408%5D%2C%20%5B-33.453959999999995%2C%20-70.59605%5D%2C%20%5B-33.429970000000004%2C%20-70.65839%5D%2C%20%5B-33.43181%2C%20-70.60091%5D%2C%20%5B-33.45065%2C%20-70.63528000000001%5D%2C%20%5B-33.48884%2C%20-70.64191%5D%2C%20%5B-33.36248%2C%20-70.71467%5D%2C%20%5B-33.43809%2C%20-70.64519%5D%2C%20%5B-33.38355%2C%20-70.53726%5D%2C%20%5B-33.50587%2C%20-70.66383%5D%2C%20%5B-33.43437%2C%20-70.59494000000001%5D%2C%20%5B-33.43362%2C%20-70.64959%5D%2C%20%5B-33.43464%2C%20-70.64969%5D%2C%20%5B-33.43379%2C%20-70.64851%5D%2C%20%5B-33.435320000000004%2C%20-70.64983000000001%5D%2C%20%5B-33.43355%2C%20-70.64798%5D%2C%20%5B-33.4636%2C%20-70.59477%5D%2C%20%5B-33.43357%2C%20-70.64833%5D%2C%20%5B-33.4268%2C%20-70.54755%5D%2C%20%5B-33.4331%2C%20-70.64775999999999%5D%2C%20%5B-33.43372%2C%20-70.64795%5D%2C%20%5B-33.43394%2C%20-70.64959%5D%2C%20%5B-33.43318%2C%20-70.64780999999999%5D%2C%20%5B-33.439209999999996%2C%20-70.64531%5D%2C%20%5B-33.4352%2C%20-70.64947%5D%2C%20%5B-33.433609999999994%2C%20-70.64846%5D%2C%20%5B-33.43527%2C%20-70.64784%5D%2C%20%5B-33.38295%2C%20-70.53035%5D%2C%20%5B-33.43476%2C%20-70.64914%5D%2C%20%5B-33.4334%2C%20-70.64989%5D%2C%20%5B-33.4339%2C%20-70.65%5D%2C%20%5B-33.433170000000004%2C%20-70.64842%5D%2C%20%5B-33.43385%2C%20-70.64929000000001%5D%2C%20%5B-33.45003%2C%20-70.64758%5D%2C%20%5B-33.43636%2C%20-70.61098%5D%2C%20%5B-33.4337%2C%20-70.64941999999999%5D%2C%20%5B-33.43323%2C%20-70.64985%5D%2C%20%5B-33.43322%2C%20-70.64926%5D%2C%20%5B-33.43388%2C%20-70.64839%5D%2C%20%5B-33.43462%2C%20-70.64867%5D%2C%20%5B-33.434909999999995%2C%20-70.64995%5D%2C%20%5B-33.43493%2C%20-70.64784%5D%2C%20%5B-33.43497%2C%20-70.64811999999999%5D%2C%20%5B-33.43342%2C%20-70.64786%5D%2C%20%5B-33.43343%2C%20-70.64792%5D%2C%20%5B-33.43334%2C%20-70.64788%5D%2C%20%5B-33.435140000000004%2C%20-70.64789%5D%2C%20%5B-33.43523%2C%20-70.64976999999999%5D%2C%20%5B-33.446999999999996%2C%20-70.60212%5D%2C%20%5B-33.42372%2C%20-70.71246%5D%2C%20%5B-33.47079%2C%20-70.66261%5D%2C%20%5B-33.4324%2C%20-70.62455%5D%2C%20%5B-33.347970000000004%2C%20-70.29271%5D%2C%20%5B-33.440059999999995%2C%20-70.6707%5D%2C%20%5B-33.42841%2C%20-70.62065%5D%2C%20%5B-33.45368%2C%20-70.61021%5D%2C%20%5B-33.43874%2C%20-70.64399%5D%2C%20%5B-33.492740000000005%2C%20-70.64778000000001%5D%2C%20%5B-33.45339%2C%20-70.69849%5D%2C%20%5B-33.45172%2C%20-70.65469%5D%2C%20%5B-33.44127%2C%20-70.57386%5D%2C%20%5B-33.40695%2C%20-70.57504%5D%2C%20%5B-33.44709%2C%20-70.61993000000001%5D%2C%20%5B-33.45499%2C%20-70.65881999999999%5D%2C%20%5B-33.4291%2C%20-70.65503000000001%5D%2C%20%5B-33.437540000000006%2C%20-70.64258000000001%5D%2C%20%5B-33.43267%2C%20-70.62445%5D%2C%20%5B-33.449740000000006%2C%20-70.64791%5D%2C%20%5B-33.47845%2C%20-70.66419%5D%2C%20%5B-33.44743%2C%20-70.6454%5D%2C%20%5B-33.41679%2C%20-70.61216%5D%2C%20%5B-33.4415%2C%20-70.62759%5D%2C%20%5B-33.270379999999996%2C%20-70.22492%5D%2C%20%5B-33.45339%2C%20-70.6459%5D%2C%20%5B-33.44011%2C%20-70.60285999999999%5D%2C%20%5B-33.40247%2C%20-70.54373000000001%5D%2C%20%5B-33.39952%2C%20-70.59508000000001%5D%2C%20%5B-33.4369%2C%20-70.578%5D%2C%20%5B-33.35217%2C%20-70.2484%5D%2C%20%5B-33.44958%2C%20-70.64599%5D%2C%20%5B-33.43947%2C%20-70.55924%5D%2C%20%5B-33.46074%2C%20-70.67666%5D%2C%20%5B-33.459379999999996%2C%20-70.67635%5D%2C%20%5B-33.44834%2C%20-70.6459%5D%2C%20%5B-33.43503%2C%20-70.65431%5D%2C%20%5B-33.443540000000006%2C%20-70.65836999999999%5D%2C%20%5B-33.4541%2C%20-70.6334%5D%2C%20%5B-33.41095%2C%20-70.58073%5D%2C%20%5B-33.44185%2C%20-70.56583%5D%2C%20%5B-33.42102%2C%20-70.60221%5D%2C%20%5B-33.44017%2C%20-70.67017%5D%2C%20%5B-33.43974%2C%20-70.64180999999999%5D%2C%20%5B-33.4574%2C%20-70.64466%5D%2C%20%5B-33.46092%2C%20-70.57735%5D%2C%20%5B-33.45075%2C%20-70.58964%5D%2C%20%5B-33.45027%2C%20-70.64792%5D%2C%20%5B-33.426159999999996%2C%20-70.64072%5D%2C%20%5B-33.468140000000005%2C%20-70.55248%5D%2C%20%5B-33.4509%2C%20-70.65641%5D%2C%20%5B-33.43675%2C%20-70.65087%5D%2C%20%5B-33.42875%2C%20-70.60847%5D%2C%20%5B-33.446020000000004%2C%20-70.63056%5D%2C%20%5B-33.38351%2C%20-70.53139%5D%2C%20%5B-33.4555%2C%20-70.84822%5D%2C%20%5B-33.43545%2C%20-70.6253%5D%2C%20%5B-33.41395%2C%20-70.58740999999999%5D%2C%20%5B-33.43741%2C%20-70.57321999999999%5D%2C%20%5B-33.460409999999996%2C%20-70.64604%5D%2C%20%5B-33.44528%2C%20-70.63141%5D%2C%20%5B-33.43936%2C%20-70.5576%5D%2C%20%5B-33.45232%2C%20-70.63110999999999%5D%2C%20%5B-33.44031%2C%20-70.64645%5D%2C%20%5B-33.44956%2C%20-70.63294%5D%2C%20%5B-33.45561%2C%20-70.58981%5D%2C%20%5B-33.43455%2C%20-70.64609%5D%2C%20%5B-33.441559999999996%2C%20-70.64208%5D%2C%20%5B-33.45415%2C%20-70.6107%5D%2C%20%5B-33.45382%2C%20-70.61418%5D%2C%20%5B-33.512190000000004%2C%20-70.71905%5D%2C%20%5B-33.35382%2C%20-70.24885%5D%2C%20%5B-33.44758%2C%20-70.65047%5D%2C%20%5B-33.456520000000005%2C%20-70.58113%5D%2C%20%5B-33.40023%2C%20-70.58151%5D%2C%20%5B-33.48706%2C%20-70.59685999999999%5D%2C%20%5B-33.42031%2C%20-70.60745%5D%2C%20%5B-33.40827%2C%20-70.72834%5D%2C%20%5B-33.52598%2C%20-70.64962%5D%2C%20%5B-33.45971%2C%20-70.65652%5D%2C%20%5B-33.44271%2C%20-70.67226%5D%2C%20%5B-33.428090000000005%2C%20-70.60986%5D%2C%20%5B-33.42967%2C%20-70.62012%5D%2C%20%5B-33.48458%2C%20-70.57919%5D%2C%20%5B-33.45278%2C%20-70.66315%5D%2C%20%5B-33.43971%2C%20-70.65074%5D%2C%20%5B-33.35052%2C%20-70.31273%5D%2C%20%5B-33.4665%2C%20-70.6308%5D%2C%20%5B-33.44878%2C%20-70.63454%5D%2C%20%5B-33.42657%2C%20-70.61738000000001%5D%2C%20%5B-33.42678%2C%20-70.61643000000001%5D%2C%20%5B-33.4471%2C%20-70.63978%5D%2C%20%5B-33.42873%2C%20-70.62016%5D%2C%20%5B-33.43776%2C%20-70.62510999999999%5D%2C%20%5B-33.42439%2C%20-70.6116%5D%2C%20%5B-33.424409999999995%2C%20-70.6101%5D%2C%20%5B-33.42514%2C%20-70.61145%5D%2C%20%5B-33.42303%2C%20-70.61161%5D%2C%20%5B-33.42458%2C%20-70.61025%5D%2C%20%5B-33.42801%2C%20-70.61854%5D%2C%20%5B-33.41802%2C%20-70.57051%5D%2C%20%5B-33.423916%2C%20-70.577217%5D%2C%20%5B-33.4346%2C%20-70.65522%5D%2C%20%5B-33.427040000000005%2C%20-70.53931%5D%2C%20%5B-33.41789%2C%20-70.55646999999999%5D%2C%20%5B-33.44943%2C%20-70.6554%5D%2C%20%5B-33.45428%2C%20-70.60200999999999%5D%2C%20%5B-33.42442%2C%20-70.5876%5D%2C%20%5B-33.43606%2C%20-70.65326999999999%5D%2C%20%5B-33.45098%2C%20-70.65375%5D%2C%20%5B-33.410090000000004%2C%20-70.57133%5D%2C%20%5B-33.45762%2C%20-70.66118%5D%2C%20%5B-33.43099%2C%20-70.6538%5D%2C%20%5B-33.43646%2C%20-70.66035%5D%2C%20%5B-33.451809999999995%2C%20-70.57252%5D%2C%20%5B-33.345040000000004%2C%20-70.28925%5D%2C%20%5B-33.44569%2C%20-70.55372%5D%2C%20%5B-33.37103%2C%20-70.50974000000001%5D%2C%20%5B-33.39458%2C%20-70.58768%5D%2C%20%5B-33.41467%2C%20-70.58587%5D%2C%20%5B-33.36906%2C%20-70.69091999999999%5D%2C%20%5B-33.3926%2C%20-70.57966%5D%2C%20%5B-33.52078%2C%20-70.66148000000001%5D%2C%20%5B-33.426320000000004%2C%20-70.61508%5D%2C%20%5B-33.44804%2C%20-70.63378%5D%2C%20%5B-33.44747%2C%20-70.64743%5D%2C%20%5B-33.485240000000005%2C%20-70.58115%5D%2C%20%5B-33.43469%2C%20-70.65455%5D%2C%20%5B-33.33455%2C%20-70.29066999999999%5D%2C%20%5B-33.44331%2C%20-70.63505%5D%2C%20%5B-33.44829%2C%20-70.57589%5D%2C%20%5B-33.45579%2C%20-70.6433%5D%2C%20%5B-33.43908%2C%20-70.66755%5D%2C%20%5B-33.44795%2C%20-70.63987%5D%2C%20%5B-33.399%2C%20-70.57395%5D%2C%20%5B-33.46001%2C%20-70.61909%5D%2C%20%5B-33.44962%2C%20-70.66407%5D%2C%20%5B-33.40164%2C%20-70.55662%5D%2C%20%5B-33.45417%2C%20-70.62550999999999%5D%2C%20%5B-33.455290000000005%2C%20-70.57105%5D%2C%20%5B-33.45369%2C%20-70.65216%5D%2C%20%5B-33.44377%2C%20-70.61574%5D%2C%20%5B-33.43623%2C%20-70.65411%5D%2C%20%5B-33.45558%2C%20-70.70051%5D%2C%20%5B-33.383255%2C%20-70.53112800000001%5D%2C%20%5B-33.42225%2C%20-70.56317%5D%2C%20%5B-33.44927%2C%20-70.63213%5D%2C%20%5B-33.35995%2C%20-70.30717%5D%2C%20%5B-33.448190000000004%2C%20-70.6343%5D%2C%20%5B-33.448479999999996%2C%20-70.63555%5D%2C%20%5B-33.49225%2C%20-70.65603%5D%2C%20%5B-33.41126%2C%20-70.57106999999999%5D%2C%20%5B-33.49108%2C%20-70.52878%5D%2C%20%5B-33.448240000000006%2C%20-70.63833000000001%5D%2C%20%5B-33.355340000000005%2C%20-70.24981%5D%2C%20%5B-33.442029999999995%2C%20-70.61864%5D%2C%20%5B-33.4206%2C%20-70.60919%5D%2C%20%5B-33.416509999999995%2C%20-70.67896%5D%2C%20%5B-33.44802%2C%20-70.55461%5D%2C%20%5B-33.4443%2C%20-70.63074%5D%2C%20%5B-33.44624%2C%20-70.62768%5D%2C%20%5B-33.33325%2C%20-70.28971%5D%2C%20%5B-33.43606%2C%20-70.66714%5D%2C%20%5B-33.33505%2C%20-70.29139%5D%2C%20%5B-33.33528%2C%20-70.29082%5D%2C%20%5B-33.4476%2C%20-70.64347%5D%2C%20%5B-33.44706%2C%20-70.5749%5D%2C%20%5B-33.44382%2C%20-70.64403%5D%2C%20%5B-33.42743%2C%20-70.61368%5D%2C%20%5B-33.41859%2C%20-70.6589%5D%2C%20%5B-33.45923%2C%20-70.62445%5D%2C%20%5B-33.41669%2C%20-70.60840999999999%5D%2C%20%5B-33.42694%2C%20-70.54633000000001%5D%2C%20%5B-33.458090000000006%2C%20-70.69084000000001%5D%2C%20%5B-33.44852%2C%20-70.64381%5D%2C%20%5B-33.44064%2C%20-70.63566%5D%2C%20%5B-33.42755%2C%20-70.61388000000001%5D%2C%20%5B-33.34708%2C%20-70.29131%5D%2C%20%5B-33.467729999999996%2C%20-70.57783%5D%2C%20%5B-33.38392%2C%20-70.53388000000001%5D%2C%20%5B-33.4387%2C%20-70.63436999999999%5D%2C%20%5B-33.426840000000006%2C%20-70.61780999999999%5D%2C%20%5B-33.41937%2C%20-70.59691%5D%2C%20%5B-33.4342%2C%20-70.66666%5D%2C%20%5B-33.44942%2C%20-70.63616999999999%5D%2C%20%5B-33.41503%2C%20-70.5502%5D%2C%20%5B-33.450379999999996%2C%20-70.62158000000001%5D%2C%20%5B-33.35626%2C%20-70.24904000000001%5D%2C%20%5B-33.43886%2C%20-70.61943000000001%5D%2C%20%5B-33.43743%2C%20-70.65038%5D%2C%20%5B-33.43769%2C%20-70.62982%5D%2C%20%5B-33.4204%2C%20-70.59759%5D%2C%20%5B-33.454%2C%20-70.65222%5D%2C%20%5B-33.4962%2C%20-70.62833%5D%2C%20%5B-33.43526%2C%20-70.61752%5D%2C%20%5B-33.43898%2C%20-70.6628%5D%2C%20%5B-33.43875%2C%20-70.66178000000001%5D%2C%20%5B-33.43866%2C%20-70.66336%5D%2C%20%5B-33.43829%2C%20-70.66205%5D%2C%20%5B-33.44763%2C%20-70.63691999999999%5D%2C%20%5B-33.41158%2C%20-70.60233000000001%5D%2C%20%5B-33.448890000000006%2C%20-70.6357%5D%2C%20%5B-33.425709999999995%2C%20-70.59982%5D%2C%20%5B-33.42839%2C%20-70.67023%5D%2C%20%5B-33.42112%2C%20-70.67443%5D%2C%20%5B-33.40606%2C%20-70.59439%5D%2C%20%5B-33.4189%2C%20-70.59607%5D%2C%20%5B-33.40732%2C%20-70.55826%5D%2C%20%5B-33.44955%2C%20-70.58816999999999%5D%2C%20%5B-33.51225%2C%20-70.5476%5D%2C%20%5B-33.42001%2C%20-70.59722%5D%2C%20%5B-33.36347%2C%20-70.27551%5D%2C%20%5B-33.41172%2C%20-70.57851%5D%2C%20%5B-33.43414%2C%20-70.65959000000001%5D%2C%20%5B-33.47361%2C%20-70.57826999999999%5D%2C%20%5B-33.35549%2C%20-70.24746%5D%2C%20%5B-33.372840000000004%2C%20-70.63967%5D%2C%20%5B-33.3538%2C%20-70.51903%5D%2C%20%5B-33.3521%2C%20-70.51821%5D%2C%20%5B-33.453379999999996%2C%20-70.66186%5D%2C%20%5B-33.34721%2C%20-70.29401999999999%5D%2C%20%5B-33.44729%2C%20-70.65491999999999%5D%2C%20%5B-33.41%2C%20-70.57124%5D%2C%20%5B-33.39202%2C%20-70.49855%5D%2C%20%5B-33.39215%2C%20-70.53931%5D%2C%20%5B-33.43497%2C%20-70.62862%5D%2C%20%5B-33.43875%2C%20-70.65805%5D%2C%20%5B-33.43372%2C%20-70.62469%5D%2C%20%5B-33.48362%2C%20-70.62396%5D%2C%20%5B-33.394709999999996%2C%20-70.54686%5D%2C%20%5B-33.45559%2C%20-70.66968%5D%2C%20%5B-33.45384%2C%20-70.66141%5D%2C%20%5B-33.33931%2C%20-70.66679%5D%2C%20%5B-33.447990000000004%2C%20-70.63968%5D%2C%20%5B-33.461659999999995%2C%20-70.67501%5D%2C%20%5B-33.46755%2C%20-70.67443%5D%2C%20%5B-33.41592%2C%20-70.60543%5D%2C%20%5B-33.46063%2C%20-70.62758000000001%5D%2C%20%5B-33.43938%2C%20-70.63578000000001%5D%2C%20%5B-33.45094%2C%20-70.65383%5D%2C%20%5B-33.443490000000004%2C%20-70.56498%5D%2C%20%5B-33.44211%2C%20-70.5642%5D%2C%20%5B-33.44549%2C%20-70.64365%5D%2C%20%5B-33.450140000000005%2C%20-70.63503%5D%2C%20%5B-33.39305%2C%20-70.55904%5D%2C%20%5B-33.40713%2C%20-70.59766%5D%2C%20%5B-33.33817%2C%20-70.28871%5D%2C%20%5B-33.447790000000005%2C%20-70.63846%5D%2C%20%5B-33.45154%2C%20-70.64751%5D%2C%20%5B-33.43122%2C%20-70.63705%5D%2C%20%5B-33.42519%2C%20-70.61444%5D%2C%20%5B-33.4378%2C%20-70.65981%5D%2C%20%5B-33.44695%2C%20-70.62768%5D%2C%20%5B-33.43947%2C%20-70.64544000000001%5D%2C%20%5B-33.47298%2C%20-70.58361%5D%2C%20%5B-33.35413%2C%20-70.24771%5D%2C%20%5B-33.41174%2C%20-70.56741%5D%2C%20%5B-33.45626%2C%20-70.59042%5D%2C%20%5B-33.492329999999995%2C%20-70.6164%5D%2C%20%5B-33.4239%2C%20-70.61641%5D%2C%20%5B-33.44601%2C%20-70.62791%5D%2C%20%5B-33.44151%2C%20-70.64675%5D%2C%20%5B-33.42859%2C%20-70.60614%5D%2C%20%5B-33.43933%2C%20-70.62947%5D%2C%20%5B-33.452909999999996%2C%20-70.60278000000001%5D%2C%20%5B-33.44141%2C%20-70.67279%5D%2C%20%5B-33.46033%2C%20-70.67571%5D%2C%20%5B-33.45645%2C%20-70.59851%5D%2C%20%5B-33.4224%2C%20-70.6487%5D%2C%20%5B-33.43838%2C%20-70.64079%5D%2C%20%5B-33.41171%2C%20-70.60258%5D%2C%20%5B-33.44641%2C%20-70.65383%5D%2C%20%5B-33.45109%2C%20-70.66584%5D%2C%20%5B-33.40599%2C%20-70.55716%5D%2C%20%5B-33.41037%2C%20-70.57216%5D%2C%20%5B-33.43635%2C%20-70.64572%5D%2C%20%5B-33.440059999999995%2C%20-70.62889%5D%2C%20%5B-33.4399%2C%20-70.62774%5D%2C%20%5B-33.441359999999996%2C%20-70.62957%5D%2C%20%5B-33.44119%2C%20-70.62814%5D%2C%20%5B-33.45729%2C%20-70.61327%5D%2C%20%5B-33.45563%2C%20-70.62509%5D%2C%20%5B-33.45599%2C%20-70.65375%5D%2C%20%5B-33.33743%2C%20-70.28891999999999%5D%2C%20%5B-33.335190000000004%2C%20-70.28924%5D%2C%20%5B-33.4369%2C%20-70.64375%5D%2C%20%5B-33.42105%2C%20-70.61206999999999%5D%2C%20%5B-33.3995%2C%20-70.55854000000001%5D%2C%20%5B-33.336059999999996%2C%20-70.29143%5D%2C%20%5B-33.44466%2C%20-70.62864%5D%2C%20%5B-33.42613%2C%20-70.65091%5D%2C%20%5B-33.4167%2C%20-70.60129%5D%2C%20%5B-33.4295%2C%20-70.61818000000001%5D%2C%20%5B-33.43104%2C%20-70.61923%5D%2C%20%5B-33.48615%2C%20-70.59866%5D%2C%20%5B-33.335570000000004%2C%20-70.29263%5D%2C%20%5B-33.35325%2C%20-70.51805%5D%2C%20%5B-33.42605%2C%20-70.61506999999999%5D%2C%20%5B-33.44429%2C%20-70.74566%5D%2C%20%5B-33.52578%2C%20-70.66071%5D%2C%20%5B-33.41578%2C%20-70.60280999999999%5D%2C%20%5B-33.43513%2C%20-70.65465%5D%2C%20%5B-33.40549%2C%20-70.55781999999999%5D%2C%20%5B-33.34922%2C%20-70.24778%5D%2C%20%5B-33.41656%2C%20-70.67931999999999%5D%2C%20%5B-33.41064%2C%20-70.57268%5D%2C%20%5B-33.46304%2C%20-70.71048%5D%2C%20%5B-33.336259999999996%2C%20-70.29326999999999%5D%2C%20%5B-33.33753%2C%20-70.29259%5D%2C%20%5B-33.33562%2C%20-70.29247%5D%2C%20%5B-33.34432%2C%20-70.28562%5D%2C%20%5B-33.44507%2C%20-70.63197%5D%2C%20%5B-33.449290000000005%2C%20-70.60204%5D%2C%20%5B-33.43919%2C%20-70.61531%5D%2C%20%5B-33.42938%2C%20-70.61206999999999%5D%2C%20%5B-33.45904%2C%20-70.67636999999999%5D%2C%20%5B-33.43615%2C%20-70.62701%5D%2C%20%5B-33.39978%2C%20-70.57305%5D%2C%20%5B-33.44001%2C%20-70.64027%5D%2C%20%5B-33.474779999999996%2C%20-70.75285%5D%2C%20%5B-33.4124%2C%20-70.56764%5D%2C%20%5B-33.39353%2C%20-70.56721%5D%2C%20%5B-33.449459999999995%2C%20-70.64018%5D%2C%20%5B-33.510670000000005%2C%20-70.66367%5D%2C%20%5B-33.47773%2C%20-70.58489%5D%2C%20%5B-33.436890000000005%2C%20-70.6358%5D%2C%20%5B-33.45926%2C%20-70.58928%5D%2C%20%5B-33.38434%2C%20-70.53099%5D%2C%20%5B-33.44794%2C%20-70.6442%5D%2C%20%5B-33.38239%2C%20-70.53201999999999%5D%2C%20%5B-33.423159999999996%2C%20-70.61052%5D%2C%20%5B-33.4532%2C%20-70.60574%5D%2C%20%5B-33.40605%2C%20-70.55773%5D%2C%20%5B-33.4044%2C%20-70.55656%5D%2C%20%5B-33.41235%2C%20-70.57445%5D%2C%20%5B-33.44746%2C%20-70.64496%5D%2C%20%5B-33.29927%2C%20-70.24891%5D%2C%20%5B-33.30087%2C%20-70.24945%5D%2C%20%5B-33.30024%2C%20-70.24953000000001%5D%2C%20%5B-33.30053%2C%20-70.25095999999999%5D%2C%20%5B-33.435109999999995%2C%20-70.6308%5D%2C%20%5B-33.4518%2C%20-70.64928%5D%2C%20%5B-33.45657%2C%20-70.67384%5D%2C%20%5B-33.300540000000005%2C%20-70.25071%5D%2C%20%5B-33.50804%2C%20-70.73789000000001%5D%2C%20%5B-33.45507%2C%20-70.62996%5D%2C%20%5B-33.419779999999996%2C%20-70.61092%5D%2C%20%5B-33.44917%2C%20-70.63795999999999%5D%2C%20%5B-33.42807%2C%20-70.62003%5D%2C%20%5B-33.45001%2C%20-70.6394%5D%2C%20%5B-33.41836%2C%20-70.59631%5D%2C%20%5B-33.30046%2C%20-70.24948%5D%2C%20%5B-33.29914%2C%20-70.25095%5D%2C%20%5B-33.43557%2C%20-70.63022%5D%2C%20%5B-33.4374%2C%20-70.63685%5D%2C%20%5B-33.43591%2C%20-70.63601%5D%2C%20%5B-33.4688%2C%20-70.61851%5D%2C%20%5B-33.437259999999995%2C%20-70.63686%5D%2C%20%5B-33.39052%2C%20-70.57240999999999%5D%2C%20%5B-33.4362%2C%20-70.63747%5D%2C%20%5B-33.43584%2C%20-70.6368%5D%2C%20%5B-33.436%2C%20-70.6373%5D%2C%20%5B-33.38909%2C%20-70.55022%5D%2C%20%5B-33.51089%2C%20-70.77351999999999%5D%2C%20%5B-33.43591%2C%20-70.62724%5D%2C%20%5B-33.39727%2C%20-70.56645%5D%2C%20%5B-33.46009%2C%20-70.65349%5D%2C%20%5B-33.421620000000004%2C%20-70.64623%5D%2C%20%5B-33.43163%2C%20-70.65786%5D%2C%20%5B-33.45834%2C%20-70.56984%5D%2C%20%5B-33.43972%2C%20-70.64126999999999%5D%2C%20%5B-33.41255%2C%20-70.58151%5D%2C%20%5B-33.446329999999996%2C%20-70.63854%5D%2C%20%5B-33.35026%2C%20-70.29369%5D%2C%20%5B-33.5203%2C%20-70.54352%5D%2C%20%5B-33.43002%2C%20-70.75922%5D%2C%20%5B-33.43838%2C%20-70.63042%5D%2C%20%5B-33.44846%2C%20-70.63248%5D%2C%20%5B-33.43846%2C%20-70.63164%5D%2C%20%5B-33.34519%2C%20-70.29205%5D%2C%20%5B-33.38435%2C%20-70.53009%5D%2C%20%5B-33.38199%2C%20-70.53027%5D%2C%20%5B-33.429120000000005%2C%20-70.61950999999999%5D%2C%20%5B-33.49053%2C%20-70.61456%5D%2C%20%5B-33.4466%2C%20-70.63573000000001%5D%2C%20%5B-33.4368%2C%20-70.65123%5D%2C%20%5B-33.41261%2C%20-70.60305%5D%2C%20%5B-33.417970000000004%2C%20-70.59305%5D%2C%20%5B-33.35055%2C%20-70.31092%5D%2C%20%5B-33.440020000000004%2C%20-70.64635%5D%2C%20%5B-33.44891%2C%20-70.64253000000001%5D%2C%20%5B-33.42756%2C%20-70.60497%5D%2C%20%5B-33.45252%2C%20-70.64990999999999%5D%2C%20%5B-33.48453%2C%20-70.59461999999999%5D%2C%20%5B-33.48038%2C%20-70.55595%5D%2C%20%5B-33.41672%2C%20-70.59515%5D%2C%20%5B-33.437979999999996%2C%20-70.64478000000001%5D%2C%20%5B-33.437259999999995%2C%20-70.6197%5D%2C%20%5B-33.36997%2C%20-70.4471%5D%2C%20%5B-33.45627%2C%20-70.59898000000001%5D%2C%20%5B-33.43878%2C%20-70.64442%5D%2C%20%5B-33.42048%2C%20-70.60053%5D%2C%20%5B-33.36954%2C%20-70.5768%5D%2C%20%5B-33.45428%2C%20-70.69501%5D%2C%20%5B-33.43722%2C%20-70.58024%5D%2C%20%5B-33.4062%2C%20-70.58499%5D%2C%20%5B-33.41565%2C%20-70.60287%5D%2C%20%5B-33.444%2C%20-70.64473000000001%5D%2C%20%5B-33.4457%2C%20-70.645%5D%2C%20%5B-33.43497%2C%20-70.65556%5D%2C%20%5B-33.347159999999995%2C%20-70.2915%5D%2C%20%5B-33.4505%2C%20-70.6415%5D%2C%20%5B-33.441520000000004%2C%20-70.63003%5D%2C%20%5B-33.44781%2C%20-70.65299%5D%2C%20%5B-33.45605%2C%20-70.70142%5D%2C%20%5B-33.43585%2C%20-70.64143%5D%2C%20%5B-33.43707%2C%20-70.63858%5D%2C%20%5B-33.431709999999995%2C%20-70.67234%5D%2C%20%5B-33.44774%2C%20-70.63471%5D%2C%20%5B-33.4073%2C%20-70.66281%5D%2C%20%5B-33.42325%2C%20-70.60805%5D%2C%20%5B-33.43127%2C%20-70.61666%5D%2C%20%5B-33.38595%2C%20-70.55335%5D%2C%20%5B-33.43773%2C%20-70.64503%5D%2C%20%5B-33.403240000000004%2C%20-70.55745%5D%2C%20%5B-33.41117%2C%20-70.57768%5D%2C%20%5B-33.42666%2C%20-70.61621%5D%2C%20%5B-33.40995%2C%20-70.63546%5D%2C%20%5B-33.42476%2C%20-70.59147%5D%2C%20%5B-33.4289%2C%20-70.61564%5D%2C%20%5B-33.430409999999995%2C%20-70.65808%5D%2C%20%5B-33.447309999999995%2C%20-70.64073%5D%2C%20%5B-33.44502%2C%20-70.65307%5D%2C%20%5B-33.42031%2C%20-70.60211%5D%2C%20%5B-33.43638%2C%20-70.65763000000001%5D%2C%20%5B-33.4201%2C%20-70.60037%5D%2C%20%5B-33.48131%2C%20-70.53829%5D%2C%20%5B-33.43425%2C%20-70.65879%5D%2C%20%5B-33.42879%2C%20-70.61871%5D%2C%20%5B-33.42383%2C%20-70.54814%5D%2C%20%5B-33.41948%2C%20-70.60916%5D%2C%20%5B-33.44807%2C%20-70.6343%5D%2C%20%5B-33.43809%2C%20-70.66393000000001%5D%2C%20%5B-33.4558%2C%20-70.6886%5D%2C%20%5B-33.39866%2C%20-70.57172%5D%2C%20%5B-33.42925%2C%20-70.61435999999999%5D%2C%20%5B-33.42977%2C%20-70.61402%5D%2C%20%5B-33.39157%2C%20-70.5445%5D%2C%20%5B-33.44161%2C%20-70.65795%5D%2C%20%5B-33.433170000000004%2C%20-70.64291%5D%2C%20%5B-33.44505%2C%20-70.64288%5D%2C%20%5B-33.4328%2C%20-70.64317%5D%2C%20%5B-33.4146%2C%20-70.54616999999999%5D%2C%20%5B-33.421459999999996%2C%20-70.60117%5D%2C%20%5B-33.44205%2C%20-70.64526%5D%2C%20%5B-33.46468%2C%20-70.59366999999999%5D%2C%20%5B-33.42494%2C%20-70.59857%5D%2C%20%5B-33.45743%2C%20-70.5514%5D%2C%20%5B-33.418040000000005%2C%20-70.67866%5D%2C%20%5B-33.44732%2C%20-70.68332%5D%2C%20%5B-33.44918%2C%20-70.63292%5D%2C%20%5B-33.45603%2C%20-70.62869%5D%2C%20%5B-33.406259999999996%2C%20-70.65692%5D%2C%20%5B-33.416431%2C%20-70.602028%5D%2C%20%5B-33.40729%2C%20-70.65613%5D%2C%20%5B-33.43712%2C%20-70.6512%5D%2C%20%5B-33.40739%2C%20-70.65722%5D%2C%20%5B-33.41768%2C%20-70.57825%5D%2C%20%5B-33.4526%2C%20-70.63149%5D%2C%20%5B-33.44838%2C%20-70.58169000000001%5D%2C%20%5B-33.44565%2C%20-70.6506%5D%2C%20%5B-33.44758%2C%20-70.5797%5D%2C%20%5B-33.447309999999995%2C%20-70.60554%5D%2C%20%5B-33.437459999999994%2C%20-70.64434%5D%2C%20%5B-33.416090000000004%2C%20-70.59895999999999%5D%2C%20%5B-33.46937%2C%20-70.62377%5D%2C%20%5B-33.300959999999996%2C%20-70.25108%5D%2C%20%5B-33.47578%2C%20-70.59668%5D%2C%20%5B-33.4501%2C%20-70.63422%5D%2C%20%5B-33.43911%2C%20-70.6453%5D%2C%20%5B-33.3206%2C%20-70.23223%5D%2C%20%5B-33.45485%2C%20-70.69955%5D%2C%20%5B-33.44712%2C%20-70.63495%5D%2C%20%5B-33.41644%2C%20-70.59903%5D%2C%20%5B-33.41833%2C%20-70.59231%5D%2C%20%5B-33.425979999999996%2C%20-70.5861%5D%2C%20%5B-33.44545%2C%20-70.64709%5D%2C%20%5B-33.41077%2C%20-70.71908%5D%2C%20%5B-33.45275%2C%20-70.66331%5D%2C%20%5B-33.43765%2C%20-70.64786%5D%2C%20%5B-33.44162%2C%20-70.61867%5D%2C%20%5B-33.49197%2C%20-70.77453%5D%2C%20%5B-33.520340000000004%2C%20-70.59773%5D%2C%20%5B-33.44382%2C%20-70.64495%5D%2C%20%5B-33.41281%2C%20-70.5661%5D%2C%20%5B-33.445209999999996%2C%20-70.6%5D%2C%20%5B-33.46069%2C%20-70.57589%5D%2C%20%5B-33.45198%2C%20-70.62114%5D%2C%20%5B-33.3538%2C%20-70.24876%5D%2C%20%5B-33.42442%2C%20-70.61676%5D%2C%20%5B-33.4948%2C%20-70.6512%5D%2C%20%5B-33.42772%2C%20-70.61556999999999%5D%2C%20%5B-33.45384%2C%20-70.65711999999999%5D%2C%20%5B-33.52175%2C%20-70.60915%5D%2C%20%5B-33.42775%2C%20-70.6191%5D%2C%20%5B-33.44341%2C%20-70.53786%5D%2C%20%5B-33.48489%2C%20-70.58295%5D%2C%20%5B-33.4241%2C%20-70.61222%5D%2C%20%5B-33.43983%2C%20-70.62037%5D%2C%20%5B-33.42707%2C%20-70.60453000000001%5D%2C%20%5B-33.434309999999996%2C%20-70.64316%5D%2C%20%5B-33.43257%2C%20-70.64664%5D%2C%20%5B-33.45702%2C%20-70.81936%5D%2C%20%5B-33.42511%2C%20-70.61577%5D%2C%20%5B-33.44737%2C%20-70.59543000000001%5D%2C%20%5B-33.44678%2C%20-70.63247%5D%2C%20%5B-33.43777%2C%20-70.64375%5D%2C%20%5B-33.520070000000004%2C%20-70.59911%5D%2C%20%5B-33.40546%2C%20-70.55691%5D%2C%20%5B-33.38434%2C%20-70.53166%5D%2C%20%5B-33.33701%2C%20-70.28921%5D%2C%20%5B-33.39886%2C%20-70.58869%5D%2C%20%5B-33.40685%2C%20-70.5747%5D%2C%20%5B-33.41896%2C%20-70.59783%5D%2C%20%5B-33.4377%2C%20-70.64442%5D%2C%20%5B-33.45919%2C%20-70.59321%5D%2C%20%5B-33.52572%2C%20-70.59845%5D%2C%20%5B-33.446329999999996%2C%20-70.57978%5D%2C%20%5B-33.44798%2C%20-70.61310999999999%5D%2C%20%5B-33.45435%2C%20-70.55494%5D%2C%20%5B-33.38411%2C%20-70.60999%5D%2C%20%5B-33.33585%2C%20-70.28955%5D%2C%20%5B-33.466609999999996%2C%20-70.65478%5D%2C%20%5B-33.35385%2C%20-70.24893%5D%2C%20%5B-33.43755%2C%20-70.65049%5D%2C%20%5B-33.42504%2C%20-70.61282%5D%2C%20%5B-33.39829%2C%20-70.57176%5D%2C%20%5B-33.39832%2C%20-70.5563%5D%2C%20%5B-33.43842%2C%20-70.61607%5D%2C%20%5B-33.440529999999995%2C%20-70.64527%5D%2C%20%5B-33.41138%2C%20-70.6538%5D%2C%20%5B-33.43642%2C%20-70.62043%5D%2C%20%5B-33.44408%2C%20-70.64559%5D%2C%20%5B-33.444320000000005%2C%20-70.63687%5D%2C%20%5B-33.43437%2C%20-70.61437%5D%2C%20%5B-33.34912%2C%20-70.3116%5D%2C%20%5B-33.34831%2C%20-70.31339%5D%2C%20%5B-33.350390000000004%2C%20-70.31155%5D%2C%20%5B-33.34894%2C%20-70.31312%5D%2C%20%5B-33.34995%2C%20-70.3118%5D%2C%20%5B-33.34859%2C%20-70.31153%5D%2C%20%5B-33.34983%2C%20-70.31331%5D%2C%20%5B-33.41301%2C%20-70.5858%5D%2C%20%5B-33.41254%2C%20-70.58475%5D%2C%20%5B-33.41788%2C%20-70.61307%5D%2C%20%5B-33.44265%2C%20-70.66724%5D%2C%20%5B-33.44218%2C%20-70.66575999999999%5D%2C%20%5B-33.45147%2C%20-70.64755%5D%2C%20%5B-33.45104%2C%20-70.62354%5D%2C%20%5B-33.46902%2C%20-70.73684%5D%2C%20%5B-33.4374%2C%20-70.64415%5D%2C%20%5B-33.43718%2C%20-70.64582%5D%2C%20%5B-33.43688%2C%20-70.6301%5D%2C%20%5B-33.43656%2C%20-70.65783%5D%2C%20%5B-33.4462%2C%20-70.64662%5D%2C%20%5B-33.455529999999996%2C%20-70.65949%5D%2C%20%5B-33.444390000000006%2C%20-70.62801999999999%5D%2C%20%5B-33.33685%2C%20-70.29104%5D%2C%20%5B-33.46428%2C%20-70.59917%5D%2C%20%5B-33.44862%2C%20-70.64806%5D%2C%20%5B-33.42808%2C%20-70.61793%5D%2C%20%5B-33.381809999999994%2C%20-70.51742%5D%2C%20%5B-33.44388%2C%20-70.60025%5D%2C%20%5B-33.44406%2C%20-70.64537%5D%2C%20%5B-33.45179%2C%20-70.6289%5D%2C%20%5B-33.51294%2C%20-70.76586999999999%5D%2C%20%5B-33.43163%2C%20-70.63362%5D%2C%20%5B-33.436659999999996%2C%20-70.62606%5D%2C%20%5B-33.38132%2C%20-70.72952%5D%2C%20%5B-33.41534%2C%20-70.59404%5D%2C%20%5B-33.42603%2C%20-70.55078%5D%2C%20%5B-33.448209999999996%2C%20-70.65316999999999%5D%2C%20%5B-33.54872%2C%20-70.79623000000001%5D%2C%20%5B-33.39424%2C%20-70.55836%5D%2C%20%5B-33.36294%2C%20-70.53535%5D%2C%20%5B-33.38337%2C%20-70.55523000000001%5D%2C%20%5B-33.43837%2C%20-70.64726%5D%2C%20%5B-33.425709999999995%2C%20-70.62044%5D%2C%20%5B-33.43117%2C%20-70.63331%5D%2C%20%5B-33.399370000000005%2C%20-70.55678%5D%2C%20%5B-33.4252%2C%20-70.60249%5D%2C%20%5B-33.43808%2C%20-70.64950999999999%5D%2C%20%5B-33.44704%2C%20-70.65375%5D%2C%20%5B-33.452659999999995%2C%20-70.60252%5D%2C%20%5B-33.43894%2C%20-70.64534%5D%2C%20%5B-33.45544%2C%20-70.63107%5D%2C%20%5B-33.43719%2C%20-70.62737%5D%2C%20%5B-33.42519%2C%20-70.6553%5D%2C%20%5B-33.58246%2C%20-70.66623%5D%2C%20%5B-33.454440000000005%2C%20-70.57526999999999%5D%2C%20%5B-33.456309999999995%2C%20-70.59685%5D%2C%20%5B-33.43672%2C%20-70.64499%5D%2C%20%5B-33.44885%2C%20-70.65188%5D%2C%20%5B-33.4497%2C%20-70.66843%5D%2C%20%5B-33.54733%2C%20-70.77796%5D%2C%20%5B-33.44095%2C%20-70.63533000000001%5D%2C%20%5B-33.4417%2C%20-70.53491%5D%2C%20%5B-33.441520000000004%2C%20-70.6393%5D%2C%20%5B-33.41101%2C%20-70.56564%5D%2C%20%5B-33.46317%2C%20-70.66516%5D%2C%20%5B-33.4295%2C%20-70.55308000000001%5D%2C%20%5B-33.44628%2C%20-70.61496%5D%2C%20%5B-33.45568%2C%20-70.58227%5D%2C%20%5B-33.40182%2C%20-70.58938%5D%2C%20%5B-33.46152%2C%20-70.59446%5D%2C%20%5B-33.33533%2C%20-70.29179%5D%2C%20%5B-33.44843%2C%20-70.62821%5D%2C%20%5B-33.46069%2C%20-70.57589%5D%2C%20%5B-33.44628%2C%20-70.63512%5D%2C%20%5B-33.44688%2C%20-70.63559000000001%5D%2C%20%5B-33.41753%2C%20-70.60327%5D%2C%20%5B-33.35282%2C%20-70.31147%5D%2C%20%5B-33.48989%2C%20-70.61325%5D%2C%20%5B-33.43357%2C%20-70.66028%5D%2C%20%5B-33.45834%2C%20-70.69154%5D%2C%20%5B-33.35713%2C%20-70.67403%5D%2C%20%5B-33.434779999999996%2C%20-70.65369%5D%2C%20%5B-33.45109%2C%20-70.64965%5D%2C%20%5B-33.42785%2C%20-70.61762%5D%2C%20%5B-33.418490000000006%2C%20-70.67199000000001%5D%2C%20%5B-33.434940000000005%2C%20-70.60334%5D%2C%20%5B-33.43928%2C%20-70.66042%5D%2C%20%5B-33.397079999999995%2C%20-70.56579%5D%2C%20%5B-33.46005%2C%20-70.6545%5D%2C%20%5B-33.42223%2C%20-70.58399%5D%2C%20%5B-33.459759999999996%2C%20-70.65483%5D%2C%20%5B-33.460229999999996%2C%20-70.65408000000001%5D%2C%20%5B-33.34617%2C%20-70.29156%5D%2C%20%5B-33.48323%2C%20-70.76017%5D%2C%20%5B-33.41988%2C%20-70.59798%5D%2C%20%5B-33.40959%2C%20-70.57217%5D%2C%20%5B-33.40965%2C%20-70.57278000000001%5D%2C%20%5B-33.44782%2C%20-70.63529%5D%2C%20%5B-33.42918%2C%20-70.6195%5D%2C%20%5B-33.447829999999996%2C%20-70.63359%5D%2C%20%5B-33.53771%2C%20-70.62810999999999%5D%2C%20%5B-33.35422%2C%20-70.51616999999999%5D%2C%20%5B-33.42054%2C%20-70.59875%5D%2C%20%5B-33.42856%2C%20-70.61795%5D%2C%20%5B-33.430690000000006%2C%20-70.61774%5D%2C%20%5B-33.44936%2C%20-70.84151999999999%5D%2C%20%5B-33.44978%2C%20-70.63076%5D%2C%20%5B-33.47079%2C%20-70.75990999999999%5D%2C%20%5B-33.40548%2C%20-70.55789%5D%2C%20%5B-33.46069%2C%20-70.57589%5D%2C%20%5B-33.43286%2C%20-70.64021%5D%2C%20%5B-33.4394%2C%20-70.6414%5D%2C%20%5B-33.3506%2C%20-70.30901%5D%2C%20%5B-33.450790000000005%2C%20-70.62961999999999%5D%2C%20%5B-33.49299%2C%20-70.76923000000001%5D%2C%20%5B-33.45391%2C%20-70.62784%5D%2C%20%5B-33.440329999999996%2C%20-70.64423000000001%5D%2C%20%5B-33.40039%2C%20-70.55484%5D%2C%20%5B-33.41557%2C%20-70.59876%5D%2C%20%5B-33.409209999999995%2C%20-70.79263%5D%2C%20%5B-33.51254%2C%20-70.58884%5D%2C%20%5B-33.44065%2C%20-70.63013000000001%5D%2C%20%5B-33.44012%2C%20-70.63701%5D%2C%20%5B-33.39927%2C%20-70.571%5D%2C%20%5B-33.439240000000005%2C%20-70.58136%5D%2C%20%5B-33.42438%2C%20-70.57748000000001%5D%2C%20%5B-33.45633%2C%20-70.69079%5D%2C%20%5B-33.439820000000005%2C%20-70.58335%5D%2C%20%5B-33.425290000000004%2C%20-70.61721999999999%5D%2C%20%5B-33.45341%2C%20-70.77085%5D%2C%20%5B-33.44314%2C%20-70.61374%5D%2C%20%5B-33.46498%2C%20-70.58778000000001%5D%2C%20%5B-33.41576%2C%20-70.60155%5D%2C%20%5B-33.35385%2C%20-70.24893%5D%2C%20%5B-33.34952%2C%20-70.52344000000001%5D%2C%20%5B-33.44034%2C%20-70.64205%5D%2C%20%5B-33.44778%2C%20-70.65409%5D%2C%20%5B-33.35869%2C%20-70.30646%5D%2C%20%5B-33.438140000000004%2C%20-70.7465%5D%2C%20%5B-33.43993%2C%20-70.61233%5D%2C%20%5B-33.44701%2C%20-70.65366999999999%5D%2C%20%5B-33.43533%2C%20-70.62781%5D%2C%20%5B-33.50635%2C%20-70.74817%5D%2C%20%5B-33.445040000000006%2C%20-70.66337%5D%2C%20%5B-33.418820000000004%2C%20-70.59818%5D%2C%20%5B-33.447340000000004%2C%20-70.64191%5D%2C%20%5B-33.33762%2C%20-70.28886%5D%2C%20%5B-33.45398%2C%20-70.69128%5D%2C%20%5B-33.45597%2C%20-70.69923%5D%2C%20%5B-33.43653%2C%20-70.6535%5D%2C%20%5B-33.452659999999995%2C%20-70.69649%5D%2C%20%5B-33.44579%2C%20-70.6529%5D%2C%20%5B-33.40162%2C%20-70.57219%5D%2C%20%5B-33.44749%2C%20-70.63518%5D%2C%20%5B-33.45859%2C%20-70.7433%5D%2C%20%5B-33.500840000000004%2C%20-70.64541%5D%2C%20%5B-33.41151%2C%20-70.60252%5D%2C%20%5B-33.422579999999996%2C%20-70.60383%5D%2C%20%5B-33.42723%2C%20-70.61721999999999%5D%2C%20%5B-33.432629999999996%2C%20-70.6479%5D%2C%20%5B-33.34926%2C%20-70.68015%5D%2C%20%5B-33.4226%2C%20-70.65588000000001%5D%2C%20%5B-33.41251%2C%20-70.5992%5D%2C%20%5B-33.34899%2C%20-70.29099000000001%5D%2C%20%5B-33.417640000000006%2C%20-70.65541%5D%2C%20%5B-33.449459999999995%2C%20-70.84148%5D%2C%20%5B-33.350770000000004%2C%20-70.31396%5D%2C%20%5B-33.53756%2C%20-70.58898%5D%2C%20%5B-33.447559999999996%2C%20-70.64653%5D%2C%20%5B-33.4568%2C%20-70.64466999999999%5D%2C%20%5B-33.421490000000006%2C%20-70.61135%5D%2C%20%5B-33.42475%2C%20-70.61612%5D%2C%20%5B-33.44696%2C%20-70.63454%5D%2C%20%5B-33.419979999999995%2C%20-70.69733000000001%5D%2C%20%5B-33.4401%2C%20-70.65592%5D%2C%20%5B-33.43016%2C%20-70.64081999999999%5D%2C%20%5B-33.45262%2C%20-70.66476%5D%2C%20%5B-33.431470000000004%2C%20-70.57275%5D%2C%20%5B-33.41517%2C%20-70.60426%5D%2C%20%5B-33.42136%2C%20-70.61165%5D%2C%20%5B-33.41748%2C%20-70.56411999999999%5D%2C%20%5B-33.41713%2C%20-70.57154%5D%2C%20%5B-33.439209999999996%2C%20-70.61641%5D%2C%20%5B-33.35107%2C%20-70.31142%5D%2C%20%5B-33.44924%2C%20-70.63946%5D%2C%20%5B-33.43322%2C%20-70.57239%5D%2C%20%5B-33.49303%2C%20-70.64871%5D%2C%20%5B-33.44624%2C%20-70.65189000000001%5D%2C%20%5B-33.4354%2C%20-70.66574%5D%2C%20%5B-33.4415%2C%20-70.63874%5D%2C%20%5B-33.43465%2C%20-70.65604%5D%2C%20%5B-33.41227%2C%20-70.59768000000001%5D%2C%20%5B-33.42315%2C%20-70.5877%5D%2C%20%5B-33.491859999999996%2C%20-70.61825999999999%5D%2C%20%5B-33.491209999999995%2C%20-70.64615%5D%2C%20%5B-33.43388%2C%20-70.63665999999999%5D%2C%20%5B-33.35122%2C%20-70.31291%5D%2C%20%5B-33.42584%2C%20-70.61063%5D%2C%20%5B-33.442840000000004%2C%20-70.56436%5D%2C%20%5B-33.442240000000005%2C%20-70.5662%5D%2C%20%5B-33.33802%2C%20-70.2931%5D%2C%20%5B-33.43397%2C%20-70.61118%5D%2C%20%5B-33.438%2C%20-70.6448%5D%2C%20%5B-33.48718%2C%20-70.64775999999999%5D%2C%20%5B-33.440540000000006%2C%20-70.63942%5D%2C%20%5B-33.44697%2C%20-70.60779000000001%5D%2C%20%5B-33.42038%2C%20-70.61121%5D%2C%20%5B-33.446059999999996%2C%20-70.60070999999999%5D%2C%20%5B-33.4384%2C%20-70.62938%5D%2C%20%5B-33.42114%2C%20-70.61%5D%2C%20%5B-33.40396%2C%20-70.57189%5D%2C%20%5B-33.43694%2C%20-70.64206%5D%2C%20%5B-33.44392%2C%20-70.63493000000001%5D%2C%20%5B-33.44761%2C%20-70.63526999999999%5D%2C%20%5B-33.34875%2C%20-70.29284%5D%2C%20%5B-33.385090000000005%2C%20-70.60689%5D%2C%20%5B-33.43401%2C%20-70.65828%5D%2C%20%5B-33.33562%2C%20-70.29167%5D%2C%20%5B-33.43743%2C%20-70.61853%5D%2C%20%5B-33.446709999999996%2C%20-70.65309%5D%2C%20%5B-33.390609999999995%2C%20-70.56062%5D%2C%20%5B-33.429840000000006%2C%20-70.74244%5D%2C%20%5B-33.4336%2C%20-70.74056999999999%5D%2C%20%5B-33.35685%2C%20-70.30696999999999%5D%2C%20%5B-33.42129%2C%20-70.64545%5D%2C%20%5B-33.34852%2C%20-70.29203000000001%5D%2C%20%5B-33.40149%2C%20-70.51982%5D%2C%20%5B-33.43325%2C%20-70.65666999999999%5D%2C%20%5B-33.45408%2C%20-70.59696%5D%2C%20%5B-33.450340000000004%2C%20-70.61886%5D%2C%20%5B-33.45033%2C%20-70.61896999999999%5D%2C%20%5B-33.442640000000004%2C%20-70.58211999999999%5D%2C%20%5B-33.450340000000004%2C%20-70.61891%5D%2C%20%5B-33.43466%2C%20-70.6407%5D%2C%20%5B-33.433040000000005%2C%20-70.7616%5D%2C%20%5B-33.485820000000004%2C%20-70.64832%5D%2C%20%5B-33.44798%2C%20-70.65287%5D%2C%20%5B-33.43629%2C%20-70.64815%5D%2C%20%5B-33.45583%2C%20-70.58265%5D%2C%20%5B-33.43851%2C%20-70.66098000000001%5D%2C%20%5B-33.44437%2C%20-70.57856%5D%2C%20%5B-33.43623%2C%20-70.65558%5D%2C%20%5B-33.44785%2C%20-70.6412%5D%2C%20%5B-33.380109999999995%2C%20-70.64253000000001%5D%2C%20%5B-33.391059999999996%2C%20-70.57174%5D%2C%20%5B-33.46614%2C%20-70.65343%5D%2C%20%5B-33.48529%2C%20-70.56033000000001%5D%2C%20%5B-33.45487%2C%20-70.59894%5D%2C%20%5B-33.46543%2C%20-70.62709%5D%2C%20%5B-33.3844%2C%20-70.54066%5D%2C%20%5B-33.48357%2C%20-70.76015%5D%2C%20%5B-33.44775%2C%20-70.63334%5D%2C%20%5B-33.45194%2C%20-70.64146%5D%2C%20%5B-33.40003%2C%20-70.57143%5D%2C%20%5B-33.54618%2C%20-70.79106%5D%2C%20%5B-33.41111%2C%20-70.56683000000001%5D%2C%20%5B-33.41594%2C%20-70.61746%5D%2C%20%5B-33.43088%2C%20-70.59704%5D%2C%20%5B-33.43744%2C%20-70.64348000000001%5D%2C%20%5B-33.40789%2C%20-70.62894%5D%2C%20%5B-33.40837%2C%20-70.62876999999999%5D%2C%20%5B-33.40809%2C%20-70.62988%5D%2C%20%5B-33.425470000000004%2C%20-70.61659%5D%2C%20%5B-33.46018%2C%20-70.60191%5D%2C%20%5B-33.4562%2C%20-70.66197%5D%2C%20%5B-33.50716%2C%20-70.73113000000001%5D%2C%20%5B-33.358670000000004%2C%20-70.51474%5D%2C%20%5B-33.43688%2C%20-70.65120999999999%5D%2C%20%5B-33.48962%2C%20-70.61657%5D%2C%20%5B-33.41645%2C%20-70.5991%5D%2C%20%5B-33.40783%2C%20-70.57361999999999%5D%2C%20%5B-33.43781%2C%20-70.64799000000001%5D%2C%20%5B-33.405879999999996%2C%20-70.5631%5D%2C%20%5B-33.43614%2C%20-70.63183000000001%5D%2C%20%5B-33.415440000000004%2C%20-70.59281%5D%2C%20%5B-33.44823%2C%20-70.61962%5D%2C%20%5B-33.43844%2C%20-70.61761%5D%2C%20%5B-33.50885%2C%20-70.74729%5D%2C%20%5B-33.41718%2C%20-70.55921%5D%2C%20%5B-33.350359999999995%2C%20-70.31273%5D%2C%20%5B-33.45985%2C%20-70.85347%5D%2C%20%5B-33.4605%2C%20-70.85342%5D%2C%20%5B-33.447759999999995%2C%20-70.64161%5D%2C%20%5B-33.43103%2C%20-70.60774%5D%2C%20%5B-33.48683%2C%20-70.6434%5D%2C%20%5B-33.438559999999995%2C%20-70.61791%5D%2C%20%5B-33.52022%2C%20-70.59685%5D%2C%20%5B-33.43732%2C%20-70.64589000000001%5D%2C%20%5B-33.455870000000004%2C%20-70.64287%5D%2C%20%5B-33.438320000000004%2C%20-70.64612%5D%2C%20%5B-33.44683%2C%20-70.63412%5D%2C%20%5B-33.43555%2C%20-70.64690999999999%5D%2C%20%5B-33.47018%2C%20-70.64817%5D%2C%20%5B-33.44547%2C%20-70.67156%5D%2C%20%5B-33.52153%2C%20-70.60533000000001%5D%2C%20%5B-33.43763%2C%20-70.63544%5D%2C%20%5B-33.550470000000004%2C%20-70.79744000000001%5D%2C%20%5B-33.434020000000004%2C%20-70.62654%5D%2C%20%5B-33.4919%2C%20-70.65397%5D%2C%20%5B-33.39796%2C%20-70.58485%5D%2C%20%5B-33.44001%2C%20-70.67823%5D%2C%20%5B-33.43887%2C%20-70.64555%5D%2C%20%5B-33.450379999999996%2C%20-70.64237%5D%2C%20%5B-33.4489%2C%20-70.64354%5D%2C%20%5B-33.43835%2C%20-70.57239%5D%2C%20%5B-33.455459999999995%2C%20-70.73868%5D%2C%20%5B-33.44062%2C%20-70.64076999999999%5D%2C%20%5B-33.44558%2C%20-70.64291%5D%2C%20%5B-33.46204%2C%20-70.56784%5D%2C%20%5B-33.453359999999996%2C%20-70.62265%5D%2C%20%5B-33.35327%2C%20-70.72856%5D%2C%20%5B-33.469159999999995%2C%20-70.73589%5D%2C%20%5B-33.40846%2C%20-70.54948%5D%2C%20%5B-33.34479%2C%20-70.6618%5D%2C%20%5B-33.39188%2C%20-70.63508%5D%2C%20%5B-33.431470000000004%2C%20-70.61415%5D%2C%20%5B-33.46685%2C%20-70.60155%5D%2C%20%5B-33.4028%2C%20-70.57213%5D%2C%20%5B-33.45431%2C%20-70.6327%5D%2C%20%5B-33.349920000000004%2C%20-70.30719%5D%2C%20%5B-33.40312%2C%20-70.57466%5D%2C%20%5B-33.44506%2C%20-70.59661%5D%2C%20%5B-33.395759999999996%2C%20-70.55239%5D%2C%20%5B-33.49912%2C%20-70.66025%5D%2C%20%5B-33.45321%2C%20-70.6244%5D%2C%20%5B-33.391220000000004%2C%20-70.57287%5D%2C%20%5B-33.38173%2C%20-70.7201%5D%2C%20%5B-33.42406%2C%20-70.54941%5D%2C%20%5B-33.51493%2C%20-70.65911%5D%2C%20%5B-33.45339%2C%20-70.60593%5D%2C%20%5B-33.43567%2C%20-70.64695999999999%5D%2C%20%5B-33.43778%2C%20-70.64941999999999%5D%2C%20%5B-33.37963%2C%20-70.53735%5D%2C%20%5B-33.414229999999996%2C%20-70.57563%5D%2C%20%5B-33.4595%2C%20-70.71985%5D%2C%20%5B-33.46264%2C%20-70.58457%5D%2C%20%5B-33.44542%2C%20-70.62035999999999%5D%2C%20%5B-33.479659999999996%2C%20-70.55686999999999%5D%2C%20%5B-33.45427%2C%20-70.69852%5D%2C%20%5B-33.42133%2C%20-70.5837%5D%2C%20%5B-33.43743%2C%20-70.64376%5D%2C%20%5B-33.39915%2C%20-70.57329%5D%2C%20%5B-33.44317%2C%20-70.63043%5D%2C%20%5B-33.37112%2C%20-70.44728%5D%2C%20%5B-33.508720000000004%2C%20-70.77224%5D%2C%20%5B-33.43631%2C%20-70.64274%5D%2C%20%5B-33.51162%2C%20-70.70832%5D%2C%20%5B-33.46069%2C%20-70.57589%5D%2C%20%5B-33.444559999999996%2C%20-70.63226%5D%2C%20%5B-33.4277%2C%20-70.54648%5D%2C%20%5B-33.42173%2C%20-70.64161999999999%5D%2C%20%5B-33.45817%2C%20-70.63086%5D%2C%20%5B-33.450829999999996%2C%20-70.60388%5D%2C%20%5B-33.35634%2C%20-70.6754%5D%2C%20%5B-33.4512%2C%20-70.62419%5D%2C%20%5B-33.41095%2C%20-70.59852%5D%2C%20%5B-33.40701%2C%20-70.56631%5D%2C%20%5B-33.43264%2C%20-70.64057%5D%2C%20%5B-33.41476%2C%20-70.59951%5D%2C%20%5B-33.43254%2C%20-70.64202%5D%2C%20%5B-33.42521%2C%20-70.76451999999999%5D%2C%20%5B-33.44785%2C%20-70.63432%5D%2C%20%5B-33.39718%2C%20-70.64202%5D%2C%20%5B-33.50438%2C%20-70.65484000000001%5D%2C%20%5B-33.424%2C%20-70.53879%5D%2C%20%5B-33.35803%2C%20-70.71200999999999%5D%2C%20%5B-33.44272%2C%20-70.60449%5D%2C%20%5B-33.43231%2C%20-70.61041%5D%2C%20%5B-33.45365%2C%20-70.75613%5D%2C%20%5B-33.432829999999996%2C%20-70.65948%5D%2C%20%5B-33.413920000000005%2C%20-70.54893%5D%2C%20%5B-33.4122%2C%20-70.54815%5D%2C%20%5B-33.44792%2C%20-70.65289%5D%2C%20%5B-33.41677%2C%20-70.61125%5D%2C%20%5B-33.43639%2C%20-70.63939%5D%2C%20%5B-33.446740000000005%2C%20-70.64546999999999%5D%2C%20%5B-33.42906%2C%20-70.5968%5D%2C%20%5B-33.389959999999995%2C%20-70.57202%5D%2C%20%5B-33.460159999999995%2C%20-70.65214%5D%2C%20%5B-33.43985%2C%20-70.6406%5D%2C%20%5B-33.44076%2C%20-70.66441%5D%2C%20%5B-33.436679999999996%2C%20-70.65795%5D%2C%20%5B-33.525690000000004%2C%20-70.56703%5D%2C%20%5B-33.425779999999996%2C%20-70.61621%5D%2C%20%5B-33.43566%2C%20-70.65768%5D%2C%20%5B-33.45313%2C%20-70.59132%5D%2C%20%5B-33.45262%2C%20-70.57454%5D%2C%20%5B-33.38133%2C%20-70.7196%5D%2C%20%5B-33.38187%2C%20-70.72046%5D%2C%20%5B-33.416129999999995%2C%20-70.71375%5D%2C%20%5B-33.455529999999996%2C%20-70.59768000000001%5D%2C%20%5B-33.38215%2C%20-70.71916%5D%2C%20%5B-33.38228%2C%20-70.72075%5D%2C%20%5B-33.43869%2C%20-70.64426%5D%2C%20%5B-33.436859999999996%2C%20-70.64433000000001%5D%2C%20%5B-33.41619%2C%20-70.54469%5D%2C%20%5B-33.437470000000005%2C%20-70.64024%5D%2C%20%5B-33.44215%2C%20-70.66409%5D%2C%20%5B-33.45374%2C%20-70.62621%5D%2C%20%5B-33.395340000000004%2C%20-70.5898%5D%2C%20%5B-33.43351%2C%20-70.74806%5D%2C%20%5B-33.44793%2C%20-70.6424%5D%2C%20%5B-33.43802%2C%20-70.61059%5D%2C%20%5B-33.43373%2C%20-70.74959%5D%2C%20%5B-33.435359999999996%2C%20-70.74824%5D%2C%20%5B-33.42696%2C%20-70.60484%5D%2C%20%5B-33.472590000000004%2C%20-70.66266%5D%2C%20%5B-33.52022%2C%20-70.60582%5D%2C%20%5B-33.44843%2C%20-70.6399%5D%2C%20%5B-33.43196%2C%20-70.64643000000001%5D%2C%20%5B-33.491209999999995%2C%20-70.61471999999999%5D%2C%20%5B-33.483470000000004%2C%20-70.65467%5D%2C%20%5B-33.48342%2C%20-70.65388%5D%2C%20%5B-33.43541%2C%20-70.65511%5D%2C%20%5B-33.41109%2C%20-70.57181%5D%2C%20%5B-33.44956%2C%20-70.65545999999999%5D%2C%20%5B-33.48308%2C%20-70.65389%5D%2C%20%5B-33.43528%2C%20-70.658%5D%2C%20%5B-33.43867%2C%20-70.64376999999999%5D%2C%20%5B-33.43725%2C%20-70.6455%5D%2C%20%5B-33.484790000000004%2C%20-70.65543000000001%5D%2C%20%5B-33.48341%2C%20-70.65513%5D%2C%20%5B-33.43734%2C%20-70.64545%5D%2C%20%5B-33.48366%2C%20-70.65312%5D%2C%20%5B-33.52953%2C%20-70.59044%5D%2C%20%5B-33.40668%2C%20-70.57921%5D%2C%20%5B-33.438320000000004%2C%20-70.64241%5D%2C%20%5B-33.436609999999995%2C%20-70.6067%5D%2C%20%5B-33.45154%2C%20-70.60651999999999%5D%2C%20%5B-33.44673%2C%20-70.6404%5D%2C%20%5B-33.45563%2C%20-70.63283%5D%2C%20%5B-33.439840000000004%2C%20-70.64036999999999%5D%2C%20%5B-33.44426%2C%20-70.65693%5D%2C%20%5B-33.4403%2C%20-70.64092%5D%2C%20%5B-33.435790000000004%2C%20-70.62729%5D%2C%20%5B-33.43325%2C%20-70.65751999999999%5D%2C%20%5B-33.42774%2C%20-70.61697%5D%2C%20%5B-33.40387%2C%20-70.56886999999999%5D%2C%20%5B-33.4306%2C%20-70.6424%5D%2C%20%5B-33.483000000000004%2C%20-70.65476%5D%2C%20%5B-33.37126%2C%20-70.51616%5D%2C%20%5B-33.42334%2C%20-70.60981%5D%2C%20%5B-33.43721%2C%20-70.60606%5D%2C%20%5B-33.44059%2C%20-70.67925%5D%2C%20%5B-33.44778%2C%20-70.65303%5D%2C%20%5B-33.41812%2C%20-70.55816%5D%2C%20%5B-33.51149%2C%20-70.66035%5D%2C%20%5B-33.53675%2C%20-70.58764000000001%5D%2C%20%5B-33.43403%2C%20-70.66504%5D%2C%20%5B-33.52483%2C%20-70.76512%5D%2C%20%5B-33.41055%2C%20-70.58853%5D%2C%20%5B-33.44791%2C%20-70.63916%5D%2C%20%5B-33.434870000000004%2C%20-70.63576%5D%2C%20%5B-33.437509999999996%2C%20-70.64522%5D%2C%20%5B-33.43522%2C%20-70.65682%5D%2C%20%5B-33.40781%2C%20-70.56523%5D%2C%20%5B-33.444829999999996%2C%20-70.64811%5D%2C%20%5B-33.44908%2C%20-70.66662%5D%2C%20%5B-33.47185%2C%20-70.64865999999999%5D%2C%20%5B-33.40068%2C%20-70.56963%5D%2C%20%5B-33.43377%2C%20-70.64107%5D%2C%20%5B-33.483779999999996%2C%20-70.5351%5D%2C%20%5B-33.47618%2C%20-70.5989%5D%2C%20%5B-33.45255%2C%20-70.64346%5D%2C%20%5B-33.44679%2C%20-70.66557%5D%2C%20%5B-33.44305%2C%20-70.65678%5D%2C%20%5B-33.39905%2C%20-70.58598%5D%2C%20%5B-33.4506%2C%20-70.66445%5D%2C%20%5B-33.448240000000006%2C%20-70.66837%5D%2C%20%5B-33.446090000000005%2C%20-70.66572%5D%2C%20%5B-33.42887%2C%20-70.65857%5D%2C%20%5B-33.44422%2C%20-70.69457%5D%2C%20%5B-33.41171%2C%20-70.5658%5D%2C%20%5B-33.445809999999994%2C%20-70.60859%5D%2C%20%5B-33.439859999999996%2C%20-70.65576999999999%5D%2C%20%5B-33.44313%2C%20-70.63981%5D%2C%20%5B-33.414190000000005%2C%20-70.58100999999999%5D%2C%20%5B-33.44708%2C%20-70.65393%5D%2C%20%5B-33.49859%2C%20-70.6527%5D%2C%20%5B-33.4398%2C%20-70.64203%5D%2C%20%5B-33.43442%2C%20-70.63763%5D%2C%20%5B-33.447340000000004%2C%20-70.63891%5D%2C%20%5B-33.43971%2C%20-70.64244000000001%5D%2C%20%5B-33.43861%2C%20-70.64498%5D%2C%20%5B-33.43764%2C%20-70.64418%5D%2C%20%5B-33.41174%2C%20-70.6023%5D%2C%20%5B-33.41316%2C%20-70.60441999999999%5D%2C%20%5B-33.40665%2C%20-70.56432%5D%2C%20%5B-33.4447%2C%20-70.64761%5D%2C%20%5B-33.49411%2C%20-70.64905%5D%2C%20%5B-33.45621%2C%20-70.63038%5D%2C%20%5B-33.45799%2C%20-70.60446999999999%5D%2C%20%5B-33.45378%2C%20-70.59578%5D%2C%20%5B-33.446329999999996%2C%20-70.66790999999999%5D%2C%20%5B-33.42098%2C%20-70.6105%5D%2C%20%5B-33.424009999999996%2C%20-70.68615%5D%2C%20%5B-33.42014%2C%20-70.61044%5D%2C%20%5B-33.42093%2C%20-70.6122%5D%2C%20%5B-33.42003%2C%20-70.61031%5D%2C%20%5B-33.498870000000004%2C%20-70.65375%5D%2C%20%5B-33.39996%2C%20-70.57396999999999%5D%2C%20%5B-33.443329999999996%2C%20-70.6301%5D%2C%20%5B-33.491240000000005%2C%20-70.59994%5D%2C%20%5B-33.44681%2C%20-70.65478%5D%2C%20%5B-33.498020000000004%2C%20-70.58659%5D%2C%20%5B-33.4345%2C%20-70.63905%5D%2C%20%5B-33.43963%2C%20-70.63198%5D%2C%20%5B-33.43793%2C%20-70.65637%5D%2C%20%5B-33.51455%2C%20-70.58625%5D%2C%20%5B-33.46069%2C%20-70.57589%5D%2C%20%5B-33.46069%2C%20-70.57589%5D%2C%20%5B-33.4496%2C%20-70.61474%5D%2C%20%5B-33.43569%2C%20-70.65366999999999%5D%2C%20%5B-33.45248%2C%20-70.69725%5D%2C%20%5B-33.43085%2C%20-70.62246999999999%5D%2C%20%5B-33.42755%2C%20-70.56217%5D%2C%20%5B-33.49984%2C%20-70.61721%5D%2C%20%5B-33.45021%2C%20-70.67008%5D%2C%20%5B-33.516220000000004%2C%20-70.59947%5D%2C%20%5B-33.42129%2C%20-70.60679%5D%2C%20%5B-33.4345%2C%20-70.64649%5D%2C%20%5B-33.4363%2C%20-70.64672%5D%2C%20%5B-33.4387%2C%20-70.64515%5D%2C%20%5B-33.4121%2C%20-70.56661%5D%2C%20%5B-33.44408%2C%20-70.64388000000001%5D%2C%20%5B-33.44422%2C%20-70.64424%5D%2C%20%5B-33.39975%2C%20-70.57283000000001%5D%2C%20%5B-33.44337%2C%20-70.64018%5D%2C%20%5B-33.45177%2C%20-70.6471%5D%2C%20%5B-33.45603%2C%20-70.59744%5D%2C%20%5B-33.43257%2C%20-70.59223%5D%2C%20%5B-33.49969%2C%20-70.58779%5D%2C%20%5B-33.400690000000004%2C%20-70.55502%5D%2C%20%5B-33.42566%2C%20-70.58645%5D%2C%20%5B-33.4157%2C%20-70.58049%5D%2C%20%5B-33.43403%2C%20-70.63509%5D%2C%20%5B-33.432590000000005%2C%20-70.63542%5D%2C%20%5B-33.39598%2C%20-70.56263%5D%2C%20%5B-33.44679%2C%20-70.61059%5D%2C%20%5B-33.44854%2C%20-70.65111999999999%5D%2C%20%5B-33.44037%2C%20-70.64086%5D%2C%20%5B-33.439859999999996%2C%20-70.6914%5D%2C%20%5B-33.44041%2C%20-70.64095999999999%5D%2C%20%5B-33.44968%2C%20-70.63874%5D%2C%20%5B-33.55623%2C%20-70.79488%5D%2C%20%5B-33.456520000000005%2C%20-70.70236%5D%2C%20%5B-33.39926%2C%20-70.57338%5D%2C%20%5B-33.42411%2C%20-70.61493%5D%2C%20%5B-33.45572%2C%20-70.57585%5D%2C%20%5B-33.43781%2C%20-70.64872%5D%2C%20%5B-33.4001%2C%20-70.57117%5D%2C%20%5B-33.442040000000006%2C%20-70.6592%5D%2C%20%5B-33.43978%2C%20-70.64538%5D%2C%20%5B-33.43367%2C%20-70.62308%5D%2C%20%5B-33.44119%2C%20-70.54191999999999%5D%2C%20%5B-33.48946%2C%20-70.64359%5D%2C%20%5B-33.36761%2C%20-70.50180999999999%5D%2C%20%5B-33.41039%2C%20-70.57356999999999%5D%2C%20%5B-33.449740000000006%2C%20-70.55399%5D%2C%20%5B-33.44409%2C%20-70.64411%5D%2C%20%5B-33.44036%2C%20-70.65671999999999%5D%2C%20%5B-33.42538%2C%20-70.76607%5D%2C%20%5B-33.43463%2C%20-70.65872%5D%2C%20%5B-33.44867%2C%20-70.63224%5D%2C%20%5B-33.43574%2C%20-70.62809%5D%2C%20%5B-33.45189%2C%20-70.64520999999999%5D%2C%20%5B-33.43221%2C%20-70.76411999999999%5D%2C%20%5B-33.38257%2C%20-70.71633%5D%2C%20%5B-33.435629999999996%2C%20-70.62503000000001%5D%2C%20%5B-33.43647%2C%20-70.64599%5D%2C%20%5B-33.43493%2C%20-70.64419000000001%5D%2C%20%5B-33.43612%2C%20-70.64426%5D%2C%20%5B-33.43658%2C%20-70.64565%5D%2C%20%5B-33.43442%2C%20-70.64416%5D%2C%20%5B-33.4351%2C%20-70.6442%5D%2C%20%5B-33.43485%2C%20-70.64426%5D%2C%20%5B-33.4324%2C%20-70.65957%5D%2C%20%5B-33.43975%2C%20-70.59514%5D%2C%20%5B-33.442440000000005%2C%20-70.65729%5D%2C%20%5B-33.505309999999994%2C%20-70.66483000000001%5D%2C%20%5B-33.44202%2C%20-70.62745%5D%2C%20%5B-33.44055%2C%20-70.62584%5D%2C%20%5B-33.42575%2C%20-70.58301%5D%2C%20%5B-33.438340000000004%2C%20-70.67475%5D%2C%20%5B-33.50694%2C%20-70.54906%5D%2C%20%5B-33.48623%2C%20-70.64438%5D%2C%20%5B-33.40112%2C%20-70.57148000000001%5D%2C%20%5B-33.48831%2C%20-70.64548%5D%2C%20%5B-33.5051%2C%20-70.59222%5D%2C%20%5B-33.475570000000005%2C%20-70.62607%5D%2C%20%5B-33.441559999999996%2C%20-70.61022%5D%2C%20%5B-33.47573%2C%20-70.626%5D%2C%20%5B-33.44892%2C%20-70.64990999999999%5D%2C%20%5B-33.45345%2C%20-70.65839%5D%2C%20%5B-33.43887%2C%20-70.72681999999999%5D%2C%20%5B-33.43909%2C%20-70.60961%5D%2C%20%5B-33.45288%2C%20-70.59389%5D%2C%20%5B-33.384009999999996%2C%20-70.53199000000001%5D%2C%20%5B-33.44279%2C%20-70.61424%5D%2C%20%5B-33.44655%2C%20-70.63847%5D%2C%20%5B-33.43837%2C%20-70.66965%5D%2C%20%5B-33.342420000000004%2C%20-70.67272%5D%2C%20%5B-33.43241%2C%20-70.59763000000001%5D%2C%20%5B-33.46541%2C%20-70.74953000000001%5D%2C%20%5B-33.45234%2C%20-70.69989%5D%2C%20%5B-33.43065%2C%20-70.6128%5D%2C%20%5B-33.42785%2C%20-70.67748%5D%2C%20%5B-33.44478%2C%20-70.61424%5D%2C%20%5B-33.47057%2C%20-70.6001%5D%2C%20%5B-33.41231%2C%20-70.5844%5D%2C%20%5B-33.51145%2C%20-70.55549%5D%2C%20%5B-33.48683%2C%20-70.59848000000001%5D%2C%20%5B-33.403490000000005%2C%20-70.59321%5D%2C%20%5B-33.43889%2C%20-70.62174%5D%2C%20%5B-33.44039%2C%20-70.62092%5D%2C%20%5B-33.53436%2C%20-70.6702%5D%2C%20%5B-33.41664%2C%20-70.58097%5D%2C%20%5B-33.43638%2C%20-70.64575%5D%2C%20%5B-33.43529%2C%20-70.64421999999999%5D%2C%20%5B-33.452690000000004%2C%20-70.69668%5D%2C%20%5B-33.43882%2C%20-70.57028000000001%5D%2C%20%5B-33.43635%2C%20-70.64538%5D%2C%20%5B-33.38067%2C%20-70.68911%5D%2C%20%5B-33.40015%2C%20-70.57019%5D%2C%20%5B-33.48812%2C%20-70.61885%5D%2C%20%5B-33.42015%2C%20-70.56651%5D%2C%20%5B-33.42195%2C%20-70.61105%5D%2C%20%5B-33.45053%2C%20-70.61695%5D%2C%20%5B-33.41912%2C%20-70.61391%5D%2C%20%5B-33.4517%2C%20-70.61838%5D%2C%20%5B-33.44363%2C%20-70.64369%5D%2C%20%5B-33.43654%2C%20-70.64249000000001%5D%2C%20%5B-33.44467%2C%20-70.64649%5D%2C%20%5B-33.43738%2C%20-70.61586%5D%2C%20%5B-33.45068%2C%20-70.65193000000001%5D%2C%20%5B-33.43585%2C%20-70.61622%5D%2C%20%5B-33.44769%2C%20-70.60076%5D%2C%20%5B-33.42718%2C%20-70.61936%5D%2C%20%5B-33.35884%2C%20-70.29218%5D%2C%20%5B-33.437470000000005%2C%20-70.64375%5D%2C%20%5B-33.43416%2C%20-70.62333000000001%5D%2C%20%5B-33.45922%2C%20-70.64402%5D%2C%20%5B-33.42655%2C%20-70.61546%5D%2C%20%5B-33.41517%2C%20-70.60426%5D%2C%20%5B-33.43915%2C%20-70.6411%5D%2C%20%5B-33.415890000000005%2C%20-70.59808000000001%5D%2C%20%5B-33.438390000000005%2C%20-70.64054%5D%2C%20%5B-33.34738%2C%20-70.54645%5D%2C%20%5B-33.41095%2C%20-70.59852%5D%2C%20%5B-33.46168%2C%20-70.62288000000001%5D%2C%20%5B-33.41746%2C%20-70.56813000000001%5D%2C%20%5B-33.44093%2C%20-70.54247%5D%2C%20%5B-33.41726%2C%20-70.61361%5D%2C%20%5B-33.41794%2C%20-70.61204000000001%5D%2C%20%5B-33.44619%2C%20-70.65437%5D%2C%20%5B-33.4516%2C%20-70.64891999999999%5D%2C%20%5B-33.41822%2C%20-70.6144%5D%2C%20%5B-33.45285%2C%20-70.64646%5D%2C%20%5B-33.460679999999996%2C%20-70.85512%5D%2C%20%5B-33.38722%2C%20-70.57964%5D%2C%20%5B-33.42866%2C%20-70.60240999999999%5D%2C%20%5B-33.43837%2C%20-70.64464%5D%2C%20%5B-33.418009999999995%2C%20-70.61243%5D%2C%20%5B-33.39955%2C%20-70.57339%5D%2C%20%5B-33.45496%2C%20-70.60431%5D%2C%20%5B-33.44673%2C%20-70.6023%5D%2C%20%5B-33.4624%2C%20-70.64950999999999%5D%2C%20%5B-33.456379999999996%2C%20-70.65245999999999%5D%2C%20%5B-33.42734%2C%20-70.6056%5D%2C%20%5B-33.44791%2C%20-70.61478000000001%5D%2C%20%5B-33.43707%2C%20-70.64777%5D%2C%20%5B-33.511829999999996%2C%20-70.59631999999999%5D%2C%20%5B-33.415820000000004%2C%20-70.63718%5D%2C%20%5B-33.45199%2C%20-70.61851999999999%5D%2C%20%5B-33.46241%2C%20-70.64768000000001%5D%2C%20%5B-33.43647%2C%20-70.64626%5D%2C%20%5B-33.36428%2C%20-70.72780999999999%5D%2C%20%5B-33.44585%2C%20-70.69294000000001%5D%2C%20%5B-33.44637%2C%20-70.69244%5D%2C%20%5B-33.43312%2C%20-70.67293000000001%5D%2C%20%5B-33.45053%2C%20-70.65175%5D%2C%20%5B-33.44105%2C%20-70.63452%5D%2C%20%5B-33.50892%2C%20-70.62291%5D%2C%20%5B-33.43947%2C%20-70.64192%5D%2C%20%5B-33.41437%2C%20-70.60279%5D%2C%20%5B-33.41064%2C%20-70.58771999999999%5D%2C%20%5B-33.43111%2C%20-70.62111999999999%5D%2C%20%5B-33.4295%2C%20-70.63829%5D%2C%20%5B-33.412409999999994%2C%20-70.56553000000001%5D%2C%20%5B-33.44706%2C%20-70.64721%5D%2C%20%5B-33.421690000000005%2C%20-70.61057%5D%2C%20%5B-33.41495%2C%20-70.58769000000001%5D%2C%20%5B-33.416%2C%20-70.60368000000001%5D%2C%20%5B-33.45087%2C%20-70.63531%5D%2C%20%5B-33.39542%2C%20-70.58855%5D%2C%20%5B-33.48516%2C%20-70.6016%5D%2C%20%5B-33.44381%2C%20-70.64685%5D%2C%20%5B-33.46103%2C%20-70.55162%5D%2C%20%5B-33.4447%2C%20-70.66819%5D%2C%20%5B-33.43557%2C%20-70.65646%5D%2C%20%5B-33.43977%2C%20-70.64144%5D%2C%20%5B-33.4399%2C%20-70.64643000000001%5D%2C%20%5B-33.4474%2C%20-70.57206%5D%2C%20%5B-33.41942%2C%20-70.61293%5D%2C%20%5B-33.41799%2C%20-70.61245%5D%2C%20%5B-33.415409999999994%2C%20-70.5865%5D%2C%20%5B-33.35426%2C%20-70.2483%5D%2C%20%5B-33.44634%2C%20-70.63289%5D%2C%20%5B-33.41921%2C%20-70.58287%5D%2C%20%5B-33.45425%2C%20-70.63212%5D%2C%20%5B-33.45296%2C%20-70.63435%5D%2C%20%5B-33.35491%2C%20-70.68041%5D%2C%20%5B-33.45193%2C%20-70.62625%5D%2C%20%5B-33.45344%2C%20-70.64338000000001%5D%2C%20%5B-33.45328%2C%20-70.60304000000001%5D%2C%20%5B-33.44278%2C%20-70.67174%5D%2C%20%5B-33.42605%2C%20-70.53996%5D%2C%20%5B-33.38847%2C%20-70.53846%5D%2C%20%5B-33.37324%2C%20-70.51703%5D%2C%20%5B-33.437290000000004%2C%20-70.61584%5D%2C%20%5B-33.43808%2C%20-70.61773000000001%5D%2C%20%5B-33.436370000000004%2C%20-70.61759%5D%2C%20%5B-33.43591%2C%20-70.61588%5D%2C%20%5B-33.435829999999996%2C%20-70.61725%5D%2C%20%5B-33.43743%2C%20-70.61717%5D%2C%20%5B-33.44958%2C%20-70.63167%5D%2C%20%5B-33.45401%2C%20-70.62250999999999%5D%2C%20%5B-33.50835%2C%20-70.59097%5D%2C%20%5B-33.4361%2C%20-70.61755%5D%2C%20%5B-33.436479999999996%2C%20-70.61575%5D%2C%20%5B-33.43642%2C%20-70.61715%5D%2C%20%5B-33.433640000000004%2C%20-70.64503%5D%2C%20%5B-33.361670000000004%2C%20-70.48292%5D%2C%20%5B-33.48823%2C%20-70.53218000000001%5D%2C%20%5B-33.426829999999995%2C%20-70.61542%5D%2C%20%5B-33.395509999999994%2C%20-70.5492%5D%2C%20%5B-33.43988%2C%20-70.62241999999999%5D%2C%20%5B-33.48315%2C%20-70.54656999999999%5D%2C%20%5B-33.44404%2C%20-70.63571%5D%2C%20%5B-33.48187%2C%20-70.54778%5D%2C%20%5B-33.430679999999995%2C%20-70.5653%5D%2C%20%5B-33.44883%2C%20-70.63582%5D%2C%20%5B-33.38346%2C%20-70.53705%5D%2C%20%5B-33.45949%2C%20-70.56574%5D%2C%20%5B-33.45321%2C%20-70.62331%5D%2C%20%5B-33.429829999999995%2C%20-70.64282%5D%2C%20%5B-33.44984%2C%20-70.5961%5D%2C%20%5B-33.44957%2C%20-70.63444%5D%2C%20%5B-33.56397%2C%20-70.78423000000001%5D%2C%20%5B-33.44648%2C%20-70.64769%5D%2C%20%5B-33.401509999999995%2C%20-70.57066999999999%5D%2C%20%5B-33.44355%2C%20-70.62505999999999%5D%2C%20%5B-33.42987%2C%20-70.72686999999999%5D%2C%20%5B-33.43502%2C%20-70.6557%5D%2C%20%5B-33.43588%2C%20-70.6543%5D%2C%20%5B-33.47522%2C%20-70.65187%5D%2C%20%5B-33.44154%2C%20-70.65811%5D%2C%20%5B-33.44852%2C%20-70.63552%5D%2C%20%5B-33.42275%2C%20-70.60994000000001%5D%2C%20%5B-33.446329999999996%2C%20-70.66579%5D%2C%20%5B-33.44028%2C%20-70.64103%5D%2C%20%5B-33.45687%2C%20-70.7574%5D%2C%20%5B-33.4546%2C%20-70.62222%5D%2C%20%5B-33.44357%2C%20-70.6471%5D%2C%20%5B-33.40186%2C%20-70.55765%5D%2C%20%5B-33.45061%2C%20-70.65581999999999%5D%2C%20%5B-33.44385%2C%20-70.63333%5D%2C%20%5B-33.415420000000005%2C%20-70.58983%5D%2C%20%5B-33.42328%2C%20-70.63991%5D%2C%20%5B-33.44724%2C%20-70.56269%5D%2C%20%5B-33.43905%2C%20-70.6403%5D%2C%20%5B-33.43314%2C%20-70.64638000000001%5D%2C%20%5B-33.42158%2C%20-70.65678%5D%2C%20%5B-33.535940000000004%2C%20-70.58739%5D%2C%20%5B-33.469229999999996%2C%20-70.57348%5D%2C%20%5B-33.399370000000005%2C%20-70.59943%5D%2C%20%5B-33.415009999999995%2C%20-70.55448%5D%2C%20%5B-33.40408%2C%20-70.58891%5D%2C%20%5B-33.45655%2C%20-70.73866%5D%2C%20%5B-33.355709999999995%2C%20-70.67055%5D%2C%20%5B-33.50998%2C%20-70.66379%5D%2C%20%5B-33.52295%2C%20-70.56448%5D%2C%20%5B-33.363620000000004%2C%20-70.71314%5D%2C%20%5B-33.55014%2C%20-70.5662%5D%2C%20%5B-33.45384%2C%20-70.60378%5D%2C%20%5B-33.43764%2C%20-70.64531%5D%2C%20%5B-33.52433%2C%20-70.5973%5D%2C%20%5B-33.45965%2C%20-70.53087%5D%2C%20%5B-33.41063%2C%20-70.57383%5D%2C%20%5B-33.40211%2C%20-70.55400999999999%5D%2C%20%5B-33.45563%2C%20-70.6089%5D%2C%20%5B-33.43748%2C%20-70.61719000000001%5D%2C%20%5B-33.43622%2C%20-70.61726999999999%5D%2C%20%5B-33.45435%2C%20-70.61233%5D%2C%20%5B-33.43714%2C%20-70.64824%5D%2C%20%5B-33.444%2C%20-70.59253000000001%5D%2C%20%5B-33.45237%2C%20-70.62531%5D%2C%20%5B-33.44409%2C%20-70.64288%5D%2C%20%5B-33.42693%2C%20-70.61223000000001%5D%2C%20%5B-33.44658%2C%20-70.61253%5D%2C%20%5B-33.45187%2C%20-70.61928%5D%2C%20%5B-33.455290000000005%2C%20-70.61288%5D%2C%20%5B-33.43475%2C%20-70.64809%5D%2C%20%5B-33.41486%2C%20-70.55795%5D%2C%20%5B-33.40518%2C%20-70.57389%5D%2C%20%5B-33.43965%2C%20-70.59534000000001%5D%2C%20%5B-33.44178%2C%20-70.67384%5D%2C%20%5B-33.417320000000004%2C%20-70.60237%5D%2C%20%5B-33.44699%2C%20-70.6142%5D%2C%20%5B-33.42352%2C%20-70.61169%5D%2C%20%5B-33.45393%2C%20-70.68358%5D%2C%20%5B-33.4067%2C%20-70.5578%5D%2C%20%5B-33.42558%2C%20-70.60339%5D%2C%20%5B-33.452459999999995%2C%20-70.6192%5D%2C%20%5B-33.44514%2C%20-70.63383%5D%2C%20%5B-33.35484%2C%20-70.24916%5D%2C%20%5B-33.44658%2C%20-70.67185%5D%2C%20%5B-33.42986%2C%20-70.57507%5D%2C%20%5B-33.43603%2C%20-70.65389%5D%2C%20%5B-33.43377%2C%20-70.65856%5D%2C%20%5B-33.42753%2C%20-70.60477%5D%2C%20%5B-33.436370000000004%2C%20-70.65371%5D%2C%20%5B-33.442009999999996%2C%20-70.61326%5D%2C%20%5B-33.44723%2C%20-70.58078%5D%2C%20%5B-33.45675%2C%20-70.61475%5D%2C%20%5B-33.39356%2C%20-70.59345%5D%2C%20%5B-33.450179999999996%2C%20-70.59535%5D%2C%20%5B-33.4443%2C%20-70.6425%5D%2C%20%5B-33.44862%2C%20-70.65624%5D%2C%20%5B-33.48122%2C%20-70.75668%5D%2C%20%5B-33.4889%2C%20-70.61979000000001%5D%2C%20%5B-33.51903%2C%20-70.58684000000001%5D%2C%20%5B-33.44258%2C%20-70.61294000000001%5D%2C%20%5B-33.46852%2C%20-70.66556%5D%2C%20%5B-33.44576%2C%20-70.63878000000001%5D%2C%20%5B-33.43875%2C%20-70.65504%5D%2C%20%5B-33.4436%2C%20-70.63756%5D%2C%20%5B-33.44314%2C%20-70.6118%5D%2C%20%5B-33.45175%2C%20-70.61532%5D%2C%20%5B-33.45067%2C%20-70.63489%5D%2C%20%5B-33.447590000000005%2C%20-70.63362%5D%2C%20%5B-33.45988%2C%20-70.65619000000001%5D%2C%20%5B-33.48349%2C%20-70.76231%5D%2C%20%5B-33.44328%2C%20-70.6605%5D%2C%20%5B-33.434%2C%20-70.59995%5D%2C%20%5B-33.43059%2C%20-70.59889%5D%2C%20%5B-33.43792%2C%20-70.65309%5D%2C%20%5B-33.43445%2C%20-70.65565%5D%2C%20%5B-33.43551%2C%20-70.65423%5D%2C%20%5B-33.405%2C%20-70.58488%5D%2C%20%5B-33.44952%2C%20-70.63951%5D%2C%20%5B-33.47787%2C%20-70.60008%5D%2C%20%5B-33.432182%2C%20-70.65844%5D%2C%20%5B-33.396209999999996%2C%20-70.54979%5D%2C%20%5B-33.46395%2C%20-70.63265%5D%2C%20%5B-33.44767%2C%20-70.64056%5D%2C%20%5B-33.44327%2C%20-70.64050999999999%5D%2C%20%5B-33.484840000000005%2C%20-70.65621%5D%2C%20%5B-33.42998%2C%20-70.57757%5D%2C%20%5B-33.43768%2C%20-70.60127%5D%2C%20%5B-33.451209999999996%2C%20-70.62544%5D%2C%20%5B-33.42593%2C%20-70.60958000000001%5D%2C%20%5B-33.425059999999995%2C%20-70.60806%5D%2C%20%5B-33.44794%2C%20-70.61543%5D%2C%20%5B-33.35503%2C%20-70.51184%5D%2C%20%5B-33.35035%2C%20-70.73725999999999%5D%2C%20%5B-33.44728%2C%20-70.59895999999999%5D%2C%20%5B-33.455859999999994%2C%20-70.61399999999999%5D%2C%20%5B-33.44818%2C%20-70.63753%5D%2C%20%5B-33.38904%2C%20-70.51852%5D%2C%20%5B-33.460029999999996%2C%20-70.60228000000001%5D%2C%20%5B-33.41178%2C%20-70.57509%5D%2C%20%5B-33.416920000000005%2C%20-70.56098%5D%2C%20%5B-33.43744%2C%20-70.64546999999999%5D%2C%20%5B-33.41517%2C%20-70.56268%5D%2C%20%5B-33.4475%2C%20-70.6432%5D%2C%20%5B-33.41503%2C%20-70.56101%5D%2C%20%5B-33.465379999999996%2C%20-70.54204%5D%2C%20%5B-33.53634%2C%20-70.57157%5D%2C%20%5B-33.425583%2C%20-70.603394%5D%2C%20%5B-33.42861%2C%20-70.62616%5D%2C%20%5B-33.453590000000005%2C%20-70.63125%5D%2C%20%5B-33.42672%2C%20-70.60383%5D%2C%20%5B-33.46208%2C%20-70.60493000000001%5D%2C%20%5B-33.43613%2C%20-70.64431%5D%2C%20%5B-33.43469%2C%20-70.6092%5D%2C%20%5B-33.4984%2C%20-70.65873%5D%2C%20%5B-33.413270000000004%2C%20-70.57948%5D%2C%20%5B-33.45159%2C%20-70.62588000000001%5D%2C%20%5B-33.448190000000004%2C%20-70.58139%5D%2C%20%5B-33.421859999999995%2C%20-70.53917%5D%2C%20%5B-33.43671%2C%20-70.64823%5D%2C%20%5B-33.42352%2C%20-70.59991%5D%2C%20%5B-33.42047%2C%20-70.66722%5D%2C%20%5B-33.45662%2C%20-70.60351%5D%2C%20%5B-33.44404%2C%20-70.64445%5D%2C%20%5B-33.45238%2C%20-70.62836%5D%2C%20%5B-33.38648%2C%20-70.55374%5D%2C%20%5B-33.45143%2C%20-70.64622%5D%2C%20%5B-33.438309999999994%2C%20-70.67926%5D%2C%20%5B-33.451409999999996%2C%20-70.64227%5D%2C%20%5B-33.42712%2C%20-70.56085999999999%5D%2C%20%5B-33.40832%2C%20-70.57061%5D%2C%20%5B-33.4557%2C%20-70.60874%5D%2C%20%5B-33.410579999999996%2C%20-70.54392%5D%2C%20%5B-33.51345%2C%20-70.5534%5D%2C%20%5B-33.50005%2C%20-70.61584%5D%2C%20%5B-33.46764%2C%20-70.63865%5D%2C%20%5B-33.41618%2C%20-70.58689%5D%2C%20%5B-33.50823%2C%20-70.65674%5D%2C%20%5B-33.450340000000004%2C%20-70.62514%5D%2C%20%5B-33.40446%2C%20-70.58601999999999%5D%2C%20%5B-33.459379999999996%2C%20-70.65332%5D%2C%20%5B-33.41499%2C%20-70.56307%5D%2C%20%5B-33.516%2C%20-70.60679%5D%2C%20%5B-33.44931%2C%20-70.58048000000001%5D%2C%20%5B-33.41511%2C%20-70.53482%5D%2C%20%5B-33.43721%2C%20-70.61868%5D%2C%20%5B-33.3658%2C%20-70.6702%5D%2C%20%5B-33.43388%2C%20-70.64446%5D%2C%20%5B-33.382870000000004%2C%20-70.53058%5D%2C%20%5B-33.404070000000004%2C%20-70.58502%5D%2C%20%5B-33.506840000000004%2C%20-70.65951%5D%2C%20%5B-33.43271%2C%20-70.67324%5D%2C%20%5B-33.41686%2C%20-70.71448000000001%5D%2C%20%5B-33.438559999999995%2C%20-70.64404%5D%2C%20%5B-33.437059999999995%2C%20-70.64098%5D%2C%20%5B-33.41588%2C%20-70.5613%5D%2C%20%5B-33.46078%2C%20-70.61514%5D%2C%20%5B-33.485490000000006%2C%20-70.61887%5D%2C%20%5B-33.4328%2C%20-70.6448%5D%2C%20%5B-33.44798%2C%20-70.64764%5D%2C%20%5B-33.43607%2C%20-70.62735%5D%2C%20%5B-33.433632%2C%20-70.616798%5D%2C%20%5B-33.446020000000004%2C%20-70.64063%5D%2C%20%5B-33.44927%2C%20-70.63244%5D%2C%20%5B-33.44276%2C%20-70.65703%5D%2C%20%5B-33.43501%2C%20-70.6433%5D%2C%20%5B-33.444759999999995%2C%20-70.63396%5D%2C%20%5B-33.44875%2C%20-70.64693%5D%2C%20%5B-33.42049%2C%20-70.64226%5D%2C%20%5B-33.456720000000004%2C%20-70.69089%5D%2C%20%5B-33.44135%2C%20-70.58958%5D%2C%20%5B-33.49706%2C%20-70.55663%5D%2C%20%5B-33.40883%2C%20-70.57684%5D%2C%20%5B-33.50996%2C%20-70.60133%5D%2C%20%5B-33.4118%2C%20-70.59985999999999%5D%2C%20%5B-33.4098%2C%20-70.56639%5D%2C%20%5B-33.36736%2C%20-70.50664%5D%2C%20%5B-33.43332%2C%20-70.65953%5D%2C%20%5B-33.45582%2C%20-70.66198%5D%2C%20%5B-33.457390000000004%2C%20-70.63968%5D%2C%20%5B-33.4443%2C%20-70.6434%5D%2C%20%5B-33.43672%2C%20-70.65558%5D%2C%20%5B-33.44921%2C%20-70.60193000000001%5D%2C%20%5B-33.46423%2C%20-70.63325%5D%2C%20%5B-33.41421%2C%20-70.58461%5D%2C%20%5B-33.42992%2C%20-70.61775%5D%2C%20%5B-33.45315%2C%20-70.69873%5D%2C%20%5B-33.435520000000004%2C%20-70.65824%5D%2C%20%5B-33.41935%2C%20-70.57606%5D%2C%20%5B-33.43704%2C%20-70.61707%5D%2C%20%5B-33.4386%2C%20-70.61754%5D%2C%20%5B-33.42419%2C%20-70.54783%5D%2C%20%5B-33.46991%2C%20-70.57803%5D%2C%20%5B-33.42494%2C%20-70.54633000000001%5D%2C%20%5B-33.425309999999996%2C%20-70.54607%5D%2C%20%5B-33.46513%2C%20-70.58722%5D%2C%20%5B-33.43504%2C%20-70.62758000000001%5D%2C%20%5B-33.50789%2C%20-70.65963%5D%2C%20%5B-33.46963%2C%20-70.64939%5D%2C%20%5B-33.51497%2C%20-70.6552%5D%2C%20%5B-33.43199%2C%20-70.60191999999999%5D%2C%20%5B-33.40743%2C%20-70.53298000000001%5D%2C%20%5B-33.40591%2C%20-70.53293000000001%5D%2C%20%5B-33.42736%2C%20-70.61904%5D%2C%20%5B-33.42491%2C%20-70.61721%5D%2C%20%5B-33.42753%2C%20-70.61655%5D%2C%20%5B-33.43699%2C%20-70.64578%5D%2C%20%5B-33.40473%2C%20-70.57135%5D%2C%20%5B-33.42183%2C%20-70.6101%5D%2C%20%5B-33.45597%2C%20-70.81985%5D%2C%20%5B-33.45579%2C%20-70.62248000000001%5D%2C%20%5B-33.43765%2C%20-70.65807%5D%2C%20%5B-33.45241%2C%20-70.6302%5D%2C%20%5B-33.437540000000006%2C%20-70.63051%5D%2C%20%5B-33.41693%2C%20-70.58086999999999%5D%2C%20%5B-33.42123%2C%20-70.61180999999999%5D%2C%20%5B-33.38243%2C%20-70.53341%5D%2C%20%5B-33.413509999999995%2C%20-70.58556999999999%5D%2C%20%5B-33.43308%2C%20-70.64836%5D%2C%20%5B-33.434459999999994%2C%20-70.64741%5D%2C%20%5B-33.42613%2C%20-70.60395%5D%2C%20%5B-33.4332%2C%20-70.64856999999999%5D%2C%20%5B-33.43572%2C%20-70.64444%5D%2C%20%5B-33.40118%2C%20-70.5393%5D%2C%20%5B-33.38365%2C%20-70.53043000000001%5D%2C%20%5B-33.382220000000004%2C%20-70.53064%5D%2C%20%5B-33.44011%2C%20-70.63444%5D%2C%20%5B-33.45668%2C%20-70.61625%5D%2C%20%5B-33.450959999999995%2C%20-70.64596999999999%5D%2C%20%5B-33.42767%2C%20-70.68355%5D%2C%20%5B-33.453179999999996%2C%20-70.646%5D%2C%20%5B-33.44695%2C%20-70.63559000000001%5D%2C%20%5B-33.44797%2C%20-70.65399000000001%5D%2C%20%5B-33.54351%2C%20-70.78213000000001%5D%2C%20%5B-33.45447%2C%20-70.58376%5D%2C%20%5B-33.441559999999996%2C%20-70.66454%5D%2C%20%5B-33.43858%2C%20-70.6202%5D%2C%20%5B-33.447390000000006%2C%20-70.64994%5D%2C%20%5B-33.46768%2C%20-70.63168%5D%2C%20%5B-33.406940000000006%2C%20-70.59655%5D%2C%20%5B-33.42671%2C%20-70.60884%5D%2C%20%5B-33.45381%2C%20-70.61108%5D%2C%20%5B-33.44117%2C%20-70.63265%5D%2C%20%5B-33.43962%2C%20-70.63353000000001%5D%2C%20%5B-33.44001%2C%20-70.63429000000001%5D%2C%20%5B-33.45286%2C%20-70.61303000000001%5D%2C%20%5B-33.42403%2C%20-70.61098%5D%2C%20%5B-33.43719%2C%20-70.65657%5D%2C%20%5B-33.48692%2C%20-70.74001%5D%2C%20%5B-33.47922%2C%20-70.54138%5D%2C%20%5B-33.41434%2C%20-70.60315%5D%2C%20%5B-33.45049%2C%20-70.64388000000001%5D%2C%20%5B-33.48968%2C%20-70.77077%5D%2C%20%5B-33.45151%2C%20-70.68045%5D%2C%20%5B-33.43392%2C%20-70.63345%5D%2C%20%5B-33.43371%2C%20-70.63393%5D%2C%20%5B-33.42977%2C%20-70.60598%5D%2C%20%5B-33.43403%2C%20-70.64353%5D%2C%20%5B-33.433659999999996%2C%20-70.64362%5D%2C%20%5B-33.43285%2C%20-70.64449%5D%2C%20%5B-33.43293%2C%20-70.64364%5D%2C%20%5B-33.432159999999996%2C%20-70.64331%5D%2C%20%5B-33.43355%2C%20-70.64334000000001%5D%2C%20%5B-33.4552%2C%20-70.57311%5D%2C%20%5B-33.42089%2C%20-70.53747%5D%2C%20%5B-33.55296%2C%20-70.57396%5D%2C%20%5B-33.454840000000004%2C%20-70.61054%5D%2C%20%5B-33.44634%2C%20-70.63022%5D%2C%20%5B-33.43355%2C%20-70.66026%5D%2C%20%5B-33.45796%2C%20-70.59083000000001%5D%2C%20%5B-33.50509%2C%20-70.65305%5D%2C%20%5B-33.44257%2C%20-70.64543%5D%2C%20%5B-33.4378%2C%20-70.58296999999999%5D%2C%20%5B-33.484609999999996%2C%20-70.59812%5D%2C%20%5B-33.434709999999995%2C%20-70.64594%5D%2C%20%5B-33.43458%2C%20-70.64444%5D%2C%20%5B-33.43974%2C%20-70.64177%5D%2C%20%5B-33.37053%2C%20-70.5063%5D%2C%20%5B-33.44655%2C%20-70.61435999999999%5D%2C%20%5B-33.39972%2C%20-70.57225%5D%2C%20%5B-33.42536%2C%20-70.61268000000001%5D%2C%20%5B-33.42398%2C%20-70.61049%5D%2C%20%5B-33.44608%2C%20-70.62850999999999%5D%2C%20%5B-33.39993%2C%20-70.57949%5D%2C%20%5B-33.435520000000004%2C%20-70.62543000000001%5D%2C%20%5B-33.44427%2C%20-70.66537%5D%2C%20%5B-33.426320000000004%2C%20-70.62014%5D%2C%20%5B-33.42604%2C%20-70.61995%5D%2C%20%5B-33.446509999999996%2C%20-70.63498%5D%2C%20%5B-33.44813%2C%20-70.63696%5D%2C%20%5B-33.4463%2C%20-70.63632%5D%2C%20%5B-33.439040000000006%2C%20-70.6479%5D%2C%20%5B-33.50493%2C%20-70.65335999999999%5D%2C%20%5B-33.44021%2C%20-70.63386%5D%2C%20%5B-33.429%2C%20-70.68800999999999%5D%2C%20%5B-33.44174%2C%20-70.63296%5D%2C%20%5B-33.4397%2C%20-70.63246%5D%2C%20%5B-33.48744%2C%20-70.61952%5D%2C%20%5B-33.44124%2C%20-70.63255%5D%2C%20%5B-33.456179999999996%2C%20-70.6678%5D%2C%20%5B-33.44854%2C%20-70.64748%5D%2C%20%5B-33.5036%2C%20-70.65556%5D%2C%20%5B-33.4355%2C%20-70.6323%5D%2C%20%5B-33.40614%2C%20-70.57699000000001%5D%2C%20%5B-33.45452%2C%20-70.65619000000001%5D%2C%20%5B-33.455220000000004%2C%20-70.7014%5D%2C%20%5B-33.44188%2C%20-70.61378%5D%2C%20%5B-33.44191%2C%20-70.6114%5D%2C%20%5B-33.3821%2C%20-70.53585%5D%2C%20%5B-33.46223%2C%20-70.60183%5D%2C%20%5B-33.45663%2C%20-70.69471%5D%2C%20%5B-33.452490000000004%2C%20-70.76616%5D%2C%20%5B-33.43105%2C%20-70.64336999999999%5D%2C%20%5B-33.42881%2C%20-70.6266%5D%2C%20%5B-33.42587%2C%20-70.61191%5D%2C%20%5B-33.42586%2C%20-70.61111%5D%2C%20%5B-33.441179999999996%2C%20-70.63449%5D%2C%20%5B-33.4143%2C%20-70.57905%5D%2C%20%5B-33.44113%2C%20-70.56652%5D%2C%20%5B-33.403909999999996%2C%20-70.56313%5D%2C%20%5B-33.4334%2C%20-70.64931999999999%5D%2C%20%5B-33.437540000000006%2C%20-70.65975999999999%5D%2C%20%5B-33.446259999999995%2C%20-70.65015%5D%2C%20%5B-33.439040000000006%2C%20-70.65828%5D%2C%20%5B-33.3813%2C%20-70.53699%5D%2C%20%5B-33.434129999999996%2C%20-70.62731%5D%2C%20%5B-33.432790000000004%2C%20-70.63599%5D%2C%20%5B-33.44668%2C%20-70.63606%5D%2C%20%5B-33.42048%2C%20-70.60315%5D%2C%20%5B-33.44239%2C%20-70.66336%5D%2C%20%5B-33.46228%2C%20-70.59832%5D%2C%20%5B-33.45422%2C%20-70.66319%5D%2C%20%5B-33.454409999999996%2C%20-70.66293%5D%2C%20%5B-33.407579999999996%2C%20-70.60171%5D%2C%20%5B-33.467209999999994%2C%20-70.60079%5D%2C%20%5B-33.43865%2C%20-70.65719%5D%2C%20%5B-33.459559999999996%2C%20-70.70392%5D%2C%20%5B-33.43081%2C%20-70.60070999999999%5D%2C%20%5B-33.4483%2C%20-70.62342%5D%2C%20%5B-33.445209999999996%2C%20-70.61903000000001%5D%2C%20%5B-33.424820000000004%2C%20-70.59735%5D%2C%20%5B-33.42662%2C%20-70.59759%5D%2C%20%5B-33.42688%2C%20-70.59795%5D%2C%20%5B-33.441109999999995%2C%20-70.64109%5D%2C%20%5B-33.38836%2C%20-70.56965%5D%2C%20%5B-33.44863%2C%20-70.64255%5D%2C%20%5B-33.53172%2C%20-70.67203%5D%2C%20%5B-33.53046%2C%20-70.58318%5D%2C%20%5B-33.424409999999995%2C%20-70.60942%5D%2C%20%5B-33.562909999999995%2C%20-70.77683%5D%2C%20%5B-33.44186%2C%20-70.66196%5D%2C%20%5B-33.45582%2C%20-70.57460999999999%5D%2C%20%5B-33.43541%2C%20-70.6735%5D%2C%20%5B-33.440329999999996%2C%20-70.64618%5D%2C%20%5B-33.45567%2C%20-70.61125%5D%2C%20%5B-33.44887%2C%20-70.6546%5D%2C%20%5B-33.44007%2C%20-70.66278%5D%2C%20%5B-33.4395%2C%20-70.66431%5D%2C%20%5B-33.38297%2C%20-70.5353%5D%2C%20%5B-33.43918%2C%20-70.64701%5D%2C%20%5B-33.4497%2C%20-70.60396999999999%5D%2C%20%5B-33.40348%2C%20-70.59378000000001%5D%2C%20%5B-33.3833%2C%20-70.53344%5D%2C%20%5B-33.45217%2C%20-70.60392%5D%2C%20%5B-33.43743%2C%20-70.60262%5D%2C%20%5B-33.42644%2C%20-70.61684%5D%2C%20%5B-33.45908%2C%20-70.59691%5D%2C%20%5B-33.431934000000005%2C%20-70.62416800000001%5D%2C%20%5B-33.38392%2C%20-70.53134%5D%2C%20%5B-33.415890000000005%2C%20-70.61639%5D%2C%20%5B-33.44865%2C%20-70.63002%5D%2C%20%5B-33.44879%2C%20-70.63942%5D%2C%20%5B-33.441990000000004%2C%20-70.72704%5D%2C%20%5B-33.429629999999996%2C%20-70.63062%5D%2C%20%5B-33.43067%2C%20-70.63093%5D%2C%20%5B-33.44907%2C%20-70.60521999999999%5D%2C%20%5B-33.446909999999995%2C%20-70.55024%5D%2C%20%5B-33.43953%2C%20-70.57075999999999%5D%2C%20%5B-33.43135%2C%20-70.62510999999999%5D%2C%20%5B-33.44319%2C%20-70.66004000000001%5D%2C%20%5B-33.36613%2C%20-70.53226%5D%2C%20%5B-33.36488%2C%20-70.53186%5D%2C%20%5B-33.54985%2C%20-70.59401%5D%2C%20%5B-33.407109999999996%2C%20-70.54523%5D%2C%20%5B-33.43588%2C%20-70.65333000000001%5D%2C%20%5B-33.434259999999995%2C%20-70.64081%5D%2C%20%5B-33.49516%2C%20-70.71988%5D%2C%20%5B-33.42696%2C%20-70.61988000000001%5D%2C%20%5B-33.43949%2C%20-70.64585%5D%2C%20%5B-33.45135%2C%20-70.66462%5D%2C%20%5B-33.45915%2C%20-70.57714%5D%2C%20%5B-33.43698%2C%20-70.65335%5D%2C%20%5B-33.36742%2C%20-70.49667%5D%2C%20%5B-33.439890000000005%2C%20-70.64525%5D%2C%20%5B-33.41563%2C%20-70.60372%5D%2C%20%5B-33.44075%2C%20-70.64424%5D%2C%20%5B-33.43103%2C%20-70.63764%5D%2C%20%5B-33.43988%2C%20-70.64421999999999%5D%2C%20%5B-33.43939%2C%20-70.64525%5D%2C%20%5B-33.440259999999995%2C%20-70.64424%5D%2C%20%5B-33.43886%2C%20-70.66758%5D%2C%20%5B-33.45597%2C%20-70.65984%5D%2C%20%5B-33.400420000000004%2C%20-70.57287%5D%2C%20%5B-33.429%2C%20-70.6704%5D%2C%20%5B-33.45339%2C%20-70.66353000000001%5D%2C%20%5B-33.44%2C%20-70.6563%5D%2C%20%5B-33.45541%2C%20-70.75616%5D%2C%20%5B-33.40743%2C%20-70.54174%5D%2C%20%5B-33.42572%2C%20-70.59603%5D%2C%20%5B-33.4594%2C%20-70.63880999999999%5D%2C%20%5B-33.46796%2C%20-70.62725%5D%2C%20%5B-33.44719%2C%20-70.61245%5D%2C%20%5B-33.40051%2C%20-70.73951%5D%2C%20%5B-33.45662%2C%20-70.59187%5D%2C%20%5B-33.45615%2C%20-70.65964%5D%2C%20%5B-33.41556%2C%20-70.61174%5D%2C%20%5B-33.44856%2C%20-70.64647%5D%2C%20%5B-33.43323%2C%20-70.65973000000001%5D%2C%20%5B-33.39825%2C%20-70.58136999999999%5D%2C%20%5B-33.43022%2C%20-70.67175%5D%2C%20%5B-33.43914%2C%20-70.65822%5D%2C%20%5B-33.44403%2C%20-70.64886%5D%2C%20%5B-33.451190000000004%2C%20-70.61084%5D%2C%20%5B-33.35987%2C%20-70.2497%5D%2C%20%5B-33.453509999999994%2C%20-70.69935%5D%2C%20%5B-33.42825%2C%20-70.67074000000001%5D%2C%20%5B-33.4522%2C%20-70.59227%5D%2C%20%5B-33.45013%2C%20-70.65415%5D%2C%20%5B-33.45332%2C%20-70.57006%5D%2C%20%5B-33.45561%2C%20-70.57028000000001%5D%2C%20%5B-33.43268%2C%20-70.63613000000001%5D%2C%20%5B-33.443870000000004%2C%20-70.60141999999999%5D%2C%20%5B-33.4524%2C%20-70.74425%5D%2C%20%5B-33.45453%2C%20-70.70036%5D%2C%20%5B-33.45617%2C%20-70.56453%5D%2C%20%5B-33.394459999999995%2C%20-70.58058%5D%2C%20%5B-33.4264%2C%20-70.6196%5D%2C%20%5B-33.43352%2C%20-70.6577%5D%2C%20%5B-33.45092%2C%20-70.56943000000001%5D%2C%20%5B-33.41248%2C%20-70.57885%5D%2C%20%5B-33.4916%2C%20-70.53379%5D%2C%20%5B-33.41854%2C%20-70.6048%5D%2C%20%5B-33.39848%2C%20-70.5575%5D%2C%20%5B-33.41918%2C%20-70.56067%5D%2C%20%5B-33.45395%2C%20-70.62259%5D%2C%20%5B-33.459759999999996%2C%20-70.59387%5D%2C%20%5B-33.50448%2C%20-70.65911%5D%2C%20%5B-33.4595%2C%20-70.59581%5D%2C%20%5B-33.3624%2C%20-70.4897%5D%2C%20%5B-33.428290000000004%2C%20-70.60274%5D%2C%20%5B-33.42928%2C%20-70.59680999999999%5D%2C%20%5B-33.40338%2C%20-70.59151999999999%5D%2C%20%5B-33.382909999999995%2C%20-70.53276%5D%2C%20%5B-33.40548%2C%20-70.57664%5D%2C%20%5B-33.45329%2C%20-70.63136999999999%5D%2C%20%5B-33.39297%2C%20-70.55144%5D%2C%20%5B-33.42667%2C%20-70.61731999999999%5D%2C%20%5B-33.42713%2C%20-70.53834%5D%2C%20%5B-33.43555%2C%20-70.61934000000001%5D%2C%20%5B-33.43838%2C%20-70.66093000000001%5D%2C%20%5B-33.52796%2C%20-70.69366%5D%2C%20%5B-33.426520000000004%2C%20-70.61658%5D%2C%20%5B-33.424915000000006%2C%20-70.615974%5D%2C%20%5B-33.43865%2C%20-70.64551%5D%2C%20%5B-33.438559999999995%2C%20-70.64416999999999%5D%2C%20%5B-33.44719%2C%20-70.61245%5D%2C%20%5B-33.43201%2C%20-70.60389%5D%2C%20%5B-33.39954%2C%20-70.58303000000001%5D%2C%20%5B-33.42991%2C%20-70.59563%5D%2C%20%5B-33.43781%2C%20-70.65749%5D%2C%20%5B-33.44397%2C%20-70.61988000000001%5D%2C%20%5B-33.44426%2C%20-70.64163%5D%2C%20%5B-33.42931%2C%20-70.54944%5D%2C%20%5B-33.4469%2C%20-70.63759%5D%2C%20%5B-33.455020000000005%2C%20-70.66303%5D%2C%20%5B-33.4697%2C%20-70.62595999999999%5D%2C%20%5B-33.44576%2C%20-70.57175%5D%2C%20%5B-33.44146%2C%20-70.63933%5D%2C%20%5B-33.414770000000004%2C%20-70.57964%5D%2C%20%5B-33.39955%2C%20-70.57151%5D%2C%20%5B-33.40916%2C%20-70.57129%5D%2C%20%5B-33.42884%2C%20-70.64135999999999%5D%2C%20%5B-33.44787%2C%20-70.66468%5D%2C%20%5B-33.450309999999995%2C%20-70.59496%5D%2C%20%5B-33.4477%2C%20-70.63413%5D%2C%20%5B-33.44655%2C%20-70.6613%5D%2C%20%5B-33.43561%2C%20-70.64599%5D%2C%20%5B-33.43718%2C%20-70.64565%5D%2C%20%5B-33.43773%2C%20-70.65902%5D%2C%20%5B-33.43265%2C%20-70.75763%5D%2C%20%5B-33.38575%2C%20-70.5691%5D%2C%20%5B-33.43436%2C%20-70.66439%5D%2C%20%5B-33.447559999999996%2C%20-70.64617%5D%2C%20%5B-33.43589%2C%20-70.62651%5D%2C%20%5B-33.56098%2C%20-70.58946999999999%5D%2C%20%5B-33.43946%2C%20-70.68941%5D%2C%20%5B-33.4322%2C%20-70.63807%5D%2C%20%5B-33.433370000000004%2C%20-70.65997%5D%2C%20%5B-33.43185%2C%20-70.63651%5D%2C%20%5B-33.45283%2C%20-70.65590999999999%5D%2C%20%5B-33.436479999999996%2C%20-70.66666%5D%2C%20%5B-33.41041%2C%20-70.57211%5D%2C%20%5B-33.42577%2C%20-70.61813000000001%5D%2C%20%5B-33.463894%2C%20-70.657288%5D%2C%20%5B-33.438790000000004%2C%20-70.64421999999999%5D%2C%20%5B-33.44899%2C%20-70.59359%5D%2C%20%5B-33.45689%2C%20-70.66141%5D%2C%20%5B-33.41429%2C%20-70.5092%5D%2C%20%5B-33.48245%2C%20-70.6466%5D%2C%20%5B-33.45531%2C%20-70.65977%5D%2C%20%5B-33.44604%2C%20-70.64437%5D%2C%20%5B-33.40701%2C%20-70.55763%5D%2C%20%5B-33.4483%2C%20-70.66816999999999%5D%2C%20%5B-33.41995%2C%20-70.61008000000001%5D%2C%20%5B-33.436690000000006%2C%20-70.64681999999999%5D%2C%20%5B-33.430820000000004%2C%20-70.60826999999999%5D%2C%20%5B-33.542809999999996%2C%20-70.79094%5D%2C%20%5B-33.43312%2C%20-70.76321%5D%2C%20%5B-33.441320000000005%2C%20-70.67343000000001%5D%2C%20%5B-33.45877%2C%20-70.5549%5D%2C%20%5B-33.43325%2C%20-70.63634%5D%2C%20%5B-33.43331%2C%20-70.63778%5D%2C%20%5B-33.43286%2C%20-70.63804%5D%2C%20%5B-33.431999999999995%2C%20-70.63776999999999%5D%2C%20%5B-33.48168%2C%20-70.67139%5D%2C%20%5B-33.44032%2C%20-70.63139%5D%2C%20%5B-33.44802%2C%20-70.59801%5D%2C%20%5B-33.45548%2C%20-70.68901%5D%2C%20%5B-33.44021%2C%20-70.67374000000001%5D%2C%20%5B-33.4415%2C%20-70.6006%5D%2C%20%5B-33.44791%2C%20-70.64631999999999%5D%2C%20%5B-33.43872%2C%20-70.58%5D%2C%20%5B-33.438190000000006%2C%20-70.64559%5D%2C%20%5B-33.45324%2C%20-70.57745%5D%2C%20%5B-33.4418%2C%20-70.67204%5D%2C%20%5B-33.46307%2C%20-70.64159000000001%5D%2C%20%5B-33.44076%2C%20-70.67286%5D%2C%20%5B-33.45493%2C%20-70.70159%5D%2C%20%5B-33.51277%2C%20-70.59127%5D%2C%20%5B-33.4444%2C%20-70.63944000000001%5D%2C%20%5B-33.41093%2C%20-70.59862%5D%2C%20%5B-33.435759999999995%2C%20-70.66736%5D%2C%20%5B-33.43138%2C%20-70.63835%5D%2C%20%5B-33.39355%2C%20-70.54453000000001%5D%2C%20%5B-33.37185%2C%20-70.68213%5D%2C%20%5B-33.4434%2C%20-70.66256%5D%2C%20%5B-33.39813%2C%20-70.58125%5D%2C%20%5B-33.427440000000004%2C%20-70.61525999999999%5D%2C%20%5B-33.44762%2C%20-70.60262%5D%2C%20%5B-33.420970000000004%2C%20-70.61445%5D%2C%20%5B-33.449670000000005%2C%20-70.65697%5D%2C%20%5B-33.44786%2C%20-70.65675999999999%5D%2C%20%5B-33.419259999999994%2C%20-70.6164%5D%2C%20%5B-33.4474%2C%20-70.65539%5D%2C%20%5B-33.45647%2C%20-70.57433%5D%2C%20%5B-33.44795%2C%20-70.67201999999999%5D%2C%20%5B-33.428787%2C%20-70.618713%5D%2C%20%5B-33.41451%2C%20-70.5865%5D%2C%20%5B-33.42723%2C%20-70.67409%5D%2C%20%5B-33.39263%2C%20-70.55573000000001%5D%2C%20%5B-33.43365%2C%20-70.64294%5D%2C%20%5B-33.43345%2C%20-70.64093000000001%5D%2C%20%5B-33.431309999999996%2C%20-70.64113%5D%2C%20%5B-33.43176%2C%20-70.64268%5D%2C%20%5B-33.43189%2C%20-70.64149%5D%2C%20%5B-33.43285%2C%20-70.6416%5D%2C%20%5B-33.43345%2C%20-70.64296999999999%5D%2C%20%5B-33.41271%2C%20-70.57934%5D%2C%20%5B-33.438320000000004%2C%20-70.55246%5D%2C%20%5B-33.42403%2C%20-70.58363%5D%2C%20%5B-33.42135%2C%20-70.64021%5D%2C%20%5B-33.45398%2C%20-70.59694%5D%2C%20%5B-33.42539%2C%20-70.58224%5D%2C%20%5B-33.42986%2C%20-70.62031999999999%5D%2C%20%5B-33.42492%2C%20-70.61596999999999%5D%2C%20%5B-33.4368%2C%20-70.64419000000001%5D%2C%20%5B-33.43708%2C%20-70.64511999999999%5D%2C%20%5B-33.45443%2C%20-70.60183%5D%2C%20%5B-33.39862%2C%20-70.57078%5D%2C%20%5B-33.44222%2C%20-70.64993%5D%2C%20%5B-33.453829999999996%2C%20-70.62966999999999%5D%2C%20%5B-33.4375%2C%20-70.64388000000001%5D%2C%20%5B-33.3936%2C%20-70.54338%5D%2C%20%5B-33.41493%2C%20-70.60173%5D%2C%20%5B-33.46012%2C%20-70.59541%5D%2C%20%5B-33.43104%2C%20-70.60339%5D%2C%20%5B-33.4575%2C%20-70.69151%5D%2C%20%5B-33.43672%2C%20-70.65644%5D%2C%20%5B-33.43235%2C%20-70.57329%5D%2C%20%5B-33.4359%2C%20-70.64574%5D%2C%20%5B-33.43508%2C%20-70.65961999999999%5D%2C%20%5B-33.43862%2C%20-70.64097%5D%2C%20%5B-33.43765%2C%20-70.64321%5D%2C%20%5B-33.42419%2C%20-70.60025%5D%2C%20%5B-33.43916%2C%20-70.64174%5D%2C%20%5B-33.439809999999994%2C%20-70.64173000000001%5D%2C%20%5B-33.42603%2C%20-70.61898000000001%5D%2C%20%5B-33.466229999999996%2C%20-70.62169%5D%2C%20%5B-33.434290000000004%2C%20-70.6463%5D%2C%20%5B-33.43517%2C%20-70.62924%5D%2C%20%5B-33.43493%2C%20-70.64676%5D%2C%20%5B-33.436%2C%20-70.64487%5D%2C%20%5B-33.449909999999996%2C%20-70.65029%5D%2C%20%5B-33.47806%2C%20-70.62357%5D%2C%20%5B-33.48084%2C%20-70.53894%5D%2C%20%5B-33.406240000000004%2C%20-70.56965%5D%2C%20%5B-33.439679999999996%2C%20-70.64254%5D%2C%20%5B-33.54425%2C%20-70.58353000000001%5D%2C%20%5B-33.43745%2C%20-70.65618%5D%2C%20%5B-33.43752%2C%20-70.63861999999999%5D%2C%20%5B-33.427279999999996%2C%20-70.62074%5D%2C%20%5B-33.45259%2C%20-70.65267%5D%2C%20%5B-33.43161%2C%20-70.59369000000001%5D%2C%20%5B-33.41453%2C%20-70.60038%5D%2C%20%5B-33.37205%2C%20-70.51059000000001%5D%2C%20%5B-33.45025%2C%20-70.65126%5D%2C%20%5B-33.426629999999996%2C%20-70.60936%5D%2C%20%5B-33.43642%2C%20-70.60348%5D%2C%20%5B-33.50421%2C%20-70.77866999999999%5D%2C%20%5B-33.43385%2C%20-70.65436%5D%2C%20%5B-33.45292%2C%20-70.64797%5D%2C%20%5B-33.43407%2C%20-70.60624%5D%2C%20%5B-33.43939%2C%20-70.6521%5D%2C%20%5B-33.437259999999995%2C%20-70.65625%5D%2C%20%5B-33.436370000000004%2C%20-70.64435999999999%5D%2C%20%5B-33.43493%2C%20-70.64599%5D%2C%20%5B-33.43613%2C%20-70.64539%5D%2C%20%5B-33.50825%2C%20-70.64394%5D%2C%20%5B-33.44764%2C%20-70.63753%5D%2C%20%5B-33.44292%2C%20-70.63202%5D%2C%20%5B-33.416090000000004%2C%20-70.56824%5D%2C%20%5B-33.44747%2C%20-70.6333%5D%2C%20%5B-33.465340000000005%2C%20-70.62354%5D%2C%20%5B-33.43607%2C%20-70.62965%5D%2C%20%5B-33.45432%2C%20-70.62134%5D%2C%20%5B-33.45453%2C%20-70.68928000000001%5D%2C%20%5B-33.423559999999995%2C%20-70.61010999999999%5D%2C%20%5B-33.44451%2C%20-70.70196999999999%5D%2C%20%5B-33.425059999999995%2C%20-70.61421999999999%5D%2C%20%5B-33.42176%2C%20-70.60813%5D%2C%20%5B-33.45343%2C%20-70.61218000000001%5D%2C%20%5B-33.48695%2C%20-70.74807%5D%2C%20%5B-33.43766%2C%20-70.60777%5D%2C%20%5B-33.41648%2C%20-70.61391%5D%2C%20%5B-33.44813%2C%20-70.66996999999999%5D%2C%20%5B-33.425709999999995%2C%20-70.60382%5D%2C%20%5B-33.4108%2C%20-70.6014%5D%2C%20%5B-33.43393%2C%20-70.63784%5D%2C%20%5B-33.45643%2C%20-70.68939%5D%2C%20%5B-33.44307%2C%20-70.5753%5D%2C%20%5B-33.45642%2C%20-70.69041999999999%5D%2C%20%5B-33.36506%2C%20-70.72899%5D%2C%20%5B-33.45588%2C%20-70.5899%5D%2C%20%5B-33.47149%2C%20-70.64856%5D%2C%20%5B-33.5113%2C%20-70.61039%5D%2C%20%5B-33.42934%2C%20-70.61871%5D%2C%20%5B-33.43166%2C%20-70.57903%5D%2C%20%5B-33.45578%2C%20-70.66726%5D%2C%20%5B-33.46069%2C%20-70.60287%5D%2C%20%5B-33.49042%2C%20-70.75395%5D%2C%20%5B-33.43315%2C%20-70.65775%5D%2C%20%5B-33.426390000000005%2C%20-70.65156999999999%5D%2C%20%5B-33.43935%2C%20-70.65831%5D%2C%20%5B-33.436609999999995%2C%20-70.65374%5D%2C%20%5B-33.43264%2C%20-70.63195999999999%5D%2C%20%5B-33.43703%2C%20-70.64414000000001%5D%2C%20%5B-33.38626%2C%20-70.54084%5D%2C%20%5B-33.45004%2C%20-70.64282%5D%2C%20%5B-33.45496%2C%20-70.70045%5D%2C%20%5B-33.44362%2C%20-70.63468%5D%2C%20%5B-33.42549%2C%20-70.61198%5D%2C%20%5B-33.429684%2C%20-70.642052%5D%2C%20%5B-33.41817%2C%20-70.66105%5D%2C%20%5B-33.47872%2C%20-70.64389%5D%2C%20%5B-33.4443%2C%20-70.66417%5D%2C%20%5B-33.45268%2C%20-70.5942%5D%2C%20%5B-33.45009%2C%20-70.64045%5D%2C%20%5B-33.45463%2C%20-70.70651%5D%2C%20%5B-33.43688%2C%20-70.64409%5D%2C%20%5B-33.43826%2C%20-70.64341999999999%5D%2C%20%5B-33.45602%2C%20-70.68942%5D%2C%20%5B-33.464220000000005%2C%20-70.62368000000001%5D%2C%20%5B-33.39484%2C%20-70.55308000000001%5D%2C%20%5B-33.464009999999995%2C%20-70.60175%5D%2C%20%5B-33.48611%2C%20-70.75009%5D%2C%20%5B-33.42582%2C%20-70.58819%5D%2C%20%5B-33.437940000000005%2C%20-70.61749%5D%2C%20%5B-33.44558%2C%20-70.68879%5D%2C%20%5B-33.3732%2C%20-70.52614%5D%2C%20%5B-33.5068%2C%20-70.66109%5D%2C%20%5B-33.45321%2C%20-70.77099%5D%2C%20%5B-33.49507%2C%20-70.65595%5D%2C%20%5B-33.43835%2C%20-70.60117%5D%2C%20%5B-33.455940000000005%2C%20-70.65804%5D%2C%20%5B-33.4618%2C%20-70.65151999999999%5D%2C%20%5B-33.41285%2C%20-70.60023000000001%5D%2C%20%5B-33.41493%2C%20-70.54074%5D%2C%20%5B-33.52219%2C%20-70.66336%5D%2C%20%5B-33.513040000000004%2C%20-70.53626%5D%2C%20%5B-33.45248%2C%20-70.62885%5D%2C%20%5B-33.459559999999996%2C%20-70.63064%5D%2C%20%5B-33.484%2C%20-70.59398%5D%2C%20%5B-33.441959999999995%2C%20-70.63493000000001%5D%2C%20%5B-33.43906%2C%20-70.65093%5D%2C%20%5B-33.450179999999996%2C%20-70.61466999999999%5D%2C%20%5B-33.51259%2C%20-70.66783000000001%5D%2C%20%5B-33.456520000000005%2C%20-70.66156%5D%2C%20%5B-33.42713%2C%20-70.57038%5D%2C%20%5B-33.45649%2C%20-70.66026%5D%2C%20%5B-33.44645%2C%20-70.60484%5D%2C%20%5B-33.4475%2C%20-70.6505%5D%2C%20%5B-33.45045%2C%20-70.67126999999999%5D%2C%20%5B-33.3448%2C%20-70.4769%5D%2C%20%5B-33.479459999999996%2C%20-70.64647%5D%2C%20%5B-33.441320000000005%2C%20-70.67468000000001%5D%2C%20%5B-33.39116%2C%20-70.63738000000001%5D%2C%20%5B-33.45621%2C%20-70.66145999999999%5D%2C%20%5B-33.434309999999996%2C%20-70.58644%5D%2C%20%5B-33.43408%2C%20-70.64313%5D%2C%20%5B-33.43452%2C%20-70.64385%5D%2C%20%5B-33.44375%2C%20-70.61998%5D%2C%20%5B-33.34776%2C%20-70.51094%5D%2C%20%5B-33.51916%2C%20-70.5396%5D%2C%20%5B-33.48183%2C%20-70.55875999999999%5D%2C%20%5B-33.51279%2C%20-70.59005%5D%2C%20%5B-33.43764%2C%20-70.52156%5D%2C%20%5B-33.45105%2C%20-70.64560999999999%5D%2C%20%5B-33.44361%2C%20-70.63974%5D%2C%20%5B-33.455420000000004%2C%20-70.61954%5D%2C%20%5B-33.41128%2C%20-70.56883%5D%2C%20%5B-33.46197%2C%20-70.62249%5D%2C%20%5B-33.49051%2C%20-70.61591999999999%5D%2C%20%5B-33.41648%2C%20-70.58605%5D%2C%20%5B-33.439370000000004%2C%20-70.66295%5D%2C%20%5B-33.51442%2C%20-70.59325%5D%2C%20%5B-33.44535%2C%20-70.63951%5D%2C%20%5B-33.416940000000004%2C%20-70.56948%5D%2C%20%5B-33.43826%2C%20-70.65852%5D%2C%20%5B-33.43241%2C%20-70.62009%5D%2C%20%5B-33.45478%2C%20-70.63023000000001%5D%2C%20%5B-33.4352%2C%20-70.64480999999999%5D%2C%20%5B-33.4368%2C%20-70.65866%5D%2C%20%5B-33.43875%2C%20-70.65223%5D%2C%20%5B-33.43342%2C%20-70.65992%5D%2C%20%5B-33.45035%2C%20-70.57939%5D%2C%20%5B-33.457570000000004%2C%20-70.55409%5D%2C%20%5B-33.415009999999995%2C%20-70.59014%5D%2C%20%5B-33.40984%2C%20-70.66467%5D%2C%20%5B-33.45792%2C%20-70.70464%5D%2C%20%5B-33.452490000000004%2C%20-70.61116%5D%2C%20%5B-33.41101%2C%20-70.54342%5D%2C%20%5B-33.43566%2C%20-70.66413%5D%2C%20%5B-33.4383%2C%20-70.65015%5D%2C%20%5B-33.45095%2C%20-70.62538%5D%2C%20%5B-33.42734%2C%20-70.59062%5D%2C%20%5B-33.45256%2C%20-70.61084%5D%2C%20%5B-33.457029999999996%2C%20-70.58851999999999%5D%2C%20%5B-33.47095%2C%20-70.62774%5D%2C%20%5B-33.45649%2C%20-70.68785%5D%2C%20%5B-33.53014%2C%20-70.54312%5D%2C%20%5B-33.45606%2C%20-70.62453000000001%5D%2C%20%5B-33.41897%2C%20-70.61654%5D%2C%20%5B-33.45037%2C%20-70.65401%5D%2C%20%5B-33.425309999999996%2C%20-70.61223000000001%5D%2C%20%5B-33.41389%2C%20-70.54077%5D%2C%20%5B-33.4346%2C%20-70.60538000000001%5D%2C%20%5B-33.44939%2C%20-70.64911%5D%2C%20%5B-33.40141%2C%20-70.58135%5D%2C%20%5B-33.447959999999995%2C%20-70.65341%5D%2C%20%5B-33.458729999999996%2C%20-70.70025%5D%2C%20%5B-33.44332%2C%20-70.64925%5D%2C%20%5B-33.43688%2C%20-70.67898000000001%5D%2C%20%5B-33.41968%2C%20-70.65762%5D%2C%20%5B-33.502790000000005%2C%20-70.59709000000001%5D%2C%20%5B-33.429559999999995%2C%20-70.61957%5D%2C%20%5B-33.43463%2C%20-70.62835%5D%2C%20%5B-33.550959999999996%2C%20-70.57464%5D%2C%20%5B-33.4917%2C%20-70.61383000000001%5D%2C%20%5B-33.41619%2C%20-70.5468%5D%2C%20%5B-33.50152%2C%20-70.59602%5D%2C%20%5B-33.44293%2C%20-70.65994%5D%2C%20%5B-33.44617%2C%20-70.59144%5D%2C%20%5B-33.42573%2C%20-70.6059%5D%2C%20%5B-33.43625%2C%20-70.65601%5D%2C%20%5B-33.456720000000004%2C%20-70.57876999999999%5D%2C%20%5B-33.424240000000005%2C%20-70.61256999999999%5D%2C%20%5B-33.41277%2C%20-70.58256999999999%5D%2C%20%5B-33.44959%2C%20-70.65359000000001%5D%2C%20%5B-33.451370000000004%2C%20-70.64399%5D%2C%20%5B-33.35226%2C%20-70.23402%5D%2C%20%5B-33.49603%2C%20-70.73721%5D%2C%20%5B-33.44684%2C%20-70.64584%5D%2C%20%5B-33.404070000000004%2C%20-70.5877%5D%2C%20%5B-33.55533%2C%20-70.58118%5D%2C%20%5B-33.54045%2C%20-70.57296%5D%2C%20%5B-33.35671%2C%20-70.25223000000001%5D%2C%20%5B-33.45759%2C%20-70.59206999999999%5D%2C%20%5B-33.42818%2C%20-70.61847%5D%2C%20%5B-33.52733%2C%20-70.59501%5D%2C%20%5B-33.43975%2C%20-70.65705%5D%2C%20%5B-33.45425%2C%20-70.70151%5D%2C%20%5B-33.484429999999996%2C%20-70.58211999999999%5D%2C%20%5B-33.42183%2C%20-70.6102%5D%2C%20%5B-33.44401%2C%20-70.73425999999999%5D%2C%20%5B-33.41506%2C%20-70.58766999999999%5D%2C%20%5B-33.48612%2C%20-70.73519%5D%2C%20%5B-33.42738%2C%20-70.55036%5D%2C%20%5B-33.481%2C%20-70.62369%5D%2C%20%5B-33.34952%2C%20-70.29342%5D%2C%20%5B-33.44576%2C%20-70.67%5D%2C%20%5B-33.43851%2C%20-70.64542%5D%2C%20%5B-33.358470000000004%2C%20-70.66763%5D%2C%20%5B-33.43701%2C%20-70.64489%5D%2C%20%5B-33.45073%2C%20-70.676%5D%2C%20%5B-33.4116%2C%20-70.60597%5D%2C%20%5B-33.44907%2C%20-70.6541%5D%2C%20%5B-33.4334%2C%20-70.65008%5D%2C%20%5B-33.44639%2C%20-70.65205%5D%2C%20%5B-33.4936%2C%20-70.65637%5D%2C%20%5B-33.522040000000004%2C%20-70.66353000000001%5D%2C%20%5B-33.44715%2C%20-70.65451%5D%2C%20%5B-33.37107%2C%20-70.46469%5D%2C%20%5B-33.43926%2C%20-70.65836%5D%2C%20%5B-33.43757%2C%20-70.6436%5D%2C%20%5B-33.43867%2C%20-70.64443%5D%2C%20%5B-33.456540000000004%2C%20-70.64276%5D%2C%20%5B-33.38319%2C%20-70.53168000000001%5D%2C%20%5B-33.43697%2C%20-70.6442%5D%2C%20%5B-33.3445%2C%20-70.24978%5D%2C%20%5B-33.34452%2C%20-70.24987%5D%2C%20%5B-33.34561%2C%20-70.24833000000001%5D%2C%20%5B-33.43881%2C%20-70.64378%5D%2C%20%5B-33.39842%2C%20-70.57429%5D%2C%20%5B-33.4099%2C%20-70.5975%5D%2C%20%5B-33.459959999999995%2C%20-70.70366%5D%2C%20%5B-33.44838%2C%20-70.64458%5D%2C%20%5B-33.48175%2C%20-70.62285%5D%2C%20%5B-33.43844%2C%20-70.64452%5D%2C%20%5B-33.43768%2C%20-70.64376999999999%5D%2C%20%5B-33.447759999999995%2C%20-70.67016%5D%2C%20%5B-33.43453%2C%20-70.65563%5D%2C%20%5B-33.43777%2C%20-70.64949%5D%2C%20%5B-33.41751%2C%20-70.58995999999999%5D%2C%20%5B-33.4475%2C%20-70.6432%5D%2C%20%5B-33.45881%2C%20-70.85311999999999%5D%2C%20%5B-33.51681%2C%20-70.76706%5D%2C%20%5B-33.406459999999996%2C%20-70.57916999999999%5D%2C%20%5B-33.43707%2C%20-70.65096%5D%2C%20%5B-33.44339%2C%20-70.63834%5D%2C%20%5B-33.438309999999994%2C%20-70.64519%5D%2C%20%5B-33.455740000000006%2C%20-70.6638%5D%2C%20%5B-33.45523%2C%20-70.66435%5D%2C%20%5B-33.45687%2C%20-70.66449%5D%2C%20%5B-33.449870000000004%2C%20-70.66660999999999%5D%2C%20%5B-33.46367%2C%20-70.65032%5D%2C%20%5B-33.44571%2C%20-70.64489%5D%2C%20%5B-33.44761%2C%20-70.63776%5D%2C%20%5B-33.435629999999996%2C%20-70.64369%5D%2C%20%5B-33.34615%2C%20-70.67314%5D%2C%20%5B-33.43697%2C%20-70.64373%5D%2C%20%5B-33.437090000000005%2C%20-70.64453%5D%2C%20%5B-33.34516%2C%20-70.24943%5D%2C%20%5B-33.34387%2C%20-70.24829%5D%2C%20%5B-33.3458%2C%20-70.24991999999999%5D%2C%20%5B-33.3522%2C%20-70.24873000000001%5D%2C%20%5B-33.46368%2C%20-70.65064%5D%2C%20%5B-33.43858%2C%20-70.64361%5D%2C%20%5B-33.43777%2C%20-70.64537%5D%2C%20%5B-33.457%2C%20-70.58736999999999%5D%2C%20%5B-33.38429%2C%20-70.52998000000001%5D%2C%20%5B-33.43744%2C%20-70.63485%5D%2C%20%5B-33.44792%2C%20-70.65485%5D%2C%20%5B-33.45552%2C%20-70.6662%5D%2C%20%5B-33.4933%2C%20-70.61639%5D%2C%20%5B-33.37133%2C%20-70.46585%5D%2C%20%5B-33.45563%2C%20-70.65862%5D%2C%20%5B-33.461890000000004%2C%20-70.70906%5D%2C%20%5B-33.41689%2C%20-70.6778%5D%2C%20%5B-33.43736%2C%20-70.64412%5D%2C%20%5B-33.44845%2C%20-70.62366%5D%2C%20%5B-33.548120000000004%2C%20-70.62351%5D%2C%20%5B-33.44613%2C%20-70.6503%5D%2C%20%5B-33.43031%2C%20-70.62039%5D%2C%20%5B-33.44108%2C%20-70.67889%5D%2C%20%5B-33.42237%2C%20-70.57741999999999%5D%2C%20%5B-33.45179%2C%20-70.62591%5D%2C%20%5B-33.43766%2C%20-70.82008%5D%2C%20%5B-33.44396%2C%20-70.63493000000001%5D%2C%20%5B-33.49021%2C%20-70.61662%5D%2C%20%5B-33.44989%2C%20-70.65607%5D%2C%20%5B-33.50848%2C%20-70.63611999999999%5D%2C%20%5B-33.35947%2C%20-70.67873%5D%2C%20%5B-33.3519%2C%20-70.31614%5D%2C%20%5B-33.35282%2C%20-70.31688%5D%2C%20%5B-33.42729%2C%20-70.65866%5D%2C%20%5B-33.43441%2C%20-70.64628%5D%2C%20%5B-33.383520000000004%2C%20-70.53134%5D%2C%20%5B-33.43022%2C%20-70.62021999999999%5D%2C%20%5B-33.44893%2C%20-70.64409%5D%2C%20%5B-33.48778%2C%20-70.61786%5D%2C%20%5B-33.43862%2C%20-70.64539%5D%2C%20%5B-33.44678%2C%20-70.63759%5D%2C%20%5B-33.436690000000006%2C%20-70.65573%5D%2C%20%5B-33.43606%2C%20-70.65525%5D%2C%20%5B-33.45024%2C%20-70.63049000000001%5D%2C%20%5B-33.435970000000005%2C%20-70.61237%5D%2C%20%5B-33.41115%2C%20-70.50758%5D%2C%20%5B-33.33678%2C%20-70.56397%5D%2C%20%5B-33.49812%2C%20-70.65827%5D%2C%20%5B-33.39398%2C%20-70.56594%5D%2C%20%5B-33.485479999999995%2C%20-70.61717%5D%2C%20%5B-33.43882%2C%20-70.66705999999999%5D%2C%20%5B-33.425470000000004%2C%20-70.68518%5D%2C%20%5B-33.4342%2C%20-70.65890999999999%5D%2C%20%5B-33.34891%2C%20-70.2922%5D%2C%20%5B-33.43915%2C%20-70.64511%5D%2C%20%5B-33.41505%2C%20-70.60304000000001%5D%2C%20%5B-33.410940000000004%2C%20-70.57704%5D%2C%20%5B-33.41408%2C%20-70.60395%5D%2C%20%5B-33.49092%2C%20-70.61525%5D%2C%20%5B-33.40697%2C%20-70.55783000000001%5D%2C%20%5B-33.43925%2C%20-70.6575%5D%2C%20%5B-33.4668%2C%20-70.59931%5D%2C%20%5B-33.45183%2C%20-70.64165%5D%2C%20%5B-33.33765%2C%20-70.46568%5D%2C%20%5B-33.482040000000005%2C%20-70.54129%5D%2C%20%5B-33.436023999999996%2C%20-70.64407299999999%5D%2C%20%5B-33.46584%2C%20-70.68802%5D%2C%20%5B-33.45191%2C%20-70.61756%5D%2C%20%5B-33.40307%2C%20-70.58121%5D%2C%20%5B-33.44686%2C%20-70.60746999999999%5D%2C%20%5B-33.41488%2C%20-70.57977%5D%2C%20%5B-33.43523%2C%20-70.65756%5D%2C%20%5B-33.43776%2C%20-70.62639%5D%2C%20%5B-33.39405%2C%20-70.66794%5D%2C%20%5B-33.39188%2C%20-70.66598%5D%2C%20%5B-33.29882%2C%20-70.25063%5D%2C%20%5B-33.52465%2C%20-70.65339%5D%2C%20%5B-33.42102%2C%20-70.61140999999999%5D%2C%20%5B-33.40664%2C%20-70.55658000000001%5D%2C%20%5B-33.43847%2C%20-70.645%5D%2C%20%5B-33.41633%2C%20-70.56393%5D%2C%20%5B-33.45353%2C%20-70.64678%5D%2C%20%5B-33.4392%2C%20-70.64959%5D%2C%20%5B-33.43953%2C%20-70.65146%5D%2C%20%5B-33.476929999999996%2C%20-70.62191999999999%5D%2C%20%5B-33.44083%2C%20-70.65749%5D%2C%20%5B-33.43797%2C%20-70.64957%5D%2C%20%5B-33.424890000000005%2C%20-70.58301%5D%2C%20%5B-33.43934%2C%20-70.64953%5D%2C%20%5B-33.439640000000004%2C%20-70.64990999999999%5D%2C%20%5B-33.43959%2C%20-70.61986999999999%5D%2C%20%5B-33.44287%2C%20-70.6456%5D%2C%20%5B-33.44664%2C%20-70.63444%5D%2C%20%5B-33.43976%2C%20-70.64981999999999%5D%2C%20%5B-33.439609999999995%2C%20-70.64988000000001%5D%2C%20%5B-33.43888%2C%20-70.65016%5D%2C%20%5B-33.43926%2C%20-70.64957%5D%2C%20%5B-33.43773%2C%20-70.65071%5D%2C%20%5B-33.43765%2C%20-70.65005%5D%2C%20%5B-33.43773%2C%20-70.65013%5D%2C%20%5B-33.43785%2C%20-70.65139%5D%2C%20%5B-33.43973%2C%20-70.64988000000001%5D%2C%20%5B-33.439659999999996%2C%20-70.64922%5D%2C%20%5B-33.44928%2C%20-70.64126999999999%5D%2C%20%5B-33.39733%2C%20-70.75525%5D%2C%20%5B-33.3367%2C%20-70.28941%5D%2C%20%5B-33.406459999999996%2C%20-70.57862%5D%2C%20%5B-33.43353%2C%20-70.64505%5D%2C%20%5B-33.436209999999996%2C%20-70.64688000000001%5D%2C%20%5B-33.45407%2C%20-70.58861%5D%2C%20%5B-33.42046%2C%20-70.60316%5D%2C%20%5B-33.450540000000004%2C%20-70.63302%5D%2C%20%5B-33.45805%2C%20-70.59414%5D%2C%20%5B-33.38433%2C%20-70.52875%5D%2C%20%5B-33.42775%2C%20-70.73156%5D%2C%20%5B-33.42002%2C%20-70.61092%5D%2C%20%5B-33.449909999999996%2C%20-70.5809%5D%2C%20%5B-33.43979%2C%20-70.65779%5D%2C%20%5B-33.43898%2C%20-70.62054%5D%2C%20%5B-33.45636%2C%20-70.59867%5D%2C%20%5B-33.42047%2C%20-70.64993%5D%2C%20%5B-33.4613%2C%20-70.63049000000001%5D%2C%20%5B-33.437979999999996%2C%20-70.64478000000001%5D%2C%20%5B-33.37891%2C%20-70.72272%5D%2C%20%5B-33.43864%2C%20-70.6045%5D%2C%20%5B-33.44804%2C%20-70.64684%5D%2C%20%5B-33.40097%2C%20-70.57224000000001%5D%2C%20%5B-33.42261%2C%20-70.60285%5D%2C%20%5B-33.41496%2C%20-70.60259%5D%2C%20%5B-33.41552%2C%20-70.60495999999999%5D%2C%20%5B-33.4374%2C%20-70.6508%5D%2C%20%5B-33.336929999999995%2C%20-70.29145%5D%2C%20%5B-33.439029999999995%2C%20-70.6511%5D%2C%20%5B-33.43763%2C%20-70.65155%5D%2C%20%5B-33.43947%2C%20-70.64938000000001%5D%2C%20%5B-33.38435%2C%20-70.53023%5D%2C%20%5B-33.43913%2C%20-70.64989%5D%2C%20%5B-33.44634%2C%20-70.64764%5D%2C%20%5B-33.42045%2C%20-70.60386%5D%2C%20%5B-33.45986%2C%20-70.85355%5D%2C%20%5B-33.451879999999996%2C%20-70.63308%5D%2C%20%5B-33.450340000000004%2C%20-70.63444%5D%2C%20%5B-33.44958%2C%20-70.63455%5D%2C%20%5B-33.43257%2C%20-70.64643000000001%5D%2C%20%5B-33.34961%2C%20-70.31126%5D%2C%20%5B-33.382509999999996%2C%20-70.54578000000001%5D%2C%20%5B-33.45185%2C%20-70.56638000000001%5D%2C%20%5B-33.364979999999996%2C%20-70.49%5D%2C%20%5B-33.42889%2C%20-70.67499000000001%5D%2C%20%5B-33.42801%2C%20-70.61926%5D%2C%20%5B-33.44948%2C%20-70.6444%5D%2C%20%5B-33.43456%2C%20-70.62005%5D%2C%20%5B-33.41425%2C%20-70.58107%5D%2C%20%5B-33.3596%2C%20-70.37569%5D%2C%20%5B-33.43873%2C%20-70.64398%5D%2C%20%5B-33.45%2C%20-70.62774%5D%2C%20%5B-33.4554%2C%20-70.56976%5D%2C%20%5B-33.460229999999996%2C%20-70.85503%5D%2C%20%5B-33.442479999999996%2C%20-70.64451%5D%2C%20%5B-33.41559%2C%20-70.60534%5D%2C%20%5B-33.40764%2C%20-70.54828%5D%2C%20%5B-33.43865%2C%20-70.63217%5D%2C%20%5B-33.33706%2C%20-70.29271999999999%5D%2C%20%5B-33.43803%2C%20-70.65118000000001%5D%2C%20%5B-33.428833000000004%2C%20-70.591728%5D%2C%20%5B-33.49116%2C%20-70.75448%5D%2C%20%5B-33.399640000000005%2C%20-70.57164%5D%2C%20%5B-33.38187%2C%20-70.5317%5D%2C%20%5B-33.430170000000004%2C%20-70.62071%5D%2C%20%5B-33.38235%2C%20-70.53211%5D%2C%20%5B-33.43898%2C%20-70.64264%5D%2C%20%5B-33.44769%2C%20-70.61176%5D%2C%20%5B-33.4465%2C%20-70.61143%5D%2C%20%5B-33.436170000000004%2C%20-70.63001%5D%2C%20%5B-33.4246%2C%20-70.61554%5D%2C%20%5B-33.463029999999996%2C%20-70.59424%5D%2C%20%5B-33.433170000000004%2C%20-70.64112%5D%2C%20%5B-33.42933%2C%20-70.62037%5D%2C%20%5B-33.435829999999996%2C%20-70.65829000000001%5D%2C%20%5B-33.44165%2C%20-70.64031999999999%5D%2C%20%5B-33.44437%2C%20-70.64369%5D%2C%20%5B-33.43423%2C%20-70.64092%5D%2C%20%5B-33.42796%2C%20-70.61907%5D%2C%20%5B-33.42409%2C%20-70.61546%5D%2C%20%5B-33.39267%2C%20-70.57904%5D%2C%20%5B-33.42236%2C%20-70.60297%5D%2C%20%5B-33.4224%2C%20-70.60367%5D%2C%20%5B-33.42038%2C%20-70.60383%5D%2C%20%5B-33.41673%2C%20-70.60167%5D%2C%20%5B-33.428540000000005%2C%20-70.6188%5D%2C%20%5B-33.4371%2C%20-70.64584%5D%2C%20%5B-33.439240000000005%2C%20-70.65634%5D%2C%20%5B-33.432959999999994%2C%20-70.64052%5D%2C%20%5B-33.40651%2C%20-70.54663000000001%5D%2C%20%5B-33.41668%2C%20-70.60155999999999%5D%2C%20%5B-33.41536%2C%20-70.59873%5D%2C%20%5B-33.41194%2C%20-70.57786%5D%2C%20%5B-33.41377%2C%20-70.57858%5D%2C%20%5B-33.44149%2C%20-70.56606%5D%2C%20%5B-33.425270000000005%2C%20-70.61045%5D%2C%20%5B-33.43465%2C%20-70.64246999999999%5D%2C%20%5B-33.44076%2C%20-70.58537%5D%2C%20%5B-33.44728%2C%20-70.64452%5D%2C%20%5B-33.43223%2C%20-70.64753%5D%2C%20%5B-33.43843%2C%20-70.65876%5D%2C%20%5B-33.4387%2C%20-70.65863%5D%2C%20%5B-33.42929%2C%20-70.61988000000001%5D%2C%20%5B-33.437020000000004%2C%20-70.65978%5D%2C%20%5B-33.438520000000004%2C%20-70.65896%5D%2C%20%5B-33.43635%2C%20-70.65858%5D%2C%20%5B-33.51437%2C%20-70.59261%5D%2C%20%5B-33.44072%2C%20-70.65749%5D%2C%20%5B-33.42167%2C%20-70.61118%5D%2C%20%5B-33.382659999999994%2C%20-70.53045%5D%2C%20%5B-33.44801%2C%20-70.63509%5D%2C%20%5B-33.43862%2C%20-70.64526%5D%2C%20%5B-33.449740000000006%2C%20-70.65451999999999%5D%2C%20%5B-33.45443%2C%20-70.69547%5D%2C%20%5B-33.43097%2C%20-70.60811%5D%2C%20%5B-33.447720000000004%2C%20-70.65281999999999%5D%2C%20%5B-33.41035%2C%20-70.57157%5D%2C%20%5B-33.44185%2C%20-70.67574%5D%2C%20%5B-33.42622%2C%20-70.64442%5D%2C%20%5B-33.39987%2C%20-70.57358%5D%2C%20%5B-33.43362%2C%20-70.64813000000001%5D%2C%20%5B-33.34901%2C%20-70.31138%5D%2C%20%5B-33.47287%2C%20-70.60028%5D%2C%20%5B-33.44435%2C%20-70.62909%5D%2C%20%5B-33.448209999999996%2C%20-70.65324%5D%2C%20%5B-33.43561%2C%20-70.66404%5D%2C%20%5B-33.41308%2C%20-70.59506999999999%5D%2C%20%5B-33.44869%2C%20-70.65301%5D%2C%20%5B-33.43603%2C%20-70.65912%5D%2C%20%5B-33.44205%2C%20-70.61411%5D%2C%20%5B-33.493140000000004%2C%20-70.65009%5D%2C%20%5B-33.43788%2C%20-70.63534%5D%2C%20%5B-33.429559999999995%2C%20-70.619%5D%2C%20%5B-33.42931%2C%20-70.61754%5D%2C%20%5B-33.43435%2C%20-70.6281%5D%2C%20%5B-33.35628%2C%20-70.7207%5D%2C%20%5B-33.43525%2C%20-70.65749%5D%2C%20%5B-33.438140000000004%2C%20-70.65944%5D%2C%20%5B-33.43987%2C%20-70.65772%5D%2C%20%5B-33.43889%2C%20-70.65727%5D%2C%20%5B-33.41955%2C%20-70.58338%5D%2C%20%5B-33.340109999999996%2C%20-70.46741%5D%2C%20%5B-33.44882%2C%20-70.64788%5D%2C%20%5B-33.41536%2C%20-70.60148000000001%5D%2C%20%5B-33.43322%2C%20-70.64357%5D%2C%20%5B-33.41861%2C%20-70.61211999999999%5D%2C%20%5B-33.42357%2C%20-70.61101%5D%2C%20%5B-33.43634%2C%20-70.65526%5D%2C%20%5B-33.42138%2C%20-70.60771%5D%2C%20%5B-33.42993%2C%20-70.61923%5D%2C%20%5B-33.452740000000006%2C%20-70.62546%5D%2C%20%5B-33.44125%2C%20-70.65572%5D%2C%20%5B-33.4636%2C%20-70.60136999999999%5D%2C%20%5B-33.44115%2C%20-70.65621999999999%5D%2C%20%5B-33.36458%2C%20-70.53316%5D%2C%20%5B-33.364540000000005%2C%20-70.53308%5D%2C%20%5B-33.44713%2C%20-70.66888%5D%2C%20%5B-33.36244%2C%20-70.65769%5D%2C%20%5B-33.42964%2C%20-70.62071%5D%2C%20%5B-33.453140000000005%2C%20-70.60598%5D%2C%20%5B-33.4466%2C%20-70.65436%5D%2C%20%5B-33.448209999999996%2C%20-70.65442%5D%2C%20%5B-33.398%2C%20-70.57191%5D%2C%20%5B-33.4014%2C%20-70.5715%5D%2C%20%5B-33.42757%2C%20-70.61694%5D%2C%20%5B-33.42412%2C%20-70.61175%5D%2C%20%5B-33.42539%2C%20-70.61061%5D%2C%20%5B-33.50432%2C%20-70.57021%5D%2C%20%5B-33.43854%2C%20-70.64569%5D%2C%20%5B-33.47552%2C%20-70.75827%5D%2C%20%5B-33.45015%2C%20-70.63298%5D%2C%20%5B-33.40435%2C%20-70.56522%5D%2C%20%5B-33.4167%2C%20-70.6017%5D%2C%20%5B-33.4147%2C%20-70.60299%5D%2C%20%5B-33.42606%2C%20-70.64399%5D%2C%20%5B-33.44879%2C%20-70.65505999999999%5D%2C%20%5B-33.43656%2C%20-70.56402%5D%2C%20%5B-33.42908%2C%20-70.61933%5D%2C%20%5B-33.44233%2C%20-70.6502%5D%2C%20%5B-33.448370000000004%2C%20-70.64644%5D%2C%20%5B-33.413309999999996%2C%20-70.57511%5D%2C%20%5B-33.44774%2C%20-70.63935%5D%2C%20%5B-33.447109999999995%2C%20-70.64796%5D%2C%20%5B-33.4466%2C%20-70.64927%5D%2C%20%5B-33.43378%2C%20-70.63367%5D%2C%20%5B-33.42285%2C%20-70.61015%5D%2C%20%5B-33.44932%2C%20-70.63967%5D%2C%20%5B-33.43723%2C%20-70.63776%5D%2C%20%5B-33.42453%2C%20-70.60749%5D%2C%20%5B-33.41624%2C%20-70.60069%5D%2C%20%5B-33.39362%2C%20-70.55502%5D%2C%20%5B-33.43529%2C%20-70.64913%5D%2C%20%5B-33.480940000000004%2C%20-70.58422%5D%2C%20%5B-33.437059999999995%2C%20-70.64576%5D%2C%20%5B-33.43329%2C%20-70.65921%5D%2C%20%5B-33.444390000000006%2C%20-70.64299%5D%2C%20%5B-33.41185%2C%20-70.58896999999999%5D%2C%20%5B-33.45363%2C%20-70.67076%5D%2C%20%5B-33.435179999999995%2C%20-70.64855%5D%2C%20%5B-33.43405%2C%20-70.64752%5D%2C%20%5B-33.433479999999996%2C%20-70.6483%5D%2C%20%5B-33.43497%2C%20-70.64836%5D%2C%20%5B-33.43266%2C%20-70.64407%5D%2C%20%5B-33.43432%2C%20-70.64316%5D%2C%20%5B-33.43588%2C%20-70.65869%5D%2C%20%5B-33.434470000000005%2C%20-70.64454%5D%2C%20%5B-33.43422%2C%20-70.64411%5D%2C%20%5B-33.43269%2C%20-70.64305%5D%2C%20%5B-33.43381%2C%20-70.64276%5D%2C%20%5B-33.44034%2C%20-70.63395%5D%2C%20%5B-33.44161%2C%20-70.63292%5D%2C%20%5B-33.43969%2C%20-70.63381%5D%2C%20%5B-33.44169%2C%20-70.63218%5D%2C%20%5B-33.44142%2C%20-70.63354%5D%2C%20%5B-33.43358%2C%20-70.63239%5D%2C%20%5B-33.43531%2C%20-70.63416%5D%2C%20%5B-33.4349%2C%20-70.63274%5D%2C%20%5B-33.42783%2C%20-70.58978%5D%2C%20%5B-33.435359999999996%2C%20-70.6596%5D%2C%20%5B-33.43688%2C%20-70.64267%5D%2C%20%5B-33.43444%2C%20-70.65982%5D%2C%20%5B-33.41638%2C%20-70.60379%5D%2C%20%5B-33.417120000000004%2C%20-70.60363000000001%5D%2C%20%5B-33.43758%2C%20-70.63342%5D%2C%20%5B-33.40703%2C%20-70.5467%5D%2C%20%5B-33.43302%2C%20-70.62161%5D%2C%20%5B-33.41322%2C%20-70.58006%5D%2C%20%5B-33.45377%2C%20-70.70293000000001%5D%2C%20%5B-33.43701%2C%20-70.65966999999999%5D%2C%20%5B-33.450140000000005%2C%20-70.57864000000001%5D%2C%20%5B-33.43313%2C%20-70.65671%5D%2C%20%5B-33.436440000000005%2C%20-70.57319%5D%2C%20%5B-33.44879%2C%20-70.65148%5D%2C%20%5B-33.44435%2C%20-70.62124%5D%2C%20%5B-33.4425%2C%20-70.62084%5D%2C%20%5B-33.45167%2C%20-70.64206%5D%2C%20%5B-33.43801%2C%20-70.60374%5D%2C%20%5B-33.41689%2C%20-70.60124%5D%2C%20%5B-33.434509999999996%2C%20-70.64747%5D%2C%20%5B-33.43264%2C%20-70.64268%5D%2C%20%5B-33.39463%2C%20-70.55554000000001%5D%2C%20%5B-33.41669%2C%20-70.6026%5D%2C%20%5B-33.510459999999995%2C%20-70.65581%5D%2C%20%5B-33.447140000000005%2C%20-70.64459000000001%5D%2C%20%5B-33.383340000000004%2C%20-70.53716999999999%5D%2C%20%5B-33.429190000000006%2C%20-70.6122%5D%2C%20%5B-33.43088%2C%20-70.69372%5D%2C%20%5B-33.41897%2C%20-70.58308000000001%5D%2C%20%5B-33.42737%2C%20-70.60759%5D%2C%20%5B-33.46021%2C%20-70.59875%5D%2C%20%5B-33.44828%2C%20-70.62267%5D%2C%20%5B-33.42625%2C%20-70.61886%5D%2C%20%5B-33.39846%2C%20-70.572%5D%2C%20%5B-33.43993%2C%20-70.64206%5D%2C%20%5B-33.4446%2C%20-70.5836%5D%2C%20%5B-33.454029999999996%2C%20-70.66412%5D%2C%20%5B-33.455090000000006%2C%20-70.62123000000001%5D%2C%20%5B-33.42767%2C%20-70.61943000000001%5D%2C%20%5B-33.45046%2C%20-70.64254%5D%2C%20%5B-33.395959999999995%2C%20-70.59142%5D%2C%20%5B-33.41907%2C%20-70.59463000000001%5D%2C%20%5B-33.41393%2C%20-70.6027%5D%2C%20%5B-33.45159%2C%20-70.6495%5D%2C%20%5B-33.477059999999994%2C%20-70.6238%5D%2C%20%5B-33.446490000000004%2C%20-70.6516%5D%2C%20%5B-33.45606%2C%20-70.70179%5D%2C%20%5B-33.43826%2C%20-70.64501%5D%2C%20%5B-33.43117%2C%20-70.58494%5D%2C%20%5B-33.41704%2C%20-70.6009%5D%2C%20%5B-33.42801%2C%20-70.62164%5D%2C%20%5B-33.40606%2C%20-70.54485%5D%2C%20%5B-33.47217%2C%20-70.59826%5D%2C%20%5B-33.457609999999995%2C%20-70.60945%5D%2C%20%5B-33.427%2C%20-70.61264%5D%2C%20%5B-33.42484%2C%20-70.58425%5D%2C%20%5B-33.42458%2C%20-70.54425%5D%2C%20%5B-33.38511%2C%20-70.5331%5D%2C%20%5B-33.4433%2C%20-70.65706%5D%2C%20%5B-33.4558%2C%20-70.59329%5D%2C%20%5B-33.416959999999996%2C%20-70.60275%5D%2C%20%5B-33.41535%2C%20-70.60072%5D%2C%20%5B-33.44977%2C%20-70.66981%5D%2C%20%5B-33.43942%2C%20-70.63184%5D%2C%20%5B-33.44761%2C%20-70.6521%5D%2C%20%5B-33.39868%2C%20-70.57056%5D%2C%20%5B-33.45326%2C%20-70.57869000000001%5D%2C%20%5B-33.45012%2C%20-70.64827%5D%2C%20%5B-33.416470000000004%2C%20-70.60106%5D%2C%20%5B-33.48203%2C%20-70.60055%5D%2C%20%5B-33.3693%2C%20-70.45749%5D%2C%20%5B-33.41676%2C%20-70.60274%5D%2C%20%5B-33.36996%2C%20-70.45636%5D%2C%20%5B-33.45624%2C%20-70.60404%5D%2C%20%5B-33.5273%2C%20-70.55221%5D%2C%20%5B-33.41638%2C%20-70.60128%5D%2C%20%5B-33.49436%2C%20-70.65038%5D%2C%20%5B-33.44679%2C%20-70.63479%5D%2C%20%5B-33.42613%2C%20-70.60795999999999%5D%2C%20%5B-33.412620000000004%2C%20-70.57786999999999%5D%2C%20%5B-33.437329999999996%2C%20-70.64345%5D%2C%20%5B-33.4324%2C%20-70.62246%5D%2C%20%5B-33.43566%2C%20-70.62680999999999%5D%2C%20%5B-33.443870000000004%2C%20-70.66315999999999%5D%2C%20%5B-33.39949%2C%20-70.57083%5D%2C%20%5B-33.41661%2C%20-70.60261%5D%2C%20%5B-33.41532%2C%20-70.6024%5D%2C%20%5B-33.51393%2C%20-70.66775%5D%2C%20%5B-33.42666%2C%20-70.61784%5D%2C%20%5B-33.443020000000004%2C%20-70.65951%5D%2C%20%5B-33.427040000000005%2C%20-70.61462%5D%2C%20%5B-33.41705%2C%20-70.60149%5D%2C%20%5B-33.49902%2C%20-70.61968%5D%2C%20%5B-33.43049%2C%20-70.61906%5D%2C%20%5B-33.44914%2C%20-70.64757%5D%2C%20%5B-33.4155%2C%20-70.60233000000001%5D%2C%20%5B-33.4337%2C%20-70.6356%5D%2C%20%5B-33.44016%2C%20-70.65732%5D%2C%20%5B-33.400259999999996%2C%20-70.57298%5D%2C%20%5B-33.43293%2C%20-70.6208%5D%2C%20%5B-33.43335%2C%20-70.65531999999999%5D%2C%20%5B-33.42827%2C%20-70.61927%5D%2C%20%5B-33.41663%2C%20-70.60273000000001%5D%2C%20%5B-33.44618%2C%20-70.64466%5D%2C%20%5B-33.43823%2C%20-70.6483%5D%2C%20%5B-33.44062%2C%20-70.6555%5D%2C%20%5B-33.52729%2C%20-70.78033%5D%2C%20%5B-33.43946%2C%20-70.59888000000001%5D%2C%20%5B-33.41245%2C%20-70.57563%5D%2C%20%5B-33.44509%2C%20-70.63626%5D%2C%20%5B-33.472809999999996%2C%20-70.61957%5D%2C%20%5B-33.43892%2C%20-70.64560999999999%5D%2C%20%5B-33.44636%2C%20-70.65435%5D%2C%20%5B-33.449220000000004%2C%20-70.66371%5D%2C%20%5B-33.4203%2C%20-70.5981%5D%2C%20%5B-33.416509999999995%2C%20-70.60134000000001%5D%2C%20%5B-33.423%2C%20-70.61053000000001%5D%2C%20%5B-33.42344%2C%20-70.61149%5D%2C%20%5B-33.42433%2C%20-70.61078%5D%2C%20%5B-33.4243%2C%20-70.61050999999999%5D%2C%20%5B-33.437129999999996%2C%20-70.64560999999999%5D%2C%20%5B-33.41655%2C%20-70.60138%5D%2C%20%5B-33.43766%2C%20-70.64452%5D%2C%20%5B-33.500890000000005%2C%20-70.61728000000001%5D%2C%20%5B-33.44364%2C%20-70.64817%5D%2C%20%5B-33.44498%2C%20-70.65029%5D%2C%20%5B-33.433209999999995%2C%20-70.59996%5D%2C%20%5B-33.44378%2C%20-70.65975999999999%5D%2C%20%5B-33.31772%2C%20-70.56443%5D%2C%20%5B-33.41512%2C%20-70.60255%5D%2C%20%5B-33.42662%2C%20-70.60576%5D%2C%20%5B-33.415620000000004%2C%20-70.60093%5D%2C%20%5B-33.44809%2C%20-70.65299%5D%2C%20%5B-33.43291%2C%20-70.60392%5D%2C%20%5B-33.40028%2C%20-70.5963%5D%2C%20%5B-33.35075%2C%20-70.31113%5D%2C%20%5B-33.41665%2C%20-70.60134000000001%5D%2C%20%5B-33.43728%2C%20-70.65458000000001%5D%2C%20%5B-33.416%2C%20-70.60125%5D%2C%20%5B-33.446670000000005%2C%20-70.63635%5D%2C%20%5B-33.43796%2C%20-70.65338%5D%2C%20%5B-33.43882%2C%20-70.66037%5D%2C%20%5B-33.43847%2C%20-70.66181%5D%2C%20%5B-33.43788%2C%20-70.66184%5D%2C%20%5B-33.43486%2C%20-70.62762%5D%2C%20%5B-33.42804%2C%20-70.62553%5D%2C%20%5B-33.43649%2C%20-70.63893%5D%2C%20%5B-33.40957%2C%20-70.57607%5D%2C%20%5B-33.4164%2C%20-70.60253%5D%2C%20%5B-33.4502%2C%20-70.69071%5D%2C%20%5B-33.43663%2C%20-70.66168%5D%2C%20%5B-33.43805%2C%20-70.64598000000001%5D%2C%20%5B-33.40542%2C%20-70.51732%5D%2C%20%5B-33.49299%2C%20-70.61752%5D%2C%20%5B-33.41543%2C%20-70.60088%5D%2C%20%5B-33.4173%2C%20-70.56957%5D%2C%20%5B-33.39967%2C%20-70.5737%5D%2C%20%5B-33.417640000000006%2C%20-70.60159%5D%2C%20%5B-33.44388%2C%20-70.63436999999999%5D%2C%20%5B-33.4158%2C%20-70.60368000000001%5D%2C%20%5B-33.41774%2C%20-70.60243%5D%2C%20%5B-33.456540000000004%2C%20-70.6895%5D%2C%20%5B-33.4449%2C%20-70.64484%5D%2C%20%5B-33.43265%2C%20-70.65883000000001%5D%2C%20%5B-33.42904%2C%20-70.61408%5D%2C%20%5B-33.45854%2C%20-70.65377%5D%2C%20%5B-33.41066%2C%20-70.53837%5D%2C%20%5B-33.43427%2C%20-70.64424%5D%2C%20%5B-33.43169%2C%20-70.61861%5D%2C%20%5B-33.44993%2C%20-70.65389%5D%2C%20%5B-33.44583%2C%20-70.6783%5D%2C%20%5B-33.39464%2C%20-70.56172%5D%2C%20%5B-33.44642%2C%20-70.59997%5D%2C%20%5B-33.42406%2C%20-70.59035%5D%2C%20%5B-33.41622%2C%20-70.60297%5D%2C%20%5B-33.41698%2C%20-70.56274%5D%2C%20%5B-33.43427%2C%20-70.66028%5D%2C%20%5B-33.44665%2C%20-70.63483000000001%5D%2C%20%5B-33.420759999999994%2C%20-70.60916%5D%2C%20%5B-33.44299%2C%20-70.60329%5D%2C%20%5B-33.44555%2C%20-70.64381999999999%5D%2C%20%5B-33.4372%2C%20-70.64376%5D%2C%20%5B-33.39127%2C%20-70.50304%5D%2C%20%5B-33.46175%2C%20-70.593%5D%2C%20%5B-33.44747%2C%20-70.64927%5D%2C%20%5B-33.39332%2C%20-70.55842%5D%2C%20%5B-33.40668%2C%20-70.55504%5D%2C%20%5B-33.42951%2C%20-70.61832%5D%2C%20%5B-33.43777%2C%20-70.64418%5D%2C%20%5B-33.371320000000004%2C%20-70.4437%5D%2C%20%5B-33.41645%2C%20-70.60123%5D%2C%20%5B-33.41655%2C%20-70.60278000000001%5D%2C%20%5B-33.428740000000005%2C%20-70.60746999999999%5D%2C%20%5B-33.45047%2C%20-70.56129%5D%2C%20%5B-33.41642%2C%20-70.59406%5D%2C%20%5B-33.413709999999995%2C%20-70.59836999999999%5D%2C%20%5B-33.4508%2C%20-70.66763%5D%2C%20%5B-33.43846%2C%20-70.64782%5D%2C%20%5B-33.454209999999996%2C%20-70.58731%5D%2C%20%5B-33.43812%2C%20-70.66212%5D%2C%20%5B-33.438520000000004%2C%20-70.66003%5D%2C%20%5B-33.43915%2C%20-70.64585%5D%2C%20%5B-33.429970000000004%2C%20-70.61838%5D%2C%20%5B-33.456509999999994%2C%20-70.6903%5D%2C%20%5B-33.49643%2C%20-70.53234%5D%2C%20%5B-33.43223%2C%20-70.64788%5D%2C%20%5B-33.40341%2C%20-70.5647%5D%2C%20%5B-33.41773%2C%20-70.59609%5D%2C%20%5B-33.453379999999996%2C%20-70.59467%5D%2C%20%5B-33.43979%2C%20-70.6343%5D%2C%20%5B-33.414%2C%20-70.57876%5D%2C%20%5B-33.52459%2C%20-70.59900999999999%5D%2C%20%5B-33.3646%2C%20-70.49491%5D%2C%20%5B-33.44358%2C%20-70.64801%5D%2C%20%5B-33.42924%2C%20-70.60961%5D%2C%20%5B-33.48788%2C%20-70.64685%5D%2C%20%5B-33.435590000000005%2C%20-70.65451%5D%2C%20%5B-33.44932%2C%20-70.65411999999999%5D%2C%20%5B-33.42794%2C%20-70.58594000000001%5D%2C%20%5B-33.4419%2C%20-70.64017%5D%2C%20%5B-33.45231%2C%20-70.68481%5D%2C%20%5B-33.45283%2C%20-70.63258%5D%2C%20%5B-33.43815%2C%20-70.67126999999999%5D%2C%20%5B-33.36705%2C%20-70.51685%5D%2C%20%5B-33.49668%2C%20-70.65539%5D%2C%20%5B-33.43365%2C%20-70.60902%5D%2C%20%5B-33.43735%2C%20-70.64596%5D%2C%20%5B-33.43503%2C%20-70.64529%5D%2C%20%5B-33.42846%2C%20-70.61834%5D%2C%20%5B-33.44404%2C%20-70.66258%5D%2C%20%5B-33.55175%2C%20-70.57336%5D%2C%20%5B-33.44635%2C%20-70.61304%5D%2C%20%5B-33.43388%2C%20-70.64757%5D%2C%20%5B-33.45353%2C%20-70.58219%5D%2C%20%5B-33.43169%2C%20-70.61514%5D%2C%20%5B-33.43547%2C%20-70.65392%5D%2C%20%5B-33.41733%2C%20-70.59184%5D%2C%20%5B-33.449009999999994%2C%20-70.6453%5D%2C%20%5B-33.42978%2C%20-70.60875%5D%2C%20%5B-33.398559999999996%2C%20-70.57377%5D%2C%20%5B-33.41578%2C%20-70.60536%5D%2C%20%5B-33.41417%2C%20-70.60356999999999%5D%2C%20%5B-33.43647%2C%20-70.65717%5D%2C%20%5B-33.416309999999996%2C%20-70.60448000000001%5D%2C%20%5B-33.453340000000004%2C%20-70.62746%5D%2C%20%5B-33.4511%2C%20-70.63126%5D%2C%20%5B-33.44896%2C%20-70.60574%5D%2C%20%5B-33.45145%2C%20-70.59394%5D%2C%20%5B-33.4175%2C%20-70.60219000000001%5D%2C%20%5B-33.44818%2C%20-70.65475%5D%2C%20%5B-33.41782%2C%20-70.60388%5D%2C%20%5B-33.41792%2C%20-70.60375%5D%2C%20%5B-33.43939%2C%20-70.61343000000001%5D%2C%20%5B-33.43401%2C%20-70.63973%5D%2C%20%5B-33.43739%2C%20-70.65142%5D%2C%20%5B-33.438829999999996%2C%20-70.64949%5D%2C%20%5B-33.437509999999996%2C%20-70.64923%5D%2C%20%5B-33.43772%2C%20-70.65151999999999%5D%2C%20%5B-33.401379999999996%2C%20-70.55538%5D%2C%20%5B-33.43889%2C%20-70.65087%5D%2C%20%5B-33.43844%2C%20-70.66015%5D%2C%20%5B-33.437670000000004%2C%20-70.64967%5D%2C%20%5B-33.437459999999994%2C%20-70.65144000000001%5D%2C%20%5B-33.43649%2C%20-70.66199999999999%5D%2C%20%5B-33.41438%2C%20-70.56081%5D%2C%20%5B-33.45548%2C%20-70.70146%5D%2C%20%5B-33.43884%2C%20-70.65089%5D%2C%20%5B-33.439440000000005%2C%20-70.6506%5D%2C%20%5B-33.43705%2C%20-70.66036%5D%2C%20%5B-33.44927%2C%20-70.63883%5D%2C%20%5B-33.41616%2C%20-70.60355%5D%2C%20%5B-33.50053%2C%20-70.60777%5D%2C%20%5B-33.37962%2C%20-70.37603%5D%2C%20%5B-33.4435%2C%20-70.67106%5D%2C%20%5B-33.426970000000004%2C%20-70.54788%5D%2C%20%5B-33.437979999999996%2C%20-70.66189%5D%2C%20%5B-33.43806%2C%20-70.6623%5D%2C%20%5B-33.43881%2C%20-70.66199999999999%5D%2C%20%5B-33.43806%2C%20-70.66085%5D%2C%20%5B-33.43785%2C%20-70.64344%5D%2C%20%5B-33.44927%2C%20-70.64265%5D%2C%20%5B-33.445640000000004%2C%20-70.64394%5D%2C%20%5B-33.43311%2C%20-70.64699999999999%5D%2C%20%5B-33.44425%2C%20-70.6394%5D%2C%20%5B-33.43238%2C%20-70.63453%5D%2C%20%5B-33.4393%2C%20-70.6508%5D%2C%20%5B-33.36672%2C%20-70.53260999999999%5D%2C%20%5B-33.43759%2C%20-70.65143%5D%2C%20%5B-33.454679999999996%2C%20-70.65605%5D%2C%20%5B-33.51089%2C%20-70.64671%5D%2C%20%5B-33.439679999999996%2C%20-70.64956%5D%2C%20%5B-33.41957%2C%20-70.59822%5D%2C%20%5B-33.42238%2C%20-70.61183%5D%2C%20%5B-33.438590000000005%2C%20-70.64327%5D%2C%20%5B-33.43864%2C%20-70.64256999999999%5D%2C%20%5B-33.438309999999994%2C%20-70.64199%5D%2C%20%5B-33.3506%2C%20-70.47591%5D%2C%20%5B-33.399370000000005%2C%20-70.57145%5D%2C%20%5B-33.44202%2C%20-70.66545%5D%2C%20%5B-33.399640000000005%2C%20-70.57249%5D%2C%20%5B-33.43806%2C%20-70.6511%5D%2C%20%5B-33.457609999999995%2C%20-70.69469000000001%5D%2C%20%5B-33.43484%2C%20-70.64747%5D%2C%20%5B-33.43707%2C%20-70.66027%5D%2C%20%5B-33.43772%2C%20-70.6458%5D%2C%20%5B-33.44662%2C%20-70.61919%5D%2C%20%5B-33.39948%2C%20-70.5725%5D%2C%20%5B-33.429959999999994%2C%20-70.66764%5D%2C%20%5B-33.39991%2C%20-70.57268%5D%2C%20%5B-33.43238%2C%20-70.63051999999999%5D%2C%20%5B-33.5044%2C%20-70.61315%5D%2C%20%5B-33.44305%2C%20-70.6426%5D%2C%20%5B-33.431490000000004%2C%20-70.62458000000001%5D%2C%20%5B-33.38552%2C%20-70.53818000000001%5D%2C%20%5B-33.43347%2C%20-70.63638%5D%2C%20%5B-33.43712%2C%20-70.66026%5D%2C%20%5B-33.44513%2C%20-70.64643000000001%5D%2C%20%5B-33.44012%2C%20-70.64498%5D%2C%20%5B-33.45398%2C%20-70.65352%5D%2C%20%5B-33.51012%2C%20-70.58499%5D%2C%20%5B-33.440059999999995%2C%20-70.67104%5D%2C%20%5B-33.4253%2C%20-70.61154%5D%2C%20%5B-33.41861%2C%20-70.57007%5D%2C%20%5B-33.456540000000004%2C%20-70.64506%5D%2C%20%5B-33.447559999999996%2C%20-70.60266%5D%2C%20%5B-33.423320000000004%2C%20-70.60891%5D%2C%20%5B-33.456990000000005%2C%20-70.52496%5D%2C%20%5B-33.445040000000006%2C%20-70.6344%5D%2C%20%5B-33.399159999999995%2C%20-70.57167%5D%2C%20%5B-33.412620000000004%2C%20-70.58111%5D%2C%20%5B-33.43712%2C%20-70.64825%5D%2C%20%5B-33.45177%2C%20-70.69211%5D%2C%20%5B-33.43427%2C%20-70.6411%5D%2C%20%5B-33.43313%2C%20-70.64057%5D%2C%20%5B-33.44001%2C%20-70.64385%5D%2C%20%5B-33.43379%2C%20-70.64171999999999%5D%2C%20%5B-33.52104%2C%20-70.59909%5D%2C%20%5B-33.45418%2C%20-70.70289%5D%2C%20%5B-33.44292%2C%20-70.66003%5D%2C%20%5B-33.44733%2C%20-70.65316999999999%5D%2C%20%5B-33.50594%2C%20-70.65727%5D%2C%20%5B-33.45897%2C%20-70.62855%5D%2C%20%5B-33.43828%2C%20-70.67397%5D%2C%20%5B-33.45689%2C%20-70.57168%5D%2C%20%5B-33.4336%2C%20-70.62605%5D%2C%20%5B-33.44774%2C%20-70.63332%5D%2C%20%5B-33.41565%2C%20-70.58426999999999%5D%2C%20%5B-33.47057%2C%20-70.66176999999999%5D%2C%20%5B-33.45453%2C%20-70.68661999999999%5D%2C%20%5B-33.41697%2C%20-70.60045%5D%2C%20%5B-33.42934%2C%20-70.62066999999999%5D%2C%20%5B-33.41522%2C%20-70.58641999999999%5D%2C%20%5B-33.43773%2C%20-70.61624%5D%2C%20%5B-33.433170000000004%2C%20-70.66117%5D%2C%20%5B-33.43918%2C%20-70.61614%5D%2C%20%5B-33.445890000000006%2C%20-70.6397%5D%2C%20%5B-33.43659%2C%20-70.64854%5D%2C%20%5B-33.427170000000004%2C%20-70.65808%5D%2C%20%5B-33.36717%2C%20-70.50501%5D%2C%20%5B-33.43608%2C%20-70.64879%5D%2C%20%5B-33.51449%2C%20-70.62021999999999%5D%2C%20%5B-33.41212%2C%20-70.57885%5D%2C%20%5B-33.417559999999995%2C%20-70.59852%5D%2C%20%5B-33.440709999999996%2C%20-70.67483%5D%2C%20%5B-33.45252%2C%20-70.62975%5D%2C%20%5B-33.44665%2C%20-70.63265%5D%2C%20%5B-33.43861%2C%20-70.64747%5D%2C%20%5B-33.44785%2C%20-70.63994%5D%2C%20%5B-33.43465%2C%20-70.62724%5D%2C%20%5B-33.453590000000005%2C%20-70.61105%5D%2C%20%5B-33.49239%2C%20-70.61765%5D%2C%20%5B-33.39822%2C%20-70.51233%5D%2C%20%5B-33.45414%2C%20-70.65933000000001%5D%2C%20%5B-33.39971%2C%20-70.57125%5D%2C%20%5B-33.42828%2C%20-70.62238%5D%2C%20%5B-33.413540000000005%2C%20-70.57736%5D%2C%20%5B-33.41195%2C%20-70.57715%5D%2C%20%5B-33.43609%2C%20-70.64806%5D%2C%20%5B-33.47077%2C%20-70.60574%5D%2C%20%5B-33.45582%2C%20-70.65949%5D%2C%20%5B-33.43285%2C%20-70.62388%5D%2C%20%5B-33.43943%2C%20-70.61769%5D%2C%20%5B-33.49273%2C%20-70.61397%5D%2C%20%5B-33.45357%2C%20-70.70338000000001%5D%2C%20%5B-33.35136%2C%20-70.31186%5D%2C%20%5B-33.4201%2C%20-70.61146%5D%2C%20%5B-33.43247%2C%20-70.62297%5D%2C%20%5B-33.41049%2C%20-70.57368000000001%5D%2C%20%5B-33.42453%2C%20-70.61146%5D%2C%20%5B-33.44761%2C%20-70.64715%5D%2C%20%5B-33.45055%2C%20-70.62583000000001%5D%2C%20%5B-33.43936%2C%20-70.64963%5D%2C%20%5B-33.43835%2C%20-70.64363%5D%2C%20%5B-33.447720000000004%2C%20-70.55282%5D%2C%20%5B-33.45875%2C%20-70.65544%5D%2C%20%5B-33.44461%2C%20-70.64562%5D%2C%20%5B-33.41385%2C%20-70.65594%5D%2C%20%5B-33.437090000000005%2C%20-70.64511%5D%2C%20%5B-33.46987%2C%20-70.75957%5D%2C%20%5B-33.43908%2C%20-70.64711%5D%2C%20%5B-33.4101%2C%20-70.6012%5D%2C%20%5B-33.38108%2C%20-70.54919%5D%2C%20%5B-33.520959999999995%2C%20-70.60605%5D%2C%20%5B-33.41594%2C%20-70.60113%5D%2C%20%5B-33.39999%2C%20-70.57079%5D%2C%20%5B-33.4467%2C%20-70.63506%5D%2C%20%5B-33.42272%2C%20-70.59361%5D%2C%20%5B-33.41676%2C%20-70.63565%5D%2C%20%5B-33.42172%2C%20-70.61165%5D%2C%20%5B-33.43685%2C%20-70.64871%5D%2C%20%5B-33.44014%2C%20-70.63735%5D%2C%20%5B-33.40599%2C%20-70.57052%5D%2C%20%5B-33.42603%2C%20-70.6166%5D%2C%20%5B-33.33814%2C%20-70.28985%5D%2C%20%5B-33.42788%2C%20-70.61784%5D%2C%20%5B-33.42818%2C%20-70.61787%5D%2C%20%5B-33.38261%2C%20-70.53074000000001%5D%2C%20%5B-33.43014%2C%20-70.62016%5D%2C%20%5B-33.39947%2C%20-70.57275%5D%2C%20%5B-33.40007%2C%20-70.57106%5D%2C%20%5B-33.516037%2C%20-70.604523%5D%2C%20%5B-33.44128%2C%20-70.63452%5D%2C%20%5B-33.43902%2C%20-70.64425%5D%2C%20%5B-33.419509999999995%2C%20-70.57231%5D%2C%20%5B-33.4421%2C%20-70.64612%5D%2C%20%5B-33.44896%2C%20-70.62971%5D%2C%20%5B-33.42561%2C%20-70.6175%5D%2C%20%5B-33.44871%2C%20-70.65531%5D%2C%20%5B-33.39883%2C%20-70.57145%5D%2C%20%5B-33.41802%2C%20-70.59845%5D%2C%20%5B-33.41847%2C%20-70.5981%5D%2C%20%5B-33.44128%2C%20-70.63507%5D%2C%20%5B-33.4115%2C%20-70.57267%5D%2C%20%5B-33.409890000000004%2C%20-70.57296%5D%2C%20%5B-33.410759999999996%2C%20-70.5717%5D%2C%20%5B-33.3489%2C%20-70.29478%5D%2C%20%5B-33.44383%2C%20-70.63552%5D%2C%20%5B-33.412929999999996%2C%20-70.6099%5D%2C%20%5B-33.41348%2C%20-70.57771%5D%2C%20%5B-33.45518%2C%20-70.61359%5D%2C%20%5B-33.44336%2C%20-70.64952%5D%2C%20%5B-33.43076%2C%20-70.60096999999999%5D%2C%20%5B-33.47698%2C%20-70.6226%5D%2C%20%5B-33.35%2C%20-70.31255%5D%2C%20%5B-33.42933%2C%20-70.61972%5D%2C%20%5B-33.429120000000005%2C%20-70.61907%5D%2C%20%5B-33.4397%2C%20-70.65276%5D%2C%20%5B-33.41368%2C%20-70.58619%5D%2C%20%5B-33.43651%2C%20-70.65928000000001%5D%2C%20%5B-33.42781%2C%20-70.6174%5D%2C%20%5B-33.399770000000004%2C%20-70.5721%5D%2C%20%5B-33.43567%2C%20-70.627%5D%2C%20%5B-33.45304%2C%20-70.6105%5D%2C%20%5B-33.45017%2C%20-70.64321%5D%2C%20%5B-33.424609999999994%2C%20-70.61148%5D%2C%20%5B-33.43985%2C%20-70.65796999999999%5D%2C%20%5B-33.42487%2C%20-70.61289000000001%5D%2C%20%5B-33.42935%2C%20-70.61841%5D%2C%20%5B-33.35252%2C%20-70.31493%5D%2C%20%5B-33.44079%2C%20-70.67475%5D%2C%20%5B-33.42453%2C%20-70.61582%5D%2C%20%5B-33.43628%2C%20-70.64533%5D%2C%20%5B-33.41645%2C%20-70.59819%5D%2C%20%5B-33.3508%2C%20-70.31464%5D%2C%20%5B-33.370129999999996%2C%20-70.46346%5D%2C%20%5B-33.41861%2C%20-70.64192%5D%2C%20%5B-33.44007%2C%20-70.66775%5D%2C%20%5B-33.42541%2C%20-70.61622%5D%2C%20%5B-33.452740000000006%2C%20-70.60946%5D%2C%20%5B-33.45384%2C%20-70.57339%5D%2C%20%5B-33.44825%2C%20-70.64712%5D%2C%20%5B-33.4489%2C%20-70.64714000000001%5D%2C%20%5B-33.43541%2C%20-70.65798000000001%5D%2C%20%5B-33.4765%2C%20-70.53993%5D%2C%20%5B-33.34596%2C%20-70.47598%5D%2C%20%5B-33.450990000000004%2C%20-70.64133000000001%5D%2C%20%5B-33.408409999999996%2C%20-70.56716999999999%5D%2C%20%5B-33.45008%2C%20-70.61535%5D%2C%20%5B-33.42812%2C%20-70.61913%5D%2C%20%5B-33.42985%2C%20-70.61775%5D%2C%20%5B-33.43287%2C%20-70.65929%5D%2C%20%5B-33.42677%2C%20-70.61224%5D%2C%20%5B-33.41673%2C%20-70.6028%5D%2C%20%5B-33.42937%2C%20-70.61995%5D%2C%20%5B-33.41129%2C%20-70.56486%5D%2C%20%5B-33.42586%2C%20-70.61693000000001%5D%2C%20%5B-33.4119%2C%20-70.59099%5D%2C%20%5B-33.444390000000006%2C%20-70.6697%5D%2C%20%5B-33.41885%2C%20-70.6044%5D%2C%20%5B-33.40687%2C%20-70.56411999999999%5D%2C%20%5B-33.41493%2C%20-70.60221999999999%5D%2C%20%5B-33.415659999999995%2C%20-70.60262%5D%2C%20%5B-33.51935%2C%20-70.65783%5D%2C%20%5B-33.41688%2C%20-70.60214%5D%2C%20%5B-33.45381%2C%20-70.66342%5D%2C%20%5B-33.417320000000004%2C%20-70.60139000000001%5D%2C%20%5B-33.397940000000006%2C%20-70.57287%5D%2C%20%5B-33.41337%2C%20-70.5791%5D%2C%20%5B-33.4102%2C%20-70.5767%5D%2C%20%5B-33.42308%2C%20-70.63968%5D%2C%20%5B-33.40316%2C%20-70.58868000000001%5D%2C%20%5B-33.39803%2C%20-70.57113000000001%5D%2C%20%5B-33.43724%2C%20-70.64394%5D%2C%20%5B-33.45393%2C%20-70.69185999999999%5D%2C%20%5B-33.51385%2C%20-70.65678%5D%2C%20%5B-33.41407%2C%20-70.64318%5D%2C%20%5B-33.41215%2C%20-70.60963000000001%5D%2C%20%5B-33.4035%2C%20-70.58626%5D%2C%20%5B-33.42366%2C%20-70.6103%5D%2C%20%5B-33.45691%2C%20-70.57432%5D%2C%20%5B-33.428490000000004%2C%20-70.61875%5D%2C%20%5B-33.422940000000004%2C%20-70.61135%5D%2C%20%5B-33.35145%2C%20-70.31101%5D%2C%20%5B-33.424620000000004%2C%20-70.61681999999999%5D%2C%20%5B-33.43933%2C%20-70.63616%5D%2C%20%5B-33.41185%2C%20-70.56714000000001%5D%2C%20%5B-33.428540000000005%2C%20-70.60819000000001%5D%2C%20%5B-33.39868%2C%20-70.56954%5D%2C%20%5B-33.43905%2C%20-70.61683000000001%5D%2C%20%5B-33.43%2C%20-70.60034%5D%2C%20%5B-33.48209%2C%20-70.65658%5D%2C%20%5B-33.4349%2C%20-70.61858000000001%5D%2C%20%5B-33.40554%2C%20-70.58570999999999%5D%2C%20%5B-33.431940000000004%2C%20-70.62213%5D%2C%20%5B-33.41798%2C%20-70.59626999999999%5D%2C%20%5B-33.43058%2C%20-70.62314%5D%2C%20%5B-33.42749%2C%20-70.58926%5D%2C%20%5B-33.43123%2C%20-70.62225%5D%2C%20%5B-33.43053%2C%20-70.62139%5D%2C%20%5B-33.45584%2C%20-70.84640999999999%5D%2C%20%5B-33.42442%2C%20-70.61488%5D%2C%20%5B-33.500859999999996%2C%20-70.5631%5D%2C%20%5B-33.427820000000004%2C%20-70.61855%5D%2C%20%5B-33.45105%2C%20-70.61697%5D%2C%20%5B-33.45055%2C%20-70.61851999999999%5D%2C%20%5B-33.39956%2C%20-70.57155%5D%2C%20%5B-33.423809999999996%2C%20-70.61155%5D%2C%20%5B-33.39999%2C%20-70.57306%5D%2C%20%5B-33.42317%2C%20-70.61117%5D%2C%20%5B-33.348289%2C%20-70.291428%5D%2C%20%5B-33.45473%2C%20-70.61119000000001%5D%2C%20%5B-33.42781%2C%20-70.62026%5D%2C%20%5B-33.448240000000006%2C%20-70.64213000000001%5D%2C%20%5B-33.4373%2C%20-70.64569%5D%2C%20%5B-33.4295%2C%20-70.61922%5D%2C%20%5B-33.425509999999996%2C%20-70.61649%5D%2C%20%5B-33.42993%2C%20-70.61973%5D%2C%20%5B-33.41194%2C%20-70.57370999999999%5D%2C%20%5B-33.43286%2C%20-70.6603%5D%2C%20%5B-33.40788%2C%20-70.56482%5D%2C%20%5B-33.43683%2C%20-70.64412%5D%2C%20%5B-33.4597%2C%20-70.57413000000001%5D%2C%20%5B-33.373622999999995%2C%20-70.51700600000001%5D%2C%20%5B-33.42892%2C%20-70.65844%5D%2C%20%5B-33.374039%2C%20-70.51574699999999%5D%2C%20%5B-33.424409999999995%2C%20-70.60951999999999%5D%2C%20%5B-33.42848%2C%20-70.61974000000001%5D%2C%20%5B-33.409240000000004%2C%20-70.57473%5D%2C%20%5B-33.43857%2C%20-70.64531%5D%2C%20%5B-33.43338%2C%20-70.60363000000001%5D%2C%20%5B-33.36157%2C%20-70.51823%5D%2C%20%5B-33.451840000000004%2C%20-70.61721%5D%2C%20%5B-33.417790000000004%2C%20-70.60335%5D%2C%20%5B-33.355488%2C%20-70.249374%5D%2C%20%5B-33.45405%2C%20-70.54983%5D%2C%20%5B-33.35092%2C%20-70.29475%5D%2C%20%5B-33.450109999999995%2C%20-70.61753%5D%2C%20%5B-33.399570000000004%2C%20-70.57284%5D%2C%20%5B-33.383559999999996%2C%20-70.53039%5D%2C%20%5B-33.399840000000005%2C%20-70.57154%5D%2C%20%5B-33.445910999999995%2C%20-70.64518000000001%5D%2C%20%5B-33.408190000000005%2C%20-70.5827%5D%2C%20%5B-33.41879%2C%20-70.64199%5D%2C%20%5B-33.41271%2C%20-70.6105%5D%2C%20%5B-33.448240000000006%2C%20-70.58325%5D%2C%20%5B-33.45009%2C%20-70.63954%5D%2C%20%5B-33.44608%2C%20-70.63039%5D%2C%20%5B-33.45126%2C%20-70.62893000000001%5D%2C%20%5B-33.398579999999995%2C%20-70.5727%5D%2C%20%5B-33.39693%2C%20-70.57486%5D%2C%20%5B-33.42398%2C%20-70.61624%5D%2C%20%5B-33.443870000000004%2C%20-70.64319%5D%2C%20%5B-33.34384%2C%20-70.2475%5D%2C%20%5B-33.34812%2C%20-70.29117%5D%2C%20%5B-33.33462%2C%20-70.29097%5D%2C%20%5B-33.437509999999996%2C%20-70.61983000000001%5D%2C%20%5B-33.44305%2C%20-70.66281%5D%2C%20%5B-33.45077%2C%20-70.63014%5D%2C%20%5B-33.43962%2C%20-70.63728%5D%2C%20%5B-33.42907%2C%20-70.61806999999999%5D%2C%20%5B-33.37317%2C%20-70.51521%5D%2C%20%5B-33.34855%2C%20-70.30798%5D%2C%20%5B-33.46049%2C%20-70.5633%5D%2C%20%5B-33.39974%2C%20-70.57181%5D%2C%20%5B-33.35298%2C%20-70.24969%5D%2C%20%5B-33.44236%2C%20-70.64313%5D%2C%20%5B-33.43884%2C%20-70.64516%5D%2C%20%5B-33.43735%2C%20-70.64565999999999%5D%2C%20%5B-33.42828%2C%20-70.5958%5D%2C%20%5B-33.4388%2C%20-70.64177%5D%2C%20%5B-33.41778%2C%20-70.60225%5D%2C%20%5B-33.35029%2C%20-70.31195%5D%2C%20%5B-33.41854%2C%20-70.59768000000001%5D%2C%20%5B-33.451415999999995%2C%20-70.629524%5D%2C%20%5B-33.45514%2C%20-70.6299%5D%2C%20%5B-33.4908%2C%20-70.52933%5D%2C%20%5B-33.3545%2C%20-70.24948%5D%2C%20%5B-33.44158%2C%20-70.63051%5D%2C%20%5B-33.40664%2C%20-70.56854%5D%2C%20%5B-33.411609999999996%2C%20-70.56644%5D%2C%20%5B-33.348690000000005%2C%20-70.29227%5D%2C%20%5B-33.43586%2C%20-70.65686%5D%2C%20%5B-33.470420000000004%2C%20-70.6694%5D%2C%20%5B-33.43224%2C%20-70.61488%5D%2C%20%5B-33.44226%2C%20-70.63828000000001%5D%2C%20%5B-33.439440000000005%2C%20-70.65634%5D%2C%20%5B-33.439679999999996%2C%20-70.65793000000001%5D%2C%20%5B-33.41105%2C%20-70.57104%5D%2C%20%5B-33.44558%2C%20-70.63453%5D%2C%20%5B-33.34968%2C%20-70.29254%5D%2C%20%5B-33.43679%2C%20-70.65454%5D%2C%20%5B-33.443333%2C%20-70.659126%5D%2C%20%5B-33.4187%2C%20-70.59763000000001%5D%2C%20%5B-33.413790000000006%2C%20-70.58491%5D%2C%20%5B-33.42183%2C%20-70.60869%5D%2C%20%5B-33.40133%2C%20-70.57245%5D%2C%20%5B-33.40206%2C%20-70.59123000000001%5D%2C%20%5B-33.43138%2C%20-70.61863000000001%5D%2C%20%5B-33.43202%2C%20-70.61881%5D%2C%20%5B-33.425909999999995%2C%20-70.62023%5D%2C%20%5B-33.40452%2C%20-70.59380999999999%5D%2C%20%5B-33.453829999999996%2C%20-70.65634%5D%2C%20%5B-33.43397%2C%20-70.61317%5D%2C%20%5B-33.36395%2C%20-70.51087%5D%2C%20%5B-33.39978%2C%20-70.57287%5D%2C%20%5B-33.4579%2C%20-70.597%5D%2C%20%5B-33.41522%2C%20-70.58704%5D%2C%20%5B-33.43906%2C%20-70.6422%5D%2C%20%5B-33.44082%2C%20-70.64076%5D%2C%20%5B-33.4215%2C%20-70.60918000000001%5D%2C%20%5B-33.47045%2C%20-70.60582%5D%2C%20%5B-33.43871%2C%20-70.64111%5D%2C%20%5B-33.49034%2C%20-70.65805%5D%2C%20%5B-33.48186%2C%20-70.73633000000001%5D%2C%20%5B-33.443740000000005%2C%20-70.64383000000001%5D%2C%20%5B-33.44269%2C%20-70.66239%5D%2C%20%5B-33.435629999999996%2C%20-70.64374000000001%5D%2C%20%5B-33.39906%2C%20-70.57243000000001%5D%2C%20%5B-33.44657%2C%20-70.63436999999999%5D%2C%20%5B-33.357859999999995%2C%20-70.47993000000001%5D%2C%20%5B-33.46245%2C%20-70.62553%5D%2C%20%5B-33.43997%2C%20-70.61649%5D%2C%20%5B-33.35044%2C%20-70.30601999999999%5D%2C%20%5B-33.336220000000004%2C%20-70.29235%5D%2C%20%5B-33.43267%2C%20-70.61016%5D%2C%20%5B-33.440940000000005%2C%20-70.63404%5D%2C%20%5B-33.513040000000004%2C%20-70.67126999999999%5D%2C%20%5B-33.36483%2C%20-70.48756%5D%2C%20%5B-33.439240000000005%2C%20-70.65101999999999%5D%2C%20%5B-33.40798%2C%20-70.57575%5D%2C%20%5B-33.40972%2C%20-70.54734%5D%2C%20%5B-33.45496%2C%20-70.70565%5D%2C%20%5B-33.3368%2C%20-70.29307%5D%2C%20%5B-33.33417%2C%20-70.29061%5D%2C%20%5B-33.43687%2C%20-70.64514%5D%2C%20%5B-33.3542%2C%20-70.24792%5D%2C%20%5B-33.347076%2C%20-70.291306%5D%2C%20%5B-33.44699%2C%20-70.63965999999999%5D%2C%20%5B-33.41308%2C%20-70.58764000000001%5D%2C%20%5B-33.41706%2C%20-70.59682%5D%2C%20%5B-33.45397%2C%20-70.5743%5D%2C%20%5B-33.34924%2C%20-70.29071%5D%2C%20%5B-33.428787%2C%20-70.618713%5D%2C%20%5B-33.418409999999994%2C%20-70.61324%5D%2C%20%5B-33.34615%2C%20-70.29557%5D%2C%20%5B-33.43186%2C%20-70.61664%5D%2C%20%5B-33.432359999999996%2C%20-70.61829%5D%2C%20%5B-33.43395%2C%20-70.61703%5D%2C%20%5B-33.33429%2C%20-70.29012%5D%2C%20%5B-33.3408%2C%20-70.29113000000001%5D%2C%20%5B-33.35455%2C%20-70.24968%5D%2C%20%5B-33.349509999999995%2C%20-70.31189%5D%2C%20%5B-33.358979999999995%2C%20-70.25228%5D%2C%20%5B-33.39123%2C%20-70.51544%5D%2C%20%5B-33.35203%2C%20-70.3132%5D%2C%20%5B-33.446529999999996%2C%20-70.63545%5D%2C%20%5B-33.44789%2C%20-70.63529%5D%2C%20%5B-33.44851%2C%20-70.63513%5D%2C%20%5B-33.35524%2C%20-70.25032%5D%2C%20%5B-33.49382%2C%20-70.64390999999999%5D%2C%20%5B-33.43227%2C%20-70.60693%5D%2C%20%5B-33.43643%2C%20-70.64411%5D%2C%20%5B-33.40197%2C%20-70.59756%5D%2C%20%5B-33.34162%2C%20-70.29296%5D%2C%20%5B-33.423805%2C%20-70.60083%5D%2C%20%5B-33.42522%2C%20-70.59336%5D%2C%20%5B-33.42536%2C%20-70.64559%5D%2C%20%5B-33.422290999999994%2C%20-70.609138%5D%2C%20%5B-33.33586%2C%20-70.28856%5D%2C%20%5B-33.4371%2C%20-70.64437%5D%2C%20%5B-33.44989%2C%20-70.6553%5D%2C%20%5B-33.34918%2C%20-70.29224%5D%2C%20%5B-33.45635%2C%20-70.62995%5D%2C%20%5B-33.44007%2C%20-70.65642%5D%2C%20%5B-33.44005%2C%20-70.656%5D%2C%20%5B-33.43922%2C%20-70.65635999999999%5D%2C%20%5B-33.439659999999996%2C%20-70.65769%5D%2C%20%5B-33.4396%2C%20-70.65725%5D%2C%20%5B-33.439370000000004%2C%20-70.65653%5D%2C%20%5B-33.41591%2C%20-70.60295%5D%2C%20%5B-33.35998%2C%20-70.51937%5D%2C%20%5B-33.4413%2C%20-70.65768%5D%2C%20%5B-33.34628%2C%20-70.29253%5D%2C%20%5B-33.452729999999995%2C%20-70.59468000000001%5D%2C%20%5B-33.42837%2C%20-70.61959%5D%2C%20%5B-33.36963%2C%20-70.28563%5D%2C%20%5B-33.36719%2C%20-70.49985%5D%2C%20%5B-33.45045%2C%20-70.60948%5D%2C%20%5B-33.451168%2C%20-70.665741%5D%2C%20%5B-33.338029999999996%2C%20-70.2896%5D%2C%20%5B-33.4339%2C%20-70.6163%5D%2C%20%5B-33.43802%2C%20-70.67118%5D%2C%20%5B-33.44758%2C%20-70.64862%5D%2C%20%5B-33.39183%2C%20-70.54478%5D%2C%20%5B-33.43393%2C%20-70.61845%5D%2C%20%5B-33.51307%2C%20-70.60859%5D%2C%20%5B-33.43197%2C%20-70.617%5D%2C%20%5B-33.37642%2C%20-70.52558%5D%2C%20%5B-33.435970000000005%2C%20-70.62853%5D%2C%20%5B-33.352470000000004%2C%20-70.24706%5D%2C%20%5B-33.48288%2C%20-70.65361999999999%5D%2C%20%5B-33.45004%2C%20-70.6528%5D%2C%20%5B-33.45398%2C%20-70.63171%5D%2C%20%5B-33.41695%2C%20-70.6014%5D%2C%20%5B-33.43871%2C%20-70.64596999999999%5D%2C%20%5B-33.43825%2C%20-70.64428000000001%5D%2C%20%5B-33.45623%2C%20-70.60579%5D%2C%20%5B-33.34555%2C%20-70.29438%5D%2C%20%5B-33.415409999999994%2C%20-70.63286%5D%2C%20%5B-33.42537%2C%20-70.765%5D%2C%20%5B-33.46304%2C%20-70.75553000000001%5D%2C%20%5B-33.44317%2C%20-70.66264%5D%2C%20%5B-33.43488%2C%20-70.6287%5D%2C%20%5B-33.448240000000006%2C%20-70.56425%5D%2C%20%5B-33.52494%2C%20-70.58412%5D%2C%20%5B-33.42838%2C%20-70.61943000000001%5D%2C%20%5B-33.41406%2C%20-70.59891%5D%2C%20%5B-33.40002%2C%20-70.57157%5D%2C%20%5B-33.44556%2C%20-70.54094%5D%2C%20%5B-33.41433%2C%20-70.58651%5D%2C%20%5B-33.45344%2C%20-70.64874%5D%2C%20%5B-33.44012%2C%20-70.67286%5D%2C%20%5B-33.407920000000004%2C%20-70.56971999999999%5D%2C%20%5B-33.45244%2C%20-70.62988%5D%2C%20%5B-33.43269%2C%20-70.6598%5D%2C%20%5B-33.436752%2C%20-70.641693%5D%2C%20%5B-33.42333%2C%20-70.61058%5D%2C%20%5B-33.43869%2C%20-70.64518000000001%5D%2C%20%5B-33.436209999999996%2C%20-70.6272%5D%2C%20%5B-33.43789%2C%20-70.63676%5D%2C%20%5B-33.41451%2C%20-70.59963%5D%2C%20%5B-33.44784%2C%20-70.65415%5D%2C%20%5B-33.43371%2C%20-70.6168%5D%2C%20%5B-33.41108%2C%20-70.57735%5D%2C%20%5B-33.444559999999996%2C%20-70.64415%5D%2C%20%5B-33.470620000000004%2C%20-70.61013%5D%2C%20%5B-33.416059999999995%2C%20-70.60181999999999%5D%2C%20%5B-33.428090000000005%2C%20-70.61954%5D%2C%20%5B-33.399879999999996%2C%20-70.59859%5D%2C%20%5B-33.404740000000004%2C%20-70.59259%5D%2C%20%5B-33.4118%2C%20-70.58747%5D%2C%20%5B-33.417629999999996%2C%20-70.58882%5D%2C%20%5B-33.436009999999996%2C%20-70.64708%5D%2C%20%5B-33.388690000000004%2C%20-70.53974000000001%5D%2C%20%5B-33.40814%2C%20-70.56603%5D%2C%20%5B-33.42136%2C%20-70.57866999999999%5D%2C%20%5B-33.4243%2C%20-70.58567%5D%2C%20%5B-33.451%2C%20-70.64010999999999%5D%2C%20%5B-33.41082%2C%20-70.57726%5D%2C%20%5B-33.4303%2C%20-70.6222%5D%2C%20%5B-33.44388%2C%20-70.64528%5D%2C%20%5B-33.44352%2C%20-70.65874000000001%5D%2C%20%5B-33.346111%2C%20-70.291519%5D%2C%20%5B-33.44877%2C%20-70.64036%5D%2C%20%5B-33.42516%2C%20-70.60698000000001%5D%2C%20%5B-33.4383%2C%20-70.65068000000001%5D%2C%20%5B-33.45%2C%20-70.61854%5D%2C%20%5B-33.42888%2C%20-70.62033000000001%5D%2C%20%5B-33.34553%2C%20-70.29059000000001%5D%2C%20%5B-33.42386%2C%20-70.61162%5D%2C%20%5B-33.43908%2C%20-70.64548%5D%2C%20%5B-33.43762%2C%20-70.6445%5D%2C%20%5B-33.38495%2C%20-70.55965%5D%2C%20%5B-33.41318%2C%20-70.56607%5D%2C%20%5B-33.425740000000005%2C%20-70.61229%5D%2C%20%5B-33.44079%2C%20-70.67130999999999%5D%2C%20%5B-33.42168%2C%20-70.61092%5D%2C%20%5B-33.33531%2C%20-70.29176%5D%2C%20%5B-33.43002%2C%20-70.63065999999999%5D%2C%20%5B-33.440909999999995%2C%20-70.65783%5D%2C%20%5B-33.40118%2C%20-70.57063000000001%5D%2C%20%5B-33.42374%2C%20-70.61149%5D%2C%20%5B-33.44789%2C%20-70.64264%5D%2C%20%5B-33.3996%2C%20-70.57214%5D%2C%20%5B-33.44657%2C%20-70.65184%5D%2C%20%5B-33.34778%2C%20-70.29403%5D%2C%20%5B-33.42042%2C%20-70.61169%5D%2C%20%5B-33.40534%2C%20-70.56103%5D%2C%20%5B-33.49993%2C%20-70.64938000000001%5D%2C%20%5B-33.46347%2C%20-70.60332%5D%2C%20%5B-33.51678%2C%20-70.60513%5D%2C%20%5B-33.40055%2C%20-70.57092%5D%2C%20%5B-33.399570000000004%2C%20-70.54224%5D%2C%20%5B-33.42804%2C%20-70.54012%5D%2C%20%5B-33.43768%2C%20-70.6441%5D%2C%20%5B-33.43756%2C%20-70.64556999999999%5D%2C%20%5B-33.44455%2C%20-70.65845999999999%5D%2C%20%5B-33.44461%2C%20-70.64452%5D%2C%20%5B-33.34879%2C%20-70.31201999999999%5D%2C%20%5B-33.44005%2C%20-70.6367%5D%2C%20%5B-33.441159999999996%2C%20-70.65703%5D%2C%20%5B-33.45455%2C%20-70.60958000000001%5D%2C%20%5B-33.42552%2C%20-70.61527%5D%2C%20%5B-33.42606%2C%20-70.6157%5D%2C%20%5B-33.44678%2C%20-70.64374000000001%5D%2C%20%5B-33.43854%2C%20-70.66219%5D%2C%20%5B-33.44019%2C%20-70.6726%5D%2C%20%5B-33.40661%2C%20-70.59483%5D%2C%20%5B-33.472%2C%20-70.64913%5D%2C%20%5B-33.42177%2C%20-70.61059%5D%2C%20%5B-33.443329999999996%2C%20-70.65852%5D%2C%20%5B-33.44822%2C%20-70.63136%5D%2C%20%5B-33.43825%2C%20-70.6876%5D%2C%20%5B-33.43915%2C%20-70.6563%5D%2C%20%5B-33.421864%2C%20-70.655457%5D%2C%20%5B-33.41885%2C%20-70.65629%5D%2C%20%5B-33.42858%2C%20-70.61786%5D%2C%20%5B-33.34706%2C%20-70.29089%5D%2C%20%5B-33.47842%2C%20-70.62331999999999%5D%2C%20%5B-33.43943%2C%20-70.65719%5D%2C%20%5B-33.45799%2C%20-70.70411999999999%5D%2C%20%5B-33.4293%2C%20-70.63072%5D%2C%20%5B-33.41666%2C%20-70.60235%5D%2C%20%5B-33.45407%2C%20-70.59929%5D%2C%20%5B-33.43667%2C%20-70.65496999999999%5D%2C%20%5B-33.398270000000004%2C%20-70.57217%5D%2C%20%5B-33.41098%2C%20-70.56813000000001%5D%2C%20%5B-33.45262%2C%20-70.6522%5D%2C%20%5B-33.450540000000004%2C%20-70.64766999999999%5D%2C%20%5B-33.44737%2C%20-70.6303%5D%2C%20%5B-33.43479%2C%20-70.65613%5D%2C%20%5B-33.44689%2C%20-70.65451999999999%5D%2C%20%5B-33.44404%2C%20-70.64533%5D%2C%20%5B-33.36042%2C%20-70.51583000000001%5D%2C%20%5B-33.44538%2C%20-70.58114%5D%2C%20%5B-33.43691%2C%20-70.5993%5D%2C%20%5B-33.4347%2C%20-70.65534%5D%2C%20%5B-33.43804%2C%20-70.65768%5D%2C%20%5B-33.44321%2C%20-70.66018000000001%5D%2C%20%5B-33.45479%2C%20-70.60991999999999%5D%2C%20%5B-33.40084%2C%20-70.57314000000001%5D%2C%20%5B-33.424240000000005%2C%20-70.61516%5D%2C%20%5B-33.45347%2C%20-70.59375%5D%2C%20%5B-33.43266%2C%20-70.60988%5D%2C%20%5B-33.41559%2C%20-70.60258%5D%2C%20%5B-33.34711%2C%20-70.29078%5D%2C%20%5B-33.34903%2C%20-70.29207%5D%2C%20%5B-33.46052%2C%20-70.62527%5D%2C%20%5B-33.44482%2C%20-70.64491%5D%2C%20%5B-33.45132%2C%20-70.62454%5D%2C%20%5B-33.444340000000004%2C%20-70.64081%5D%2C%20%5B-33.41773%2C%20-70.60300000000001%5D%2C%20%5B-33.447829999999996%2C%20-70.6322%5D%2C%20%5B-33.353848%2C%20-70.367409%5D%2C%20%5B-33.45635%2C%20-70.69341%5D%2C%20%5B-33.45766%2C%20-70.69478000000001%5D%2C%20%5B-33.416740000000004%2C%20-70.58815%5D%2C%20%5B-33.45474%2C%20-70.68908%5D%2C%20%5B-33.407779999999995%2C%20-70.57569000000001%5D%2C%20%5B-33.42872%2C%20-70.60546%5D%2C%20%5B-33.41568%2C%20-70.60276%5D%2C%20%5B-33.45171%2C%20-70.66027%5D%2C%20%5B-33.44392%2C%20-70.64409%5D%2C%20%5B-33.451409999999996%2C%20-70.69577%5D%2C%20%5B-33.440059999999995%2C%20-70.65606%5D%2C%20%5B-33.438390000000005%2C%20-70.63637%5D%2C%20%5B-33.38736%2C%20-70.5721%5D%2C%20%5B-33.4549%2C%20-70.61064%5D%2C%20%5B-33.42388%2C%20-70.60993%5D%2C%20%5B-33.45709%2C%20-70.69216999999999%5D%2C%20%5B-33.45813%2C%20-70.68998%5D%2C%20%5B-33.45814%2C%20-70.69157%5D%2C%20%5B-33.45814%2C%20-70.68984%5D%2C%20%5B-33.4162%2C%20-70.5948%5D%2C%20%5B-33.416940000000004%2C%20-70.59454000000001%5D%2C%20%5B-33.41547%2C%20-70.59526%5D%2C%20%5B-33.41612%2C%20-70.5934%5D%2C%20%5B-33.41554%2C%20-70.59499%5D%2C%20%5B-33.41693%2C%20-70.5951%5D%2C%20%5B-33.414809999999996%2C%20-70.59344%5D%2C%20%5B-33.41495%2C%20-70.59477%5D%2C%20%5B-33.4155%2C%20-70.59453%5D%2C%20%5B-33.44386%2C%20-70.63343%5D%2C%20%5B-33.43742%2C%20-70.64401%5D%2C%20%5B-33.34967%2C%20-70.31090999999999%5D%2C%20%5B-33.43734%2C%20-70.6456%5D%2C%20%5B-33.41056%2C%20-70.56577%5D%2C%20%5B-33.410579999999996%2C%20-70.56781%5D%2C%20%5B-33.43495%2C%20-70.64766%5D%2C%20%5B-33.34854%2C%20-70.31121%5D%2C%20%5B-33.34868%2C%20-70.31253000000001%5D%2C%20%5B-33.349140000000006%2C%20-70.31186%5D%2C%20%5B-33.45075%2C%20-70.62971999999999%5D%2C%20%5B-33.51097%2C%20-70.60909000000001%5D%2C%20%5B-33.35058%2C%20-70.311%5D%2C%20%5B-33.43854%2C%20-70.64199%5D%2C%20%5B-33.5615%2C%20-70.57925999999999%5D%2C%20%5B-33.43872%2C%20-70.64526%5D%2C%20%5B-33.45535%2C%20-70.69665%5D%2C%20%5B-33.51163%2C%20-70.6072%5D%2C%20%5B-33.42394%2C%20-70.61084%5D%2C%20%5B-33.349000000000004%2C%20-70.30825%5D%2C%20%5B-33.43824%2C%20-70.63853%5D%2C%20%5B-33.43758%2C%20-70.64728000000001%5D%2C%20%5B-33.44252%2C%20-70.63434000000001%5D%2C%20%5B-33.33243%2C%20-70.5031%5D%2C%20%5B-33.4307%2C%20-70.6232%5D%2C%20%5B-33.39948%2C%20-70.57209%5D%2C%20%5B-33.399370000000005%2C%20-70.57164%5D%2C%20%5B-33.39959%2C%20-70.57344%5D%2C%20%5B-33.40031%2C%20-70.57115%5D%2C%20%5B-33.46372%2C%20-70.59846999999999%5D%2C%20%5B-33.43728%2C%20-70.64567%5D%2C%20%5B-33.5062%2C%20-70.60076%5D%2C%20%5B-33.42049%2C%20-70.61201%5D%2C%20%5B-33.44681%2C%20-70.6529%5D%2C%20%5B-33.437290000000004%2C%20-70.6457%5D%2C%20%5B-33.43827%2C%20-70.64371%5D%2C%20%5B-33.48178%2C%20-70.65089%5D%2C%20%5B-33.44896%2C%20-70.65196%5D%2C%20%5B-33.438515%2C%20-70.659355%5D%2C%20%5B-33.437984%2C%20-70.644775%5D%2C%20%5B-33.368109999999994%2C%20-70.50052%5D%2C%20%5B-33.41225%2C%20-70.58617%5D%2C%20%5B-33.412929999999996%2C%20-70.60975%5D%2C%20%5B-33.43585%2C%20-70.62817%5D%2C%20%5B-33.43864%2C%20-70.64662%5D%2C%20%5B-33.41635%2C%20-70.58296%5D%2C%20%5B-33.44749%2C%20-70.63472%5D%2C%20%5B-33.35157%2C%20-70.30897%5D%2C%20%5B-33.43665%2C%20-70.64506999999999%5D%2C%20%5B-33.42577%2C%20-70.61106%5D%2C%20%5B-33.443509999999996%2C%20-70.64378%5D%2C%20%5B-33.39921%2C%20-70.58924%5D%2C%20%5B-33.43107%2C%20-70.62469%5D%2C%20%5B-33.45114%2C%20-70.63986%5D%2C%20%5B-33.38643%2C%20-70.50001999999999%5D%2C%20%5B-33.4052%2C%20-70.56436%5D%2C%20%5B-33.43217%2C%20-70.58466999999999%5D%2C%20%5B-33.45435%2C%20-70.57557%5D%2C%20%5B-33.44587%2C%20-70.64239%5D%2C%20%5B-33.34544%2C%20-70.47655999999999%5D%2C%20%5B-33.44526%2C%20-70.64426999999999%5D%2C%20%5B-33.43769%2C%20-70.64426999999999%5D%2C%20%5B-33.47692%2C%20-70.60011999999999%5D%2C%20%5B-33.445159999999994%2C%20-70.63904000000001%5D%2C%20%5B-33.4263%2C%20-70.61856%5D%2C%20%5B-33.44673%2C%20-70.63627%5D%2C%20%5B-33.44764%2C%20-70.63681%5D%2C%20%5B-33.43319%2C%20-70.58773000000001%5D%2C%20%5B-33.42601%2C%20-70.61704%5D%2C%20%5B-33.42546%2C%20-70.61606%5D%2C%20%5B-33.45451%2C%20-70.65985%5D%2C%20%5B-33.437259999999995%2C%20-70.64764%5D%2C%20%5B-33.45497%2C%20-70.7025%5D%2C%20%5B-33.44713%2C%20-70.58744%5D%2C%20%5B-33.4497%2C%20-70.69776%5D%2C%20%5B-33.43907%2C%20-70.62798000000001%5D%2C%20%5B-33.436609999999995%2C%20-70.77826999999999%5D%2C%20%5B-33.44184%2C%20-70.63476999999999%5D%2C%20%5B-33.43309%2C%20-70.6574%5D%2C%20%5B-33.405409999999996%2C%20-70.57809%5D%2C%20%5B-33.436840000000004%2C%20-70.64777%5D%2C%20%5B-33.416709999999995%2C%20-70.60155%5D%2C%20%5B-33.4154%2C%20-70.60166%5D%2C%20%5B-33.41565%2C%20-70.60099%5D%2C%20%5B-33.45565%2C%20-70.61339%5D%2C%20%5B-33.41701%2C%20-70.60300000000001%5D%2C%20%5B-33.435140000000004%2C%20-70.6449%5D%2C%20%5B-33.45176%2C%20-70.64272%5D%2C%20%5B-33.38238%2C%20-70.53175%5D%2C%20%5B-33.40637%2C%20-70.66372%5D%2C%20%5B-33.44758%2C%20-70.60555%5D%2C%20%5B-33.44831%2C%20-70.64816%5D%2C%20%5B-33.44506%2C%20-70.66244%5D%2C%20%5B-33.43267%2C%20-70.6185%5D%2C%20%5B-33.44833%2C%20-70.6556%5D%2C%20%5B-33.4516%2C%20-70.64714000000001%5D%2C%20%5B-33.38214%2C%20-70.53035%5D%2C%20%5B-33.43343%2C%20-70.65975999999999%5D%2C%20%5B-33.56236%2C%20-70.77847%5D%2C%20%5B-33.42853%2C%20-70.6197%5D%2C%20%5B-33.41015%2C%20-70.59799%5D%2C%20%5B-33.4292%2C%20-70.61901%5D%2C%20%5B-33.33067%2C%20-70.51015%5D%2C%20%5B-33.4478%2C%20-70.64936999999999%5D%2C%20%5B-33.44951%2C%20-70.63761%5D%2C%20%5B-33.4361%2C%20-70.60354%5D%2C%20%5B-33.40048%2C%20-70.5718%5D%2C%20%5B-33.43237%2C%20-70.62209%5D%2C%20%5B-33.43038%2C%20-70.62244%5D%2C%20%5B-33.43035%2C%20-70.6218%5D%2C%20%5B-33.42954%2C%20-70.61787%5D%2C%20%5B-33.39475%2C%20-70.5615%5D%2C%20%5B-33.42776%2C%20-70.61784%5D%2C%20%5B-33.45062%2C%20-70.63286%5D%2C%20%5B-33.44585%2C%20-70.58221999999999%5D%2C%20%5B-33.37113%2C%20-70.51233%5D%2C%20%5B-33.440090000000005%2C%20-70.65755%5D%2C%20%5B-33.426970000000004%2C%20-70.62018%5D%2C%20%5B-33.43484%2C%20-70.62743%5D%2C%20%5B-33.49163%2C%20-70.57417%5D%2C%20%5B-33.43566%2C%20-70.62781%5D%2C%20%5B-33.42901%2C%20-70.61825999999999%5D%2C%20%5B-33.43946%2C%20-70.60969%5D%2C%20%5B-33.44613%2C%20-70.64922%5D%2C%20%5B-33.44915%2C%20-70.64994%5D%2C%20%5B-33.43054%2C%20-70.62120999999999%5D%2C%20%5B-33.4477%2C%20-70.64894%5D%2C%20%5B-33.431940000000004%2C%20-70.62194000000001%5D%2C%20%5B-33.44656%2C%20-70.63356999999999%5D%2C%20%5B-33.4324%2C%20-70.62046%5D%2C%20%5B-33.43127%2C%20-70.62241999999999%5D%2C%20%5B-33.431259999999995%2C%20-70.62241%5D%2C%20%5B-33.43112%2C%20-70.62087%5D%2C%20%5B-33.399370000000005%2C%20-70.57121%5D%2C%20%5B-33.36098%2C%20-70.48592%5D%2C%20%5B-33.43427%2C%20-70.6271%5D%2C%20%5B-33.44846%2C%20-70.64134%5D%2C%20%5B-33.45211%2C%20-70.57505%5D%2C%20%5B-33.43841%2C%20-70.64358%5D%2C%20%5B-33.41345%2C%20-70.56535%5D%2C%20%5B-33.48707%2C%20-70.61999%5D%2C%20%5B-33.440290000000005%2C%20-70.56254%5D%2C%20%5B-33.45162%2C%20-70.61293%5D%2C%20%5B-33.45149%2C%20-70.61404%5D%2C%20%5B-33.432520000000004%2C%20-70.63573000000001%5D%2C%20%5B-33.400009999999995%2C%20-70.57137%5D%2C%20%5B-33.39866%2C%20-70.57335%5D%2C%20%5B-33.43187%2C%20-70.62096%5D%2C%20%5B-33.43266%2C%20-70.62273%5D%2C%20%5B-33.43205%2C%20-70.62044%5D%2C%20%5B-33.43159%2C%20-70.59255999999999%5D%2C%20%5B-33.4604%2C%20-70.60204%5D%2C%20%5B-33.451640000000005%2C%20-70.57084%5D%2C%20%5B-33.4383%2C%20-70.62793%5D%2C%20%5B-33.451229999999995%2C%20-70.69579%5D%5D%2C%0A%20%20%20%20%20%20%20%20%20%20%20%20%20%20%20%20%7B%22blur%22%3A%2015%2C%20%22maxZoom%22%3A%2018%2C%20%22minOpacity%22%3A%200.5%2C%20%22radius%22%3A%2025%7D%0A%20%20%20%20%20%20%20%20%20%20%20%20%29.addTo%28map_10e439fc6b71485f996630a7585ab192%29%3B%0A%20%20%20%20%20%20%20%20%0A%3C/script%3E onload=\"this.contentDocument.open();this.contentDocument.write(    decodeURIComponent(this.getAttribute('data-html')));this.contentDocument.close();\" allowfullscreen webkitallowfullscreen mozallowfullscreen></iframe></div></div>"
      ],
      "text/plain": [
       "<folium.folium.Map at 0x16e253a9cf8>"
      ]
     },
     "execution_count": 55,
     "metadata": {},
     "output_type": "execute_result"
    }
   ],
   "source": [
    "# Lista com todas as latitudes e longitudes\n",
    "lat = df5.latitude.tolist()\n",
    "lng = df5.longitude.tolist()\n",
    "lat_lng_zip = list(zip(lat, lng))\n",
    "\n",
    "# Centrando o mapa na primeira linha de nosso dataset\n",
    "lat1 = df5.iloc[[0]]['latitude']\n",
    "long1 = df5.iloc[[0]]['longitude']\n",
    "\n",
    "# definições do mapa\n",
    "m = folium.Map(\n",
    "    location= (lat1, long1),\n",
    "    tiles='cartodbpositron', # mais exemplos de tiles em: https://deparkes.co.uk/2016/06/10/folium-map-tiles/\n",
    "    zoom_start=10\n",
    ")\n",
    "\n",
    "# carregando mapa\n",
    "HeatMap(lat_lng_zip).add_to(m)\n",
    "m"
   ]
  },
  {
   "cell_type": "markdown",
   "metadata": {
    "id": "GkvAg623RjoR"
   },
   "source": [
    "## 3. Conclusões\n"
   ]
  },
  {
   "cell_type": "markdown",
   "metadata": {
    "id": "rbZ3Hsy9Ypw8"
   },
   "source": [
    "> Como podemos visualizar na última imagem plotada, o dataset é bem resumido, e qualquer conclusão está limitado a esse escopo.\n",
    ">\n",
    "> Visualizamos que existem imóveis caros, mas é extremamente possivel fazer uma viagem, pagando entre `200~300 BRL` a noite.\n",
    ">\n",
    "> Essa visualização em `BRL` permite ao analista Brasileiro, entender se o preço está \"cabendo no bolso\"."
   ]
  },
  {
   "cell_type": "markdown",
   "metadata": {},
   "source": [
    "---\n",
    "### Conheça meu trabalho\n",
    "\n",
    "<a href=\"https://www.joviano.com\">\n",
    "<img src=\"https://raw.githubusercontent.com/jovianosilveira/img/master/joviano-silveira-site-logo.png\" alt=\"joviano.com\" width=\"5%\">\n",
    "</a>\n",
    "\n",
    "<a href=\"https://www.youtube.com/jovianosilveira\">\n",
    "<img src=\"https://github.com/jovianosilveira/img/blob/master/joviano-silveira-youtube-logo.png?raw=true\" alt=\"joviano.com\" width=\"5%\">\n",
    "</a>\n",
    "\n",
    "<a href=\"http://www.linkedin.com/in/jovianosilveira\">\n",
    "<img src=\"https://github.com/jovianosilveira/img/blob/master/joviano-silveira-linkedin-logo.png?raw=true\" alt=\"joviano.com\" width=\"5%\">\n",
    "</a>\n",
    "\n",
    "<a href=\"https://www.instagram.com/jovi.silveira\">\n",
    "<img src=\"https://github.com/jovianosilveira/img/blob/master/joviano-silveira-instagram-logo.png?raw=true\" alt=\"joviano.com\" width=\"5%\">\n",
    "</a>\n",
    "\n",
    "<a href=\"https://www.facebook.com/jovi.silveira.cursos\">\n",
    "<img src=\"https://github.com/jovianosilveira/img/blob/master/joviano-silveira-facebook-logo.png?raw=true\" alt=\"joviano.com\" width=\"5%\">\n",
    "</a>"
   ]
  },
  {
   "cell_type": "code",
   "execution_count": null,
   "metadata": {},
   "outputs": [],
   "source": []
  }
 ],
 "metadata": {
  "colab": {
   "collapsed_sections": [],
   "name": "[Template] Analisando os Dados do Airbnb.ipynb",
   "provenance": []
  },
  "kernelspec": {
   "display_name": "Python 3",
   "language": "python",
   "name": "python3"
  },
  "language_info": {
   "codemirror_mode": {
    "name": "ipython",
    "version": 3
   },
   "file_extension": ".py",
   "mimetype": "text/x-python",
   "name": "python",
   "nbconvert_exporter": "python",
   "pygments_lexer": "ipython3",
   "version": "3.6.6"
  }
 },
 "nbformat": 4,
 "nbformat_minor": 1
}
