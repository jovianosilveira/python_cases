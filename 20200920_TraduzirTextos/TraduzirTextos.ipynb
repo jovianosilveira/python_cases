{
  "nbformat": 4,
  "nbformat_minor": 0,
  "metadata": {
    "colab": {
      "name": "Traduzir Textos.ipynb",
      "provenance": [],
      "collapsed_sections": [],
      "toc_visible": true
    },
    "kernelspec": {
      "name": "python3",
      "display_name": "Python 3"
    }
  },
  "cells": [
    {
      "cell_type": "markdown",
      "metadata": {
        "id": "R_vwrmxPX-87",
        "colab_type": "text"
      },
      "source": [
        "# **Traduzindo textos com Python**\n",
        "*by [JOVIANO SILVEIRA](https://www.joviano.com)*"
      ]
    },
    {
      "cell_type": "markdown",
      "metadata": {
        "id": "AM-ukZ_rf-6i",
        "colab_type": "text"
      },
      "source": [
        "<center><img width=\"45%\" src=\"https://raw.githubusercontent.com/jovianosilveira/img/master/joviano-silveira-algoritmo-traducao.png\"></center>"
      ]
    },
    {
      "cell_type": "markdown",
      "metadata": {
        "id": "jRsOCBVnYQJb",
        "colab_type": "text"
      },
      "source": [
        "Recorrentemente necessitamos traduzir dados de nossos datasets, sejam eles do Python, ou mesmo em um Power BI, e poderia você pensar que teria que ter os dados gravados em duas linguagens, mas não!\n",
        "\n",
        "Claro que o ideal, por questão de contexto, é gravar ter os dados gravados nas referidas linguagens, mas quando você precisa de uma conversão automática, esse script pode te ajudar"
      ]
    },
    {
      "cell_type": "markdown",
      "metadata": {
        "id": "ae5PSL9xY14h",
        "colab_type": "text"
      },
      "source": [
        "##**EXPLICANDO O COMANDO**"
      ]
    },
    {
      "cell_type": "code",
      "metadata": {
        "id": "0lWs9RUgSDkX",
        "colab_type": "code",
        "colab": {}
      },
      "source": [
        "# importando biblioteca\n",
        "# -q serve para não aparecer as mensagens \"chatas\"\n",
        "# ! serve para instalar no Colab | se for no local, basta instalar 1 só vez, sem o !\n",
        "# documentação: https://py-googletrans.readthedocs.io/en/latest/\n",
        "! pip install googletrans -q"
      ],
      "execution_count": 1,
      "outputs": []
    },
    {
      "cell_type": "code",
      "metadata": {
        "id": "_JqA18JlSZj9",
        "colab_type": "code",
        "colab": {}
      },
      "source": [
        "# importando a bibliotecas usadas no projeto\n",
        "from googletrans import Translator\n",
        "from datetime import datetime\n",
        "import time\n",
        "import pandas as pd"
      ],
      "execution_count": 2,
      "outputs": []
    },
    {
      "cell_type": "code",
      "metadata": {
        "id": "8Uo0ZHDDSFGe",
        "colab_type": "code",
        "colab": {
          "base_uri": "https://localhost:8080/",
          "height": 35
        },
        "outputId": "49f638fe-2888-4c09-de7f-c41849e5f429"
      },
      "source": [
        "# Setando tradutos com a linguagem destino\n",
        "translator = Translator()\n",
        "translator.translate('eu sou feliz', src='pt', dest = 'en').text"
      ],
      "execution_count": 3,
      "outputs": [
        {
          "output_type": "execute_result",
          "data": {
            "application/vnd.google.colaboratory.intrinsic+json": {
              "type": "string"
            },
            "text/plain": [
              "'I am happy'"
            ]
          },
          "metadata": {
            "tags": []
          },
          "execution_count": 3
        }
      ]
    },
    {
      "cell_type": "markdown",
      "metadata": {
        "id": "XXa9s4yXcxSW",
        "colab_type": "text"
      },
      "source": [
        "##**SIMULANDO UM DATASET COM SUA QUANTIDADE DE LINHAS**"
      ]
    },
    {
      "cell_type": "code",
      "metadata": {
        "id": "4YnNwFcHZduj",
        "colab_type": "code",
        "colab": {}
      },
      "source": [
        "# quantas linhas eu quero?\n",
        "linhas = 100"
      ],
      "execution_count": 4,
      "outputs": []
    },
    {
      "cell_type": "code",
      "metadata": {
        "id": "3B1g5k_Dcu9N",
        "colab_type": "code",
        "colab": {
          "base_uri": "https://localhost:8080/",
          "height": 35
        },
        "outputId": "bf218f53-85e2-4b2d-ac8f-b7e561c5b901"
      },
      "source": [
        "# criar uma lista com a quantidade de linhas\n",
        "lista = range(linhas)\n",
        "\n",
        "# para cada item da lista, criar fazer apend em nova lista, com uma frase padrão\n",
        "frases = []\n",
        "for i in lista:\n",
        "  i = 'o livro está sobre a mesa'\n",
        "  frases.append(i)\n",
        "# mostrar quantidade de frases criadas\n",
        "len(frases)"
      ],
      "execution_count": 5,
      "outputs": [
        {
          "output_type": "execute_result",
          "data": {
            "text/plain": [
              "100"
            ]
          },
          "metadata": {
            "tags": []
          },
          "execution_count": 5
        }
      ]
    },
    {
      "cell_type": "markdown",
      "metadata": {
        "id": "rPp0RJ2jhjPF",
        "colab_type": "text"
      },
      "source": [
        "<center><img width=\"45%\" src=\"https://github.com/jovianosilveira/img/blob/master/joviano-silveira-a-gente-ja-chegou-while.jpg?raw=true\"></center>\n",
        "\n",
        "Criei um LOOP, pois o serviço de tradução mostrou \"instabilidade\" na tradução, a qual pode ser explicada pelo fato de o Google disponibilizar uma API para tradução, PAGA E EM USD.\n",
        "\n",
        "Logo, para \"contornar\" a situação, criei um \"verificador\", ou seja, se a frase traduzida é igual a frase original, então volta ao inicio da lista depois de 10 segundos.\n",
        "\n",
        "*como cada texto será buscado na internet, e alimentará seu dataset, isso pode levar uns minutos. Imagine você, copiando texto, colando no tradutor, pegando a tradução, e colando no dataset... é isso que ele fará*"
      ]
    },
    {
      "cell_type": "code",
      "metadata": {
        "id": "07SSYIBjeEK6",
        "colab_type": "code",
        "colab": {
          "base_uri": "https://localhost:8080/",
          "height": 1000
        },
        "outputId": "302afe2d-8826-4909-ccf7-45cb34d11155"
      },
      "source": [
        "# data e hora inicial do loop para medirmos a performance\n",
        "ini = datetime.now() \n",
        "# lista vazia, que será alimentada no loop\n",
        "frases_traduzidas = [] \n",
        "\n",
        "#quantidade de frases original\n",
        "qtd_frases = len(frases) \n",
        "qtd_frases_total = qtd_frases \n",
        "\n",
        "#carregar variavel para o Loop poder iniciar\n",
        "a = 'a'\n",
        "b = 'b'\n",
        "\n",
        "while qtd_frases > 0:\n",
        "\n",
        "  if a != b:\n",
        "    \n",
        "    #remover a ultima linha da lista\n",
        "    a = frases[0] \n",
        "\n",
        "    # tentar traduzir\n",
        "    b = translator.translate(a, src='pt', dest = 'en').text \n",
        "\n",
        "  if a != b: # se conseguiu traduzir...\n",
        "\n",
        "    # remover a primeira linha da lista\n",
        "    frases = frases[1:] \n",
        "\n",
        "    # adicionar a tradução na lista\n",
        "    frases_traduzidas = frases_traduzidas + [b] \n",
        "    print(qtd_frases, b)\n",
        "\n",
        "  else:  # se o Google não traduziu...\n",
        "    # em caso de break, esperar 10 segundos para retomar\n",
        "    time.sleep(10) \n",
        "\n",
        "  # carregar variavel para o Loop poder voltar ao inicio do loop\n",
        "  b = 'b'\n",
        "  a = 'a'   \n",
        "\n",
        "  # contar quantas frases sobraram, se maior que zero, reinicia o loop\n",
        "  qtd_frases = len(frases)\n",
        "\n",
        "# data e hora final do loop para medirmos a performance\n",
        "fim = datetime.now() \n",
        "\n",
        "#tempo delta\n",
        "tempo = fim-ini \n",
        "\n",
        "print('tempo total foi:',tempo)\n",
        "print('tempo por linha foi:', tempo / qtd_frases_total)"
      ],
      "execution_count": 6,
      "outputs": [
        {
          "output_type": "stream",
          "text": [
            "100 the book is on the table\n",
            "99 the book is on the table\n",
            "98 the book is on the table\n",
            "97 the book is on the table\n",
            "96 the book is on the table\n",
            "95 the book is on the table\n",
            "94 the book is on the table\n",
            "93 the book is on the table\n",
            "92 the book is on the table\n",
            "91 the book is on the table\n",
            "90 the book is on the table\n",
            "89 the book is on the table\n",
            "88 the book is on the table\n",
            "87 the book is on the table\n",
            "86 the book is on the table\n",
            "85 the book is on the table\n",
            "84 the book is on the table\n",
            "83 the book is on the table\n",
            "82 the book is on the table\n",
            "81 the book is on the table\n",
            "80 the book is on the table\n",
            "79 the book is on the table\n",
            "78 the book is on the table\n",
            "77 the book is on the table\n",
            "76 the book is on the table\n",
            "75 the book is on the table\n",
            "74 the book is on the table\n",
            "73 the book is on the table\n",
            "72 the book is on the table\n",
            "71 the book is on the table\n",
            "70 the book is on the table\n",
            "69 the book is on the table\n",
            "68 the book is on the table\n",
            "67 the book is on the table\n",
            "66 the book is on the table\n",
            "65 the book is on the table\n",
            "64 the book is on the table\n",
            "63 the book is on the table\n",
            "62 the book is on the table\n",
            "61 the book is on the table\n",
            "60 the book is on the table\n",
            "59 the book is on the table\n",
            "58 the book is on the table\n",
            "57 the book is on the table\n",
            "56 the book is on the table\n",
            "55 the book is on the table\n",
            "54 the book is on the table\n",
            "53 the book is on the table\n",
            "52 the book is on the table\n",
            "51 the book is on the table\n",
            "50 the book is on the table\n",
            "49 the book is on the table\n",
            "48 the book is on the table\n",
            "47 the book is on the table\n",
            "46 the book is on the table\n",
            "45 the book is on the table\n",
            "44 the book is on the table\n",
            "43 the book is on the table\n",
            "42 the book is on the table\n",
            "41 the book is on the table\n",
            "40 the book is on the table\n",
            "39 the book is on the table\n",
            "38 the book is on the table\n",
            "37 the book is on the table\n",
            "36 the book is on the table\n",
            "35 the book is on the table\n",
            "34 the book is on the table\n",
            "33 the book is on the table\n",
            "32 the book is on the table\n",
            "31 the book is on the table\n",
            "30 the book is on the table\n",
            "29 the book is on the table\n",
            "28 the book is on the table\n",
            "27 the book is on the table\n",
            "26 the book is on the table\n",
            "25 the book is on the table\n",
            "24 the book is on the table\n",
            "23 the book is on the table\n",
            "22 the book is on the table\n",
            "21 the book is on the table\n",
            "20 the book is on the table\n",
            "19 the book is on the table\n",
            "18 the book is on the table\n",
            "17 the book is on the table\n",
            "16 the book is on the table\n",
            "15 the book is on the table\n",
            "14 the book is on the table\n",
            "13 the book is on the table\n",
            "12 the book is on the table\n",
            "11 the book is on the table\n",
            "10 the book is on the table\n",
            "9 the book is on the table\n",
            "8 the book is on the table\n",
            "7 the book is on the table\n",
            "6 the book is on the table\n",
            "5 the book is on the table\n",
            "4 the book is on the table\n",
            "3 the book is on the table\n",
            "2 the book is on the table\n",
            "1 the book is on the table\n",
            "tempo total foi: 0:00:05.219954\n",
            "tempo por linha foi: 0:00:00.052200\n"
          ],
          "name": "stdout"
        }
      ]
    },
    {
      "cell_type": "markdown",
      "metadata": {
        "id": "CebgQ3v8jeZB",
        "colab_type": "text"
      },
      "source": [
        "##**E SE EU TIVER UMA TABELA? COMO EU FAÇO?**"
      ]
    },
    {
      "cell_type": "markdown",
      "metadata": {
        "id": "LuVnwECejtGi",
        "colab_type": "text"
      },
      "source": [
        "### Criando uma tabela"
      ]
    },
    {
      "cell_type": "code",
      "metadata": {
        "id": "SWbBq7RXXbkl",
        "colab_type": "code",
        "colab": {
          "base_uri": "https://localhost:8080/",
          "height": 35
        },
        "outputId": "32e91c57-0d42-4afe-d6a2-b969dcbb016f"
      },
      "source": [
        "# quantas linhas eu quero?\n",
        "linhas = 100\n",
        "\n",
        "# criar uma lista com a quantidade de linhas\n",
        "lista = range(linhas)\n",
        "\n",
        "# para cada item da lista, criar fazer apend em nova lista, com uma frase padrão\n",
        "frases = []\n",
        "for i in lista:\n",
        "  i = 'o livro está sobre a mesa'\n",
        "  frases.append(i)\n",
        "# mostrar quantidade de frases criadas\n",
        "len(frases)"
      ],
      "execution_count": 7,
      "outputs": [
        {
          "output_type": "execute_result",
          "data": {
            "text/plain": [
              "100"
            ]
          },
          "metadata": {
            "tags": []
          },
          "execution_count": 7
        }
      ]
    },
    {
      "cell_type": "code",
      "metadata": {
        "id": "RZKS3aoJjsBi",
        "colab_type": "code",
        "colab": {
          "base_uri": "https://localhost:8080/",
          "height": 407
        },
        "outputId": "97336e29-5329-4d68-8c4c-aeba1403132c"
      },
      "source": [
        "df = pd.DataFrame(frases, columns=['FraseOriginal'])\n",
        "df"
      ],
      "execution_count": 8,
      "outputs": [
        {
          "output_type": "execute_result",
          "data": {
            "text/html": [
              "<div>\n",
              "<style scoped>\n",
              "    .dataframe tbody tr th:only-of-type {\n",
              "        vertical-align: middle;\n",
              "    }\n",
              "\n",
              "    .dataframe tbody tr th {\n",
              "        vertical-align: top;\n",
              "    }\n",
              "\n",
              "    .dataframe thead th {\n",
              "        text-align: right;\n",
              "    }\n",
              "</style>\n",
              "<table border=\"1\" class=\"dataframe\">\n",
              "  <thead>\n",
              "    <tr style=\"text-align: right;\">\n",
              "      <th></th>\n",
              "      <th>FraseOriginal</th>\n",
              "    </tr>\n",
              "  </thead>\n",
              "  <tbody>\n",
              "    <tr>\n",
              "      <th>0</th>\n",
              "      <td>o livro está sobre a mesa</td>\n",
              "    </tr>\n",
              "    <tr>\n",
              "      <th>1</th>\n",
              "      <td>o livro está sobre a mesa</td>\n",
              "    </tr>\n",
              "    <tr>\n",
              "      <th>2</th>\n",
              "      <td>o livro está sobre a mesa</td>\n",
              "    </tr>\n",
              "    <tr>\n",
              "      <th>3</th>\n",
              "      <td>o livro está sobre a mesa</td>\n",
              "    </tr>\n",
              "    <tr>\n",
              "      <th>4</th>\n",
              "      <td>o livro está sobre a mesa</td>\n",
              "    </tr>\n",
              "    <tr>\n",
              "      <th>...</th>\n",
              "      <td>...</td>\n",
              "    </tr>\n",
              "    <tr>\n",
              "      <th>95</th>\n",
              "      <td>o livro está sobre a mesa</td>\n",
              "    </tr>\n",
              "    <tr>\n",
              "      <th>96</th>\n",
              "      <td>o livro está sobre a mesa</td>\n",
              "    </tr>\n",
              "    <tr>\n",
              "      <th>97</th>\n",
              "      <td>o livro está sobre a mesa</td>\n",
              "    </tr>\n",
              "    <tr>\n",
              "      <th>98</th>\n",
              "      <td>o livro está sobre a mesa</td>\n",
              "    </tr>\n",
              "    <tr>\n",
              "      <th>99</th>\n",
              "      <td>o livro está sobre a mesa</td>\n",
              "    </tr>\n",
              "  </tbody>\n",
              "</table>\n",
              "<p>100 rows × 1 columns</p>\n",
              "</div>"
            ],
            "text/plain": [
              "                FraseOriginal\n",
              "0   o livro está sobre a mesa\n",
              "1   o livro está sobre a mesa\n",
              "2   o livro está sobre a mesa\n",
              "3   o livro está sobre a mesa\n",
              "4   o livro está sobre a mesa\n",
              "..                        ...\n",
              "95  o livro está sobre a mesa\n",
              "96  o livro está sobre a mesa\n",
              "97  o livro está sobre a mesa\n",
              "98  o livro está sobre a mesa\n",
              "99  o livro está sobre a mesa\n",
              "\n",
              "[100 rows x 1 columns]"
            ]
          },
          "metadata": {
            "tags": []
          },
          "execution_count": 8
        }
      ]
    },
    {
      "cell_type": "code",
      "metadata": {
        "id": "c6kusySgkyu9",
        "colab_type": "code",
        "colab": {}
      },
      "source": [
        "# Criando função resumida\n",
        "def TraduzirColuna(texto, origem, destino):\n",
        "  a = 'a'\n",
        "  b = 'a'\n",
        "  while a == b:\n",
        "    b = translator.translate(texto, src=origem, dest = destino).text\n",
        "    if a != b:\n",
        "      c = b\n",
        "  return c"
      ],
      "execution_count": 9,
      "outputs": []
    },
    {
      "cell_type": "code",
      "metadata": {
        "id": "75Iv5eiKkOat",
        "colab_type": "code",
        "colab": {
          "base_uri": "https://localhost:8080/",
          "height": 444
        },
        "outputId": "11bc46f5-0d72-40e1-8280-59afebc533e5"
      },
      "source": [
        "# data e hora inicial do loop para medirmos a performance\n",
        "ini = datetime.now() \n",
        "\n",
        "# Iterando linha a linha com Lambda\n",
        "df['FraseTraduzida'] = df['FraseOriginal'].apply(lambda x: TraduzirColuna(x, 'pt', 'en'))\n",
        "\n",
        "# data e hora final do loop para medirmos a performance\n",
        "fim = datetime.now() \n",
        "\n",
        "#tempo delta\n",
        "tempo = fim-ini \n",
        "\n",
        "print('tempo total foi:',tempo)\n",
        "print('tempo por linha foi:', tempo / qtd_frases_total)\n",
        "\n",
        "df"
      ],
      "execution_count": 10,
      "outputs": [
        {
          "output_type": "stream",
          "text": [
            "tempo total foi: 0:00:05.251014\n",
            "tempo por linha foi: 0:00:00.052510\n"
          ],
          "name": "stdout"
        },
        {
          "output_type": "execute_result",
          "data": {
            "text/html": [
              "<div>\n",
              "<style scoped>\n",
              "    .dataframe tbody tr th:only-of-type {\n",
              "        vertical-align: middle;\n",
              "    }\n",
              "\n",
              "    .dataframe tbody tr th {\n",
              "        vertical-align: top;\n",
              "    }\n",
              "\n",
              "    .dataframe thead th {\n",
              "        text-align: right;\n",
              "    }\n",
              "</style>\n",
              "<table border=\"1\" class=\"dataframe\">\n",
              "  <thead>\n",
              "    <tr style=\"text-align: right;\">\n",
              "      <th></th>\n",
              "      <th>FraseOriginal</th>\n",
              "      <th>FraseTraduzida</th>\n",
              "    </tr>\n",
              "  </thead>\n",
              "  <tbody>\n",
              "    <tr>\n",
              "      <th>0</th>\n",
              "      <td>o livro está sobre a mesa</td>\n",
              "      <td>the book is on the table</td>\n",
              "    </tr>\n",
              "    <tr>\n",
              "      <th>1</th>\n",
              "      <td>o livro está sobre a mesa</td>\n",
              "      <td>the book is on the table</td>\n",
              "    </tr>\n",
              "    <tr>\n",
              "      <th>2</th>\n",
              "      <td>o livro está sobre a mesa</td>\n",
              "      <td>the book is on the table</td>\n",
              "    </tr>\n",
              "    <tr>\n",
              "      <th>3</th>\n",
              "      <td>o livro está sobre a mesa</td>\n",
              "      <td>the book is on the table</td>\n",
              "    </tr>\n",
              "    <tr>\n",
              "      <th>4</th>\n",
              "      <td>o livro está sobre a mesa</td>\n",
              "      <td>the book is on the table</td>\n",
              "    </tr>\n",
              "    <tr>\n",
              "      <th>...</th>\n",
              "      <td>...</td>\n",
              "      <td>...</td>\n",
              "    </tr>\n",
              "    <tr>\n",
              "      <th>95</th>\n",
              "      <td>o livro está sobre a mesa</td>\n",
              "      <td>the book is on the table</td>\n",
              "    </tr>\n",
              "    <tr>\n",
              "      <th>96</th>\n",
              "      <td>o livro está sobre a mesa</td>\n",
              "      <td>the book is on the table</td>\n",
              "    </tr>\n",
              "    <tr>\n",
              "      <th>97</th>\n",
              "      <td>o livro está sobre a mesa</td>\n",
              "      <td>the book is on the table</td>\n",
              "    </tr>\n",
              "    <tr>\n",
              "      <th>98</th>\n",
              "      <td>o livro está sobre a mesa</td>\n",
              "      <td>the book is on the table</td>\n",
              "    </tr>\n",
              "    <tr>\n",
              "      <th>99</th>\n",
              "      <td>o livro está sobre a mesa</td>\n",
              "      <td>the book is on the table</td>\n",
              "    </tr>\n",
              "  </tbody>\n",
              "</table>\n",
              "<p>100 rows × 2 columns</p>\n",
              "</div>"
            ],
            "text/plain": [
              "                FraseOriginal            FraseTraduzida\n",
              "0   o livro está sobre a mesa  the book is on the table\n",
              "1   o livro está sobre a mesa  the book is on the table\n",
              "2   o livro está sobre a mesa  the book is on the table\n",
              "3   o livro está sobre a mesa  the book is on the table\n",
              "4   o livro está sobre a mesa  the book is on the table\n",
              "..                        ...                       ...\n",
              "95  o livro está sobre a mesa  the book is on the table\n",
              "96  o livro está sobre a mesa  the book is on the table\n",
              "97  o livro está sobre a mesa  the book is on the table\n",
              "98  o livro está sobre a mesa  the book is on the table\n",
              "99  o livro está sobre a mesa  the book is on the table\n",
              "\n",
              "[100 rows x 2 columns]"
            ]
          },
          "metadata": {
            "tags": []
          },
          "execution_count": 10
        }
      ]
    },
    {
      "cell_type": "markdown",
      "metadata": {
        "id": "Svt-1BTAnzxn",
        "colab_type": "text"
      },
      "source": [
        "## **CONCLUSÃO**"
      ]
    },
    {
      "cell_type": "markdown",
      "metadata": {
        "id": "NAWondkFn6eo",
        "colab_type": "text"
      },
      "source": [
        "Você pode usar essa tecnica, mas como ela depende de request em um serviço externo, para iterar em seus dados, saiba que pode demorar.\n",
        "\n",
        "Se você precisar usar a técnica, coloque a rodar, e insira os dados no seu banco de dados, para não precisar reexecutar e ficar calculando, calculando....\n",
        "\n",
        "Vejo vocês na próxima"
      ]
    },
    {
      "cell_type": "markdown",
      "metadata": {
        "id": "NgCdLZ59ojcC",
        "colab_type": "text"
      },
      "source": [
        "### Conheça meu trabalho\n",
        "\n",
        "<a href=\"https://www.joviano.com\">\n",
        "<img src=\"https://raw.githubusercontent.com/jovianosilveira/img/master/joviano-silveira-site-logo.png\" alt=\"joviano.com\" width=\"5%\">\n",
        "</a>\n",
        "\n",
        "<a href=\"https://www.youtube.com/jovianosilveira\">\n",
        "<img src=\"https://github.com/jovianosilveira/img/blob/master/joviano-silveira-youtube-logo.png?raw=true\" alt=\"joviano.com\" width=\"5%\">\n",
        "</a>\n",
        "\n",
        "<a href=\"http://www.linkedin.com/in/jovianosilveira\">\n",
        "<img src=\"https://github.com/jovianosilveira/img/blob/master/joviano-silveira-linkedin-logo.png?raw=true\" alt=\"joviano.com\" width=\"5%\">\n",
        "</a>\n",
        "\n",
        "<a href=\"https://www.instagram.com/jovi.silveira\">\n",
        "<img src=\"https://github.com/jovianosilveira/img/blob/master/joviano-silveira-instagram-logo.png?raw=true\" alt=\"joviano.com\" width=\"5%\">\n",
        "</a>\n",
        "\n",
        "<a href=\"https://www.facebook.com/jovi.silveira.cursos\">\n",
        "<img src=\"https://github.com/jovianosilveira/img/blob/master/joviano-silveira-facebook-logo.png?raw=true\" alt=\"joviano.com\" width=\"5%\">\n",
        "</a>"
      ]
    },
    {
      "cell_type": "markdown",
      "metadata": {
        "id": "Znxm4GXjtDYE",
        "colab_type": "text"
      },
      "source": [
        "### Conheça os cursos que fiz para você\n",
        "\n",
        "<a href=\"https://www.joviano.com/cursos-para-voce\">\n",
        "<img src=\"https://github.com/jovianosilveira/img/blob/master/joviano-silveira-cursos-logo.png?raw=true\" alt=\"joviano.com\" width=\"10%\">\n",
        "</a>"
      ]
    }
  ]
}