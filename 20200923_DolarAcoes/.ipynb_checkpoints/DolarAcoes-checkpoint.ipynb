{
 "cells": [
  {
   "cell_type": "markdown",
   "metadata": {
    "colab_type": "text",
    "id": "akfbR7QzZcto"
   },
   "source": [
    "<center><img width=\"60%\" src=\"https://github.com/jovianosilveira/img/blob/master/joviano-silveira-cotacoes-moedas-acoes-python-google-finance.png?raw=true\"></center>"
   ]
  },
  {
   "cell_type": "markdown",
   "metadata": {
    "colab_type": "text",
    "id": "Jl-gvJZrXRWm"
   },
   "source": [
    "# **Cotações de moedas e ações**\n",
    "*by [JOVIANO SILVEIRA](https://www.joviano.com)*\n",
    "\n",
    "\n",
    "Vamos então carregar dados com Python carregando os dados do Google Finanças (através do Google Sheets), do Yahoo Finanças (através do pandas_datareader), e de quebra, a cotação histórica do Dolar através de API do Governo Brasileiro.\n",
    "\n"
   ]
  },
  {
   "cell_type": "markdown",
   "metadata": {
    "colab_type": "text",
    "id": "quKFvX4CaBsc"
   },
   "source": [
    "Obter preços históricos de ações  nunca foi tão fácil, rápido e barato.\n",
    "\n",
    "Existem API's no mercado, usado por day traders, para consulta de dados em REAL TIME, mas, escrevi 3 métodos para obtenção de cotações históricas para nós pobres mortais, que querem analisar o passado, sem passar por aquele diário frio na barriga."
   ]
  },
  {
   "cell_type": "markdown",
   "metadata": {
    "colab_type": "text",
    "id": "AYLfO4oRVDlt"
   },
   "source": [
    "Ah, o intuito desse artigo é te mostrar como capturar os dados. \n",
    "\n",
    "Gerar os gráficos é assunto para um próximo artigo."
   ]
  },
  {
   "cell_type": "markdown",
   "metadata": {
    "colab_type": "text",
    "id": "Amq14KZvbjdW"
   },
   "source": [
    "Antes de começar, foque em tudo, não só na obtenção de dados...ou seja, veja como aplicamos conceitos basicos de programação com Python, usando laços, dicionarios entre vários outros macetes."
   ]
  },
  {
   "cell_type": "markdown",
   "metadata": {
    "colab_type": "text",
    "id": "nXhAtJ5yaY6f"
   },
   "source": [
    "## Bibliotecas usadas no projeto"
   ]
  },
  {
   "cell_type": "code",
   "execution_count": 1,
   "metadata": {
    "colab": {
     "base_uri": "https://localhost:8080/",
     "height": 54
    },
    "colab_type": "code",
    "id": "HUN0-A_PPfvk",
    "outputId": "5cd03cdf-0930-4a3b-85ea-96213c42e868"
   },
   "outputs": [
    {
     "name": "stderr",
     "output_type": "stream",
     "text": [
      "C:\\ProgramData\\Anaconda3\\lib\\site-packages\\pandas_datareader\\compat\\__init__.py:7: FutureWarning: pandas.util.testing is deprecated. Use the functions in the public API at pandas.testing instead.\n",
      "  from pandas.util.testing import assert_frame_equal\n"
     ]
    }
   ],
   "source": [
    "# importando bibliotecas necessárias\n",
    "import pandas as pd;\n",
    "import pandas_datareader as pdr;\n",
    "import datetime;"
   ]
  },
  {
   "cell_type": "code",
   "execution_count": 2,
   "metadata": {
    "colab": {
     "base_uri": "https://localhost:8080/",
     "height": 35
    },
    "colab_type": "code",
    "id": "Pnf7VNDae0ZK",
    "outputId": "ba090284-3980-42ee-cabe-03ffbf7ee197"
   },
   "outputs": [
    {
     "name": "stdout",
     "output_type": "stream",
     "text": [
      "2019-09-23 | 2020-09-23\n"
     ]
    }
   ],
   "source": [
    "# Carregar variaveis que serão usadas por várias partes do código\n",
    "vHoje = datetime.date.today()\n",
    "vDataFim = vHoje\n",
    "vDataIni = vDataFim.replace(year = (vHoje.year-1) )\n",
    "print(vDataIni,\"|\",vDataFim)"
   ]
  },
  {
   "cell_type": "markdown",
   "metadata": {
    "colab_type": "text",
    "id": "YBcFAAMiaGSH"
   },
   "source": [
    "## Método 1 - Planilha do Google & Python"
   ]
  },
  {
   "cell_type": "markdown",
   "metadata": {
    "colab_type": "text",
    "id": "KNAzTMEuQjsZ"
   },
   "source": [
    "Primeiramente crie uma pasta no seu Google Drive, para salvar as planilhas que você gerará, que receberão os dados do Google Finance.\n",
    "\n",
    "As formulas a usar nas planilhas são bem simples e intuitivas. Em caso de duvidas, basta acessar a [documentação](https://https://support.google.com/docs/answer/3093281?hl=pt-BR)."
   ]
  },
  {
   "cell_type": "markdown",
   "metadata": {
    "colab_type": "text",
    "id": "mNh_V10-RWzC"
   },
   "source": [
    "Eu criei uma planilha, buscando os dados da cotação do dolar (em uma aba) e as cotações das ações do Magazine Luiza (em outra aba) dos ultimo ano.\n",
    "\n",
    "Depois de criar essas formulas, cliquei em compartilhar, e copiei o link, e agora só trabalhar com a planilha aqui no Python"
   ]
  },
  {
   "cell_type": "markdown",
   "metadata": {
    "colab_type": "text",
    "id": "GCzGe1ghcaVJ"
   },
   "source": [
    "Vamos alterar o sufixo do arquivo, para poder obter o arquivo passivel de leitura:"
   ]
  },
  {
   "cell_type": "code",
   "execution_count": 3,
   "metadata": {
    "colab": {
     "base_uri": "https://localhost:8080/",
     "height": 35
    },
    "colab_type": "code",
    "id": "H05a9MruPiAb",
    "outputId": "038a8af5-f537-471f-ae27-cecb7cc89e6d"
   },
   "outputs": [
    {
     "data": {
      "application/vnd.google.colaboratory.intrinsic+json": {
       "type": "string"
      },
      "text/plain": [
       "'https://docs.google.com/spreadsheets/d/14myIkRTo_EtWu11j_h8ZczV1Bexo3cC-ObEJynKmVms/export?format=xlsx'"
      ]
     },
     "execution_count": 3,
     "metadata": {
      "tags": []
     },
     "output_type": "execute_result"
    }
   ],
   "source": [
    "# Link de compartilhamento da minha planilha criada\n",
    "# você tem acesso a essa planilha com esse link, pois é um arquivo meu, compartilhado\n",
    "planilha = 'https://docs.google.com/spreadsheets/d/14myIkRTo_EtWu11j_h8ZczV1Bexo3cC-ObEJynKmVms/edit?usp=sharing'\n",
    "\n",
    "# Alterando o sufixo do link, para buscar um arquivo com leitura direta\n",
    "planilha = planilha.replace('/edit?usp=sharing', '/export?format=xlsx')\n",
    "planilha"
   ]
  },
  {
   "cell_type": "code",
   "execution_count": 4,
   "metadata": {
    "colab": {
     "base_uri": "https://localhost:8080/",
     "height": 407
    },
    "colab_type": "code",
    "id": "7jV86HIuQSHz",
    "outputId": "6835b2cd-c990-4dc2-e411-6c79fa9a8c46"
   },
   "outputs": [
    {
     "data": {
      "text/html": [
       "<div>\n",
       "<style scoped>\n",
       "    .dataframe tbody tr th:only-of-type {\n",
       "        vertical-align: middle;\n",
       "    }\n",
       "\n",
       "    .dataframe tbody tr th {\n",
       "        vertical-align: top;\n",
       "    }\n",
       "\n",
       "    .dataframe thead th {\n",
       "        text-align: right;\n",
       "    }\n",
       "</style>\n",
       "<table border=\"1\" class=\"dataframe\">\n",
       "  <thead>\n",
       "    <tr style=\"text-align: right;\">\n",
       "      <th></th>\n",
       "      <th>Date</th>\n",
       "      <th>Close</th>\n",
       "    </tr>\n",
       "  </thead>\n",
       "  <tbody>\n",
       "    <tr>\n",
       "      <th>363</th>\n",
       "      <td>2020-09-22 23:57:59.904</td>\n",
       "      <td>5.47140</td>\n",
       "    </tr>\n",
       "    <tr>\n",
       "      <th>362</th>\n",
       "      <td>2020-09-21 23:57:59.904</td>\n",
       "      <td>5.41410</td>\n",
       "    </tr>\n",
       "    <tr>\n",
       "      <th>361</th>\n",
       "      <td>2020-09-20 23:57:59.904</td>\n",
       "      <td>5.39130</td>\n",
       "    </tr>\n",
       "    <tr>\n",
       "      <th>360</th>\n",
       "      <td>2020-09-19 23:57:59.904</td>\n",
       "      <td>5.39130</td>\n",
       "    </tr>\n",
       "    <tr>\n",
       "      <th>359</th>\n",
       "      <td>2020-09-18 23:57:59.904</td>\n",
       "      <td>5.39130</td>\n",
       "    </tr>\n",
       "    <tr>\n",
       "      <th>...</th>\n",
       "      <td>...</td>\n",
       "      <td>...</td>\n",
       "    </tr>\n",
       "    <tr>\n",
       "      <th>4</th>\n",
       "      <td>2019-09-28 23:57:59.904</td>\n",
       "      <td>4.17005</td>\n",
       "    </tr>\n",
       "    <tr>\n",
       "      <th>3</th>\n",
       "      <td>2019-09-27 23:57:59.904</td>\n",
       "      <td>4.15870</td>\n",
       "    </tr>\n",
       "    <tr>\n",
       "      <th>2</th>\n",
       "      <td>2019-09-26 23:57:59.904</td>\n",
       "      <td>4.17030</td>\n",
       "    </tr>\n",
       "    <tr>\n",
       "      <th>1</th>\n",
       "      <td>2019-09-25 23:57:59.904</td>\n",
       "      <td>4.14860</td>\n",
       "    </tr>\n",
       "    <tr>\n",
       "      <th>0</th>\n",
       "      <td>2019-09-24 23:57:59.904</td>\n",
       "      <td>4.16320</td>\n",
       "    </tr>\n",
       "  </tbody>\n",
       "</table>\n",
       "<p>364 rows × 2 columns</p>\n",
       "</div>"
      ],
      "text/plain": [
       "                       Date    Close\n",
       "363 2020-09-22 23:57:59.904  5.47140\n",
       "362 2020-09-21 23:57:59.904  5.41410\n",
       "361 2020-09-20 23:57:59.904  5.39130\n",
       "360 2020-09-19 23:57:59.904  5.39130\n",
       "359 2020-09-18 23:57:59.904  5.39130\n",
       "..                      ...      ...\n",
       "4   2019-09-28 23:57:59.904  4.17005\n",
       "3   2019-09-27 23:57:59.904  4.15870\n",
       "2   2019-09-26 23:57:59.904  4.17030\n",
       "1   2019-09-25 23:57:59.904  4.14860\n",
       "0   2019-09-24 23:57:59.904  4.16320\n",
       "\n",
       "[364 rows x 2 columns]"
      ]
     },
     "execution_count": 4,
     "metadata": {
      "tags": []
     },
     "output_type": "execute_result"
    }
   ],
   "source": [
    "# Cotação do Dolar\n",
    "dolar = pd.read_excel(planilha,sheet_name='Dolar')\n",
    "\n",
    "# Organizei por data, para que a mais recente ficasse primeiro\n",
    "dolar = dolar.sort_values(by = ['Date'], ascending=False)\n",
    "\n",
    "# mostrando dataset\n",
    "dolar"
   ]
  },
  {
   "cell_type": "markdown",
   "metadata": {
    "colab_type": "text",
    "id": "EUNMKfh6SN7V"
   },
   "source": [
    "Com esse método, a planilha \"se atualiza\" sozinha, ou seja, de você invocar o link, ele vai fazer o download do arquivo, o qual tem em sua formula um \"TODAY()\" como parametro de data fim, logo, os dados serão atualizados até o mais recente possivel."
   ]
  },
  {
   "cell_type": "markdown",
   "metadata": {
    "colab_type": "text",
    "id": "7628V28pSivw"
   },
   "source": [
    "Vamos ver a planilha de ações?\n",
    "Olhe só..."
   ]
  },
  {
   "cell_type": "code",
   "execution_count": 5,
   "metadata": {
    "colab": {
     "base_uri": "https://localhost:8080/",
     "height": 198
    },
    "colab_type": "code",
    "id": "kIgtNDxsQ4wJ",
    "outputId": "ee979889-2b96-42a8-f8c5-2d1e91f30741"
   },
   "outputs": [
    {
     "data": {
      "text/html": [
       "<div>\n",
       "<style scoped>\n",
       "    .dataframe tbody tr th:only-of-type {\n",
       "        vertical-align: middle;\n",
       "    }\n",
       "\n",
       "    .dataframe tbody tr th {\n",
       "        vertical-align: top;\n",
       "    }\n",
       "\n",
       "    .dataframe thead th {\n",
       "        text-align: right;\n",
       "    }\n",
       "</style>\n",
       "<table border=\"1\" class=\"dataframe\">\n",
       "  <thead>\n",
       "    <tr style=\"text-align: right;\">\n",
       "      <th></th>\n",
       "      <th>Date</th>\n",
       "      <th>Close</th>\n",
       "    </tr>\n",
       "  </thead>\n",
       "  <tbody>\n",
       "    <tr>\n",
       "      <th>246</th>\n",
       "      <td>2020-09-22 16:56:00.384</td>\n",
       "      <td>89.49</td>\n",
       "    </tr>\n",
       "    <tr>\n",
       "      <th>245</th>\n",
       "      <td>2020-09-21 16:56:00.384</td>\n",
       "      <td>88.70</td>\n",
       "    </tr>\n",
       "    <tr>\n",
       "      <th>244</th>\n",
       "      <td>2020-09-18 16:56:00.384</td>\n",
       "      <td>87.16</td>\n",
       "    </tr>\n",
       "    <tr>\n",
       "      <th>243</th>\n",
       "      <td>2020-09-17 16:56:00.384</td>\n",
       "      <td>87.10</td>\n",
       "    </tr>\n",
       "    <tr>\n",
       "      <th>242</th>\n",
       "      <td>2020-09-16 16:56:00.384</td>\n",
       "      <td>89.17</td>\n",
       "    </tr>\n",
       "  </tbody>\n",
       "</table>\n",
       "</div>"
      ],
      "text/plain": [
       "                       Date  Close\n",
       "246 2020-09-22 16:56:00.384  89.49\n",
       "245 2020-09-21 16:56:00.384  88.70\n",
       "244 2020-09-18 16:56:00.384  87.16\n",
       "243 2020-09-17 16:56:00.384  87.10\n",
       "242 2020-09-16 16:56:00.384  89.17"
      ]
     },
     "execution_count": 5,
     "metadata": {
      "tags": []
     },
     "output_type": "execute_result"
    }
   ],
   "source": [
    "acao_no_google = pd.read_excel(planilha,sheet_name='Magalu')\n",
    "acao_no_google = acao_no_google.sort_values(by = ['Date'], ascending=False)\n",
    "acao_no_google.head()"
   ]
  },
  {
   "cell_type": "markdown",
   "metadata": {
    "colab_type": "text",
    "id": "y78FLgJLdLgn"
   },
   "source": [
    "**Conclusão do método**\n",
    "Você pode criar uma planilha, buscando os dados que bem quer, usando a comodidade das formulas do Google Sheets (que são muito faceis), e depois só chamar aqui no Python, sem a necessidade de inumeras linhas de código."
   ]
  },
  {
   "cell_type": "markdown",
   "metadata": {
    "colab_type": "text",
    "id": "-BsoJQcRaHxD"
   },
   "source": [
    "## Método 2 - Dados disponibilizados pelo Governo\n",
    "**SOMENTE DOLAR**"
   ]
  },
  {
   "cell_type": "markdown",
   "metadata": {
    "colab_type": "text",
    "id": "4E7W1sRolbRw"
   },
   "source": [
    "O governo brasileiro disponibiliza vários dados abertos para analise, os quais podemos citar os indicadores financeiros, a cotação do Dolar, entre outros.\n",
    "\n",
    "Para esse método, vamos buscar a url que retorna as informações necessárias, e vamos invocá-la em nosso projeto."
   ]
  },
  {
   "cell_type": "markdown",
   "metadata": {
    "colab_type": "text",
    "id": "Gh1JmDmkaQb1"
   },
   "source": [
    "Acesse [aqui](https://http://dados.gov.br/dataset/dolar-americano-usd-todos-os-boletins-diarios) a documentação da API."
   ]
  },
  {
   "cell_type": "code",
   "execution_count": 6,
   "metadata": {
    "colab": {},
    "colab_type": "code",
    "id": "9zZQ-Rt6aO55"
   },
   "outputs": [],
   "source": [
    "# link API disponibilizada pelo governo\n",
    "link_gov = \"https://olinda.bcb.gov.br/olinda/servico/PTAX/versao/v1/odata/CotacaoDolarPeriodo(dataInicial=@dataInicial,dataFinalCotacao=@dataFinalCotacao)?@dataInicial='01%2F01%2F1900'&@dataFinalCotacao='09%2F20%2F2020'&$top=100&$format=text/csv&$select=cotacaoCompra,cotacaoVenda,dataHoraCotacao\""
   ]
  },
  {
   "cell_type": "markdown",
   "metadata": {
    "colab_type": "text",
    "id": "0ySCb4m3d3ya"
   },
   "source": [
    "Vimos aqui que no meio da URL temos parametros, que são usados como filtro na busca, logo, identificamos o padrão da data, e vamos \"converter\" nossa data para esse padrão e rfemontar o link com nossas datas definidas"
   ]
  },
  {
   "cell_type": "code",
   "execution_count": 7,
   "metadata": {
    "colab": {},
    "colab_type": "code",
    "id": "Q_jP_BL9cxlo"
   },
   "outputs": [],
   "source": [
    "# função para tratar a data no formato da API\n",
    "def trata_data(x):\n",
    "  m = str(x.month).zfill(2)\n",
    "  d = str(x.day).zfill(2)\n",
    "  y = m + '%2F' + d + '%2F' + str(x.year)\n",
    "  return y"
   ]
  },
  {
   "cell_type": "code",
   "execution_count": 8,
   "metadata": {
    "colab": {},
    "colab_type": "code",
    "id": "brogalfWkfsJ"
   },
   "outputs": [],
   "source": [
    "# dicionario com as datas a alterar\n",
    "datas_alterar = {\n",
    "    '01%2F01%2F1900' : trata_data(vDataIni),\n",
    "    '09%2F20%2F2020' : trata_data(vDataFim)\n",
    "}"
   ]
  },
  {
   "cell_type": "code",
   "execution_count": 9,
   "metadata": {
    "colab": {},
    "colab_type": "code",
    "id": "L713eSbfhF89"
   },
   "outputs": [],
   "source": [
    "# para cada item do dicionario, veja se tem correspondencia no texto...se sim, altere\n",
    "for key in datas_alterar.keys():\n",
    "    link_gov = link_gov.replace(key, datas_alterar[key])"
   ]
  },
  {
   "cell_type": "code",
   "execution_count": 10,
   "metadata": {
    "colab": {
     "base_uri": "https://localhost:8080/",
     "height": 407
    },
    "colab_type": "code",
    "id": "VF0WYAY6fIED",
    "outputId": "a73d03c2-34c9-4a10-a791-cea4aefef089"
   },
   "outputs": [
    {
     "data": {
      "text/html": [
       "<div>\n",
       "<style scoped>\n",
       "    .dataframe tbody tr th:only-of-type {\n",
       "        vertical-align: middle;\n",
       "    }\n",
       "\n",
       "    .dataframe tbody tr th {\n",
       "        vertical-align: top;\n",
       "    }\n",
       "\n",
       "    .dataframe thead th {\n",
       "        text-align: right;\n",
       "    }\n",
       "</style>\n",
       "<table border=\"1\" class=\"dataframe\">\n",
       "  <thead>\n",
       "    <tr style=\"text-align: right;\">\n",
       "      <th></th>\n",
       "      <th>cotacaoCompra</th>\n",
       "      <th>cotacaoVenda</th>\n",
       "      <th>dataHoraCotacao</th>\n",
       "    </tr>\n",
       "  </thead>\n",
       "  <tbody>\n",
       "    <tr>\n",
       "      <th>0</th>\n",
       "      <td>4.1728</td>\n",
       "      <td>4.1734</td>\n",
       "      <td>2019-09-23 13:11:42.21</td>\n",
       "    </tr>\n",
       "    <tr>\n",
       "      <th>1</th>\n",
       "      <td>4.1715</td>\n",
       "      <td>4.1721</td>\n",
       "      <td>2019-09-24 13:07:08.372</td>\n",
       "    </tr>\n",
       "    <tr>\n",
       "      <th>2</th>\n",
       "      <td>4.1821</td>\n",
       "      <td>4.1827</td>\n",
       "      <td>2019-09-25 13:10:01.22</td>\n",
       "    </tr>\n",
       "    <tr>\n",
       "      <th>3</th>\n",
       "      <td>4.1463</td>\n",
       "      <td>4.1469</td>\n",
       "      <td>2019-09-26 13:09:34.075</td>\n",
       "    </tr>\n",
       "    <tr>\n",
       "      <th>4</th>\n",
       "      <td>4.1581</td>\n",
       "      <td>4.1587</td>\n",
       "      <td>2019-09-27 13:08:51.782</td>\n",
       "    </tr>\n",
       "    <tr>\n",
       "      <th>...</th>\n",
       "      <td>...</td>\n",
       "      <td>...</td>\n",
       "      <td>...</td>\n",
       "    </tr>\n",
       "    <tr>\n",
       "      <th>95</th>\n",
       "      <td>4.2471</td>\n",
       "      <td>4.2477</td>\n",
       "      <td>2020-02-06 13:05:35.389</td>\n",
       "    </tr>\n",
       "    <tr>\n",
       "      <th>96</th>\n",
       "      <td>4.307</td>\n",
       "      <td>4.3076</td>\n",
       "      <td>2020-02-07 13:10:22.152</td>\n",
       "    </tr>\n",
       "    <tr>\n",
       "      <th>97</th>\n",
       "      <td>4.3189</td>\n",
       "      <td>4.3195</td>\n",
       "      <td>2020-02-10 13:11:54.282</td>\n",
       "    </tr>\n",
       "    <tr>\n",
       "      <th>98</th>\n",
       "      <td>4.3142</td>\n",
       "      <td>4.3148</td>\n",
       "      <td>2020-02-11 13:05:32.491</td>\n",
       "    </tr>\n",
       "    <tr>\n",
       "      <th>99</th>\n",
       "      <td>4.336</td>\n",
       "      <td>4.3366</td>\n",
       "      <td>2020-02-12 13:04:06.668</td>\n",
       "    </tr>\n",
       "  </tbody>\n",
       "</table>\n",
       "<p>100 rows × 3 columns</p>\n",
       "</div>"
      ],
      "text/plain": [
       "   cotacaoCompra cotacaoVenda          dataHoraCotacao\n",
       "0         4.1728       4.1734   2019-09-23 13:11:42.21\n",
       "1         4.1715       4.1721  2019-09-24 13:07:08.372\n",
       "2         4.1821       4.1827   2019-09-25 13:10:01.22\n",
       "3         4.1463       4.1469  2019-09-26 13:09:34.075\n",
       "4         4.1581       4.1587  2019-09-27 13:08:51.782\n",
       "..           ...          ...                      ...\n",
       "95        4.2471       4.2477  2020-02-06 13:05:35.389\n",
       "96         4.307       4.3076  2020-02-07 13:10:22.152\n",
       "97        4.3189       4.3195  2020-02-10 13:11:54.282\n",
       "98        4.3142       4.3148  2020-02-11 13:05:32.491\n",
       "99         4.336       4.3366  2020-02-12 13:04:06.668\n",
       "\n",
       "[100 rows x 3 columns]"
      ]
     },
     "execution_count": 10,
     "metadata": {
      "tags": []
     },
     "output_type": "execute_result"
    }
   ],
   "source": [
    "# importando DATASET do governo\n",
    "df_gov = pd.read_csv(link_gov, sep = ',')\n",
    "\n",
    "# alterando as colunas numerais que estão com ',' no lugar do '.' (padrão Python)\n",
    "df_gov['cotacaoCompra'] = df_gov['cotacaoCompra'].apply(lambda x: x.replace(',', '.'))\n",
    "df_gov['cotacaoVenda'] = df_gov['cotacaoVenda'].apply(lambda x: x.replace(',', '.'))\n",
    "df_gov"
   ]
  },
  {
   "cell_type": "markdown",
   "metadata": {
    "colab_type": "text",
    "id": "JFH66S-zebWC"
   },
   "source": [
    "**Conclusão do método**\n",
    "Aqui não precisamos criar nenhum \"trampolim\" fora do Python, e tivemos que trabalhar um pouco mais em código."
   ]
  },
  {
   "cell_type": "markdown",
   "metadata": {
    "colab_type": "text",
    "id": "cFFsET9BaNwR"
   },
   "source": [
    "## Método 3 - Yahoo Finance com script direto"
   ]
  },
  {
   "cell_type": "markdown",
   "metadata": {
    "colab_type": "text",
    "id": "1_-tmtTmSUV8"
   },
   "source": [
    "Mas você pode fazer pusando o \"pandas_datareader\" que retornará dados com base no Yahoo Finance.\n",
    "\n",
    "A diferença, é que você faz tudo no Python, sem necessidade de uma planilha fora."
   ]
  },
  {
   "cell_type": "markdown",
   "metadata": {
    "colab_type": "text",
    "id": "VEUEtkX5Vss6"
   },
   "source": [
    "A documentação da API está disponivel [aqui](https://https://pandas-datareader.readthedocs.io/en/latest/)."
   ]
  },
  {
   "cell_type": "code",
   "execution_count": 11,
   "metadata": {
    "colab": {
     "base_uri": "https://localhost:8080/",
     "height": 437
    },
    "colab_type": "code",
    "id": "Y9N-yDEHRurC",
    "outputId": "6cc4e6c4-122b-40d9-e2ad-52ebd1f867b6"
   },
   "outputs": [
    {
     "data": {
      "text/html": [
       "<div>\n",
       "<style scoped>\n",
       "    .dataframe tbody tr th:only-of-type {\n",
       "        vertical-align: middle;\n",
       "    }\n",
       "\n",
       "    .dataframe tbody tr th {\n",
       "        vertical-align: top;\n",
       "    }\n",
       "\n",
       "    .dataframe thead th {\n",
       "        text-align: right;\n",
       "    }\n",
       "</style>\n",
       "<table border=\"1\" class=\"dataframe\">\n",
       "  <thead>\n",
       "    <tr style=\"text-align: right;\">\n",
       "      <th></th>\n",
       "      <th>High</th>\n",
       "      <th>Low</th>\n",
       "      <th>Open</th>\n",
       "      <th>Close</th>\n",
       "      <th>Volume</th>\n",
       "      <th>Adj Close</th>\n",
       "    </tr>\n",
       "    <tr>\n",
       "      <th>Date</th>\n",
       "      <th></th>\n",
       "      <th></th>\n",
       "      <th></th>\n",
       "      <th></th>\n",
       "      <th></th>\n",
       "      <th></th>\n",
       "    </tr>\n",
       "  </thead>\n",
       "  <tbody>\n",
       "    <tr>\n",
       "      <th>2019-09-23</th>\n",
       "      <td>36.580002</td>\n",
       "      <td>35.740002</td>\n",
       "      <td>36.580002</td>\n",
       "      <td>35.990002</td>\n",
       "      <td>6168400.0</td>\n",
       "      <td>35.658260</td>\n",
       "    </tr>\n",
       "    <tr>\n",
       "      <th>2019-09-24</th>\n",
       "      <td>37.000000</td>\n",
       "      <td>35.970001</td>\n",
       "      <td>36.099998</td>\n",
       "      <td>36.770000</td>\n",
       "      <td>9428700.0</td>\n",
       "      <td>36.431068</td>\n",
       "    </tr>\n",
       "    <tr>\n",
       "      <th>2019-09-25</th>\n",
       "      <td>36.869999</td>\n",
       "      <td>35.750000</td>\n",
       "      <td>36.549999</td>\n",
       "      <td>36.720001</td>\n",
       "      <td>5665200.0</td>\n",
       "      <td>36.381531</td>\n",
       "    </tr>\n",
       "    <tr>\n",
       "      <th>2019-09-26</th>\n",
       "      <td>37.270000</td>\n",
       "      <td>36.509998</td>\n",
       "      <td>36.810001</td>\n",
       "      <td>36.570000</td>\n",
       "      <td>6935100.0</td>\n",
       "      <td>36.232910</td>\n",
       "    </tr>\n",
       "    <tr>\n",
       "      <th>2019-09-27</th>\n",
       "      <td>36.840000</td>\n",
       "      <td>36.150002</td>\n",
       "      <td>36.560001</td>\n",
       "      <td>36.799999</td>\n",
       "      <td>4086600.0</td>\n",
       "      <td>36.460789</td>\n",
       "    </tr>\n",
       "    <tr>\n",
       "      <th>...</th>\n",
       "      <td>...</td>\n",
       "      <td>...</td>\n",
       "      <td>...</td>\n",
       "      <td>...</td>\n",
       "      <td>...</td>\n",
       "      <td>...</td>\n",
       "    </tr>\n",
       "    <tr>\n",
       "      <th>2020-09-16</th>\n",
       "      <td>90.900002</td>\n",
       "      <td>88.629997</td>\n",
       "      <td>89.820000</td>\n",
       "      <td>89.169998</td>\n",
       "      <td>9244900.0</td>\n",
       "      <td>89.169998</td>\n",
       "    </tr>\n",
       "    <tr>\n",
       "      <th>2020-09-17</th>\n",
       "      <td>89.300003</td>\n",
       "      <td>86.660004</td>\n",
       "      <td>88.589996</td>\n",
       "      <td>87.099998</td>\n",
       "      <td>12386700.0</td>\n",
       "      <td>87.099998</td>\n",
       "    </tr>\n",
       "    <tr>\n",
       "      <th>2020-09-18</th>\n",
       "      <td>89.550003</td>\n",
       "      <td>86.040001</td>\n",
       "      <td>87.599998</td>\n",
       "      <td>87.160004</td>\n",
       "      <td>15117100.0</td>\n",
       "      <td>87.160004</td>\n",
       "    </tr>\n",
       "    <tr>\n",
       "      <th>2020-09-21</th>\n",
       "      <td>89.150002</td>\n",
       "      <td>84.330002</td>\n",
       "      <td>85.230003</td>\n",
       "      <td>88.699997</td>\n",
       "      <td>15244800.0</td>\n",
       "      <td>88.699997</td>\n",
       "    </tr>\n",
       "    <tr>\n",
       "      <th>2020-09-22</th>\n",
       "      <td>90.180000</td>\n",
       "      <td>87.500000</td>\n",
       "      <td>89.599998</td>\n",
       "      <td>89.489998</td>\n",
       "      <td>13110000.0</td>\n",
       "      <td>89.489998</td>\n",
       "    </tr>\n",
       "  </tbody>\n",
       "</table>\n",
       "<p>248 rows × 6 columns</p>\n",
       "</div>"
      ],
      "text/plain": [
       "                 High        Low       Open      Close      Volume  Adj Close\n",
       "Date                                                                         \n",
       "2019-09-23  36.580002  35.740002  36.580002  35.990002   6168400.0  35.658260\n",
       "2019-09-24  37.000000  35.970001  36.099998  36.770000   9428700.0  36.431068\n",
       "2019-09-25  36.869999  35.750000  36.549999  36.720001   5665200.0  36.381531\n",
       "2019-09-26  37.270000  36.509998  36.810001  36.570000   6935100.0  36.232910\n",
       "2019-09-27  36.840000  36.150002  36.560001  36.799999   4086600.0  36.460789\n",
       "...               ...        ...        ...        ...         ...        ...\n",
       "2020-09-16  90.900002  88.629997  89.820000  89.169998   9244900.0  89.169998\n",
       "2020-09-17  89.300003  86.660004  88.589996  87.099998  12386700.0  87.099998\n",
       "2020-09-18  89.550003  86.040001  87.599998  87.160004  15117100.0  87.160004\n",
       "2020-09-21  89.150002  84.330002  85.230003  88.699997  15244800.0  88.699997\n",
       "2020-09-22  90.180000  87.500000  89.599998  89.489998  13110000.0  89.489998\n",
       "\n",
       "[248 rows x 6 columns]"
      ]
     },
     "execution_count": 11,
     "metadata": {
      "tags": []
     },
     "output_type": "execute_result"
    }
   ],
   "source": [
    "# buscar o valor das ações do Magazine Luiza\n",
    "acao_no_yahoo = pdr.get_data_yahoo('MGLU3.SA', start=vDataIni, end=vDataFim)\n",
    "acao_no_yahoo"
   ]
  },
  {
   "cell_type": "markdown",
   "metadata": {
    "colab_type": "text",
    "id": "VcD8sUQqe3B9"
   },
   "source": [
    "**Conclusão do método**\n",
    "Aqui não precisamos criar nenhum \"trampolim\" fora do Python, e tivemos que trabalhar um pouco mais em código.\n",
    "Cabe verificar se as opções na captura (get) de dados dessa forma tem mais possibilidades (mais parametros) que o Google Finance, e decidir o que é melhor e mais usual para seu dia a dia."
   ]
  },
  {
   "cell_type": "markdown",
   "metadata": {
    "colab_type": "text",
    "id": "krq8-an2XjA5"
   },
   "source": [
    "## **CONCLUSÃO**"
   ]
  },
  {
   "cell_type": "markdown",
   "metadata": {
    "colab_type": "text",
    "id": "4jYFKwvlXnOF"
   },
   "source": [
    "\n",
    "Usando o método com auxilio da planilha do GOOGLE, sua consulta fica mais \"ALTO NIVEL\", ou seja, você consegue usar os exemplos prontos do Google Sheets, e agilizar o trabalho, mas, se você quer algo direto ao ponto, o método YAHOO (ou API do governo - para a cotação do Dolar) parece mais interessante.\n",
    "\n",
    "Vale você testar os parametros disponiveis no Google Sheets pra ver se consegue obter mais (ou menos) opções que o Yahoo, dai tomar uma decisão.\n",
    "\n",
    "Bons testes a você!"
   ]
  },
  {
   "cell_type": "markdown",
   "metadata": {
    "colab_type": "text",
    "id": "D_46YUE0Xecy"
   },
   "source": [
    "### Conheça meu trabalho\n",
    "\n",
    "<a href=\"https://www.joviano.com\">\n",
    "<img src=\"https://raw.githubusercontent.com/jovianosilveira/img/master/joviano-silveira-site-logo.png\" alt=\"joviano.com\" width=\"5%\">\n",
    "</a>\n",
    "\n",
    "<a href=\"https://www.youtube.com/jovianosilveira\">\n",
    "<img src=\"https://github.com/jovianosilveira/img/blob/master/joviano-silveira-youtube-logo.png?raw=true\" alt=\"joviano.com\" width=\"5%\">\n",
    "</a>\n",
    "\n",
    "<a href=\"http://www.linkedin.com/in/jovianosilveira\">\n",
    "<img src=\"https://github.com/jovianosilveira/img/blob/master/joviano-silveira-linkedin-logo.png?raw=true\" alt=\"joviano.com\" width=\"5%\">\n",
    "</a>\n",
    "\n",
    "<a href=\"https://www.instagram.com/jovi.silveira\">\n",
    "<img src=\"https://github.com/jovianosilveira/img/blob/master/joviano-silveira-instagram-logo.png?raw=true\" alt=\"joviano.com\" width=\"5%\">\n",
    "</a>\n",
    "\n",
    "<a href=\"https://www.facebook.com/jovi.silveira.cursos\">\n",
    "<img src=\"https://github.com/jovianosilveira/img/blob/master/joviano-silveira-facebook-logo.png?raw=true\" alt=\"joviano.com\" width=\"5%\">\n",
    "</a>"
   ]
  },
  {
   "cell_type": "markdown",
   "metadata": {
    "colab_type": "text",
    "id": "SiWejUV2XhE5"
   },
   "source": [
    "### Conheça os cursos que fiz para você\n",
    "\n",
    "<a href=\"https://www.joviano.com/cursos-para-voce\">\n",
    "<img src=\"https://github.com/jovianosilveira/img/blob/master/joviano-silveira-cursos-logo.png?raw=true\" alt=\"joviano.com\" width=\"10%\">\n",
    "</a>"
   ]
  }
 ],
 "metadata": {
  "colab": {
   "collapsed_sections": [],
   "name": "DolarAcoes.ipynb",
   "provenance": []
  },
  "kernelspec": {
   "display_name": "Python 3",
   "language": "python",
   "name": "python3"
  },
  "language_info": {
   "codemirror_mode": {
    "name": "ipython",
    "version": 3
   },
   "file_extension": ".py",
   "mimetype": "text/x-python",
   "name": "python",
   "nbconvert_exporter": "python",
   "pygments_lexer": "ipython3",
   "version": "3.7.4"
  }
 },
 "nbformat": 4,
 "nbformat_minor": 1
}
